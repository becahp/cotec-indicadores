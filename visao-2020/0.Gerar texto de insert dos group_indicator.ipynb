{
 "cells": [
  {
   "cell_type": "markdown",
   "metadata": {},
   "source": [
    "## Gerar textos"
   ]
  },
  {
   "cell_type": "code",
   "execution_count": 44,
   "metadata": {},
   "outputs": [],
   "source": [
    "nomes = [\"Não (frequência)\",\n",
    "\"Não (percentual)\",\n",
    "\"Sim (frequência)\",\n",
    "\"Sim (percentual)\",\n",
    "\"Total (frequência)\"]"
   ]
  },
  {
   "cell_type": "code",
   "execution_count": 45,
   "metadata": {},
   "outputs": [
    {
     "name": "stdout",
     "output_type": "stream",
     "text": [
      "[609, 610, 611, 612, 613]\n"
     ]
    }
   ],
   "source": [
    "valores = list(range(609,613+1))\n",
    "print(valores)"
   ]
  },
  {
   "cell_type": "code",
   "execution_count": 46,
   "metadata": {},
   "outputs": [
    {
     "data": {
      "text/plain": [
       "(5, 5)"
      ]
     },
     "execution_count": 46,
     "metadata": {},
     "output_type": "execute_result"
    }
   ],
   "source": [
    "len(nomes),len(valores)"
   ]
  },
  {
   "cell_type": "code",
   "execution_count": 47,
   "metadata": {},
   "outputs": [],
   "source": [
    "dicio = dict(zip(valores,nomes))"
   ]
  },
  {
   "cell_type": "code",
   "execution_count": 48,
   "metadata": {},
   "outputs": [
    {
     "data": {
      "text/plain": [
       "{609: 'Não (frequência)',\n",
       " 610: 'Não (percentual)',\n",
       " 611: 'Sim (frequência)',\n",
       " 612: 'Sim (percentual)',\n",
       " 613: 'Total (frequência)'}"
      ]
     },
     "execution_count": 48,
     "metadata": {},
     "output_type": "execute_result"
    }
   ],
   "source": [
    "dicio"
   ]
  },
  {
   "cell_type": "code",
   "execution_count": 49,
   "metadata": {},
   "outputs": [
    {
     "name": "stdout",
     "output_type": "stream",
     "text": [
      "Não (frequência) - id: 609\n",
      "Não (percentual) - id: 610\n",
      "Sim (frequência) - id: 611\n",
      "Sim (percentual) - id: 612\n",
      "Total (frequência) - id: 613\n"
     ]
    }
   ],
   "source": [
    "for key in dicio:\n",
    "    texto = str(dicio[key]) + \" - id: \" + str(key)\n",
    "    print(texto)"
   ]
  },
  {
   "cell_type": "markdown",
   "metadata": {},
   "source": [
    "## Insert de grup_indicator"
   ]
  },
  {
   "cell_type": "code",
   "execution_count": 50,
   "metadata": {},
   "outputs": [],
   "source": [
    "fonte = 'Fonte: Adaptado do Infopen 2018 - Segundo semestre'\n",
    "\n",
    "#'Fonte: Adaptado do Censo Demográfico 2010 do IBGE'\n",
    "\n",
    "#Censo Demográfico 2010 e da Pesquisa Nacional por Amostra de Domicílios (PNAD) 2011-2015"
   ]
  },
  {
   "cell_type": "code",
   "execution_count": 53,
   "metadata": {},
   "outputs": [],
   "source": [
    "def gerartexto(valor, nome, fonte, flag):\n",
    "    if flag:\n",
    "        percentual = 9 #frequencia\n",
    "    else:\n",
    "        percentual = 10 #percentual\n",
    "    texto = \"\"\n",
    "    texto += \"INSERT INTO grup_indicator (id,name, active, description, key_word, jhi_date, source, date_change, note, owner_id, type_presentation_id, grande_area_id) VALUES (\"\n",
    "    texto += str(valor) + \", '\" + str(nome) + \"', true, 'descrição individual | descrição geral', NULL, NULL,\"\n",
    "    texto += \"'\" + str(fonte) + \"'\"\n",
    "    texto += \", NULL, NULL, NULL,\"+ str(percentual) +\",30);\" #esse ultimo é grande_area_id\n",
    "    print(texto)\n",
    "    return texto"
   ]
  },
  {
   "cell_type": "markdown",
   "metadata": {},
   "source": [
    "INSERT INTO grup_indicator (id,name, active, description, key_word, jhi_date, source, date_change, note, owner_id, type_presentation_id, grande_area_id) VALUES (423, 'Alfabetizado (frequência)', true, 'descrição individual | descrição geral', NULL, NULL, 'Fonte: IBICT adaptado da PNAD 2011-2015 e PNADC 2016-2019 do IBGE', NULL, NULL, NULL, 9, 24);"
   ]
  },
  {
   "cell_type": "code",
   "execution_count": 54,
   "metadata": {},
   "outputs": [
    {
     "name": "stdout",
     "output_type": "stream",
     "text": [
      "INSERT INTO grup_indicator (id,name, active, description, key_word, jhi_date, source, date_change, note, owner_id, type_presentation_id, grande_area_id) VALUES (609, 'Não (frequência)', true, 'descrição individual | descrição geral', NULL, NULL,'Fonte: Adaptado do Infopen 2018 - Segundo semestre', NULL, NULL, NULL,9,30);\n",
      "\n",
      "INSERT INTO grup_indicator (id,name, active, description, key_word, jhi_date, source, date_change, note, owner_id, type_presentation_id, grande_area_id) VALUES (610, 'Não (percentual)', true, 'descrição individual | descrição geral', NULL, NULL,'Fonte: Adaptado do Infopen 2018 - Segundo semestre', NULL, NULL, NULL,10,30);\n",
      "\n",
      "INSERT INTO grup_indicator (id,name, active, description, key_word, jhi_date, source, date_change, note, owner_id, type_presentation_id, grande_area_id) VALUES (611, 'Sim (frequência)', true, 'descrição individual | descrição geral', NULL, NULL,'Fonte: Adaptado do Infopen 2018 - Segundo semestre', NULL, NULL, NULL,9,30);\n",
      "\n",
      "INSERT INTO grup_indicator (id,name, active, description, key_word, jhi_date, source, date_change, note, owner_id, type_presentation_id, grande_area_id) VALUES (612, 'Sim (percentual)', true, 'descrição individual | descrição geral', NULL, NULL,'Fonte: Adaptado do Infopen 2018 - Segundo semestre', NULL, NULL, NULL,10,30);\n",
      "\n",
      "INSERT INTO grup_indicator (id,name, active, description, key_word, jhi_date, source, date_change, note, owner_id, type_presentation_id, grande_area_id) VALUES (613, 'Total (frequência)', true, 'descrição individual | descrição geral', NULL, NULL,'Fonte: Adaptado do Infopen 2018 - Segundo semestre', NULL, NULL, NULL,9,30);\n",
      "\n"
     ]
    }
   ],
   "source": [
    "flag = 1\n",
    "for v in valores:\n",
    "    nome = dicio[v]\n",
    "    gerartexto(v, nome, fonte,flag)\n",
    "    flag = not(flag)\n",
    "    print(\"\")"
   ]
  },
  {
   "cell_type": "markdown",
   "metadata": {},
   "source": [
    "## Insert de grup_indicator_category"
   ]
  },
  {
   "cell_type": "code",
   "execution_count": 55,
   "metadata": {},
   "outputs": [
    {
     "name": "stdout",
     "output_type": "stream",
     "text": [
      "INSERT INTO grup_indicator_category (categories_id, grup_indicators_id) VALUES (173,609);\n",
      "INSERT INTO grup_indicator_category (categories_id, grup_indicators_id) VALUES (173,610);\n",
      "INSERT INTO grup_indicator_category (categories_id, grup_indicators_id) VALUES (173,611);\n",
      "INSERT INTO grup_indicator_category (categories_id, grup_indicators_id) VALUES (173,612);\n",
      "INSERT INTO grup_indicator_category (categories_id, grup_indicators_id) VALUES (173,613);\n"
     ]
    }
   ],
   "source": [
    "indicator_id = 173\n",
    "for v in valores:\n",
    "    texto = \"INSERT INTO grup_indicator_category (categories_id, grup_indicators_id) VALUES (\"\n",
    "    texto += str(indicator_id) + \",\"\n",
    "    texto += str(v) + \");\"\n",
    "    print(texto)"
   ]
  },
  {
   "cell_type": "code",
   "execution_count": null,
   "metadata": {},
   "outputs": [],
   "source": []
  }
 ],
 "metadata": {
  "kernelspec": {
   "display_name": "Python 3",
   "language": "python",
   "name": "python3"
  },
  "language_info": {
   "codemirror_mode": {
    "name": "ipython",
    "version": 3
   },
   "file_extension": ".py",
   "mimetype": "text/x-python",
   "name": "python",
   "nbconvert_exporter": "python",
   "pygments_lexer": "ipython3",
   "version": "3.8.5"
  }
 },
 "nbformat": 4,
 "nbformat_minor": 2
}
