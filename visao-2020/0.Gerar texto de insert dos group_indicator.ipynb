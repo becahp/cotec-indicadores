{
 "cells": [
  {
   "cell_type": "markdown",
   "metadata": {},
   "source": [
    "## Gerar textos"
   ]
  },
  {
   "cell_type": "code",
   "execution_count": 1,
   "metadata": {},
   "outputs": [],
   "source": [
    "nomes = [\"Alfabetização (frequência)\",\n",
    "\"Alfabetização (percentual)\",\n",
    "\"Ensino fundamental (frequência)\",\n",
    "\"Ensino fundamental (percentual)\",\n",
    "\"EJA - Ensino fundamental (frequência)\",\n",
    "\"EJA - Ensino fundamental (percentual)\",\n",
    "\"Ensino médio (frequência)\",\n",
    "\"Ensino médio (percentual)\",\n",
    "\"EJA - Ensino médio (frequência)\",\n",
    "\"EJA - Ensino médio (percentual)\",\n",
    "\"Ensino superior (frequência)\",\n",
    "\"Ensino superior (percentual)\",\n",
    "\"Especialização (frequência)\",\n",
    "\"Especialização (percentual)\",\n",
    "\"Mestrado (frequência)\",\n",
    "\"Mestrado (percentual)\",\n",
    "\"Doutorado (frequência)\",\n",
    "\"Doutorado (percentual)\",\n",
    "\"Total (frequência)\"]"
   ]
  },
  {
   "cell_type": "code",
   "execution_count": 2,
   "metadata": {},
   "outputs": [
    {
     "name": "stdout",
     "output_type": "stream",
     "text": [
      "[449, 450, 451, 452, 453, 454, 455, 456, 457, 458, 459, 460, 461, 462, 463, 464, 465, 466, 467]\n"
     ]
    }
   ],
   "source": [
    "valores = list(range(449,468))\n",
    "print(valores)"
   ]
  },
  {
   "cell_type": "code",
   "execution_count": 3,
   "metadata": {},
   "outputs": [
    {
     "data": {
      "text/plain": [
       "(19, 19)"
      ]
     },
     "execution_count": 3,
     "metadata": {},
     "output_type": "execute_result"
    }
   ],
   "source": [
    "len(nomes),len(valores)"
   ]
  },
  {
   "cell_type": "code",
   "execution_count": 4,
   "metadata": {},
   "outputs": [],
   "source": [
    "dicio = dict(zip(valores,nomes))"
   ]
  },
  {
   "cell_type": "code",
   "execution_count": 5,
   "metadata": {},
   "outputs": [
    {
     "data": {
      "text/plain": [
       "{449: 'Alfabetização (frequência)',\n",
       " 450: 'Alfabetização (percentual)',\n",
       " 451: 'Ensino fundamental (frequência)',\n",
       " 452: 'Ensino fundamental (percentual)',\n",
       " 453: 'EJA - Ensino fundamental (frequência)',\n",
       " 454: 'EJA - Ensino fundamental (percentual)',\n",
       " 455: 'Ensino médio (frequência)',\n",
       " 456: 'Ensino médio (percentual)',\n",
       " 457: 'EJA - Ensino médio (frequência)',\n",
       " 458: 'EJA - Ensino médio (percentual)',\n",
       " 459: 'Ensino superior (frequência)',\n",
       " 460: 'Ensino superior (percentual)',\n",
       " 461: 'Especialização (frequência)',\n",
       " 462: 'Especialização (percentual)',\n",
       " 463: 'Mestrado (frequência)',\n",
       " 464: 'Mestrado (percentual)',\n",
       " 465: 'Doutorado (frequência)',\n",
       " 466: 'Doutorado (percentual)',\n",
       " 467: 'Total (frequência)'}"
      ]
     },
     "execution_count": 5,
     "metadata": {},
     "output_type": "execute_result"
    }
   ],
   "source": [
    "dicio"
   ]
  },
  {
   "cell_type": "code",
   "execution_count": 6,
   "metadata": {},
   "outputs": [],
   "source": [
    "fonte = 'Fonte: IBICT adaptado da PNADC 2016-2019 do IBGE'"
   ]
  },
  {
   "cell_type": "code",
   "execution_count": 7,
   "metadata": {},
   "outputs": [],
   "source": [
    "def gerartexto(valor, nome, fonte, flag):\n",
    "    if flag:\n",
    "        percentual = 9 #frequencia\n",
    "    else:\n",
    "        percentual = 10 #percentual\n",
    "    texto = \"\"\n",
    "    texto += \"INSERT INTO grup_indicator (id,name, active, description, key_word, jhi_date, source, date_change, note, owner_id, type_presentation_id, grande_area_id) VALUES (\"\n",
    "    texto += str(valor) + \", '\" + str(nome) + \"', true, 'descrição individual | descrição geral', NULL, NULL,\"\n",
    "    texto += \"'\" + str(fonte) + \"'\"\n",
    "    texto += \", NULL, NULL, NULL,\"+ str(percentual) +\", 24);\"\n",
    "    print(texto)\n",
    "    return texto"
   ]
  },
  {
   "cell_type": "markdown",
   "metadata": {},
   "source": [
    "INSERT INTO grup_indicator (id,name, active, description, key_word, jhi_date, source, date_change, note, owner_id, type_presentation_id, grande_area_id) VALUES (423, 'Alfabetizado (frequência)', true, 'descrição individual | descrição geral', NULL, NULL, 'Fonte: IBICT adaptado da PNAD 2011-2015 e PNADC 2016-2019 do IBGE', NULL, NULL, NULL, 9, 24);"
   ]
  },
  {
   "cell_type": "code",
   "execution_count": 8,
   "metadata": {},
   "outputs": [
    {
     "name": "stdout",
     "output_type": "stream",
     "text": [
      "INSERT INTO grup_indicator (id,name, active, description, key_word, jhi_date, source, date_change, note, owner_id, type_presentation_id, grande_area_id) VALUES (449, 'Alfabetização (frequência)', true, 'descrição individual | descrição geral', NULL, NULL,'Fonte: IBICT adaptado da PNADC 2016-2019 do IBGE', NULL, NULL, NULL,9, 24);\n",
      "\n",
      "INSERT INTO grup_indicator (id,name, active, description, key_word, jhi_date, source, date_change, note, owner_id, type_presentation_id, grande_area_id) VALUES (450, 'Alfabetização (percentual)', true, 'descrição individual | descrição geral', NULL, NULL,'Fonte: IBICT adaptado da PNADC 2016-2019 do IBGE', NULL, NULL, NULL,10, 24);\n",
      "\n",
      "INSERT INTO grup_indicator (id,name, active, description, key_word, jhi_date, source, date_change, note, owner_id, type_presentation_id, grande_area_id) VALUES (451, 'Ensino fundamental (frequência)', true, 'descrição individual | descrição geral', NULL, NULL,'Fonte: IBICT adaptado da PNADC 2016-2019 do IBGE', NULL, NULL, NULL,9, 24);\n",
      "\n",
      "INSERT INTO grup_indicator (id,name, active, description, key_word, jhi_date, source, date_change, note, owner_id, type_presentation_id, grande_area_id) VALUES (452, 'Ensino fundamental (percentual)', true, 'descrição individual | descrição geral', NULL, NULL,'Fonte: IBICT adaptado da PNADC 2016-2019 do IBGE', NULL, NULL, NULL,10, 24);\n",
      "\n",
      "INSERT INTO grup_indicator (id,name, active, description, key_word, jhi_date, source, date_change, note, owner_id, type_presentation_id, grande_area_id) VALUES (453, 'EJA - Ensino fundamental (frequência)', true, 'descrição individual | descrição geral', NULL, NULL,'Fonte: IBICT adaptado da PNADC 2016-2019 do IBGE', NULL, NULL, NULL,9, 24);\n",
      "\n",
      "INSERT INTO grup_indicator (id,name, active, description, key_word, jhi_date, source, date_change, note, owner_id, type_presentation_id, grande_area_id) VALUES (454, 'EJA - Ensino fundamental (percentual)', true, 'descrição individual | descrição geral', NULL, NULL,'Fonte: IBICT adaptado da PNADC 2016-2019 do IBGE', NULL, NULL, NULL,10, 24);\n",
      "\n",
      "INSERT INTO grup_indicator (id,name, active, description, key_word, jhi_date, source, date_change, note, owner_id, type_presentation_id, grande_area_id) VALUES (455, 'Ensino médio (frequência)', true, 'descrição individual | descrição geral', NULL, NULL,'Fonte: IBICT adaptado da PNADC 2016-2019 do IBGE', NULL, NULL, NULL,9, 24);\n",
      "\n",
      "INSERT INTO grup_indicator (id,name, active, description, key_word, jhi_date, source, date_change, note, owner_id, type_presentation_id, grande_area_id) VALUES (456, 'Ensino médio (percentual)', true, 'descrição individual | descrição geral', NULL, NULL,'Fonte: IBICT adaptado da PNADC 2016-2019 do IBGE', NULL, NULL, NULL,10, 24);\n",
      "\n",
      "INSERT INTO grup_indicator (id,name, active, description, key_word, jhi_date, source, date_change, note, owner_id, type_presentation_id, grande_area_id) VALUES (457, 'EJA - Ensino médio (frequência)', true, 'descrição individual | descrição geral', NULL, NULL,'Fonte: IBICT adaptado da PNADC 2016-2019 do IBGE', NULL, NULL, NULL,9, 24);\n",
      "\n",
      "INSERT INTO grup_indicator (id,name, active, description, key_word, jhi_date, source, date_change, note, owner_id, type_presentation_id, grande_area_id) VALUES (458, 'EJA - Ensino médio (percentual)', true, 'descrição individual | descrição geral', NULL, NULL,'Fonte: IBICT adaptado da PNADC 2016-2019 do IBGE', NULL, NULL, NULL,10, 24);\n",
      "\n",
      "INSERT INTO grup_indicator (id,name, active, description, key_word, jhi_date, source, date_change, note, owner_id, type_presentation_id, grande_area_id) VALUES (459, 'Ensino superior (frequência)', true, 'descrição individual | descrição geral', NULL, NULL,'Fonte: IBICT adaptado da PNADC 2016-2019 do IBGE', NULL, NULL, NULL,9, 24);\n",
      "\n",
      "INSERT INTO grup_indicator (id,name, active, description, key_word, jhi_date, source, date_change, note, owner_id, type_presentation_id, grande_area_id) VALUES (460, 'Ensino superior (percentual)', true, 'descrição individual | descrição geral', NULL, NULL,'Fonte: IBICT adaptado da PNADC 2016-2019 do IBGE', NULL, NULL, NULL,10, 24);\n",
      "\n",
      "INSERT INTO grup_indicator (id,name, active, description, key_word, jhi_date, source, date_change, note, owner_id, type_presentation_id, grande_area_id) VALUES (461, 'Especialização (frequência)', true, 'descrição individual | descrição geral', NULL, NULL,'Fonte: IBICT adaptado da PNADC 2016-2019 do IBGE', NULL, NULL, NULL,9, 24);\n",
      "\n",
      "INSERT INTO grup_indicator (id,name, active, description, key_word, jhi_date, source, date_change, note, owner_id, type_presentation_id, grande_area_id) VALUES (462, 'Especialização (percentual)', true, 'descrição individual | descrição geral', NULL, NULL,'Fonte: IBICT adaptado da PNADC 2016-2019 do IBGE', NULL, NULL, NULL,10, 24);\n",
      "\n",
      "INSERT INTO grup_indicator (id,name, active, description, key_word, jhi_date, source, date_change, note, owner_id, type_presentation_id, grande_area_id) VALUES (463, 'Mestrado (frequência)', true, 'descrição individual | descrição geral', NULL, NULL,'Fonte: IBICT adaptado da PNADC 2016-2019 do IBGE', NULL, NULL, NULL,9, 24);\n",
      "\n",
      "INSERT INTO grup_indicator (id,name, active, description, key_word, jhi_date, source, date_change, note, owner_id, type_presentation_id, grande_area_id) VALUES (464, 'Mestrado (percentual)', true, 'descrição individual | descrição geral', NULL, NULL,'Fonte: IBICT adaptado da PNADC 2016-2019 do IBGE', NULL, NULL, NULL,10, 24);\n",
      "\n",
      "INSERT INTO grup_indicator (id,name, active, description, key_word, jhi_date, source, date_change, note, owner_id, type_presentation_id, grande_area_id) VALUES (465, 'Doutorado (frequência)', true, 'descrição individual | descrição geral', NULL, NULL,'Fonte: IBICT adaptado da PNADC 2016-2019 do IBGE', NULL, NULL, NULL,9, 24);\n",
      "\n",
      "INSERT INTO grup_indicator (id,name, active, description, key_word, jhi_date, source, date_change, note, owner_id, type_presentation_id, grande_area_id) VALUES (466, 'Doutorado (percentual)', true, 'descrição individual | descrição geral', NULL, NULL,'Fonte: IBICT adaptado da PNADC 2016-2019 do IBGE', NULL, NULL, NULL,10, 24);\n",
      "\n",
      "INSERT INTO grup_indicator (id,name, active, description, key_word, jhi_date, source, date_change, note, owner_id, type_presentation_id, grande_area_id) VALUES (467, 'Total (frequência)', true, 'descrição individual | descrição geral', NULL, NULL,'Fonte: IBICT adaptado da PNADC 2016-2019 do IBGE', NULL, NULL, NULL,9, 24);\n",
      "\n"
     ]
    }
   ],
   "source": [
    "flag = 1\n",
    "for v in valores:\n",
    "    nome = dicio[v]\n",
    "    gerartexto(v, nome, fonte,flag)\n",
    "    flag = not(flag)\n",
    "    print(\"\")"
   ]
  },
  {
   "cell_type": "code",
   "execution_count": 9,
   "metadata": {},
   "outputs": [
    {
     "name": "stdout",
     "output_type": "stream",
     "text": [
      "INSERT INTO grup_indicator_category (categories_id, grup_indicators_id) VALUES (158,449);\n",
      "INSERT INTO grup_indicator_category (categories_id, grup_indicators_id) VALUES (158,450);\n",
      "INSERT INTO grup_indicator_category (categories_id, grup_indicators_id) VALUES (158,451);\n",
      "INSERT INTO grup_indicator_category (categories_id, grup_indicators_id) VALUES (158,452);\n",
      "INSERT INTO grup_indicator_category (categories_id, grup_indicators_id) VALUES (158,453);\n",
      "INSERT INTO grup_indicator_category (categories_id, grup_indicators_id) VALUES (158,454);\n",
      "INSERT INTO grup_indicator_category (categories_id, grup_indicators_id) VALUES (158,455);\n",
      "INSERT INTO grup_indicator_category (categories_id, grup_indicators_id) VALUES (158,456);\n",
      "INSERT INTO grup_indicator_category (categories_id, grup_indicators_id) VALUES (158,457);\n",
      "INSERT INTO grup_indicator_category (categories_id, grup_indicators_id) VALUES (158,458);\n",
      "INSERT INTO grup_indicator_category (categories_id, grup_indicators_id) VALUES (158,459);\n",
      "INSERT INTO grup_indicator_category (categories_id, grup_indicators_id) VALUES (158,460);\n",
      "INSERT INTO grup_indicator_category (categories_id, grup_indicators_id) VALUES (158,461);\n",
      "INSERT INTO grup_indicator_category (categories_id, grup_indicators_id) VALUES (158,462);\n",
      "INSERT INTO grup_indicator_category (categories_id, grup_indicators_id) VALUES (158,463);\n",
      "INSERT INTO grup_indicator_category (categories_id, grup_indicators_id) VALUES (158,464);\n",
      "INSERT INTO grup_indicator_category (categories_id, grup_indicators_id) VALUES (158,465);\n",
      "INSERT INTO grup_indicator_category (categories_id, grup_indicators_id) VALUES (158,466);\n",
      "INSERT INTO grup_indicator_category (categories_id, grup_indicators_id) VALUES (158,467);\n"
     ]
    }
   ],
   "source": [
    "for v in valores:\n",
    "    texto = \"INSERT INTO grup_indicator_category (categories_id, grup_indicators_id) VALUES (158,\"\n",
    "    texto += str(v) + \");\"\n",
    "    print(texto)"
   ]
  },
  {
   "cell_type": "code",
   "execution_count": null,
   "metadata": {},
   "outputs": [],
   "source": []
  }
 ],
 "metadata": {
  "kernelspec": {
   "display_name": "Python 3",
   "language": "python",
   "name": "python3"
  },
  "language_info": {
   "codemirror_mode": {
    "name": "ipython",
    "version": 3
   },
   "file_extension": ".py",
   "mimetype": "text/x-python",
   "name": "python",
   "nbconvert_exporter": "python",
   "pygments_lexer": "ipython3",
   "version": "3.7.7"
  }
 },
 "nbformat": 4,
 "nbformat_minor": 2
}
