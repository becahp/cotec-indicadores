{
 "cells": [
  {
   "cell_type": "code",
   "execution_count": 1,
   "metadata": {},
   "outputs": [],
   "source": [
    "import pandas as pd\n",
    "import numpy as np"
   ]
  },
  {
   "cell_type": "code",
   "execution_count": 9,
   "metadata": {},
   "outputs": [],
   "source": [
    "path = 'downloads/'\n",
    "file = 'Eixo2_Tabela3-v2.xlsx'\n",
    "file1 = path + file"
   ]
  },
  {
   "cell_type": "code",
   "execution_count": 10,
   "metadata": {},
   "outputs": [
    {
     "data": {
      "text/plain": [
       "'downloads/Eixo2_Tabela3-v2.xlsx'"
      ]
     },
     "execution_count": 10,
     "metadata": {},
     "output_type": "execute_result"
    }
   ],
   "source": [
    "file1"
   ]
  },
  {
   "cell_type": "code",
   "execution_count": 11,
   "metadata": {},
   "outputs": [],
   "source": [
    "dataset = pd.read_excel(file1)"
   ]
  },
  {
   "cell_type": "code",
   "execution_count": 12,
   "metadata": {},
   "outputs": [
    {
     "data": {
      "text/html": [
       "<div>\n",
       "<style scoped>\n",
       "    .dataframe tbody tr th:only-of-type {\n",
       "        vertical-align: middle;\n",
       "    }\n",
       "\n",
       "    .dataframe tbody tr th {\n",
       "        vertical-align: top;\n",
       "    }\n",
       "\n",
       "    .dataframe thead th {\n",
       "        text-align: right;\n",
       "    }\n",
       "</style>\n",
       "<table border=\"1\" class=\"dataframe\">\n",
       "  <thead>\n",
       "    <tr style=\"text-align: right;\">\n",
       "      <th></th>\n",
       "      <th>Tabela 3: Distribuição de jovens alfabetizados e analfabetos segundo UF e município</th>\n",
       "      <th>Unnamed: 1</th>\n",
       "      <th>Unnamed: 2</th>\n",
       "      <th>Unnamed: 3</th>\n",
       "      <th>Unnamed: 4</th>\n",
       "      <th>Unnamed: 5</th>\n",
       "      <th>Unnamed: 6</th>\n",
       "    </tr>\n",
       "  </thead>\n",
       "  <tbody>\n",
       "    <tr>\n",
       "      <th>0</th>\n",
       "      <td>Região Norte</td>\n",
       "      <td>NaN</td>\n",
       "      <td>NaN</td>\n",
       "      <td>NaN</td>\n",
       "      <td>NaN</td>\n",
       "      <td>NaN</td>\n",
       "      <td>NaN</td>\n",
       "    </tr>\n",
       "    <tr>\n",
       "      <th>1</th>\n",
       "      <td>UF/Município</td>\n",
       "      <td>Alfabetização</td>\n",
       "      <td>NaN</td>\n",
       "      <td>NaN</td>\n",
       "      <td>NaN</td>\n",
       "      <td>Total</td>\n",
       "      <td>NaN</td>\n",
       "    </tr>\n",
       "    <tr>\n",
       "      <th>2</th>\n",
       "      <td>NaN</td>\n",
       "      <td>Sim</td>\n",
       "      <td>NaN</td>\n",
       "      <td>Não</td>\n",
       "      <td>NaN</td>\n",
       "      <td>NaN</td>\n",
       "      <td>NaN</td>\n",
       "    </tr>\n",
       "    <tr>\n",
       "      <th>3</th>\n",
       "      <td>NaN</td>\n",
       "      <td>Frequência</td>\n",
       "      <td>Percentual</td>\n",
       "      <td>Frequência</td>\n",
       "      <td>Percentual</td>\n",
       "      <td>NaN</td>\n",
       "      <td>UF</td>\n",
       "    </tr>\n",
       "    <tr>\n",
       "      <th>4</th>\n",
       "      <td>Acre</td>\n",
       "      <td>200674</td>\n",
       "      <td>0.934515</td>\n",
       "      <td>14062</td>\n",
       "      <td>0.0654851</td>\n",
       "      <td>214736</td>\n",
       "      <td>AC</td>\n",
       "    </tr>\n",
       "    <tr>\n",
       "      <th>5</th>\n",
       "      <td>ACRELÂNDIA</td>\n",
       "      <td>3255</td>\n",
       "      <td>0.967311</td>\n",
       "      <td>110</td>\n",
       "      <td>0.0326895</td>\n",
       "      <td>3365</td>\n",
       "      <td>AC</td>\n",
       "    </tr>\n",
       "    <tr>\n",
       "      <th>6</th>\n",
       "      <td>ASSIS BRASIL</td>\n",
       "      <td>1605</td>\n",
       "      <td>0.918192</td>\n",
       "      <td>143</td>\n",
       "      <td>0.0818078</td>\n",
       "      <td>1748</td>\n",
       "      <td>AC</td>\n",
       "    </tr>\n",
       "    <tr>\n",
       "      <th>7</th>\n",
       "      <td>BRASILÉIA</td>\n",
       "      <td>5719</td>\n",
       "      <td>0.945133</td>\n",
       "      <td>332</td>\n",
       "      <td>0.054867</td>\n",
       "      <td>6051</td>\n",
       "      <td>AC</td>\n",
       "    </tr>\n",
       "    <tr>\n",
       "      <th>8</th>\n",
       "      <td>BUJARI</td>\n",
       "      <td>2061</td>\n",
       "      <td>0.9205</td>\n",
       "      <td>178</td>\n",
       "      <td>0.0794998</td>\n",
       "      <td>2239</td>\n",
       "      <td>AC</td>\n",
       "    </tr>\n",
       "    <tr>\n",
       "      <th>9</th>\n",
       "      <td>CAPIXABA</td>\n",
       "      <td>2039</td>\n",
       "      <td>0.933181</td>\n",
       "      <td>146</td>\n",
       "      <td>0.0668192</td>\n",
       "      <td>2185</td>\n",
       "      <td>AC</td>\n",
       "    </tr>\n",
       "  </tbody>\n",
       "</table>\n",
       "</div>"
      ],
      "text/plain": [
       "  Tabela 3: Distribuição de jovens alfabetizados e analfabetos segundo UF e município  \\\n",
       "0                                       Região Norte                                    \n",
       "1                                       UF/Município                                    \n",
       "2                                                NaN                                    \n",
       "3                                                NaN                                    \n",
       "4                                               Acre                                    \n",
       "5                                         ACRELÂNDIA                                    \n",
       "6                                       ASSIS BRASIL                                    \n",
       "7                                          BRASILÉIA                                    \n",
       "8                                             BUJARI                                    \n",
       "9                                           CAPIXABA                                    \n",
       "\n",
       "      Unnamed: 1  Unnamed: 2  Unnamed: 3  Unnamed: 4 Unnamed: 5 Unnamed: 6  \n",
       "0            NaN         NaN         NaN         NaN        NaN        NaN  \n",
       "1  Alfabetização         NaN         NaN         NaN      Total        NaN  \n",
       "2            Sim         NaN         Não         NaN        NaN        NaN  \n",
       "3     Frequência  Percentual  Frequência  Percentual        NaN         UF  \n",
       "4         200674    0.934515       14062   0.0654851     214736         AC  \n",
       "5           3255    0.967311         110   0.0326895       3365         AC  \n",
       "6           1605    0.918192         143   0.0818078       1748         AC  \n",
       "7           5719    0.945133         332    0.054867       6051         AC  \n",
       "8           2061      0.9205         178   0.0794998       2239         AC  \n",
       "9           2039    0.933181         146   0.0668192       2185         AC  "
      ]
     },
     "execution_count": 12,
     "metadata": {},
     "output_type": "execute_result"
    }
   ],
   "source": [
    "dataset.head(10)"
   ]
  },
  {
   "cell_type": "code",
   "execution_count": 13,
   "metadata": {},
   "outputs": [],
   "source": [
    "dataset.columns = ['Municipio', 'Sim - Frequencia', 'Sim - Percentual', 'Não - Frequencia', 'Não - Percentual','Total','UF']"
   ]
  },
  {
   "cell_type": "code",
   "execution_count": 14,
   "metadata": {},
   "outputs": [],
   "source": [
    "dataset.drop(dataset.index[:4], inplace=True)"
   ]
  },
  {
   "cell_type": "code",
   "execution_count": 15,
   "metadata": {},
   "outputs": [
    {
     "data": {
      "text/html": [
       "<div>\n",
       "<style scoped>\n",
       "    .dataframe tbody tr th:only-of-type {\n",
       "        vertical-align: middle;\n",
       "    }\n",
       "\n",
       "    .dataframe tbody tr th {\n",
       "        vertical-align: top;\n",
       "    }\n",
       "\n",
       "    .dataframe thead th {\n",
       "        text-align: right;\n",
       "    }\n",
       "</style>\n",
       "<table border=\"1\" class=\"dataframe\">\n",
       "  <thead>\n",
       "    <tr style=\"text-align: right;\">\n",
       "      <th></th>\n",
       "      <th>Municipio</th>\n",
       "      <th>Sim - Frequencia</th>\n",
       "      <th>Sim - Percentual</th>\n",
       "      <th>Não - Frequencia</th>\n",
       "      <th>Não - Percentual</th>\n",
       "      <th>Total</th>\n",
       "      <th>UF</th>\n",
       "    </tr>\n",
       "  </thead>\n",
       "  <tbody>\n",
       "    <tr>\n",
       "      <th>4</th>\n",
       "      <td>Acre</td>\n",
       "      <td>200674</td>\n",
       "      <td>0.934515</td>\n",
       "      <td>14062</td>\n",
       "      <td>0.0654851</td>\n",
       "      <td>214736</td>\n",
       "      <td>AC</td>\n",
       "    </tr>\n",
       "    <tr>\n",
       "      <th>5</th>\n",
       "      <td>ACRELÂNDIA</td>\n",
       "      <td>3255</td>\n",
       "      <td>0.967311</td>\n",
       "      <td>110</td>\n",
       "      <td>0.0326895</td>\n",
       "      <td>3365</td>\n",
       "      <td>AC</td>\n",
       "    </tr>\n",
       "    <tr>\n",
       "      <th>6</th>\n",
       "      <td>ASSIS BRASIL</td>\n",
       "      <td>1605</td>\n",
       "      <td>0.918192</td>\n",
       "      <td>143</td>\n",
       "      <td>0.0818078</td>\n",
       "      <td>1748</td>\n",
       "      <td>AC</td>\n",
       "    </tr>\n",
       "    <tr>\n",
       "      <th>7</th>\n",
       "      <td>BRASILÉIA</td>\n",
       "      <td>5719</td>\n",
       "      <td>0.945133</td>\n",
       "      <td>332</td>\n",
       "      <td>0.054867</td>\n",
       "      <td>6051</td>\n",
       "      <td>AC</td>\n",
       "    </tr>\n",
       "    <tr>\n",
       "      <th>8</th>\n",
       "      <td>BUJARI</td>\n",
       "      <td>2061</td>\n",
       "      <td>0.9205</td>\n",
       "      <td>178</td>\n",
       "      <td>0.0794998</td>\n",
       "      <td>2239</td>\n",
       "      <td>AC</td>\n",
       "    </tr>\n",
       "  </tbody>\n",
       "</table>\n",
       "</div>"
      ],
      "text/plain": [
       "      Municipio Sim - Frequencia Sim - Percentual Não - Frequencia  \\\n",
       "4          Acre           200674         0.934515            14062   \n",
       "5    ACRELÂNDIA             3255         0.967311              110   \n",
       "6  ASSIS BRASIL             1605         0.918192              143   \n",
       "7     BRASILÉIA             5719         0.945133              332   \n",
       "8        BUJARI             2061           0.9205              178   \n",
       "\n",
       "  Não - Percentual   Total  UF  \n",
       "4        0.0654851  214736  AC  \n",
       "5        0.0326895    3365  AC  \n",
       "6        0.0818078    1748  AC  \n",
       "7         0.054867    6051  AC  \n",
       "8        0.0794998    2239  AC  "
      ]
     },
     "execution_count": 15,
     "metadata": {},
     "output_type": "execute_result"
    }
   ],
   "source": [
    "dataset.head()"
   ]
  },
  {
   "cell_type": "markdown",
   "metadata": {},
   "source": [
    "# Codigos anteriores a 26/05"
   ]
  },
  {
   "cell_type": "code",
   "execution_count": 16,
   "metadata": {},
   "outputs": [],
   "source": [
    "path = 'original/'\n",
    "file = 'Indicador da Juventude - Frequência Escolar'\n",
    "file1 = path + file + '.csv'"
   ]
  },
  {
   "cell_type": "code",
   "execution_count": 17,
   "metadata": {},
   "outputs": [
    {
     "data": {
      "text/plain": [
       "'original/Indicador da Juventude - Frequência Escolar.csv'"
      ]
     },
     "execution_count": 17,
     "metadata": {},
     "output_type": "execute_result"
    }
   ],
   "source": [
    "file1"
   ]
  },
  {
   "cell_type": "code",
   "execution_count": 4,
   "metadata": {},
   "outputs": [],
   "source": [
    "dataset = pd.read_csv(file1, sep=';')"
   ]
  },
  {
   "cell_type": "code",
   "execution_count": 5,
   "metadata": {},
   "outputs": [
    {
     "data": {
      "text/html": [
       "<div>\n",
       "<style scoped>\n",
       "    .dataframe tbody tr th:only-of-type {\n",
       "        vertical-align: middle;\n",
       "    }\n",
       "\n",
       "    .dataframe tbody tr th {\n",
       "        vertical-align: top;\n",
       "    }\n",
       "\n",
       "    .dataframe thead th {\n",
       "        text-align: right;\n",
       "    }\n",
       "</style>\n",
       "<table border=\"1\" class=\"dataframe\">\n",
       "  <thead>\n",
       "    <tr style=\"text-align: right;\">\n",
       "      <th></th>\n",
       "      <th>Ano</th>\n",
       "      <th>FaixaEtaria</th>\n",
       "      <th>Geografia</th>\n",
       "      <th>UF</th>\n",
       "      <th>Area</th>\n",
       "      <th>Sexo</th>\n",
       "      <th>Cor</th>\n",
       "      <th>ValorAbsoluto</th>\n",
       "      <th>ValorPercentual</th>\n",
       "      <th>Latitude</th>\n",
       "      <th>Longitude</th>\n",
       "    </tr>\n",
       "  </thead>\n",
       "  <tbody>\n",
       "    <tr>\n",
       "      <th>0</th>\n",
       "      <td>2000</td>\n",
       "      <td>Todas as idades</td>\n",
       "      <td>Brasil</td>\n",
       "      <td>BR</td>\n",
       "      <td>Rural e Urbana</td>\n",
       "      <td>Ambos os sexos</td>\n",
       "      <td>Todas as raças/cores</td>\n",
       "      <td>5.340632e+07</td>\n",
       "      <td>0.314390</td>\n",
       "      <td>-13.495277</td>\n",
       "      <td>-71.577063</td>\n",
       "    </tr>\n",
       "    <tr>\n",
       "      <th>1</th>\n",
       "      <td>2000</td>\n",
       "      <td>Todas as idades</td>\n",
       "      <td>Brasil</td>\n",
       "      <td>BR</td>\n",
       "      <td>Rural</td>\n",
       "      <td>Ambos os sexos</td>\n",
       "      <td>Todas as raças/cores</td>\n",
       "      <td>9.511915e+06</td>\n",
       "      <td>0.297735</td>\n",
       "      <td>-13.495277</td>\n",
       "      <td>-71.577063</td>\n",
       "    </tr>\n",
       "    <tr>\n",
       "      <th>2</th>\n",
       "      <td>2000</td>\n",
       "      <td>Todas as idades</td>\n",
       "      <td>Brasil</td>\n",
       "      <td>BR</td>\n",
       "      <td>Urbana</td>\n",
       "      <td>Ambos os sexos</td>\n",
       "      <td>Todas as raças/cores</td>\n",
       "      <td>4.389441e+07</td>\n",
       "      <td>0.318248</td>\n",
       "      <td>-13.495277</td>\n",
       "      <td>-71.577063</td>\n",
       "    </tr>\n",
       "    <tr>\n",
       "      <th>3</th>\n",
       "      <td>2000</td>\n",
       "      <td>Todas as idades</td>\n",
       "      <td>Brasil</td>\n",
       "      <td>BR</td>\n",
       "      <td>Rural e Urbana</td>\n",
       "      <td>Ambos os sexos</td>\n",
       "      <td>Branca</td>\n",
       "      <td>2.771789e+07</td>\n",
       "      <td>0.303598</td>\n",
       "      <td>-13.495277</td>\n",
       "      <td>-71.577063</td>\n",
       "    </tr>\n",
       "    <tr>\n",
       "      <th>4</th>\n",
       "      <td>2000</td>\n",
       "      <td>Todas as idades</td>\n",
       "      <td>Brasil</td>\n",
       "      <td>BR</td>\n",
       "      <td>Rural</td>\n",
       "      <td>Ambos os sexos</td>\n",
       "      <td>Branca</td>\n",
       "      <td>3.819465e+06</td>\n",
       "      <td>0.275582</td>\n",
       "      <td>-13.495277</td>\n",
       "      <td>-71.577063</td>\n",
       "    </tr>\n",
       "    <tr>\n",
       "      <th>5</th>\n",
       "      <td>2000</td>\n",
       "      <td>Todas as idades</td>\n",
       "      <td>Brasil</td>\n",
       "      <td>BR</td>\n",
       "      <td>Urbana</td>\n",
       "      <td>Ambos os sexos</td>\n",
       "      <td>Branca</td>\n",
       "      <td>2.389842e+07</td>\n",
       "      <td>0.308612</td>\n",
       "      <td>-13.495277</td>\n",
       "      <td>-71.577063</td>\n",
       "    </tr>\n",
       "    <tr>\n",
       "      <th>6</th>\n",
       "      <td>2000</td>\n",
       "      <td>Todas as idades</td>\n",
       "      <td>Brasil</td>\n",
       "      <td>BR</td>\n",
       "      <td>Rural e Urbana</td>\n",
       "      <td>Ambos os sexos</td>\n",
       "      <td>Preta</td>\n",
       "      <td>2.941059e+06</td>\n",
       "      <td>0.278659</td>\n",
       "      <td>-13.495277</td>\n",
       "      <td>-71.577063</td>\n",
       "    </tr>\n",
       "    <tr>\n",
       "      <th>7</th>\n",
       "      <td>2000</td>\n",
       "      <td>Todas as idades</td>\n",
       "      <td>Brasil</td>\n",
       "      <td>BR</td>\n",
       "      <td>Rural</td>\n",
       "      <td>Ambos os sexos</td>\n",
       "      <td>Preta</td>\n",
       "      <td>5.948572e+05</td>\n",
       "      <td>0.269871</td>\n",
       "      <td>-13.495277</td>\n",
       "      <td>-71.577063</td>\n",
       "    </tr>\n",
       "    <tr>\n",
       "      <th>8</th>\n",
       "      <td>2000</td>\n",
       "      <td>Todas as idades</td>\n",
       "      <td>Brasil</td>\n",
       "      <td>BR</td>\n",
       "      <td>Urbana</td>\n",
       "      <td>Ambos os sexos</td>\n",
       "      <td>Preta</td>\n",
       "      <td>2.346202e+06</td>\n",
       "      <td>0.280979</td>\n",
       "      <td>-13.495277</td>\n",
       "      <td>-71.577063</td>\n",
       "    </tr>\n",
       "    <tr>\n",
       "      <th>9</th>\n",
       "      <td>2000</td>\n",
       "      <td>Todas as idades</td>\n",
       "      <td>Brasil</td>\n",
       "      <td>BR</td>\n",
       "      <td>Rural e Urbana</td>\n",
       "      <td>Ambos os sexos</td>\n",
       "      <td>Amarela</td>\n",
       "      <td>2.032858e+05</td>\n",
       "      <td>0.266925</td>\n",
       "      <td>-13.495277</td>\n",
       "      <td>-71.577063</td>\n",
       "    </tr>\n",
       "  </tbody>\n",
       "</table>\n",
       "</div>"
      ],
      "text/plain": [
       "    Ano      FaixaEtaria Geografia  UF            Area            Sexo  \\\n",
       "0  2000  Todas as idades    Brasil  BR  Rural e Urbana  Ambos os sexos   \n",
       "1  2000  Todas as idades    Brasil  BR           Rural  Ambos os sexos   \n",
       "2  2000  Todas as idades    Brasil  BR          Urbana  Ambos os sexos   \n",
       "3  2000  Todas as idades    Brasil  BR  Rural e Urbana  Ambos os sexos   \n",
       "4  2000  Todas as idades    Brasil  BR           Rural  Ambos os sexos   \n",
       "5  2000  Todas as idades    Brasil  BR          Urbana  Ambos os sexos   \n",
       "6  2000  Todas as idades    Brasil  BR  Rural e Urbana  Ambos os sexos   \n",
       "7  2000  Todas as idades    Brasil  BR           Rural  Ambos os sexos   \n",
       "8  2000  Todas as idades    Brasil  BR          Urbana  Ambos os sexos   \n",
       "9  2000  Todas as idades    Brasil  BR  Rural e Urbana  Ambos os sexos   \n",
       "\n",
       "                    Cor  ValorAbsoluto  ValorPercentual   Latitude  Longitude  \n",
       "0  Todas as raças/cores   5.340632e+07         0.314390 -13.495277 -71.577063  \n",
       "1  Todas as raças/cores   9.511915e+06         0.297735 -13.495277 -71.577063  \n",
       "2  Todas as raças/cores   4.389441e+07         0.318248 -13.495277 -71.577063  \n",
       "3                Branca   2.771789e+07         0.303598 -13.495277 -71.577063  \n",
       "4                Branca   3.819465e+06         0.275582 -13.495277 -71.577063  \n",
       "5                Branca   2.389842e+07         0.308612 -13.495277 -71.577063  \n",
       "6                 Preta   2.941059e+06         0.278659 -13.495277 -71.577063  \n",
       "7                 Preta   5.948572e+05         0.269871 -13.495277 -71.577063  \n",
       "8                 Preta   2.346202e+06         0.280979 -13.495277 -71.577063  \n",
       "9               Amarela   2.032858e+05         0.266925 -13.495277 -71.577063  "
      ]
     },
     "execution_count": 5,
     "metadata": {},
     "output_type": "execute_result"
    }
   ],
   "source": [
    "dataset.head(10)"
   ]
  },
  {
   "cell_type": "code",
   "execution_count": 6,
   "metadata": {},
   "outputs": [
    {
     "data": {
      "text/plain": [
       "Index(['Ano', 'FaixaEtaria', 'Geografia', 'UF', 'Area', 'Sexo', 'Cor',\n",
       "       'ValorAbsoluto', 'ValorPercentual', 'Latitude', 'Longitude'],\n",
       "      dtype='object')"
      ]
     },
     "execution_count": 6,
     "metadata": {},
     "output_type": "execute_result"
    }
   ],
   "source": [
    "dataset.columns"
   ]
  },
  {
   "cell_type": "code",
   "execution_count": 8,
   "metadata": {},
   "outputs": [
    {
     "name": "stdout",
     "output_type": "stream",
     "text": [
      "<class 'pandas.core.frame.DataFrame'>\n",
      "RangeIndex: 1528749 entries, 0 to 1528748\n",
      "Data columns (total 11 columns):\n",
      " #   Column           Non-Null Count    Dtype  \n",
      "---  ------           --------------    -----  \n",
      " 0   Ano              1528749 non-null  int64  \n",
      " 1   FaixaEtaria      1528749 non-null  object \n",
      " 2   Geografia        1528749 non-null  object \n",
      " 3   UF               1528749 non-null  object \n",
      " 4   Area             1528749 non-null  object \n",
      " 5   Sexo             1528749 non-null  object \n",
      " 6   Cor              1528749 non-null  object \n",
      " 7   ValorAbsoluto    1528749 non-null  float64\n",
      " 8   ValorPercentual  1528749 non-null  float64\n",
      " 9   Latitude         1528749 non-null  float64\n",
      " 10  Longitude        1528749 non-null  float64\n",
      "dtypes: float64(4), int64(1), object(6)\n",
      "memory usage: 128.3+ MB\n"
     ]
    }
   ],
   "source": [
    "dataset.info()"
   ]
  },
  {
   "cell_type": "code",
   "execution_count": 9,
   "metadata": {},
   "outputs": [
    {
     "name": "stdout",
     "output_type": "stream",
     "text": [
      "Ano: [2000 2010]\n",
      "\n",
      "FaixaEtaria: ['Todas as idades' '15 a 17 anos' '18 a 24 anos' '25 a 29 anos']\n",
      "\n",
      "Geografia: ['Brasil' 'Norte' 'Nordeste' ... 'Campo Limpo de Goiás'\n",
      " 'Gameleira de Goiás' 'Ipiranga de Goiás']\n",
      "\n",
      "UF: ['BR' 'RO' 'AC' 'AM' 'RR' 'PA' 'TO' 'MA' 'PI' 'CE' 'RN' 'PB' 'PE' 'AL'\n",
      " 'SE' 'BA' 'MG' 'ES' 'RJ' 'SP' 'PR' 'SC' 'RS' 'MS' 'MT' 'GO' 'DF' 'AP']\n",
      "\n",
      "Area: ['Rural e Urbana' 'Rural' 'Urbana']\n",
      "\n",
      "Sexo: ['Ambos os sexos' 'Masculino' 'Feminino']\n",
      "\n",
      "Cor: ['Todas as raças/cores' 'Branca' 'Preta' 'Amarela' 'Parda' 'Indígena'\n",
      " 'Sem declaração de cor']\n",
      "\n",
      "ValorAbsoluto: [5.34063205e+07 9.51191454e+06 4.38944059e+07 ... 5.42832346e+00\n",
      " 7.52976200e+00 7.52976200e+00]\n",
      "\n",
      "ValorPercentual: [0.31438996 0.2977347  0.31824782 ... 0.33560365 0.05703657 0.40158998]\n",
      "\n",
      "Latitude: [-13.495277   -3.1291616  -5.9034092 ... -16.463889  -15.17\n",
      " -19.182778 ]\n",
      "\n",
      "Longitude: [-71.5770628 -60.0235777 -37.8969041 ... -48.67      -49.670833\n",
      " -51.390833 ]\n",
      "\n"
     ]
    }
   ],
   "source": [
    "for i in dataset.columns:\n",
    "    print(str(i) + \": \" + str(dataset[i].unique()) + \"\\n\")"
   ]
  },
  {
   "cell_type": "code",
   "execution_count": 10,
   "metadata": {},
   "outputs": [],
   "source": [
    "dataset = dataset.drop(columns=['ValorPercentual', 'Latitude', 'Longitude'])"
   ]
  },
  {
   "cell_type": "code",
   "execution_count": 11,
   "metadata": {},
   "outputs": [],
   "source": [
    "remover_ano = dataset.index[dataset['Ano'] == 2000]\n",
    "#remover os indexes angariados na linha anterior\n",
    "dataset = dataset.drop(remover_ano, axis=0)"
   ]
  },
  {
   "cell_type": "code",
   "execution_count": 19,
   "metadata": {},
   "outputs": [],
   "source": [
    "remover_UF = dataset.index[dataset['UF'] == 'BR']\n",
    "#remover os indexes angariados na linha anterior\n",
    "dataset = dataset.drop(remover_UF, axis=0)"
   ]
  },
  {
   "cell_type": "code",
   "execution_count": null,
   "metadata": {},
   "outputs": [],
   "source": []
  },
  {
   "cell_type": "code",
   "execution_count": 20,
   "metadata": {},
   "outputs": [
    {
     "name": "stdout",
     "output_type": "stream",
     "text": [
      "<class 'pandas.core.frame.DataFrame'>\n",
      "Int64Index: 775136 entries, 753613 to 1528748\n",
      "Data columns (total 8 columns):\n",
      " #   Column         Non-Null Count   Dtype  \n",
      "---  ------         --------------   -----  \n",
      " 0   Ano            775136 non-null  int64  \n",
      " 1   FaixaEtaria    775136 non-null  object \n",
      " 2   Geografia      775136 non-null  object \n",
      " 3   UF             775136 non-null  object \n",
      " 4   Area           775136 non-null  object \n",
      " 5   Sexo           775136 non-null  object \n",
      " 6   Cor            775136 non-null  object \n",
      " 7   ValorAbsoluto  775136 non-null  float64\n",
      "dtypes: float64(1), int64(1), object(6)\n",
      "memory usage: 53.2+ MB\n"
     ]
    }
   ],
   "source": [
    "dataset.info()"
   ]
  },
  {
   "cell_type": "code",
   "execution_count": 14,
   "metadata": {},
   "outputs": [
    {
     "data": {
      "text/plain": [
       "array([[2010, 'Todas as idades', 'Brasil', ..., 'Ambos os sexos',\n",
       "        'Todas as raças/cores', 59565188.3722803],\n",
       "       [2010, 'Todas as idades', 'Brasil', ..., 'Ambos os sexos',\n",
       "        'Todas as raças/cores', 9420589.29273592],\n",
       "       [2010, 'Todas as idades', 'Brasil', ..., 'Ambos os sexos',\n",
       "        'Todas as raças/cores', 50144599.0802692],\n",
       "       ...,\n",
       "       [2010, '25 a 29 anos', 'Brasília', ..., 'Feminino', 'Parda',\n",
       "        11161.2459088696],\n",
       "       [2010, '25 a 29 anos', 'Brasília', ..., 'Feminino', 'Indígena',\n",
       "        72.9409681319263],\n",
       "       [2010, '25 a 29 anos', 'Brasília', ..., 'Feminino', 'Indígena',\n",
       "        72.9409681319263]], dtype=object)"
      ]
     },
     "execution_count": 14,
     "metadata": {},
     "output_type": "execute_result"
    }
   ],
   "source": [
    "dataset.to_numpy()"
   ]
  },
  {
   "cell_type": "code",
   "execution_count": 18,
   "metadata": {},
   "outputs": [],
   "source": [
    "np.save(file +'.npy', dataset.to_numpy())"
   ]
  },
  {
   "cell_type": "code",
   "execution_count": 15,
   "metadata": {},
   "outputs": [
    {
     "data": {
      "text/plain": [
       "'original/Indicador da Juventude - Frequência Escolar.csv'"
      ]
     },
     "execution_count": 15,
     "metadata": {},
     "output_type": "execute_result"
    }
   ],
   "source": [
    "file1"
   ]
  },
  {
   "cell_type": "markdown",
   "metadata": {},
   "source": [
    "Função para salvar vários"
   ]
  },
  {
   "cell_type": "code",
   "execution_count": 35,
   "metadata": {},
   "outputs": [],
   "source": [
    "def salva_npy(file):\n",
    "    print(\"Abrindo \", file)\n",
    "    #abrir dataset\n",
    "    dataset = pd.read_csv(file, sep=';')\n",
    "    #dropar colunas que não preciso Remover as colunas de ValorPercentual, Latitude e Longitude\n",
    "    dataset = dataset.drop(columns=['ValorPercentual', 'Latitude', 'Longitude'])\n",
    "    #Renomear a coluna Geografia para Municípios\n",
    "    dataset.rename(columns={'Geografia' : 'Municipio'}, inplace=True)\n",
    "    #Remover registros do ano 2000, mantendo só os de 2010\n",
    "    remover_ano = dataset.index[dataset['Ano'] == 2000]\n",
    "    dataset = dataset.drop(remover_ano, axis=0)\n",
    "    #Remover UF = BR, pois quero apenas os municípios\n",
    "    remover_UF = dataset.index[dataset['UF'] == 'BR']\n",
    "    dataset = dataset.drop(remover_UF, axis=0)\n",
    "    #Manter apenas área = Rural e Urbana\n",
    "    dataset = dataset.loc[dataset['Area'] == 'Rural e Urbana']\n",
    "    #Manter apenas sexo = Ambos os sexos\n",
    "    dataset = dataset.loc[dataset['Sexo'] == 'Ambos os sexos']\n",
    "    #Manter cor = Todas as raças/cores\n",
    "    dataset = dataset.loc[dataset['Cor'] == 'Todas as raças/cores']\n",
    "    \n",
    "    filename = file[:-4] #remover .csv\n",
    "    print(\"Salvando \", filename)\n",
    "    #salvar essa versao como npy\n",
    "    np.save(file +'.npy', dataset.to_numpy())"
   ]
  },
  {
   "cell_type": "code",
   "execution_count": 22,
   "metadata": {},
   "outputs": [],
   "source": [
    "import glob"
   ]
  },
  {
   "cell_type": "code",
   "execution_count": 28,
   "metadata": {},
   "outputs": [
    {
     "name": "stdout",
     "output_type": "stream",
     "text": [
      "original\\Indicador da Juventude - Frequência Escolar.csv\n",
      "original\\Indicador da Juventude - Grau de Urbanização.csv\n",
      "original\\Indicador da Juventude - Jovens em Domicílio com Acesso à Internet.csv\n",
      "original\\Indicador da Juventude - Jovens em Domicílio com Coleta de Lixo Adequada.csv\n",
      "original\\Indicador da Juventude - Jovens por raça e cor.csv\n",
      "original\\Indicador da Juventude - Renda Domiciliar Per Capita Média dos Jovens.csv\n",
      "original\\Indicador da Juventude - Taxa de Analfabetismo.csv\n"
     ]
    }
   ],
   "source": [
    "for name in glob.glob('original/*.csv'):\n",
    "    print(name)"
   ]
  },
  {
   "cell_type": "code",
   "execution_count": 36,
   "metadata": {},
   "outputs": [
    {
     "name": "stdout",
     "output_type": "stream",
     "text": [
      "Abrindo  original\\Indicador da Juventude - Frequência Escolar.csv\n",
      "Salvando  original\\Indicador da Juventude - Frequência Escolar\n",
      "Abrindo  original\\Indicador da Juventude - Grau de Urbanização.csv\n",
      "Salvando  original\\Indicador da Juventude - Grau de Urbanização\n",
      "Abrindo  original\\Indicador da Juventude - Jovens em Domicílio com Acesso à Internet.csv\n",
      "Salvando  original\\Indicador da Juventude - Jovens em Domicílio com Acesso à Internet\n",
      "Abrindo  original\\Indicador da Juventude - Jovens em Domicílio com Coleta de Lixo Adequada.csv\n",
      "Salvando  original\\Indicador da Juventude - Jovens em Domicílio com Coleta de Lixo Adequada\n",
      "Abrindo  original\\Indicador da Juventude - Jovens por raça e cor.csv\n",
      "Salvando  original\\Indicador da Juventude - Jovens por raça e cor\n",
      "Abrindo  original\\Indicador da Juventude - Renda Domiciliar Per Capita Média dos Jovens.csv\n",
      "Salvando  original\\Indicador da Juventude - Renda Domiciliar Per Capita Média dos Jovens\n",
      "Abrindo  original\\Indicador da Juventude - Taxa de Analfabetismo.csv\n",
      "Salvando  original\\Indicador da Juventude - Taxa de Analfabetismo\n"
     ]
    }
   ],
   "source": [
    "for name in glob.glob('original/*.csv'):\n",
    "    salva_npy(name)"
   ]
  },
  {
   "cell_type": "code",
   "execution_count": null,
   "metadata": {},
   "outputs": [],
   "source": []
  }
 ],
 "metadata": {
  "kernelspec": {
   "display_name": "Python 3",
   "language": "python",
   "name": "python3"
  },
  "language_info": {
   "codemirror_mode": {
    "name": "ipython",
    "version": 3
   },
   "file_extension": ".py",
   "mimetype": "text/x-python",
   "name": "python",
   "nbconvert_exporter": "python",
   "pygments_lexer": "ipython3",
   "version": "3.7.7"
  }
 },
 "nbformat": 4,
 "nbformat_minor": 4
}
