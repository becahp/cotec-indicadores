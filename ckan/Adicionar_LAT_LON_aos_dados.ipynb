{
 "cells": [
  {
   "cell_type": "markdown",
   "metadata": {
    "colab_type": "text",
    "id": "50-OnWvotyX8"
   },
   "source": [
    "# Limpeza de strings"
   ]
  },
  {
   "cell_type": "code",
   "execution_count": 10,
   "metadata": {
    "colab": {
     "base_uri": "https://localhost:8080/",
     "height": 34
    },
    "colab_type": "code",
    "id": "l2fBgTvvsXf2",
    "outputId": "6d069597-583a-4680-b598-f21ae4b87904"
   },
   "outputs": [
    {
     "name": "stdout",
     "output_type": "stream",
     "text": [
      "Requirement already satisfied: Unidecode in /usr/local/lib/python3.6/dist-packages (1.1.1)\n"
     ]
    }
   ],
   "source": [
    "!pip install Unidecode\n",
    "import unidecode"
   ]
  },
  {
   "cell_type": "code",
   "execution_count": 11,
   "metadata": {
    "colab": {
     "base_uri": "https://localhost:8080/",
     "height": 35
    },
    "colab_type": "code",
    "id": "9GA29GZwsV7P",
    "outputId": "ece601b7-86fc-4825-a5e7-d32e8406dcb9"
   },
   "outputs": [
    {
     "data": {
      "application/vnd.google.colaboratory.intrinsic+json": {
       "type": "string"
      },
      "text/plain": [
       "'nova_brasilandia_doeste_oracao'"
      ]
     },
     "execution_count": 11,
     "metadata": {
      "tags": []
     },
     "output_type": "execute_result"
    }
   ],
   "source": [
    "def clean_string(str):\n",
    "    str = str.strip()\n",
    "    str = str.replace(\" \",\"_\") #remover elspaços\n",
    "    str = str.replace(\"'\",\"\") #remover apóstrofos\n",
    "    str = str.lower() #colocar tudo em minúsculas\n",
    "    str = unidecode.unidecode(str) #remover acentuação\n",
    "    return str\n",
    "\n",
    "#exemplo\n",
    "txt = \"Nova Brasilândia D'Oeste oração   \"\n",
    "clean_string(txt)"
   ]
  },
  {
   "cell_type": "code",
   "execution_count": 12,
   "metadata": {
    "colab": {
     "base_uri": "https://localhost:8080/",
     "height": 35
    },
    "colab_type": "code",
    "id": "3m3R5dGEPLZ1",
    "outputId": "6113897d-0b04-486a-93ae-b70399af2170"
   },
   "outputs": [
    {
     "data": {
      "application/vnd.google.colaboratory.intrinsic+json": {
       "type": "string"
      },
      "text/plain": [
       "'novabrasilandiadoesteoracao'"
      ]
     },
     "execution_count": 12,
     "metadata": {
      "tags": []
     },
     "output_type": "execute_result"
    }
   ],
   "source": [
    "def clean_string_original(str):\n",
    "    str = str.strip()\n",
    "    str = str.replace(\" \",\"\") #remover espaços\n",
    "    str = str.replace(\"-\",\"\") #remover hifen\n",
    "    str = str.replace(\"'\",\"\") #remover apóstrofos\n",
    "    str = str.lower() #colocar tudo em minúsculas\n",
    "    str = unidecode.unidecode(str) #remover acentuação\n",
    "    return str\n",
    "\n",
    "#exemplo\n",
    "txt = \"Nova Brasilândia D'Oeste oração   \"\n",
    "clean_string_original(txt)"
   ]
  },
  {
   "cell_type": "code",
   "execution_count": 13,
   "metadata": {
    "colab": {
     "base_uri": "https://localhost:8080/",
     "height": 35
    },
    "colab_type": "code",
    "id": "DrX8Wrj_xDH-",
    "outputId": "0aff96d7-b812-4521-9a82-0e0d960ba656"
   },
   "outputs": [
    {
     "data": {
      "application/vnd.google.colaboratory.intrinsic+json": {
       "type": "string"
      },
      "text/plain": [
       "'-1.00012'"
      ]
     },
     "execution_count": 13,
     "metadata": {
      "tags": []
     },
     "output_type": "execute_result"
    }
   ],
   "source": [
    "def troca_virgula_por_ponto(text):\n",
    "    text = str(text)\n",
    "    text = text.strip()\n",
    "    text = text.replace(\",\",\".\") #trocar por ponto\n",
    "    return text\n",
    "\n",
    "#exemplo\n",
    "txt = \"-1,00012 \"\n",
    "troca_virgula_por_ponto(txt)"
   ]
  },
  {
   "cell_type": "code",
   "execution_count": 14,
   "metadata": {
    "colab": {},
    "colab_type": "code",
    "id": "q2mtrqoo9Pdh"
   },
   "outputs": [],
   "source": [
    "#Paraíba é com acento\n",
    "def correcao_paraiba(text):\n",
    "    if (str(text) == 'Paraiba'):\n",
    "      text = 'Paraíba'   \n",
    "    if (str(text) == 'Total'):\n",
    "      text = 'Brasil' \n",
    "    return text"
   ]
  },
  {
   "cell_type": "code",
   "execution_count": 15,
   "metadata": {
    "colab": {},
    "colab_type": "code",
    "id": "MBGAT5Ro0Mjo"
   },
   "outputs": [],
   "source": [
    "def remover_parenteses(text):\n",
    "    novo = str(text).strip()\n",
    "    if novo.endswith(')'):\n",
    "      novo = novo[:-4]\n",
    "    return novo.strip()"
   ]
  },
  {
   "cell_type": "code",
   "execution_count": 102,
   "metadata": {
    "colab": {},
    "colab_type": "code",
    "id": "qi12sXumYp5t"
   },
   "outputs": [],
   "source": [
    "correcoes_dados_dicionario = {\n",
    "  \"Tarauacá ARAUACÁ (AC)\": \"Tarauacá (AC)\"\n",
    "}\n",
    "\n",
    "#esses foram duplicados na tabela de nomes\n",
    "#\"Muquém do São Francisco (BA)\": \"Muquém de São Francisco (BA)\",\n",
    "#\"Santa Terezinha (BA)\": \"Santa Teresinha (BA)\",\n",
    "#\"Itapajé (CE)\" : \"Itapagé (CE)\",\n",
    "#\"Florínea (SP)\" : \"Florínia (SP)\",\n",
    "#\"São Caitano (PE)\": \"São Caetano (PE)\"\n",
    "\n",
    "geo_falta = {\n",
    "    \"Santarém (PB)\": \"Joca Claudino (PB)\",\n",
    "    \"Seridó (PB)\": \"São Vicente do Seridó (PB)\",\n",
    "    \"Boa Saúde (RN)\": \"Januário Cicco (RN)\",\n",
    "    \"Campo Grande (RN)\": \"Augusto Severo (RN)\", #Augusto Severo (Campo Grande)\n",
    "    \"Presidente Juscelino (RN)\": \"Serra Caiada (RN)\",\n",
    "    \"Embu (SP)\": \"Embu das Artes (SP)\"\n",
    "}"
   ]
  },
  {
   "cell_type": "code",
   "execution_count": 103,
   "metadata": {
    "colab": {},
    "colab_type": "code",
    "id": "KtlFzdgUr0sz"
   },
   "outputs": [],
   "source": [
    "#nomes ligeiramente errados\n",
    "def correcao_nomes(text):\n",
    "    if (str(text) in correcoes_dados_dicionario.keys()):\n",
    "      text = correcoes_dados_dicionario[text]\n",
    "    return text"
   ]
  },
  {
   "cell_type": "code",
   "execution_count": 18,
   "metadata": {
    "colab": {},
    "colab_type": "code",
    "id": "-bVw-8mRrrji"
   },
   "outputs": [],
   "source": [
    "#'Itapajé (CE)' in correcoes_leslie.keys()\n",
    "#correcoes_dados['Itapajé (CE)']"
   ]
  },
  {
   "cell_type": "markdown",
   "metadata": {
    "colab_type": "text",
    "id": "cXaMjPZzYB3x"
   },
   "source": [
    "# Nova tabela de lat/lon"
   ]
  },
  {
   "cell_type": "code",
   "execution_count": null,
   "metadata": {
    "colab": {
     "base_uri": "https://localhost:8080/",
     "height": 204
    },
    "colab_type": "code",
    "id": "jRlrEVw42C8O",
    "outputId": "69619ff4-8c40-4ac1-a325-37c6cd63bede"
   },
   "outputs": [
    {
     "name": "stdout",
     "output_type": "stream",
     "text": [
      "--2020-09-02 19:25:29--  https://raw.githubusercontent.com/kelvins/Municipios-Brasileiros/master/csv/municipios.csv\n",
      "Resolving raw.githubusercontent.com (raw.githubusercontent.com)... 151.101.0.133, 151.101.64.133, 151.101.128.133, ...\n",
      "Connecting to raw.githubusercontent.com (raw.githubusercontent.com)|151.101.0.133|:443... connected.\n",
      "HTTP request sent, awaiting response... 200 OK\n",
      "Length: 244570 (239K) [text/plain]\n",
      "Saving to: ‘municipios.csv’\n",
      "\n",
      "municipios.csv      100%[===================>] 238.84K  --.-KB/s    in 0.1s    \n",
      "\n",
      "2020-09-02 19:25:31 (2.13 MB/s) - ‘municipios.csv’ saved [244570/244570]\n",
      "\n"
     ]
    }
   ],
   "source": [
    "#pegar tabela de municipios\n",
    "!wget https://raw.githubusercontent.com/kelvins/Municipios-Brasileiros/master/csv/municipios.csv"
   ]
  },
  {
   "cell_type": "code",
   "execution_count": null,
   "metadata": {
    "colab": {
     "base_uri": "https://localhost:8080/",
     "height": 204
    },
    "colab_type": "code",
    "id": "YAluOhr-1_pt",
    "outputId": "9f3a3d17-f99b-4d56-e6ca-7356424c6ebb"
   },
   "outputs": [
    {
     "name": "stdout",
     "output_type": "stream",
     "text": [
      "--2020-09-02 19:25:31--  https://raw.githubusercontent.com/kelvins/Municipios-Brasileiros/master/csv/estados.csv\n",
      "Resolving raw.githubusercontent.com (raw.githubusercontent.com)... 151.101.0.133, 151.101.64.133, 151.101.128.133, ...\n",
      "Connecting to raw.githubusercontent.com (raw.githubusercontent.com)|151.101.0.133|:443... connected.\n",
      "HTTP request sent, awaiting response... 200 OK\n",
      "Length: 851 [text/plain]\n",
      "Saving to: ‘estados.csv’\n",
      "\n",
      "estados.csv         100%[===================>]     851  --.-KB/s    in 0s      \n",
      "\n",
      "2020-09-02 19:25:31 (41.5 MB/s) - ‘estados.csv’ saved [851/851]\n",
      "\n"
     ]
    }
   ],
   "source": [
    "#pegar tabela de estados\n",
    "!wget https://raw.githubusercontent.com/kelvins/Municipios-Brasileiros/master/csv/estados.csv"
   ]
  },
  {
   "cell_type": "code",
   "execution_count": null,
   "metadata": {
    "colab": {},
    "colab_type": "code",
    "id": "8DH3-e7PYGls"
   },
   "outputs": [],
   "source": [
    "import pandas as pd"
   ]
  },
  {
   "cell_type": "code",
   "execution_count": null,
   "metadata": {
    "colab": {},
    "colab_type": "code",
    "id": "eZK-kgykvN1Z"
   },
   "outputs": [],
   "source": [
    "estados_file = 'estados.csv'\n",
    "municipios_file = 'municipios.csv'"
   ]
  },
  {
   "cell_type": "markdown",
   "metadata": {
    "colab_type": "text",
    "id": "SdQ_YjFFxekc"
   },
   "source": [
    "## Estados"
   ]
  },
  {
   "cell_type": "code",
   "execution_count": null,
   "metadata": {
    "colab": {},
    "colab_type": "code",
    "id": "aLIcGD0HvMC9"
   },
   "outputs": [],
   "source": [
    "estados = pd.read_csv(estados_file)"
   ]
  },
  {
   "cell_type": "code",
   "execution_count": null,
   "metadata": {
    "colab": {
     "base_uri": "https://localhost:8080/",
     "height": 221
    },
    "colab_type": "code",
    "id": "RAZAGp7KvSKg",
    "outputId": "e426f770-e1aa-4ae2-8cfd-9c658d468e83"
   },
   "outputs": [
    {
     "name": "stdout",
     "output_type": "stream",
     "text": [
      "<class 'pandas.core.frame.DataFrame'>\n",
      "RangeIndex: 27 entries, 0 to 26\n",
      "Data columns (total 5 columns):\n",
      " #   Column     Non-Null Count  Dtype  \n",
      "---  ------     --------------  -----  \n",
      " 0   codigo_uf  27 non-null     int64  \n",
      " 1   uf         27 non-null     object \n",
      " 2   nome       27 non-null     object \n",
      " 3   latitude   27 non-null     float64\n",
      " 4   longitude  27 non-null     float64\n",
      "dtypes: float64(2), int64(1), object(2)\n",
      "memory usage: 1.2+ KB\n"
     ]
    }
   ],
   "source": [
    "estados.info()"
   ]
  },
  {
   "cell_type": "code",
   "execution_count": null,
   "metadata": {
    "colab": {
     "base_uri": "https://localhost:8080/",
     "height": 204
    },
    "colab_type": "code",
    "id": "GgPHJongvVg2",
    "outputId": "667dbadc-f9d1-4ed1-a345-97f520dd8152"
   },
   "outputs": [
    {
     "data": {
      "text/html": [
       "<div>\n",
       "<style scoped>\n",
       "    .dataframe tbody tr th:only-of-type {\n",
       "        vertical-align: middle;\n",
       "    }\n",
       "\n",
       "    .dataframe tbody tr th {\n",
       "        vertical-align: top;\n",
       "    }\n",
       "\n",
       "    .dataframe thead th {\n",
       "        text-align: right;\n",
       "    }\n",
       "</style>\n",
       "<table border=\"1\" class=\"dataframe\">\n",
       "  <thead>\n",
       "    <tr style=\"text-align: right;\">\n",
       "      <th></th>\n",
       "      <th>codigo_uf</th>\n",
       "      <th>uf</th>\n",
       "      <th>nome</th>\n",
       "      <th>latitude</th>\n",
       "      <th>longitude</th>\n",
       "    </tr>\n",
       "  </thead>\n",
       "  <tbody>\n",
       "    <tr>\n",
       "      <th>0</th>\n",
       "      <td>11</td>\n",
       "      <td>RO</td>\n",
       "      <td>Rondônia</td>\n",
       "      <td>-10.83</td>\n",
       "      <td>-63.34</td>\n",
       "    </tr>\n",
       "    <tr>\n",
       "      <th>1</th>\n",
       "      <td>12</td>\n",
       "      <td>AC</td>\n",
       "      <td>Acre</td>\n",
       "      <td>-8.77</td>\n",
       "      <td>-70.55</td>\n",
       "    </tr>\n",
       "    <tr>\n",
       "      <th>2</th>\n",
       "      <td>13</td>\n",
       "      <td>AM</td>\n",
       "      <td>Amazonas</td>\n",
       "      <td>-3.47</td>\n",
       "      <td>-65.10</td>\n",
       "    </tr>\n",
       "    <tr>\n",
       "      <th>3</th>\n",
       "      <td>14</td>\n",
       "      <td>RR</td>\n",
       "      <td>Roraima</td>\n",
       "      <td>1.99</td>\n",
       "      <td>-61.33</td>\n",
       "    </tr>\n",
       "    <tr>\n",
       "      <th>4</th>\n",
       "      <td>15</td>\n",
       "      <td>PA</td>\n",
       "      <td>Pará</td>\n",
       "      <td>-3.79</td>\n",
       "      <td>-52.48</td>\n",
       "    </tr>\n",
       "  </tbody>\n",
       "</table>\n",
       "</div>"
      ],
      "text/plain": [
       "   codigo_uf  uf      nome  latitude  longitude\n",
       "0         11  RO  Rondônia    -10.83     -63.34\n",
       "1         12  AC      Acre     -8.77     -70.55\n",
       "2         13  AM  Amazonas     -3.47     -65.10\n",
       "3         14  RR   Roraima      1.99     -61.33\n",
       "4         15  PA      Pará     -3.79     -52.48"
      ]
     },
     "execution_count": 81,
     "metadata": {
      "tags": []
     },
     "output_type": "execute_result"
    }
   ],
   "source": [
    "estados.head()"
   ]
  },
  {
   "cell_type": "markdown",
   "metadata": {
    "colab_type": "text",
    "id": "GUOrB8Obv-Qq"
   },
   "source": [
    "Criar dicionario com código dos estados"
   ]
  },
  {
   "cell_type": "code",
   "execution_count": null,
   "metadata": {
    "colab": {},
    "colab_type": "code",
    "id": "_7SC-N2avjl5"
   },
   "outputs": [],
   "source": [
    "estados_dict = dict(zip(estados.codigo_uf, estados.uf))"
   ]
  },
  {
   "cell_type": "code",
   "execution_count": null,
   "metadata": {
    "colab": {
     "base_uri": "https://localhost:8080/",
     "height": 476
    },
    "colab_type": "code",
    "id": "0g8ZauUpv9Gs",
    "outputId": "96348194-6f1f-48d6-e08a-a1e80beef653"
   },
   "outputs": [
    {
     "data": {
      "text/plain": [
       "{11: 'RO',\n",
       " 12: 'AC',\n",
       " 13: 'AM',\n",
       " 14: 'RR',\n",
       " 15: 'PA',\n",
       " 16: 'AP',\n",
       " 17: 'TO',\n",
       " 21: 'MA',\n",
       " 22: 'PI',\n",
       " 23: 'CE',\n",
       " 24: 'RN',\n",
       " 25: 'PB',\n",
       " 26: 'PE',\n",
       " 27: 'AL',\n",
       " 28: 'SE',\n",
       " 29: 'BA',\n",
       " 31: 'MG',\n",
       " 32: 'ES',\n",
       " 33: 'RJ',\n",
       " 35: 'SP',\n",
       " 41: 'PR',\n",
       " 42: 'SC',\n",
       " 43: 'RS',\n",
       " 50: 'MS',\n",
       " 51: 'MT',\n",
       " 52: 'GO',\n",
       " 53: 'DF'}"
      ]
     },
     "execution_count": 83,
     "metadata": {
      "tags": []
     },
     "output_type": "execute_result"
    }
   ],
   "source": [
    "estados_dict"
   ]
  },
  {
   "cell_type": "code",
   "execution_count": null,
   "metadata": {
    "colab": {},
    "colab_type": "code",
    "id": "pia3Nalbw1rf"
   },
   "outputs": [],
   "source": [
    "def troca_codigo_uf(codigo):\n",
    "    novo = str(estados_dict[codigo]).strip()\n",
    "    return novo"
   ]
  },
  {
   "cell_type": "code",
   "execution_count": null,
   "metadata": {
    "colab": {
     "base_uri": "https://localhost:8080/",
     "height": 34
    },
    "colab_type": "code",
    "id": "Br6OQNpmxbgA",
    "outputId": "ea02bd8d-0eda-420b-ca5f-a0c1966febdb"
   },
   "outputs": [
    {
     "data": {
      "text/plain": [
       "Index(['codigo_uf', 'uf', 'nome', 'latitude', 'longitude'], dtype='object')"
      ]
     },
     "execution_count": 85,
     "metadata": {
      "tags": []
     },
     "output_type": "execute_result"
    }
   ],
   "source": [
    "estados.columns"
   ]
  },
  {
   "cell_type": "code",
   "execution_count": null,
   "metadata": {
    "colab": {},
    "colab_type": "code",
    "id": "yx9dCCzExjfq"
   },
   "outputs": [],
   "source": [
    "novas_colunas = ['codigo_ibge', 'uf', 'nome', 'latitude', 'longitude']"
   ]
  },
  {
   "cell_type": "code",
   "execution_count": null,
   "metadata": {
    "colab": {},
    "colab_type": "code",
    "id": "hQdx_0Nixo2L"
   },
   "outputs": [],
   "source": [
    "estados.columns = novas_colunas"
   ]
  },
  {
   "cell_type": "code",
   "execution_count": null,
   "metadata": {
    "colab": {},
    "colab_type": "code",
    "id": "-n-uBeQHxrKq"
   },
   "outputs": [],
   "source": [
    "estados['capital'] = 2"
   ]
  },
  {
   "cell_type": "code",
   "execution_count": null,
   "metadata": {
    "colab": {
     "base_uri": "https://localhost:8080/",
     "height": 204
    },
    "colab_type": "code",
    "id": "9r2rhKEyxuxs",
    "outputId": "08b9a999-4477-4533-f701-f51558189ff0"
   },
   "outputs": [
    {
     "data": {
      "text/html": [
       "<div>\n",
       "<style scoped>\n",
       "    .dataframe tbody tr th:only-of-type {\n",
       "        vertical-align: middle;\n",
       "    }\n",
       "\n",
       "    .dataframe tbody tr th {\n",
       "        vertical-align: top;\n",
       "    }\n",
       "\n",
       "    .dataframe thead th {\n",
       "        text-align: right;\n",
       "    }\n",
       "</style>\n",
       "<table border=\"1\" class=\"dataframe\">\n",
       "  <thead>\n",
       "    <tr style=\"text-align: right;\">\n",
       "      <th></th>\n",
       "      <th>codigo_ibge</th>\n",
       "      <th>uf</th>\n",
       "      <th>nome</th>\n",
       "      <th>latitude</th>\n",
       "      <th>longitude</th>\n",
       "      <th>capital</th>\n",
       "    </tr>\n",
       "  </thead>\n",
       "  <tbody>\n",
       "    <tr>\n",
       "      <th>0</th>\n",
       "      <td>11</td>\n",
       "      <td>RO</td>\n",
       "      <td>Rondônia</td>\n",
       "      <td>-10.83</td>\n",
       "      <td>-63.34</td>\n",
       "      <td>2</td>\n",
       "    </tr>\n",
       "    <tr>\n",
       "      <th>1</th>\n",
       "      <td>12</td>\n",
       "      <td>AC</td>\n",
       "      <td>Acre</td>\n",
       "      <td>-8.77</td>\n",
       "      <td>-70.55</td>\n",
       "      <td>2</td>\n",
       "    </tr>\n",
       "    <tr>\n",
       "      <th>2</th>\n",
       "      <td>13</td>\n",
       "      <td>AM</td>\n",
       "      <td>Amazonas</td>\n",
       "      <td>-3.47</td>\n",
       "      <td>-65.10</td>\n",
       "      <td>2</td>\n",
       "    </tr>\n",
       "    <tr>\n",
       "      <th>3</th>\n",
       "      <td>14</td>\n",
       "      <td>RR</td>\n",
       "      <td>Roraima</td>\n",
       "      <td>1.99</td>\n",
       "      <td>-61.33</td>\n",
       "      <td>2</td>\n",
       "    </tr>\n",
       "    <tr>\n",
       "      <th>4</th>\n",
       "      <td>15</td>\n",
       "      <td>PA</td>\n",
       "      <td>Pará</td>\n",
       "      <td>-3.79</td>\n",
       "      <td>-52.48</td>\n",
       "      <td>2</td>\n",
       "    </tr>\n",
       "  </tbody>\n",
       "</table>\n",
       "</div>"
      ],
      "text/plain": [
       "   codigo_ibge  uf      nome  latitude  longitude  capital\n",
       "0           11  RO  Rondônia    -10.83     -63.34        2\n",
       "1           12  AC      Acre     -8.77     -70.55        2\n",
       "2           13  AM  Amazonas     -3.47     -65.10        2\n",
       "3           14  RR   Roraima      1.99     -61.33        2\n",
       "4           15  PA      Pará     -3.79     -52.48        2"
      ]
     },
     "execution_count": 89,
     "metadata": {
      "tags": []
     },
     "output_type": "execute_result"
    }
   ],
   "source": [
    "estados.head()"
   ]
  },
  {
   "cell_type": "markdown",
   "metadata": {
    "colab_type": "text",
    "id": "7Og2O46yxbx4"
   },
   "source": [
    "## Municipios"
   ]
  },
  {
   "cell_type": "code",
   "execution_count": null,
   "metadata": {
    "colab": {},
    "colab_type": "code",
    "id": "HQhO-ByuwB1b"
   },
   "outputs": [],
   "source": [
    "municipios = pd.read_csv(municipios_file)"
   ]
  },
  {
   "cell_type": "code",
   "execution_count": null,
   "metadata": {
    "colab": {
     "base_uri": "https://localhost:8080/",
     "height": 238
    },
    "colab_type": "code",
    "id": "15q3vbiXwFw9",
    "outputId": "1d9d0348-7075-47d3-e58d-c0486e6af291"
   },
   "outputs": [
    {
     "name": "stdout",
     "output_type": "stream",
     "text": [
      "<class 'pandas.core.frame.DataFrame'>\n",
      "RangeIndex: 5570 entries, 0 to 5569\n",
      "Data columns (total 6 columns):\n",
      " #   Column       Non-Null Count  Dtype  \n",
      "---  ------       --------------  -----  \n",
      " 0   codigo_ibge  5570 non-null   int64  \n",
      " 1   nome         5570 non-null   object \n",
      " 2   latitude     5570 non-null   float64\n",
      " 3   longitude    5570 non-null   float64\n",
      " 4   capital      5570 non-null   int64  \n",
      " 5   codigo_uf    5570 non-null   int64  \n",
      "dtypes: float64(2), int64(3), object(1)\n",
      "memory usage: 261.2+ KB\n"
     ]
    }
   ],
   "source": [
    "municipios.info()"
   ]
  },
  {
   "cell_type": "code",
   "execution_count": null,
   "metadata": {
    "colab": {
     "base_uri": "https://localhost:8080/",
     "height": 204
    },
    "colab_type": "code",
    "id": "P9XHWs42wkMY",
    "outputId": "bc286fdc-9da7-49b8-90c9-7238e6539a7a"
   },
   "outputs": [
    {
     "data": {
      "text/html": [
       "<div>\n",
       "<style scoped>\n",
       "    .dataframe tbody tr th:only-of-type {\n",
       "        vertical-align: middle;\n",
       "    }\n",
       "\n",
       "    .dataframe tbody tr th {\n",
       "        vertical-align: top;\n",
       "    }\n",
       "\n",
       "    .dataframe thead th {\n",
       "        text-align: right;\n",
       "    }\n",
       "</style>\n",
       "<table border=\"1\" class=\"dataframe\">\n",
       "  <thead>\n",
       "    <tr style=\"text-align: right;\">\n",
       "      <th></th>\n",
       "      <th>codigo_ibge</th>\n",
       "      <th>nome</th>\n",
       "      <th>latitude</th>\n",
       "      <th>longitude</th>\n",
       "      <th>capital</th>\n",
       "      <th>codigo_uf</th>\n",
       "    </tr>\n",
       "  </thead>\n",
       "  <tbody>\n",
       "    <tr>\n",
       "      <th>0</th>\n",
       "      <td>5200050</td>\n",
       "      <td>Abadia de Goiás</td>\n",
       "      <td>-16.75730</td>\n",
       "      <td>-49.4412</td>\n",
       "      <td>0</td>\n",
       "      <td>52</td>\n",
       "    </tr>\n",
       "    <tr>\n",
       "      <th>1</th>\n",
       "      <td>3100104</td>\n",
       "      <td>Abadia dos Dourados</td>\n",
       "      <td>-18.48310</td>\n",
       "      <td>-47.3916</td>\n",
       "      <td>0</td>\n",
       "      <td>31</td>\n",
       "    </tr>\n",
       "    <tr>\n",
       "      <th>2</th>\n",
       "      <td>5200100</td>\n",
       "      <td>Abadiânia</td>\n",
       "      <td>-16.19700</td>\n",
       "      <td>-48.7057</td>\n",
       "      <td>0</td>\n",
       "      <td>52</td>\n",
       "    </tr>\n",
       "    <tr>\n",
       "      <th>3</th>\n",
       "      <td>3100203</td>\n",
       "      <td>Abaeté</td>\n",
       "      <td>-19.15510</td>\n",
       "      <td>-45.4444</td>\n",
       "      <td>0</td>\n",
       "      <td>31</td>\n",
       "    </tr>\n",
       "    <tr>\n",
       "      <th>4</th>\n",
       "      <td>1500107</td>\n",
       "      <td>Abaetetuba</td>\n",
       "      <td>-1.72183</td>\n",
       "      <td>-48.8788</td>\n",
       "      <td>0</td>\n",
       "      <td>15</td>\n",
       "    </tr>\n",
       "  </tbody>\n",
       "</table>\n",
       "</div>"
      ],
      "text/plain": [
       "   codigo_ibge                 nome  latitude  longitude  capital  codigo_uf\n",
       "0      5200050      Abadia de Goiás -16.75730   -49.4412        0         52\n",
       "1      3100104  Abadia dos Dourados -18.48310   -47.3916        0         31\n",
       "2      5200100            Abadiânia -16.19700   -48.7057        0         52\n",
       "3      3100203               Abaeté -19.15510   -45.4444        0         31\n",
       "4      1500107           Abaetetuba  -1.72183   -48.8788        0         15"
      ]
     },
     "execution_count": 92,
     "metadata": {
      "tags": []
     },
     "output_type": "execute_result"
    }
   ],
   "source": [
    "municipios.head()"
   ]
  },
  {
   "cell_type": "code",
   "execution_count": null,
   "metadata": {
    "colab": {},
    "colab_type": "code",
    "id": "xYGOCMJHw_iI"
   },
   "outputs": [],
   "source": [
    "municipios['uf'] = municipios['codigo_uf'].apply(troca_codigo_uf)"
   ]
  },
  {
   "cell_type": "code",
   "execution_count": null,
   "metadata": {
    "colab": {
     "base_uri": "https://localhost:8080/",
     "height": 204
    },
    "colab_type": "code",
    "id": "L3sCPZVIxHaT",
    "outputId": "0c321699-bb87-440a-fa5c-f6733ec0bb5d"
   },
   "outputs": [
    {
     "data": {
      "text/html": [
       "<div>\n",
       "<style scoped>\n",
       "    .dataframe tbody tr th:only-of-type {\n",
       "        vertical-align: middle;\n",
       "    }\n",
       "\n",
       "    .dataframe tbody tr th {\n",
       "        vertical-align: top;\n",
       "    }\n",
       "\n",
       "    .dataframe thead th {\n",
       "        text-align: right;\n",
       "    }\n",
       "</style>\n",
       "<table border=\"1\" class=\"dataframe\">\n",
       "  <thead>\n",
       "    <tr style=\"text-align: right;\">\n",
       "      <th></th>\n",
       "      <th>codigo_ibge</th>\n",
       "      <th>nome</th>\n",
       "      <th>latitude</th>\n",
       "      <th>longitude</th>\n",
       "      <th>capital</th>\n",
       "      <th>codigo_uf</th>\n",
       "      <th>uf</th>\n",
       "    </tr>\n",
       "  </thead>\n",
       "  <tbody>\n",
       "    <tr>\n",
       "      <th>0</th>\n",
       "      <td>5200050</td>\n",
       "      <td>Abadia de Goiás</td>\n",
       "      <td>-16.75730</td>\n",
       "      <td>-49.4412</td>\n",
       "      <td>0</td>\n",
       "      <td>52</td>\n",
       "      <td>GO</td>\n",
       "    </tr>\n",
       "    <tr>\n",
       "      <th>1</th>\n",
       "      <td>3100104</td>\n",
       "      <td>Abadia dos Dourados</td>\n",
       "      <td>-18.48310</td>\n",
       "      <td>-47.3916</td>\n",
       "      <td>0</td>\n",
       "      <td>31</td>\n",
       "      <td>MG</td>\n",
       "    </tr>\n",
       "    <tr>\n",
       "      <th>2</th>\n",
       "      <td>5200100</td>\n",
       "      <td>Abadiânia</td>\n",
       "      <td>-16.19700</td>\n",
       "      <td>-48.7057</td>\n",
       "      <td>0</td>\n",
       "      <td>52</td>\n",
       "      <td>GO</td>\n",
       "    </tr>\n",
       "    <tr>\n",
       "      <th>3</th>\n",
       "      <td>3100203</td>\n",
       "      <td>Abaeté</td>\n",
       "      <td>-19.15510</td>\n",
       "      <td>-45.4444</td>\n",
       "      <td>0</td>\n",
       "      <td>31</td>\n",
       "      <td>MG</td>\n",
       "    </tr>\n",
       "    <tr>\n",
       "      <th>4</th>\n",
       "      <td>1500107</td>\n",
       "      <td>Abaetetuba</td>\n",
       "      <td>-1.72183</td>\n",
       "      <td>-48.8788</td>\n",
       "      <td>0</td>\n",
       "      <td>15</td>\n",
       "      <td>PA</td>\n",
       "    </tr>\n",
       "  </tbody>\n",
       "</table>\n",
       "</div>"
      ],
      "text/plain": [
       "   codigo_ibge                 nome  latitude  ...  capital  codigo_uf  uf\n",
       "0      5200050      Abadia de Goiás -16.75730  ...        0         52  GO\n",
       "1      3100104  Abadia dos Dourados -18.48310  ...        0         31  MG\n",
       "2      5200100            Abadiânia -16.19700  ...        0         52  GO\n",
       "3      3100203               Abaeté -19.15510  ...        0         31  MG\n",
       "4      1500107           Abaetetuba  -1.72183  ...        0         15  PA\n",
       "\n",
       "[5 rows x 7 columns]"
      ]
     },
     "execution_count": 94,
     "metadata": {
      "tags": []
     },
     "output_type": "execute_result"
    }
   ],
   "source": [
    "municipios.head()"
   ]
  },
  {
   "cell_type": "code",
   "execution_count": null,
   "metadata": {
    "colab": {},
    "colab_type": "code",
    "id": "6DbHaQpxxXGO"
   },
   "outputs": [],
   "source": [
    "municipios.drop(columns='codigo_uf', inplace=True)"
   ]
  },
  {
   "cell_type": "markdown",
   "metadata": {
    "colab_type": "text",
    "id": "NqUesMuEx6S7"
   },
   "source": [
    "## juntar as duas"
   ]
  },
  {
   "cell_type": "code",
   "execution_count": null,
   "metadata": {
    "colab": {},
    "colab_type": "code",
    "id": "g3Q-66kix7-A"
   },
   "outputs": [],
   "source": [
    "#juntas = pd.concat(estados, municipios,ignore_index = False)\n",
    "vertical_stack = pd.concat([estados, municipios],ignore_index = False, axis=0)"
   ]
  },
  {
   "cell_type": "code",
   "execution_count": null,
   "metadata": {
    "colab": {
     "base_uri": "https://localhost:8080/",
     "height": 419
    },
    "colab_type": "code",
    "id": "k8vqE2swyQRq",
    "outputId": "ff17a478-16b4-4508-e037-254fad11e512"
   },
   "outputs": [
    {
     "data": {
      "text/html": [
       "<div>\n",
       "<style scoped>\n",
       "    .dataframe tbody tr th:only-of-type {\n",
       "        vertical-align: middle;\n",
       "    }\n",
       "\n",
       "    .dataframe tbody tr th {\n",
       "        vertical-align: top;\n",
       "    }\n",
       "\n",
       "    .dataframe thead th {\n",
       "        text-align: right;\n",
       "    }\n",
       "</style>\n",
       "<table border=\"1\" class=\"dataframe\">\n",
       "  <thead>\n",
       "    <tr style=\"text-align: right;\">\n",
       "      <th></th>\n",
       "      <th>codigo_ibge</th>\n",
       "      <th>uf</th>\n",
       "      <th>nome</th>\n",
       "      <th>latitude</th>\n",
       "      <th>longitude</th>\n",
       "      <th>capital</th>\n",
       "    </tr>\n",
       "  </thead>\n",
       "  <tbody>\n",
       "    <tr>\n",
       "      <th>0</th>\n",
       "      <td>11</td>\n",
       "      <td>RO</td>\n",
       "      <td>Rondônia</td>\n",
       "      <td>-10.83000</td>\n",
       "      <td>-63.3400</td>\n",
       "      <td>2</td>\n",
       "    </tr>\n",
       "    <tr>\n",
       "      <th>1</th>\n",
       "      <td>12</td>\n",
       "      <td>AC</td>\n",
       "      <td>Acre</td>\n",
       "      <td>-8.77000</td>\n",
       "      <td>-70.5500</td>\n",
       "      <td>2</td>\n",
       "    </tr>\n",
       "    <tr>\n",
       "      <th>2</th>\n",
       "      <td>13</td>\n",
       "      <td>AM</td>\n",
       "      <td>Amazonas</td>\n",
       "      <td>-3.47000</td>\n",
       "      <td>-65.1000</td>\n",
       "      <td>2</td>\n",
       "    </tr>\n",
       "    <tr>\n",
       "      <th>3</th>\n",
       "      <td>14</td>\n",
       "      <td>RR</td>\n",
       "      <td>Roraima</td>\n",
       "      <td>1.99000</td>\n",
       "      <td>-61.3300</td>\n",
       "      <td>2</td>\n",
       "    </tr>\n",
       "    <tr>\n",
       "      <th>4</th>\n",
       "      <td>15</td>\n",
       "      <td>PA</td>\n",
       "      <td>Pará</td>\n",
       "      <td>-3.79000</td>\n",
       "      <td>-52.4800</td>\n",
       "      <td>2</td>\n",
       "    </tr>\n",
       "    <tr>\n",
       "      <th>...</th>\n",
       "      <td>...</td>\n",
       "      <td>...</td>\n",
       "      <td>...</td>\n",
       "      <td>...</td>\n",
       "      <td>...</td>\n",
       "      <td>...</td>\n",
       "    </tr>\n",
       "    <tr>\n",
       "      <th>5565</th>\n",
       "      <td>2933604</td>\n",
       "      <td>BA</td>\n",
       "      <td>Xique-Xique</td>\n",
       "      <td>-10.82300</td>\n",
       "      <td>-42.7245</td>\n",
       "      <td>0</td>\n",
       "    </tr>\n",
       "    <tr>\n",
       "      <th>5566</th>\n",
       "      <td>2517407</td>\n",
       "      <td>PB</td>\n",
       "      <td>Zabelê</td>\n",
       "      <td>-8.07901</td>\n",
       "      <td>-37.1057</td>\n",
       "      <td>0</td>\n",
       "    </tr>\n",
       "    <tr>\n",
       "      <th>5567</th>\n",
       "      <td>3557154</td>\n",
       "      <td>SP</td>\n",
       "      <td>Zacarias</td>\n",
       "      <td>-21.05060</td>\n",
       "      <td>-50.0552</td>\n",
       "      <td>0</td>\n",
       "    </tr>\n",
       "    <tr>\n",
       "      <th>5568</th>\n",
       "      <td>2114007</td>\n",
       "      <td>MA</td>\n",
       "      <td>Zé Doca</td>\n",
       "      <td>-3.27014</td>\n",
       "      <td>-45.6553</td>\n",
       "      <td>0</td>\n",
       "    </tr>\n",
       "    <tr>\n",
       "      <th>5569</th>\n",
       "      <td>4219853</td>\n",
       "      <td>SC</td>\n",
       "      <td>Zortéa</td>\n",
       "      <td>-27.45210</td>\n",
       "      <td>-51.5520</td>\n",
       "      <td>0</td>\n",
       "    </tr>\n",
       "  </tbody>\n",
       "</table>\n",
       "<p>5597 rows × 6 columns</p>\n",
       "</div>"
      ],
      "text/plain": [
       "      codigo_ibge  uf         nome  latitude  longitude  capital\n",
       "0              11  RO     Rondônia -10.83000   -63.3400        2\n",
       "1              12  AC         Acre  -8.77000   -70.5500        2\n",
       "2              13  AM     Amazonas  -3.47000   -65.1000        2\n",
       "3              14  RR      Roraima   1.99000   -61.3300        2\n",
       "4              15  PA         Pará  -3.79000   -52.4800        2\n",
       "...           ...  ..          ...       ...        ...      ...\n",
       "5565      2933604  BA  Xique-Xique -10.82300   -42.7245        0\n",
       "5566      2517407  PB       Zabelê  -8.07901   -37.1057        0\n",
       "5567      3557154  SP     Zacarias -21.05060   -50.0552        0\n",
       "5568      2114007  MA      Zé Doca  -3.27014   -45.6553        0\n",
       "5569      4219853  SC       Zortéa -27.45210   -51.5520        0\n",
       "\n",
       "[5597 rows x 6 columns]"
      ]
     },
     "execution_count": 97,
     "metadata": {
      "tags": []
     },
     "output_type": "execute_result"
    }
   ],
   "source": [
    "vertical_stack"
   ]
  },
  {
   "cell_type": "markdown",
   "metadata": {
    "colab_type": "text",
    "id": "QD2SsmPZTOs0"
   },
   "source": [
    "## Novas linhas para correções"
   ]
  },
  {
   "cell_type": "markdown",
   "metadata": {
    "colab_type": "text",
    "id": "rMLHvmJ711wF"
   },
   "source": [
    "Dados Leslie:\n",
    "*   \"Muquém do São Francisco (BA)\": \"Muquém de São Francisco (BA)\",\n",
    "* \"Santa Terezinha (BA)\": \"Santa Teresinha (BA)\",\n",
    "*  \"Itapajé (CE)\" : \"Itapagé (CE)\",\n",
    "*  \"Florínea (SP)\" : \"Florínia (SP)\",\n",
    "*  \"São Caitano (PE)\": \"São Caetano (PE)\"\n",
    "\n",
    "Tabela antiga GEO\n",
    "*    \"Santarém (PB)\": \"Joca Claudino (PB)\",\n",
    "*    \"Seridó (PB)\": \"São Vicente do Seridó (PB)\",\n",
    "*    \"Boa Saúde (RN)\": \"Januário Cicco (RN)\",\n",
    "*    \"Campo Grande (RN)\": \"Augusto Severo (RN)\", #Augusto Severo (Campo Grande)\n",
    "*    \"Presidente Juscelino (RN)\": \"Serra Caiada (RN)\",\n",
    "*    \"Embu (SP)\": \"Embu das Artes (SP)\"\n",
    "\n",
    "mais alguns:\n",
    "* Serra do Navio (PA): Serra do Navio (AP)\n",
    "* Eldorado dos Carajás (PA): Eldorado do Carajás (PA)\n",
    "* Santa Isabel do Pará (PA): Santa Izabel do Pará (PA): \n",
    "* Iguaraci(PE): Iguaracy (PE)\n",
    "* Brasópolis(MG): Brazópolis (MG)\n",
    "* Poxoréo (MT): Poxoréu (MT)\n",
    "* Moji Mirim (SP): Mogi Mirim (SP)\n",
    "* São Luís do Paraitinga (SP): São Luiz do Paraitinga (SP)\n",
    "* São Valério da Natividade (TO): São Valério (TO)"
   ]
  },
  {
   "cell_type": "code",
   "execution_count": null,
   "metadata": {
    "colab": {},
    "colab_type": "code",
    "id": "AE6gp3ybwUH_"
   },
   "outputs": [],
   "source": [
    "#definicao de funções para ajudar\n",
    "def get_linha_original(dataset, index):\n",
    "    original = dataset.loc[index].tolist()\n",
    "    #print(original)\n",
    "    print(original[2])\n",
    "    return original\n",
    "\n",
    "def change_nome_linha(original, nome):\n",
    "    linha = original.copy()\n",
    "    linha[2] = nome\n",
    "    print(nome)\n",
    "    return linha"
   ]
  },
  {
   "cell_type": "code",
   "execution_count": null,
   "metadata": {
    "colab": {},
    "colab_type": "code",
    "id": "87tr_L56UL05"
   },
   "outputs": [],
   "source": [
    "novas_linhas = []"
   ]
  },
  {
   "cell_type": "markdown",
   "metadata": {
    "colab_type": "text",
    "id": "qxVoyYAZ-EkL"
   },
   "source": [
    "### Rio Grande do Norte"
   ]
  },
  {
   "cell_type": "code",
   "execution_count": null,
   "metadata": {
    "colab": {},
    "colab_type": "code",
    "id": "bGmB-jWxR8sx"
   },
   "outputs": [],
   "source": [
    "RN = vertical_stack.loc[vertical_stack['uf'] == 'RN']"
   ]
  },
  {
   "cell_type": "markdown",
   "metadata": {
    "colab_type": "text",
    "id": "RMNWuiozzo1u"
   },
   "source": [
    "RN Augusto Severo (Campo Grande)\t-5.86206\t-37.3135\t0"
   ]
  },
  {
   "cell_type": "code",
   "execution_count": null,
   "metadata": {
    "colab": {
     "base_uri": "https://localhost:8080/",
     "height": 80
    },
    "colab_type": "code",
    "id": "vQm3bSt2SiuM",
    "outputId": "65b729af-e1b6-4ff3-dd56-749e764930ce"
   },
   "outputs": [
    {
     "data": {
      "text/html": [
       "<div>\n",
       "<style scoped>\n",
       "    .dataframe tbody tr th:only-of-type {\n",
       "        vertical-align: middle;\n",
       "    }\n",
       "\n",
       "    .dataframe tbody tr th {\n",
       "        vertical-align: top;\n",
       "    }\n",
       "\n",
       "    .dataframe thead th {\n",
       "        text-align: right;\n",
       "    }\n",
       "</style>\n",
       "<table border=\"1\" class=\"dataframe\">\n",
       "  <thead>\n",
       "    <tr style=\"text-align: right;\">\n",
       "      <th></th>\n",
       "      <th>codigo_ibge</th>\n",
       "      <th>uf</th>\n",
       "      <th>nome</th>\n",
       "      <th>latitude</th>\n",
       "      <th>longitude</th>\n",
       "      <th>capital</th>\n",
       "    </tr>\n",
       "  </thead>\n",
       "  <tbody>\n",
       "    <tr>\n",
       "      <th>427</th>\n",
       "      <td>2401305</td>\n",
       "      <td>RN</td>\n",
       "      <td>Augusto Severo (Campo Grande)</td>\n",
       "      <td>-5.86206</td>\n",
       "      <td>-37.3135</td>\n",
       "      <td>0</td>\n",
       "    </tr>\n",
       "  </tbody>\n",
       "</table>\n",
       "</div>"
      ],
      "text/plain": [
       "     codigo_ibge  uf  ... longitude  capital\n",
       "427      2401305  RN  ...  -37.3135        0\n",
       "\n",
       "[1 rows x 6 columns]"
      ]
     },
     "execution_count": 183,
     "metadata": {
      "tags": []
     },
     "output_type": "execute_result"
    }
   ],
   "source": [
    "RN.loc[RN[\"nome\"] == 'Augusto Severo (Campo Grande)']"
   ]
  },
  {
   "cell_type": "code",
   "execution_count": null,
   "metadata": {
    "colab": {},
    "colab_type": "code",
    "id": "L2ZE7h8kyuMJ"
   },
   "outputs": [],
   "source": [
    "index = RN.loc[RN[\"nome\"] == 'Augusto Severo (Campo Grande)'].index.tolist()[0]"
   ]
  },
  {
   "cell_type": "code",
   "execution_count": null,
   "metadata": {
    "colab": {
     "base_uri": "https://localhost:8080/",
     "height": 34
    },
    "colab_type": "code",
    "id": "x50TP2hYT43n",
    "outputId": "b1d80aa2-5c41-4899-987d-edb298a17322"
   },
   "outputs": [
    {
     "name": "stdout",
     "output_type": "stream",
     "text": [
      "Augusto Severo (Campo Grande)\n"
     ]
    }
   ],
   "source": [
    "original = get_linha_original(RN, index)"
   ]
  },
  {
   "cell_type": "code",
   "execution_count": null,
   "metadata": {
    "colab": {
     "base_uri": "https://localhost:8080/",
     "height": 34
    },
    "colab_type": "code",
    "id": "qDLbEaa5zBjh",
    "outputId": "2fa4aa0c-8117-4b83-f339-777b2165b3dd"
   },
   "outputs": [
    {
     "name": "stdout",
     "output_type": "stream",
     "text": [
      "Augusto Severo\n"
     ]
    }
   ],
   "source": [
    "linha = change_nome_linha(original, 'Augusto Severo')"
   ]
  },
  {
   "cell_type": "code",
   "execution_count": null,
   "metadata": {
    "colab": {
     "base_uri": "https://localhost:8080/",
     "height": 34
    },
    "colab_type": "code",
    "id": "yzMaxd-pUbR1",
    "outputId": "34a98c9a-159c-47a7-a693-8afc7b6cf0ac"
   },
   "outputs": [
    {
     "name": "stdout",
     "output_type": "stream",
     "text": [
      "[[2401305, 'RN', 'Augusto Severo', -5.86206, -37.3135, 0]]\n"
     ]
    }
   ],
   "source": [
    "#adicionar linha Augusto Severo ao dataset\n",
    "novas_linhas.append(linha)\n",
    "print(novas_linhas)"
   ]
  },
  {
   "cell_type": "code",
   "execution_count": null,
   "metadata": {
    "colab": {
     "base_uri": "https://localhost:8080/",
     "height": 34
    },
    "colab_type": "code",
    "id": "TpqFE8dDUia4",
    "outputId": "40b292df-e87a-438e-b63a-84cceb35ebc2"
   },
   "outputs": [
    {
     "name": "stdout",
     "output_type": "stream",
     "text": [
      "Campo Grande\n"
     ]
    }
   ],
   "source": [
    "linha = change_nome_linha(original, 'Campo Grande')"
   ]
  },
  {
   "cell_type": "code",
   "execution_count": null,
   "metadata": {
    "colab": {
     "base_uri": "https://localhost:8080/",
     "height": 34
    },
    "colab_type": "code",
    "id": "WduswVpsUiho",
    "outputId": "a7e3b491-2e50-463f-b8f3-7500edd6a85a"
   },
   "outputs": [
    {
     "name": "stdout",
     "output_type": "stream",
     "text": [
      "[[2401305, 'RN', 'Augusto Severo', -5.86206, -37.3135, 0], [2401305, 'RN', 'Campo Grande', -5.86206, -37.3135, 0]]\n"
     ]
    }
   ],
   "source": [
    "#adicionar linha Campo Grande ao dataset\n",
    "novas_linhas.append(linha)\n",
    "print(novas_linhas)"
   ]
  },
  {
   "cell_type": "markdown",
   "metadata": {
    "colab_type": "text",
    "id": "5Zk6Onuszrhv"
   },
   "source": [
    "RN\tJanuário Cicco (Boa Saúde)\t-6.16566\t-35.6219\t0"
   ]
  },
  {
   "cell_type": "code",
   "execution_count": null,
   "metadata": {
    "colab": {
     "base_uri": "https://localhost:8080/",
     "height": 80
    },
    "colab_type": "code",
    "id": "ABMnitEtUint",
    "outputId": "f61511c0-aaa6-4c7a-e5e9-3bdf0d160e75"
   },
   "outputs": [
    {
     "data": {
      "text/html": [
       "<div>\n",
       "<style scoped>\n",
       "    .dataframe tbody tr th:only-of-type {\n",
       "        vertical-align: middle;\n",
       "    }\n",
       "\n",
       "    .dataframe tbody tr th {\n",
       "        vertical-align: top;\n",
       "    }\n",
       "\n",
       "    .dataframe thead th {\n",
       "        text-align: right;\n",
       "    }\n",
       "</style>\n",
       "<table border=\"1\" class=\"dataframe\">\n",
       "  <thead>\n",
       "    <tr style=\"text-align: right;\">\n",
       "      <th></th>\n",
       "      <th>codigo_ibge</th>\n",
       "      <th>uf</th>\n",
       "      <th>nome</th>\n",
       "      <th>latitude</th>\n",
       "      <th>longitude</th>\n",
       "      <th>capital</th>\n",
       "    </tr>\n",
       "  </thead>\n",
       "  <tbody>\n",
       "    <tr>\n",
       "      <th>2519</th>\n",
       "      <td>2405306</td>\n",
       "      <td>RN</td>\n",
       "      <td>Januário Cicco (Boa Saúde)</td>\n",
       "      <td>-6.16566</td>\n",
       "      <td>-35.6219</td>\n",
       "      <td>0</td>\n",
       "    </tr>\n",
       "  </tbody>\n",
       "</table>\n",
       "</div>"
      ],
      "text/plain": [
       "      codigo_ibge  uf                        nome  latitude  longitude  capital\n",
       "2519      2405306  RN  Januário Cicco (Boa Saúde)  -6.16566   -35.6219        0"
      ]
     },
     "execution_count": 197,
     "metadata": {
      "tags": []
     },
     "output_type": "execute_result"
    }
   ],
   "source": [
    "index = RN.loc[RN[\"nome\"] == 'Januário Cicco (Boa Saúde)'].index.tolist()[0]\n",
    "RN.loc[RN[\"nome\"] == 'Januário Cicco (Boa Saúde)']"
   ]
  },
  {
   "cell_type": "code",
   "execution_count": null,
   "metadata": {
    "colab": {
     "base_uri": "https://localhost:8080/",
     "height": 34
    },
    "colab_type": "code",
    "id": "5iEqjHsfXEWa",
    "outputId": "019c5f0f-aa3c-4bea-ca2b-5876bae80582"
   },
   "outputs": [
    {
     "name": "stdout",
     "output_type": "stream",
     "text": [
      "Januário Cicco (Boa Saúde)\n"
     ]
    }
   ],
   "source": [
    "original = get_linha_original(RN, index)"
   ]
  },
  {
   "cell_type": "code",
   "execution_count": null,
   "metadata": {
    "colab": {
     "base_uri": "https://localhost:8080/",
     "height": 34
    },
    "colab_type": "code",
    "id": "EQkZf4oeXD7C",
    "outputId": "affb4df3-d681-44b5-d11d-5eef136157d2"
   },
   "outputs": [
    {
     "name": "stdout",
     "output_type": "stream",
     "text": [
      "Januário Cicco\n"
     ]
    }
   ],
   "source": [
    "linha = change_nome_linha(original, 'Januário Cicco')"
   ]
  },
  {
   "cell_type": "code",
   "execution_count": null,
   "metadata": {
    "colab": {
     "base_uri": "https://localhost:8080/",
     "height": 34
    },
    "colab_type": "code",
    "id": "gH-ehs0dXajf",
    "outputId": "fd4bc906-76bd-4219-d247-b4dc8eed88f1"
   },
   "outputs": [
    {
     "name": "stdout",
     "output_type": "stream",
     "text": [
      "[[2401305, 'RN', 'Augusto Severo', -5.86206, -37.3135, 0], [2401305, 'RN', 'Campo Grande', -5.86206, -37.3135, 0], [2405306, 'RN', 'Januário Cicco', -6.16566, -35.6219, 0]]\n"
     ]
    }
   ],
   "source": [
    "#adicionar linha Januário Cicco ao dataset\n",
    "novas_linhas.append(linha)\n",
    "print(novas_linhas)"
   ]
  },
  {
   "cell_type": "code",
   "execution_count": null,
   "metadata": {
    "colab": {
     "base_uri": "https://localhost:8080/",
     "height": 34
    },
    "colab_type": "code",
    "id": "0frFrSCXXe1t",
    "outputId": "7981f82d-ba28-4044-c350-2d0e99eb46bd"
   },
   "outputs": [
    {
     "name": "stdout",
     "output_type": "stream",
     "text": [
      "Boa Saúde\n"
     ]
    }
   ],
   "source": [
    "linha = change_nome_linha(original, 'Boa Saúde')"
   ]
  },
  {
   "cell_type": "code",
   "execution_count": null,
   "metadata": {
    "colab": {
     "base_uri": "https://localhost:8080/",
     "height": 54
    },
    "colab_type": "code",
    "id": "rNTw2yKkXh-0",
    "outputId": "1dd36e48-b86a-4cd2-f9c6-f3dcc2c42e2f"
   },
   "outputs": [
    {
     "name": "stdout",
     "output_type": "stream",
     "text": [
      "[[2401305, 'RN', 'Augusto Severo', -5.86206, -37.3135, 0], [2401305, 'RN', 'Campo Grande', -5.86206, -37.3135, 0], [2405306, 'RN', 'Januário Cicco', -6.16566, -35.6219, 0], [2405306, 'RN', 'Boa Saúde', -6.16566, -35.6219, 0]]\n"
     ]
    }
   ],
   "source": [
    "#adicionar linha Boa Saúde ao dataset\n",
    "novas_linhas.append(linha)\n",
    "print(novas_linhas)"
   ]
  },
  {
   "cell_type": "markdown",
   "metadata": {
    "colab_type": "text",
    "id": "Mv-sMJBk-Hwn"
   },
   "source": [
    "### Bahia"
   ]
  },
  {
   "cell_type": "code",
   "execution_count": null,
   "metadata": {
    "colab": {},
    "colab_type": "code",
    "id": "JA2tpEn3Xh4V"
   },
   "outputs": [],
   "source": [
    "BA = vertical_stack.loc[vertical_stack['uf'] == 'BA']"
   ]
  },
  {
   "cell_type": "markdown",
   "metadata": {
    "colab_type": "text",
    "id": "fz2XELYDzu8i"
   },
   "source": [
    "\"Muquém do São Francisco (BA)\": \"Muquém de São Francisco (BA)\""
   ]
  },
  {
   "cell_type": "code",
   "execution_count": null,
   "metadata": {
    "colab": {
     "base_uri": "https://localhost:8080/",
     "height": 80
    },
    "colab_type": "code",
    "id": "JpqCJfsnXh00",
    "outputId": "e176c07f-60c4-4648-c6e7-1ea921a6e292"
   },
   "outputs": [
    {
     "data": {
      "text/html": [
       "<div>\n",
       "<style scoped>\n",
       "    .dataframe tbody tr th:only-of-type {\n",
       "        vertical-align: middle;\n",
       "    }\n",
       "\n",
       "    .dataframe tbody tr th {\n",
       "        vertical-align: top;\n",
       "    }\n",
       "\n",
       "    .dataframe thead th {\n",
       "        text-align: right;\n",
       "    }\n",
       "</style>\n",
       "<table border=\"1\" class=\"dataframe\">\n",
       "  <thead>\n",
       "    <tr style=\"text-align: right;\">\n",
       "      <th></th>\n",
       "      <th>codigo_ibge</th>\n",
       "      <th>uf</th>\n",
       "      <th>nome</th>\n",
       "      <th>latitude</th>\n",
       "      <th>longitude</th>\n",
       "      <th>capital</th>\n",
       "    </tr>\n",
       "  </thead>\n",
       "  <tbody>\n",
       "    <tr>\n",
       "      <th>3220</th>\n",
       "      <td>2922250</td>\n",
       "      <td>BA</td>\n",
       "      <td>Muquém de São Francisco</td>\n",
       "      <td>-12.065</td>\n",
       "      <td>-43.5497</td>\n",
       "      <td>0</td>\n",
       "    </tr>\n",
       "  </tbody>\n",
       "</table>\n",
       "</div>"
      ],
      "text/plain": [
       "      codigo_ibge  uf                     nome  latitude  longitude  capital\n",
       "3220      2922250  BA  Muquém de São Francisco   -12.065   -43.5497        0"
      ]
     },
     "execution_count": 204,
     "metadata": {
      "tags": []
     },
     "output_type": "execute_result"
    }
   ],
   "source": [
    "index = BA.loc[BA[\"nome\"] == 'Muquém de São Francisco'].index.tolist()[0]\n",
    "BA.loc[BA[\"nome\"] == 'Muquém de São Francisco']"
   ]
  },
  {
   "cell_type": "code",
   "execution_count": null,
   "metadata": {
    "colab": {
     "base_uri": "https://localhost:8080/",
     "height": 34
    },
    "colab_type": "code",
    "id": "8NB2ReXMwDDj",
    "outputId": "b43c2e4a-c6ad-4704-f3f0-cfda538a1f6d"
   },
   "outputs": [
    {
     "name": "stdout",
     "output_type": "stream",
     "text": [
      "Muquém de São Francisco\n"
     ]
    }
   ],
   "source": [
    "original = get_linha_original(BA, index)"
   ]
  },
  {
   "cell_type": "code",
   "execution_count": null,
   "metadata": {
    "colab": {
     "base_uri": "https://localhost:8080/",
     "height": 34
    },
    "colab_type": "code",
    "id": "XPuhuQ7_wGZB",
    "outputId": "37d5cbaf-cd1b-4d00-98d1-a444f18cbedf"
   },
   "outputs": [
    {
     "name": "stdout",
     "output_type": "stream",
     "text": [
      "Muquém do São Francisco\n"
     ]
    }
   ],
   "source": [
    "linha = change_nome_linha(original, 'Muquém do São Francisco')"
   ]
  },
  {
   "cell_type": "code",
   "execution_count": null,
   "metadata": {
    "colab": {
     "base_uri": "https://localhost:8080/",
     "height": 54
    },
    "colab_type": "code",
    "id": "btnbkkqHv2FQ",
    "outputId": "10a8f31f-c990-4dc5-fbb0-ebccc8505915"
   },
   "outputs": [
    {
     "name": "stdout",
     "output_type": "stream",
     "text": [
      "[[2401305, 'RN', 'Augusto Severo', -5.86206, -37.3135, 0], [2401305, 'RN', 'Campo Grande', -5.86206, -37.3135, 0], [2405306, 'RN', 'Januário Cicco', -6.16566, -35.6219, 0], [2405306, 'RN', 'Boa Saúde', -6.16566, -35.6219, 0], [2922250, 'BA', 'Muquém do São Francisco', -12.065, -43.5497, 0]]\n"
     ]
    }
   ],
   "source": [
    "#adicionar linha Muquém do São Francisco ao dataset\n",
    "novas_linhas.append(linha)\n",
    "print(novas_linhas)"
   ]
  },
  {
   "cell_type": "markdown",
   "metadata": {
    "colab_type": "text",
    "id": "KLEMfiVX0FTU"
   },
   "source": [
    "\"Santa Terezinha (BA)\": \"Santa Teresinha (BA)\""
   ]
  },
  {
   "cell_type": "code",
   "execution_count": null,
   "metadata": {
    "colab": {
     "base_uri": "https://localhost:8080/",
     "height": 80
    },
    "colab_type": "code",
    "id": "HUnkcVOXXhxP",
    "outputId": "6fe09404-03b1-44ad-83c2-aa04939c374e"
   },
   "outputs": [
    {
     "data": {
      "text/html": [
       "<div>\n",
       "<style scoped>\n",
       "    .dataframe tbody tr th:only-of-type {\n",
       "        vertical-align: middle;\n",
       "    }\n",
       "\n",
       "    .dataframe tbody tr th {\n",
       "        vertical-align: top;\n",
       "    }\n",
       "\n",
       "    .dataframe thead th {\n",
       "        text-align: right;\n",
       "    }\n",
       "</style>\n",
       "<table border=\"1\" class=\"dataframe\">\n",
       "  <thead>\n",
       "    <tr style=\"text-align: right;\">\n",
       "      <th></th>\n",
       "      <th>codigo_ibge</th>\n",
       "      <th>uf</th>\n",
       "      <th>nome</th>\n",
       "      <th>latitude</th>\n",
       "      <th>longitude</th>\n",
       "      <th>capital</th>\n",
       "    </tr>\n",
       "  </thead>\n",
       "  <tbody>\n",
       "    <tr>\n",
       "      <th>4479</th>\n",
       "      <td>2928505</td>\n",
       "      <td>BA</td>\n",
       "      <td>Santa Teresinha</td>\n",
       "      <td>-12.7697</td>\n",
       "      <td>-39.5215</td>\n",
       "      <td>0</td>\n",
       "    </tr>\n",
       "  </tbody>\n",
       "</table>\n",
       "</div>"
      ],
      "text/plain": [
       "      codigo_ibge  uf             nome  latitude  longitude  capital\n",
       "4479      2928505  BA  Santa Teresinha  -12.7697   -39.5215        0"
      ]
     },
     "execution_count": 209,
     "metadata": {
      "tags": []
     },
     "output_type": "execute_result"
    }
   ],
   "source": [
    "index = BA.loc[BA[\"nome\"] == 'Santa Teresinha'].index.tolist()[0]\n",
    "BA.loc[BA[\"nome\"] == 'Santa Teresinha']"
   ]
  },
  {
   "cell_type": "code",
   "execution_count": null,
   "metadata": {
    "colab": {
     "base_uri": "https://localhost:8080/",
     "height": 34
    },
    "colab_type": "code",
    "id": "CWZ4q1O80PZd",
    "outputId": "fd661b1c-5aed-44cb-96d7-bac4d5c93177"
   },
   "outputs": [
    {
     "name": "stdout",
     "output_type": "stream",
     "text": [
      "Santa Teresinha\n"
     ]
    }
   ],
   "source": [
    "original = get_linha_original(BA, index)"
   ]
  },
  {
   "cell_type": "code",
   "execution_count": null,
   "metadata": {
    "colab": {
     "base_uri": "https://localhost:8080/",
     "height": 34
    },
    "colab_type": "code",
    "id": "HfWyRalw0PeV",
    "outputId": "76339ca0-ae76-444d-d3fe-76ac9c7117b8"
   },
   "outputs": [
    {
     "name": "stdout",
     "output_type": "stream",
     "text": [
      "Santa Terezinha\n"
     ]
    }
   ],
   "source": [
    "linha = change_nome_linha(original, 'Santa Terezinha')"
   ]
  },
  {
   "cell_type": "code",
   "execution_count": null,
   "metadata": {
    "colab": {
     "base_uri": "https://localhost:8080/",
     "height": 54
    },
    "colab_type": "code",
    "id": "UKGylfYP0Piu",
    "outputId": "07766074-a1e4-4395-d0ec-0e060b8d7ff1"
   },
   "outputs": [
    {
     "name": "stdout",
     "output_type": "stream",
     "text": [
      "[[2401305, 'RN', 'Augusto Severo', -5.86206, -37.3135, 0], [2401305, 'RN', 'Campo Grande', -5.86206, -37.3135, 0], [2405306, 'RN', 'Januário Cicco', -6.16566, -35.6219, 0], [2405306, 'RN', 'Boa Saúde', -6.16566, -35.6219, 0], [2922250, 'BA', 'Muquém do São Francisco', -12.065, -43.5497, 0], [2928505, 'BA', 'Santa Terezinha', -12.7697, -39.5215, 0]]\n"
     ]
    }
   ],
   "source": [
    "#adicionar linha Santa Terezinha ao dataset\n",
    "novas_linhas.append(linha)\n",
    "print(novas_linhas)"
   ]
  },
  {
   "cell_type": "markdown",
   "metadata": {
    "colab_type": "text",
    "id": "juQNq11W-Rkl"
   },
   "source": [
    "### Ceará"
   ]
  },
  {
   "cell_type": "code",
   "execution_count": null,
   "metadata": {
    "colab": {},
    "colab_type": "code",
    "id": "LE22eYQR78dS"
   },
   "outputs": [],
   "source": [
    "CE = vertical_stack.loc[vertical_stack['uf'] == 'CE']"
   ]
  },
  {
   "cell_type": "markdown",
   "metadata": {
    "colab_type": "text",
    "id": "fEj8bTaV7wgp"
   },
   "source": [
    "\"Itapajé (CE)\" : \"Itapagé (CE)\""
   ]
  },
  {
   "cell_type": "code",
   "execution_count": null,
   "metadata": {
    "colab": {
     "base_uri": "https://localhost:8080/",
     "height": 80
    },
    "colab_type": "code",
    "id": "oxxL9YKo0XWs",
    "outputId": "1f9c9c42-1995-4e9d-fe5d-f9874b7758ef"
   },
   "outputs": [
    {
     "data": {
      "text/html": [
       "<div>\n",
       "<style scoped>\n",
       "    .dataframe tbody tr th:only-of-type {\n",
       "        vertical-align: middle;\n",
       "    }\n",
       "\n",
       "    .dataframe tbody tr th {\n",
       "        vertical-align: top;\n",
       "    }\n",
       "\n",
       "    .dataframe thead th {\n",
       "        text-align: right;\n",
       "    }\n",
       "</style>\n",
       "<table border=\"1\" class=\"dataframe\">\n",
       "  <thead>\n",
       "    <tr style=\"text-align: right;\">\n",
       "      <th></th>\n",
       "      <th>codigo_ibge</th>\n",
       "      <th>uf</th>\n",
       "      <th>nome</th>\n",
       "      <th>latitude</th>\n",
       "      <th>longitude</th>\n",
       "      <th>capital</th>\n",
       "    </tr>\n",
       "  </thead>\n",
       "  <tbody>\n",
       "    <tr>\n",
       "      <th>2358</th>\n",
       "      <td>2306306</td>\n",
       "      <td>CE</td>\n",
       "      <td>Itapajé</td>\n",
       "      <td>-3.68314</td>\n",
       "      <td>-39.5855</td>\n",
       "      <td>0</td>\n",
       "    </tr>\n",
       "  </tbody>\n",
       "</table>\n",
       "</div>"
      ],
      "text/plain": [
       "      codigo_ibge  uf     nome  latitude  longitude  capital\n",
       "2358      2306306  CE  Itapajé  -3.68314   -39.5855        0"
      ]
     },
     "execution_count": 219,
     "metadata": {
      "tags": []
     },
     "output_type": "execute_result"
    }
   ],
   "source": [
    "n = 'Itapajé'\n",
    "index = CE.loc[CE[\"nome\"] == n].index.tolist()[0]\n",
    "CE.loc[CE[\"nome\"] == n]"
   ]
  },
  {
   "cell_type": "code",
   "execution_count": null,
   "metadata": {
    "colab": {
     "base_uri": "https://localhost:8080/",
     "height": 34
    },
    "colab_type": "code",
    "id": "QWZf44HV0X_P",
    "outputId": "408362a1-fb25-497b-a00f-07efafa5eb32"
   },
   "outputs": [
    {
     "name": "stdout",
     "output_type": "stream",
     "text": [
      "Itapajé\n"
     ]
    }
   ],
   "source": [
    "original = get_linha_original(CE, index)"
   ]
  },
  {
   "cell_type": "code",
   "execution_count": null,
   "metadata": {
    "colab": {
     "base_uri": "https://localhost:8080/",
     "height": 34
    },
    "colab_type": "code",
    "id": "iaGIhsPY0Xxp",
    "outputId": "0b7e91aa-0e8f-41fd-ad71-45abfdaef581"
   },
   "outputs": [
    {
     "name": "stdout",
     "output_type": "stream",
     "text": [
      "Itapagé\n"
     ]
    }
   ],
   "source": [
    "linha = change_nome_linha(original, 'Itapagé')"
   ]
  },
  {
   "cell_type": "code",
   "execution_count": null,
   "metadata": {
    "colab": {
     "base_uri": "https://localhost:8080/",
     "height": 54
    },
    "colab_type": "code",
    "id": "zwp9JX-_0WuI",
    "outputId": "ed8980fb-1466-472c-d6ed-921b349159ed"
   },
   "outputs": [
    {
     "name": "stdout",
     "output_type": "stream",
     "text": [
      "[[2401305, 'RN', 'Augusto Severo', -5.86206, -37.3135, 0], [2401305, 'RN', 'Campo Grande', -5.86206, -37.3135, 0], [2405306, 'RN', 'Januário Cicco', -6.16566, -35.6219, 0], [2405306, 'RN', 'Boa Saúde', -6.16566, -35.6219, 0], [2922250, 'BA', 'Muquém do São Francisco', -12.065, -43.5497, 0], [2928505, 'BA', 'Santa Terezinha', -12.7697, -39.5215, 0], [2306306, 'CE', 'Itapagé', -3.6831400000000003, -39.5855, 0]]\n"
     ]
    }
   ],
   "source": [
    "#adicionar linha Itapagé ao dataset\n",
    "novas_linhas.append(linha)\n",
    "print(novas_linhas)"
   ]
  },
  {
   "cell_type": "markdown",
   "metadata": {
    "colab_type": "text",
    "id": "hcjl81Mt9GTl"
   },
   "source": [
    "### São Paulo\n",
    "\"Florínea (SP)\" : \"Florínia (SP)\", \"Embu (SP)\": \"Embu das Artes (SP)\" Moji Mirim (SP): Mogi Mirim (SP) São Luís do Paraitinga (SP): São Luiz do Paraitinga (SP)"
   ]
  },
  {
   "cell_type": "code",
   "execution_count": null,
   "metadata": {
    "colab": {},
    "colab_type": "code",
    "id": "juzKtsoQ8ZK1"
   },
   "outputs": [],
   "source": [
    "SP = vertical_stack.loc[vertical_stack['uf'] == 'SP']"
   ]
  },
  {
   "cell_type": "code",
   "execution_count": null,
   "metadata": {
    "colab": {
     "base_uri": "https://localhost:8080/",
     "height": 80
    },
    "colab_type": "code",
    "id": "5CuT-GD88ZUl",
    "outputId": "3fab8ad5-d426-4cac-9e44-3ac85bc90dd1"
   },
   "outputs": [
    {
     "data": {
      "text/html": [
       "<div>\n",
       "<style scoped>\n",
       "    .dataframe tbody tr th:only-of-type {\n",
       "        vertical-align: middle;\n",
       "    }\n",
       "\n",
       "    .dataframe tbody tr th {\n",
       "        vertical-align: top;\n",
       "    }\n",
       "\n",
       "    .dataframe thead th {\n",
       "        text-align: right;\n",
       "    }\n",
       "</style>\n",
       "<table border=\"1\" class=\"dataframe\">\n",
       "  <thead>\n",
       "    <tr style=\"text-align: right;\">\n",
       "      <th></th>\n",
       "      <th>codigo_ibge</th>\n",
       "      <th>uf</th>\n",
       "      <th>nome</th>\n",
       "      <th>latitude</th>\n",
       "      <th>longitude</th>\n",
       "      <th>capital</th>\n",
       "    </tr>\n",
       "  </thead>\n",
       "  <tbody>\n",
       "    <tr>\n",
       "      <th>1815</th>\n",
       "      <td>3516101</td>\n",
       "      <td>SP</td>\n",
       "      <td>Florínia</td>\n",
       "      <td>-22.868</td>\n",
       "      <td>-50.6814</td>\n",
       "      <td>0</td>\n",
       "    </tr>\n",
       "  </tbody>\n",
       "</table>\n",
       "</div>"
      ],
      "text/plain": [
       "      codigo_ibge  uf      nome  latitude  longitude  capital\n",
       "1815      3516101  SP  Florínia   -22.868   -50.6814        0"
      ]
     },
     "execution_count": 226,
     "metadata": {
      "tags": []
     },
     "output_type": "execute_result"
    }
   ],
   "source": [
    "n = 'Florínia'\n",
    "index = SP.loc[SP[\"nome\"] == n].index.tolist()[0]\n",
    "SP.loc[SP[\"nome\"] == n]"
   ]
  },
  {
   "cell_type": "code",
   "execution_count": null,
   "metadata": {
    "colab": {
     "base_uri": "https://localhost:8080/",
     "height": 51
    },
    "colab_type": "code",
    "id": "RrYgst0t8ZR5",
    "outputId": "f420139e-5fb0-495c-93a7-028e36666df3"
   },
   "outputs": [
    {
     "name": "stdout",
     "output_type": "stream",
     "text": [
      "Florínia\n",
      "Florínea\n"
     ]
    }
   ],
   "source": [
    "original = get_linha_original(SP, index)\n",
    "linha = change_nome_linha(original, 'Florínea')\n",
    "novas_linhas.append(linha)"
   ]
  },
  {
   "cell_type": "code",
   "execution_count": null,
   "metadata": {
    "colab": {
     "base_uri": "https://localhost:8080/",
     "height": 80
    },
    "colab_type": "code",
    "id": "S-vJODJ68Y84",
    "outputId": "ec7009ff-3c9b-4170-c04f-87b304d5d425"
   },
   "outputs": [
    {
     "data": {
      "text/html": [
       "<div>\n",
       "<style scoped>\n",
       "    .dataframe tbody tr th:only-of-type {\n",
       "        vertical-align: middle;\n",
       "    }\n",
       "\n",
       "    .dataframe tbody tr th {\n",
       "        vertical-align: top;\n",
       "    }\n",
       "\n",
       "    .dataframe thead th {\n",
       "        text-align: right;\n",
       "    }\n",
       "</style>\n",
       "<table border=\"1\" class=\"dataframe\">\n",
       "  <thead>\n",
       "    <tr style=\"text-align: right;\">\n",
       "      <th></th>\n",
       "      <th>codigo_ibge</th>\n",
       "      <th>uf</th>\n",
       "      <th>nome</th>\n",
       "      <th>latitude</th>\n",
       "      <th>longitude</th>\n",
       "      <th>capital</th>\n",
       "    </tr>\n",
       "  </thead>\n",
       "  <tbody>\n",
       "    <tr>\n",
       "      <th>1656</th>\n",
       "      <td>3515004</td>\n",
       "      <td>SP</td>\n",
       "      <td>Embu das Artes</td>\n",
       "      <td>-23.6437</td>\n",
       "      <td>-46.8579</td>\n",
       "      <td>0</td>\n",
       "    </tr>\n",
       "  </tbody>\n",
       "</table>\n",
       "</div>"
      ],
      "text/plain": [
       "      codigo_ibge  uf            nome  latitude  longitude  capital\n",
       "1656      3515004  SP  Embu das Artes  -23.6437   -46.8579        0"
      ]
     },
     "execution_count": 229,
     "metadata": {
      "tags": []
     },
     "output_type": "execute_result"
    }
   ],
   "source": [
    "n = 'Embu das Artes'\n",
    "index = SP.loc[SP[\"nome\"] == n].index.tolist()[0]\n",
    "SP.loc[SP[\"nome\"] == n]"
   ]
  },
  {
   "cell_type": "code",
   "execution_count": null,
   "metadata": {
    "colab": {
     "base_uri": "https://localhost:8080/",
     "height": 51
    },
    "colab_type": "code",
    "id": "d-phufhK9mBH",
    "outputId": "b3d6aaea-0da4-4391-dcb7-3b92acd7b296"
   },
   "outputs": [
    {
     "name": "stdout",
     "output_type": "stream",
     "text": [
      "Embu das Artes\n",
      "Embu\n"
     ]
    }
   ],
   "source": [
    "original = get_linha_original(SP, index)\n",
    "linha = change_nome_linha(original, 'Embu')\n",
    "novas_linhas.append(linha)"
   ]
  },
  {
   "cell_type": "code",
   "execution_count": null,
   "metadata": {
    "colab": {
     "base_uri": "https://localhost:8080/",
     "height": 80
    },
    "colab_type": "code",
    "id": "V_R-UsrX9lbL",
    "outputId": "7a90d65b-9a20-45d8-8e53-e530eb2340b3"
   },
   "outputs": [
    {
     "data": {
      "text/html": [
       "<div>\n",
       "<style scoped>\n",
       "    .dataframe tbody tr th:only-of-type {\n",
       "        vertical-align: middle;\n",
       "    }\n",
       "\n",
       "    .dataframe tbody tr th {\n",
       "        vertical-align: top;\n",
       "    }\n",
       "\n",
       "    .dataframe thead th {\n",
       "        text-align: right;\n",
       "    }\n",
       "</style>\n",
       "<table border=\"1\" class=\"dataframe\">\n",
       "  <thead>\n",
       "    <tr style=\"text-align: right;\">\n",
       "      <th></th>\n",
       "      <th>codigo_ibge</th>\n",
       "      <th>uf</th>\n",
       "      <th>nome</th>\n",
       "      <th>latitude</th>\n",
       "      <th>longitude</th>\n",
       "      <th>capital</th>\n",
       "    </tr>\n",
       "  </thead>\n",
       "  <tbody>\n",
       "    <tr>\n",
       "      <th>3111</th>\n",
       "      <td>3530805</td>\n",
       "      <td>SP</td>\n",
       "      <td>Mogi Mirim</td>\n",
       "      <td>-22.4332</td>\n",
       "      <td>-46.9532</td>\n",
       "      <td>0</td>\n",
       "    </tr>\n",
       "  </tbody>\n",
       "</table>\n",
       "</div>"
      ],
      "text/plain": [
       "      codigo_ibge  uf        nome  latitude  longitude  capital\n",
       "3111      3530805  SP  Mogi Mirim  -22.4332   -46.9532        0"
      ]
     },
     "execution_count": 232,
     "metadata": {
      "tags": []
     },
     "output_type": "execute_result"
    }
   ],
   "source": [
    "n = 'Mogi Mirim'\n",
    "index = SP.loc[SP[\"nome\"] == n].index.tolist()[0]\n",
    "SP.loc[SP[\"nome\"] == n]"
   ]
  },
  {
   "cell_type": "code",
   "execution_count": null,
   "metadata": {
    "colab": {
     "base_uri": "https://localhost:8080/",
     "height": 51
    },
    "colab_type": "code",
    "id": "yVtniYS79lPO",
    "outputId": "cf3ded31-b727-4b83-9c44-5bdf833ff516"
   },
   "outputs": [
    {
     "name": "stdout",
     "output_type": "stream",
     "text": [
      "Mogi Mirim\n",
      "Moji Mirim\n"
     ]
    }
   ],
   "source": [
    "original = get_linha_original(SP, index)\n",
    "linha = change_nome_linha(original, 'Moji Mirim')\n",
    "novas_linhas.append(linha)"
   ]
  },
  {
   "cell_type": "code",
   "execution_count": null,
   "metadata": {
    "colab": {
     "base_uri": "https://localhost:8080/",
     "height": 80
    },
    "colab_type": "code",
    "id": "nUmNa-jt9wme",
    "outputId": "d2e5a647-7cdf-417a-d5d5-f42f75bcd68d"
   },
   "outputs": [
    {
     "data": {
      "text/html": [
       "<div>\n",
       "<style scoped>\n",
       "    .dataframe tbody tr th:only-of-type {\n",
       "        vertical-align: middle;\n",
       "    }\n",
       "\n",
       "    .dataframe tbody tr th {\n",
       "        vertical-align: top;\n",
       "    }\n",
       "\n",
       "    .dataframe thead th {\n",
       "        text-align: right;\n",
       "    }\n",
       "</style>\n",
       "<table border=\"1\" class=\"dataframe\">\n",
       "  <thead>\n",
       "    <tr style=\"text-align: right;\">\n",
       "      <th></th>\n",
       "      <th>codigo_ibge</th>\n",
       "      <th>uf</th>\n",
       "      <th>nome</th>\n",
       "      <th>latitude</th>\n",
       "      <th>longitude</th>\n",
       "      <th>capital</th>\n",
       "    </tr>\n",
       "  </thead>\n",
       "  <tbody>\n",
       "    <tr>\n",
       "      <th>4818</th>\n",
       "      <td>3550001</td>\n",
       "      <td>SP</td>\n",
       "      <td>São Luiz do Paraitinga</td>\n",
       "      <td>-23.222</td>\n",
       "      <td>-45.3109</td>\n",
       "      <td>0</td>\n",
       "    </tr>\n",
       "  </tbody>\n",
       "</table>\n",
       "</div>"
      ],
      "text/plain": [
       "      codigo_ibge  uf                    nome  latitude  longitude  capital\n",
       "4818      3550001  SP  São Luiz do Paraitinga   -23.222   -45.3109        0"
      ]
     },
     "execution_count": 234,
     "metadata": {
      "tags": []
     },
     "output_type": "execute_result"
    }
   ],
   "source": [
    "n = 'São Luiz do Paraitinga'\n",
    "index = SP.loc[SP[\"nome\"] == n].index.tolist()[0]\n",
    "SP.loc[SP[\"nome\"] == n]"
   ]
  },
  {
   "cell_type": "code",
   "execution_count": null,
   "metadata": {
    "colab": {
     "base_uri": "https://localhost:8080/",
     "height": 51
    },
    "colab_type": "code",
    "id": "MtDmlv6M90_y",
    "outputId": "01db2592-c3dc-4b37-8d2b-b5b9d4b8974c"
   },
   "outputs": [
    {
     "name": "stdout",
     "output_type": "stream",
     "text": [
      "São Luiz do Paraitinga\n",
      "São Luís do Paraitinga\n"
     ]
    }
   ],
   "source": [
    "original = get_linha_original(SP, index)\n",
    "linha = change_nome_linha(original, 'São Luís do Paraitinga')\n",
    "novas_linhas.append(linha)"
   ]
  },
  {
   "cell_type": "markdown",
   "metadata": {
    "colab_type": "text",
    "id": "zU91DGJ_95DT"
   },
   "source": [
    "### Pará"
   ]
  },
  {
   "cell_type": "code",
   "execution_count": null,
   "metadata": {
    "colab": {},
    "colab_type": "code",
    "id": "NMbJ7Dp994FE"
   },
   "outputs": [],
   "source": [
    "PA = vertical_stack.loc[vertical_stack['uf'] == 'PA']"
   ]
  },
  {
   "cell_type": "code",
   "execution_count": null,
   "metadata": {
    "colab": {
     "base_uri": "https://localhost:8080/",
     "height": 80
    },
    "colab_type": "code",
    "id": "_0xWEvZd-iI4",
    "outputId": "c9ba24cf-0c33-4375-ad12-54f36d049902"
   },
   "outputs": [
    {
     "data": {
      "text/html": [
       "<div>\n",
       "<style scoped>\n",
       "    .dataframe tbody tr th:only-of-type {\n",
       "        vertical-align: middle;\n",
       "    }\n",
       "\n",
       "    .dataframe tbody tr th {\n",
       "        vertical-align: top;\n",
       "    }\n",
       "\n",
       "    .dataframe thead th {\n",
       "        text-align: right;\n",
       "    }\n",
       "</style>\n",
       "<table border=\"1\" class=\"dataframe\">\n",
       "  <thead>\n",
       "    <tr style=\"text-align: right;\">\n",
       "      <th></th>\n",
       "      <th>codigo_ibge</th>\n",
       "      <th>uf</th>\n",
       "      <th>nome</th>\n",
       "      <th>latitude</th>\n",
       "      <th>longitude</th>\n",
       "      <th>capital</th>\n",
       "    </tr>\n",
       "  </thead>\n",
       "  <tbody>\n",
       "    <tr>\n",
       "      <th>1646</th>\n",
       "      <td>1502954</td>\n",
       "      <td>PA</td>\n",
       "      <td>Eldorado do Carajás</td>\n",
       "      <td>-6.10389</td>\n",
       "      <td>-49.3553</td>\n",
       "      <td>0</td>\n",
       "    </tr>\n",
       "  </tbody>\n",
       "</table>\n",
       "</div>"
      ],
      "text/plain": [
       "      codigo_ibge  uf                 nome  latitude  longitude  capital\n",
       "1646      1502954  PA  Eldorado do Carajás  -6.10389   -49.3553        0"
      ]
     },
     "execution_count": 239,
     "metadata": {
      "tags": []
     },
     "output_type": "execute_result"
    }
   ],
   "source": [
    "n = 'Eldorado do Carajás'\n",
    "index = PA.loc[PA[\"nome\"] == n].index.tolist()[0]\n",
    "PA.loc[PA[\"nome\"] == n]"
   ]
  },
  {
   "cell_type": "code",
   "execution_count": null,
   "metadata": {
    "colab": {
     "base_uri": "https://localhost:8080/",
     "height": 51
    },
    "colab_type": "code",
    "id": "TqQ3TUoc-iyB",
    "outputId": "bae973b7-6f63-4424-9216-ce1eec591882"
   },
   "outputs": [
    {
     "name": "stdout",
     "output_type": "stream",
     "text": [
      "Eldorado do Carajás\n",
      "Eldorado dos Carajás\n"
     ]
    }
   ],
   "source": [
    "original = get_linha_original(PA, index)\n",
    "linha = change_nome_linha(original, 'Eldorado dos Carajás')\n",
    "novas_linhas.append(linha)"
   ]
  },
  {
   "cell_type": "code",
   "execution_count": null,
   "metadata": {
    "colab": {
     "base_uri": "https://localhost:8080/",
     "height": 80
    },
    "colab_type": "code",
    "id": "PeyyxIU2-ivW",
    "outputId": "12bd3f3d-878b-4dad-c866-217199f3b56d"
   },
   "outputs": [
    {
     "data": {
      "text/html": [
       "<div>\n",
       "<style scoped>\n",
       "    .dataframe tbody tr th:only-of-type {\n",
       "        vertical-align: middle;\n",
       "    }\n",
       "\n",
       "    .dataframe tbody tr th {\n",
       "        vertical-align: top;\n",
       "    }\n",
       "\n",
       "    .dataframe thead th {\n",
       "        text-align: right;\n",
       "    }\n",
       "</style>\n",
       "<table border=\"1\" class=\"dataframe\">\n",
       "  <thead>\n",
       "    <tr style=\"text-align: right;\">\n",
       "      <th></th>\n",
       "      <th>codigo_ibge</th>\n",
       "      <th>uf</th>\n",
       "      <th>nome</th>\n",
       "      <th>latitude</th>\n",
       "      <th>longitude</th>\n",
       "      <th>capital</th>\n",
       "    </tr>\n",
       "  </thead>\n",
       "  <tbody>\n",
       "    <tr>\n",
       "      <th>4413</th>\n",
       "      <td>1506500</td>\n",
       "      <td>PA</td>\n",
       "      <td>Santa Izabel do Pará</td>\n",
       "      <td>-1.29686</td>\n",
       "      <td>-48.1606</td>\n",
       "      <td>0</td>\n",
       "    </tr>\n",
       "  </tbody>\n",
       "</table>\n",
       "</div>"
      ],
      "text/plain": [
       "      codigo_ibge  uf                  nome  latitude  longitude  capital\n",
       "4413      1506500  PA  Santa Izabel do Pará  -1.29686   -48.1606        0"
      ]
     },
     "execution_count": 241,
     "metadata": {
      "tags": []
     },
     "output_type": "execute_result"
    }
   ],
   "source": [
    "n = 'Santa Izabel do Pará'\n",
    "index = PA.loc[PA[\"nome\"] == n].index.tolist()[0]\n",
    "PA.loc[PA[\"nome\"] == n]"
   ]
  },
  {
   "cell_type": "code",
   "execution_count": null,
   "metadata": {
    "colab": {
     "base_uri": "https://localhost:8080/",
     "height": 51
    },
    "colab_type": "code",
    "id": "gIoWd4KC-isV",
    "outputId": "ac3b02ea-5c4a-4161-e15a-709882af5fa8"
   },
   "outputs": [
    {
     "name": "stdout",
     "output_type": "stream",
     "text": [
      "Santa Izabel do Pará\n",
      "Santa Isabel do Pará\n"
     ]
    }
   ],
   "source": [
    "original = get_linha_original(PA, index)\n",
    "linha = change_nome_linha(original, 'Santa Isabel do Pará')\n",
    "novas_linhas.append(linha)"
   ]
  },
  {
   "cell_type": "markdown",
   "metadata": {
    "colab_type": "text",
    "id": "LdZjrXfD_EV3"
   },
   "source": [
    "### PB"
   ]
  },
  {
   "cell_type": "code",
   "execution_count": null,
   "metadata": {
    "colab": {},
    "colab_type": "code",
    "id": "d0yGyHcO_Go0"
   },
   "outputs": [],
   "source": [
    "PB = vertical_stack.loc[vertical_stack['uf'] == 'PB']"
   ]
  },
  {
   "cell_type": "code",
   "execution_count": null,
   "metadata": {
    "colab": {
     "base_uri": "https://localhost:8080/",
     "height": 80
    },
    "colab_type": "code",
    "id": "ad2FLm2p_HA_",
    "outputId": "eca94a0a-a1db-4cc1-f9e0-eb79b26b86e0"
   },
   "outputs": [
    {
     "data": {
      "text/html": [
       "<div>\n",
       "<style scoped>\n",
       "    .dataframe tbody tr th:only-of-type {\n",
       "        vertical-align: middle;\n",
       "    }\n",
       "\n",
       "    .dataframe tbody tr th {\n",
       "        vertical-align: top;\n",
       "    }\n",
       "\n",
       "    .dataframe thead th {\n",
       "        text-align: right;\n",
       "    }\n",
       "</style>\n",
       "<table border=\"1\" class=\"dataframe\">\n",
       "  <thead>\n",
       "    <tr style=\"text-align: right;\">\n",
       "      <th></th>\n",
       "      <th>codigo_ibge</th>\n",
       "      <th>uf</th>\n",
       "      <th>nome</th>\n",
       "      <th>latitude</th>\n",
       "      <th>longitude</th>\n",
       "      <th>capital</th>\n",
       "    </tr>\n",
       "  </thead>\n",
       "  <tbody>\n",
       "    <tr>\n",
       "      <th>2603</th>\n",
       "      <td>2513653</td>\n",
       "      <td>PB</td>\n",
       "      <td>Joca Claudino</td>\n",
       "      <td>-6.48362</td>\n",
       "      <td>-38.4764</td>\n",
       "      <td>0</td>\n",
       "    </tr>\n",
       "  </tbody>\n",
       "</table>\n",
       "</div>"
      ],
      "text/plain": [
       "      codigo_ibge  uf           nome  latitude  longitude  capital\n",
       "2603      2513653  PB  Joca Claudino  -6.48362   -38.4764        0"
      ]
     },
     "execution_count": 244,
     "metadata": {
      "tags": []
     },
     "output_type": "execute_result"
    }
   ],
   "source": [
    "n = 'Joca Claudino'\n",
    "index = PB.loc[PB[\"nome\"] == n].index.tolist()[0]\n",
    "PB.loc[PB[\"nome\"] == n]"
   ]
  },
  {
   "cell_type": "code",
   "execution_count": null,
   "metadata": {
    "colab": {
     "base_uri": "https://localhost:8080/",
     "height": 51
    },
    "colab_type": "code",
    "id": "nqw4OPg3_G8_",
    "outputId": "537e3ad7-560e-47e3-9fae-42ce4fa88805"
   },
   "outputs": [
    {
     "name": "stdout",
     "output_type": "stream",
     "text": [
      "Joca Claudino\n",
      "Santarém\n"
     ]
    }
   ],
   "source": [
    "original = get_linha_original(PB, index)\n",
    "linha = change_nome_linha(original, 'Santarém')\n",
    "novas_linhas.append(linha)"
   ]
  },
  {
   "cell_type": "code",
   "execution_count": null,
   "metadata": {
    "colab": {
     "base_uri": "https://localhost:8080/",
     "height": 80
    },
    "colab_type": "code",
    "id": "LZqVqRHh_G4W",
    "outputId": "27cb2548-f79f-4042-cf7d-147c4486ce4a"
   },
   "outputs": [
    {
     "data": {
      "text/html": [
       "<div>\n",
       "<style scoped>\n",
       "    .dataframe tbody tr th:only-of-type {\n",
       "        vertical-align: middle;\n",
       "    }\n",
       "\n",
       "    .dataframe tbody tr th {\n",
       "        vertical-align: top;\n",
       "    }\n",
       "\n",
       "    .dataframe thead th {\n",
       "        text-align: right;\n",
       "    }\n",
       "</style>\n",
       "<table border=\"1\" class=\"dataframe\">\n",
       "  <thead>\n",
       "    <tr style=\"text-align: right;\">\n",
       "      <th></th>\n",
       "      <th>codigo_ibge</th>\n",
       "      <th>uf</th>\n",
       "      <th>nome</th>\n",
       "      <th>latitude</th>\n",
       "      <th>longitude</th>\n",
       "      <th>capital</th>\n",
       "    </tr>\n",
       "  </thead>\n",
       "  <tbody>\n",
       "    <tr>\n",
       "      <th>4922</th>\n",
       "      <td>2515401</td>\n",
       "      <td>PB</td>\n",
       "      <td>São Vicente do Seridó</td>\n",
       "      <td>-6.85426</td>\n",
       "      <td>-36.4122</td>\n",
       "      <td>0</td>\n",
       "    </tr>\n",
       "  </tbody>\n",
       "</table>\n",
       "</div>"
      ],
      "text/plain": [
       "      codigo_ibge  uf                   nome  latitude  longitude  capital\n",
       "4922      2515401  PB  São Vicente do Seridó  -6.85426   -36.4122        0"
      ]
     },
     "execution_count": 248,
     "metadata": {
      "tags": []
     },
     "output_type": "execute_result"
    }
   ],
   "source": [
    "n = 'São Vicente do Seridó'\n",
    "index = PB.loc[PB[\"nome\"] == n].index.tolist()[0]\n",
    "PB.loc[PB[\"nome\"] == n]"
   ]
  },
  {
   "cell_type": "code",
   "execution_count": null,
   "metadata": {
    "colab": {
     "base_uri": "https://localhost:8080/",
     "height": 51
    },
    "colab_type": "code",
    "id": "c5Va8Eff_Gzs",
    "outputId": "f92c8dbb-1a49-49fa-dfbc-dc95500bc46e"
   },
   "outputs": [
    {
     "name": "stdout",
     "output_type": "stream",
     "text": [
      "São Vicente do Seridó\n",
      "Seridó\n"
     ]
    }
   ],
   "source": [
    "original = get_linha_original(PB, index)\n",
    "linha = change_nome_linha(original, 'Seridó')\n",
    "novas_linhas.append(linha)"
   ]
  },
  {
   "cell_type": "markdown",
   "metadata": {
    "colab_type": "text",
    "id": "5B7vuHC4_eGz"
   },
   "source": [
    "### PE"
   ]
  },
  {
   "cell_type": "code",
   "execution_count": null,
   "metadata": {
    "colab": {},
    "colab_type": "code",
    "id": "YQ-UEx1D_iQS"
   },
   "outputs": [],
   "source": [
    "PE = vertical_stack.loc[vertical_stack['uf'] == 'PE']"
   ]
  },
  {
   "cell_type": "code",
   "execution_count": null,
   "metadata": {
    "colab": {
     "base_uri": "https://localhost:8080/",
     "height": 80
    },
    "colab_type": "code",
    "id": "C-U0Rtpj_GSn",
    "outputId": "b0949eb0-14d7-4280-9705-2e0b525c03a1"
   },
   "outputs": [
    {
     "data": {
      "text/html": [
       "<div>\n",
       "<style scoped>\n",
       "    .dataframe tbody tr th:only-of-type {\n",
       "        vertical-align: middle;\n",
       "    }\n",
       "\n",
       "    .dataframe tbody tr th {\n",
       "        vertical-align: top;\n",
       "    }\n",
       "\n",
       "    .dataframe thead th {\n",
       "        text-align: right;\n",
       "    }\n",
       "</style>\n",
       "<table border=\"1\" class=\"dataframe\">\n",
       "  <thead>\n",
       "    <tr style=\"text-align: right;\">\n",
       "      <th></th>\n",
       "      <th>codigo_ibge</th>\n",
       "      <th>uf</th>\n",
       "      <th>nome</th>\n",
       "      <th>latitude</th>\n",
       "      <th>longitude</th>\n",
       "      <th>capital</th>\n",
       "    </tr>\n",
       "  </thead>\n",
       "  <tbody>\n",
       "    <tr>\n",
       "      <th>4603</th>\n",
       "      <td>2613107</td>\n",
       "      <td>PE</td>\n",
       "      <td>São Caetano</td>\n",
       "      <td>-8.33763</td>\n",
       "      <td>-36.2869</td>\n",
       "      <td>0</td>\n",
       "    </tr>\n",
       "  </tbody>\n",
       "</table>\n",
       "</div>"
      ],
      "text/plain": [
       "      codigo_ibge  uf         nome  latitude  longitude  capital\n",
       "4603      2613107  PE  São Caetano  -8.33763   -36.2869        0"
      ]
     },
     "execution_count": 252,
     "metadata": {
      "tags": []
     },
     "output_type": "execute_result"
    }
   ],
   "source": [
    "n = 'São Caetano'\n",
    "index = PE.loc[PE[\"nome\"] == n].index.tolist()[0]\n",
    "PE.loc[PE[\"nome\"] == n]"
   ]
  },
  {
   "cell_type": "code",
   "execution_count": null,
   "metadata": {
    "colab": {
     "base_uri": "https://localhost:8080/",
     "height": 51
    },
    "colab_type": "code",
    "id": "vcq4-VpqCMuR",
    "outputId": "71c38c4a-62b9-40d7-a81a-da511aff87c9"
   },
   "outputs": [
    {
     "name": "stdout",
     "output_type": "stream",
     "text": [
      "São Caetano\n",
      "São Caitano\n"
     ]
    }
   ],
   "source": [
    "original = get_linha_original(PE, index)\n",
    "linha = change_nome_linha(original, 'São Caitano')\n",
    "novas_linhas.append(linha)"
   ]
  },
  {
   "cell_type": "code",
   "execution_count": null,
   "metadata": {
    "colab": {
     "base_uri": "https://localhost:8080/",
     "height": 80
    },
    "colab_type": "code",
    "id": "4RbF5tctCTL2",
    "outputId": "d93df706-7ff5-4947-b694-8c12b13a4021"
   },
   "outputs": [
    {
     "data": {
      "text/html": [
       "<div>\n",
       "<style scoped>\n",
       "    .dataframe tbody tr th:only-of-type {\n",
       "        vertical-align: middle;\n",
       "    }\n",
       "\n",
       "    .dataframe tbody tr th {\n",
       "        vertical-align: top;\n",
       "    }\n",
       "\n",
       "    .dataframe thead th {\n",
       "        text-align: right;\n",
       "    }\n",
       "</style>\n",
       "<table border=\"1\" class=\"dataframe\">\n",
       "  <thead>\n",
       "    <tr style=\"text-align: right;\">\n",
       "      <th></th>\n",
       "      <th>codigo_ibge</th>\n",
       "      <th>uf</th>\n",
       "      <th>nome</th>\n",
       "      <th>latitude</th>\n",
       "      <th>longitude</th>\n",
       "      <th>capital</th>\n",
       "    </tr>\n",
       "  </thead>\n",
       "  <tbody>\n",
       "    <tr>\n",
       "      <th>2158</th>\n",
       "      <td>2606903</td>\n",
       "      <td>PE</td>\n",
       "      <td>Iguaracy</td>\n",
       "      <td>-7.83222</td>\n",
       "      <td>-37.5082</td>\n",
       "      <td>0</td>\n",
       "    </tr>\n",
       "  </tbody>\n",
       "</table>\n",
       "</div>"
      ],
      "text/plain": [
       "      codigo_ibge  uf      nome  latitude  longitude  capital\n",
       "2158      2606903  PE  Iguaracy  -7.83222   -37.5082        0"
      ]
     },
     "execution_count": 254,
     "metadata": {
      "tags": []
     },
     "output_type": "execute_result"
    }
   ],
   "source": [
    "n = 'Iguaracy'\n",
    "index = PE.loc[PE[\"nome\"] == n].index.tolist()[0]\n",
    "PE.loc[PE[\"nome\"] == n]"
   ]
  },
  {
   "cell_type": "code",
   "execution_count": null,
   "metadata": {
    "colab": {
     "base_uri": "https://localhost:8080/",
     "height": 51
    },
    "colab_type": "code",
    "id": "ryJZV46DCXTX",
    "outputId": "343dd5a5-c032-4744-ebbf-e8c45ae7ec5f"
   },
   "outputs": [
    {
     "name": "stdout",
     "output_type": "stream",
     "text": [
      "Iguaracy\n",
      "Iguaraci\n"
     ]
    }
   ],
   "source": [
    "original = get_linha_original(PE, index)\n",
    "linha = change_nome_linha(original, 'Iguaraci')\n",
    "novas_linhas.append(linha)"
   ]
  },
  {
   "cell_type": "markdown",
   "metadata": {
    "colab_type": "text",
    "id": "tYSKVyScCe-S"
   },
   "source": [
    "### MG"
   ]
  },
  {
   "cell_type": "code",
   "execution_count": null,
   "metadata": {
    "colab": {},
    "colab_type": "code",
    "id": "nOYqnAEvCbPh"
   },
   "outputs": [],
   "source": [
    "MG = vertical_stack.loc[vertical_stack['uf'] == 'MG']"
   ]
  },
  {
   "cell_type": "code",
   "execution_count": null,
   "metadata": {
    "colab": {
     "base_uri": "https://localhost:8080/",
     "height": 80
    },
    "colab_type": "code",
    "id": "On15wHPSCm8v",
    "outputId": "c27b0e3e-f6e2-4f9f-9cd3-e57cdf0cfd20"
   },
   "outputs": [
    {
     "data": {
      "text/html": [
       "<div>\n",
       "<style scoped>\n",
       "    .dataframe tbody tr th:only-of-type {\n",
       "        vertical-align: middle;\n",
       "    }\n",
       "\n",
       "    .dataframe tbody tr th {\n",
       "        vertical-align: top;\n",
       "    }\n",
       "\n",
       "    .dataframe thead th {\n",
       "        text-align: right;\n",
       "    }\n",
       "</style>\n",
       "<table border=\"1\" class=\"dataframe\">\n",
       "  <thead>\n",
       "    <tr style=\"text-align: right;\">\n",
       "      <th></th>\n",
       "      <th>codigo_ibge</th>\n",
       "      <th>uf</th>\n",
       "      <th>nome</th>\n",
       "      <th>latitude</th>\n",
       "      <th>longitude</th>\n",
       "      <th>capital</th>\n",
       "    </tr>\n",
       "  </thead>\n",
       "  <tbody>\n",
       "    <tr>\n",
       "      <th>761</th>\n",
       "      <td>3108909</td>\n",
       "      <td>MG</td>\n",
       "      <td>Brazópolis</td>\n",
       "      <td>-22.4743</td>\n",
       "      <td>-45.6166</td>\n",
       "      <td>0</td>\n",
       "    </tr>\n",
       "  </tbody>\n",
       "</table>\n",
       "</div>"
      ],
      "text/plain": [
       "     codigo_ibge  uf        nome  latitude  longitude  capital\n",
       "761      3108909  MG  Brazópolis  -22.4743   -45.6166        0"
      ]
     },
     "execution_count": 257,
     "metadata": {
      "tags": []
     },
     "output_type": "execute_result"
    }
   ],
   "source": [
    "n = 'Brazópolis'\n",
    "index = MG.loc[MG[\"nome\"] == n].index.tolist()[0]\n",
    "MG.loc[MG[\"nome\"] == n]"
   ]
  },
  {
   "cell_type": "code",
   "execution_count": null,
   "metadata": {
    "colab": {
     "base_uri": "https://localhost:8080/",
     "height": 51
    },
    "colab_type": "code",
    "id": "l6idIpuCCqN9",
    "outputId": "b0050c22-aac2-4229-f90f-988c5bf599dc"
   },
   "outputs": [
    {
     "name": "stdout",
     "output_type": "stream",
     "text": [
      "Brazópolis\n",
      "Brasópolis\n"
     ]
    }
   ],
   "source": [
    "original = get_linha_original(MG, index)\n",
    "linha = change_nome_linha(original, 'Brasópolis')\n",
    "novas_linhas.append(linha)"
   ]
  },
  {
   "cell_type": "markdown",
   "metadata": {
    "colab_type": "text",
    "id": "0pMWTSbBC6zr"
   },
   "source": [
    "### MT"
   ]
  },
  {
   "cell_type": "code",
   "execution_count": null,
   "metadata": {
    "colab": {},
    "colab_type": "code",
    "id": "a-eHU522C8dQ"
   },
   "outputs": [],
   "source": [
    "MT = vertical_stack.loc[vertical_stack['uf'] == 'MT']"
   ]
  },
  {
   "cell_type": "code",
   "execution_count": null,
   "metadata": {
    "colab": {
     "base_uri": "https://localhost:8080/",
     "height": 80
    },
    "colab_type": "code",
    "id": "OmWd7YRECxOy",
    "outputId": "b7ef9f1a-3253-49d1-83a1-a8aa0f7ade38"
   },
   "outputs": [
    {
     "data": {
      "text/html": [
       "<div>\n",
       "<style scoped>\n",
       "    .dataframe tbody tr th:only-of-type {\n",
       "        vertical-align: middle;\n",
       "    }\n",
       "\n",
       "    .dataframe tbody tr th {\n",
       "        vertical-align: top;\n",
       "    }\n",
       "\n",
       "    .dataframe thead th {\n",
       "        text-align: right;\n",
       "    }\n",
       "</style>\n",
       "<table border=\"1\" class=\"dataframe\">\n",
       "  <thead>\n",
       "    <tr style=\"text-align: right;\">\n",
       "      <th></th>\n",
       "      <th>codigo_ibge</th>\n",
       "      <th>uf</th>\n",
       "      <th>nome</th>\n",
       "      <th>latitude</th>\n",
       "      <th>longitude</th>\n",
       "      <th>capital</th>\n",
       "    </tr>\n",
       "  </thead>\n",
       "  <tbody>\n",
       "    <tr>\n",
       "      <th>3993</th>\n",
       "      <td>5107008</td>\n",
       "      <td>MT</td>\n",
       "      <td>Poxoréu</td>\n",
       "      <td>-15.8299</td>\n",
       "      <td>-54.4208</td>\n",
       "      <td>0</td>\n",
       "    </tr>\n",
       "  </tbody>\n",
       "</table>\n",
       "</div>"
      ],
      "text/plain": [
       "      codigo_ibge  uf     nome  latitude  longitude  capital\n",
       "3993      5107008  MT  Poxoréu  -15.8299   -54.4208        0"
      ]
     },
     "execution_count": 267,
     "metadata": {
      "tags": []
     },
     "output_type": "execute_result"
    }
   ],
   "source": [
    "n = 'Poxoréu'\n",
    "index = MT.loc[MT[\"nome\"] == n].index.tolist()[0]\n",
    "MT.loc[MT[\"nome\"] == n]"
   ]
  },
  {
   "cell_type": "code",
   "execution_count": null,
   "metadata": {
    "colab": {
     "base_uri": "https://localhost:8080/",
     "height": 51
    },
    "colab_type": "code",
    "id": "j_vPMpnNDHvR",
    "outputId": "961bf522-60f9-4c74-f5d2-14853265efeb"
   },
   "outputs": [
    {
     "name": "stdout",
     "output_type": "stream",
     "text": [
      "Poxoréu\n",
      "Poxoréo\n"
     ]
    }
   ],
   "source": [
    "original = get_linha_original(MT, index)\n",
    "linha = change_nome_linha(original, 'Poxoréo')\n",
    "novas_linhas.append(linha)"
   ]
  },
  {
   "cell_type": "markdown",
   "metadata": {
    "colab_type": "text",
    "id": "oR0cMOpjDMwY"
   },
   "source": [
    "### TO"
   ]
  },
  {
   "cell_type": "code",
   "execution_count": null,
   "metadata": {
    "colab": {},
    "colab_type": "code",
    "id": "MHRNppJ9DUBt"
   },
   "outputs": [],
   "source": [
    "TO = vertical_stack.loc[vertical_stack['uf'] == 'TO']"
   ]
  },
  {
   "cell_type": "code",
   "execution_count": null,
   "metadata": {
    "colab": {
     "base_uri": "https://localhost:8080/",
     "height": 80
    },
    "colab_type": "code",
    "id": "paicIihuDTrM",
    "outputId": "d454b393-6ce1-4438-ae68-4f079ee089b0"
   },
   "outputs": [
    {
     "data": {
      "text/html": [
       "<div>\n",
       "<style scoped>\n",
       "    .dataframe tbody tr th:only-of-type {\n",
       "        vertical-align: middle;\n",
       "    }\n",
       "\n",
       "    .dataframe tbody tr th {\n",
       "        vertical-align: top;\n",
       "    }\n",
       "\n",
       "    .dataframe thead th {\n",
       "        text-align: right;\n",
       "    }\n",
       "</style>\n",
       "<table border=\"1\" class=\"dataframe\">\n",
       "  <thead>\n",
       "    <tr style=\"text-align: right;\">\n",
       "      <th></th>\n",
       "      <th>codigo_ibge</th>\n",
       "      <th>uf</th>\n",
       "      <th>nome</th>\n",
       "      <th>latitude</th>\n",
       "      <th>longitude</th>\n",
       "      <th>capital</th>\n",
       "    </tr>\n",
       "  </thead>\n",
       "  <tbody>\n",
       "    <tr>\n",
       "      <th>4916</th>\n",
       "      <td>1720499</td>\n",
       "      <td>TO</td>\n",
       "      <td>São Valério</td>\n",
       "      <td>-11.9743</td>\n",
       "      <td>-48.2353</td>\n",
       "      <td>0</td>\n",
       "    </tr>\n",
       "  </tbody>\n",
       "</table>\n",
       "</div>"
      ],
      "text/plain": [
       "      codigo_ibge  uf         nome  latitude  longitude  capital\n",
       "4916      1720499  TO  São Valério  -11.9743   -48.2353        0"
      ]
     },
     "execution_count": 270,
     "metadata": {
      "tags": []
     },
     "output_type": "execute_result"
    }
   ],
   "source": [
    "n = 'São Valério'\n",
    "index = TO.loc[TO[\"nome\"] == n].index.tolist()[0]\n",
    "TO.loc[TO[\"nome\"] == n]"
   ]
  },
  {
   "cell_type": "code",
   "execution_count": null,
   "metadata": {
    "colab": {
     "base_uri": "https://localhost:8080/",
     "height": 51
    },
    "colab_type": "code",
    "id": "uJqPn0nfDbfW",
    "outputId": "ac252bfa-44e3-48bd-cf96-90707d703d85"
   },
   "outputs": [
    {
     "name": "stdout",
     "output_type": "stream",
     "text": [
      "São Valério\n",
      "São Valério da Natividade\n"
     ]
    }
   ],
   "source": [
    "original = get_linha_original(TO, index)\n",
    "linha = change_nome_linha(original, 'São Valério da Natividade')\n",
    "novas_linhas.append(linha)"
   ]
  },
  {
   "cell_type": "markdown",
   "metadata": {
    "colab_type": "text",
    "id": "y-9wPmwLDgPd"
   },
   "source": [
    "### Final"
   ]
  },
  {
   "cell_type": "code",
   "execution_count": null,
   "metadata": {
    "colab": {
     "base_uri": "https://localhost:8080/",
     "height": 34
    },
    "colab_type": "code",
    "id": "SOvz272P-hnT",
    "outputId": "c6159ed0-36d4-4d38-e827-5a0c067c91a4"
   },
   "outputs": [
    {
     "data": {
      "text/plain": [
       "20"
      ]
     },
     "execution_count": 274,
     "metadata": {
      "tags": []
     },
     "output_type": "execute_result"
    }
   ],
   "source": [
    "len(novas_linhas)"
   ]
  },
  {
   "cell_type": "code",
   "execution_count": null,
   "metadata": {
    "colab": {
     "base_uri": "https://localhost:8080/",
     "height": 357
    },
    "colab_type": "code",
    "id": "z7ClJB4tUiQ6",
    "outputId": "5bc69a97-0b72-4880-c344-dfb42b80b73c"
   },
   "outputs": [
    {
     "data": {
      "text/plain": [
       "[[2401305, 'RN', 'Augusto Severo', -5.86206, -37.3135, 0],\n",
       " [2401305, 'RN', 'Campo Grande', -5.86206, -37.3135, 0],\n",
       " [2405306, 'RN', 'Januário Cicco', -6.16566, -35.6219, 0],\n",
       " [2405306, 'RN', 'Boa Saúde', -6.16566, -35.6219, 0],\n",
       " [2922250, 'BA', 'Muquém do São Francisco', -12.065, -43.5497, 0],\n",
       " [2928505, 'BA', 'Santa Terezinha', -12.7697, -39.5215, 0],\n",
       " [2306306, 'CE', 'Itapagé', -3.6831400000000003, -39.5855, 0],\n",
       " [3516101, 'SP', 'Florínea', -22.868000000000002, -50.6814, 0],\n",
       " [3515004, 'SP', 'Embu', -23.6437, -46.8579, 0],\n",
       " [3530805, 'SP', 'Moji Mirim', -22.4332, -46.9532, 0],\n",
       " [3550001, 'SP', 'São Luís do Paraitinga', -23.221999999999998, -45.3109, 0],\n",
       " [1502954, 'PA', 'Eldorado dos Carajás', -6.10389, -49.3553, 0],\n",
       " [1506500, 'PA', 'Santa Isabel do Pará', -1.2968600000000001, -48.1606, 0],\n",
       " [2513653, 'PB', 'Santarém', -6.483619999999999, -38.4764, 0],\n",
       " [2515401, 'PB', 'Seridó', -6.854260000000001, -36.4122, 0],\n",
       " [2613107, 'PE', 'São Caitano', -8.33763, -36.2869, 0],\n",
       " [2606903, 'PE', 'Iguaraci', -7.8322199999999995, -37.5082, 0],\n",
       " [3108909, 'MG', 'Brasópolis', -22.4743, -45.6166, 0],\n",
       " [5107008, 'MT', 'Poxoréo', -15.8299, -54.4208, 0],\n",
       " [1720499, 'TO', 'São Valério da Natividade', -11.9743, -48.2353, 0]]"
      ]
     },
     "execution_count": 275,
     "metadata": {
      "tags": []
     },
     "output_type": "execute_result"
    }
   ],
   "source": [
    "novas_linhas"
   ]
  },
  {
   "cell_type": "markdown",
   "metadata": {
    "colab_type": "text",
    "id": "XjnlGlDcTtaG"
   },
   "source": [
    "Criar novo dataframe"
   ]
  },
  {
   "cell_type": "code",
   "execution_count": null,
   "metadata": {
    "colab": {
     "base_uri": "https://localhost:8080/",
     "height": 34
    },
    "colab_type": "code",
    "id": "0FBVezY0FFsv",
    "outputId": "ea22f5c7-f6ea-4ead-99fe-f2db4bf70f7b"
   },
   "outputs": [
    {
     "data": {
      "text/plain": [
       "Index(['codigo_ibge', 'uf', 'nome', 'latitude', 'longitude', 'capital'], dtype='object')"
      ]
     },
     "execution_count": 276,
     "metadata": {
      "tags": []
     },
     "output_type": "execute_result"
    }
   ],
   "source": [
    "vertical_stack.columns"
   ]
  },
  {
   "cell_type": "code",
   "execution_count": null,
   "metadata": {
    "colab": {},
    "colab_type": "code",
    "id": "oTcvkdzgFPcr"
   },
   "outputs": [],
   "source": [
    "df = pd.DataFrame(columns=vertical_stack.columns)"
   ]
  },
  {
   "cell_type": "code",
   "execution_count": null,
   "metadata": {
    "colab": {},
    "colab_type": "code",
    "id": "zyRowFe3Sopd"
   },
   "outputs": [],
   "source": [
    "for row in novas_linhas:\n",
    "    df.loc[len(df)] = row"
   ]
  },
  {
   "cell_type": "code",
   "execution_count": null,
   "metadata": {
    "colab": {
     "base_uri": "https://localhost:8080/",
     "height": 669
    },
    "colab_type": "code",
    "id": "lOfzVjyaFW5R",
    "outputId": "2aec6572-87c0-4614-b627-3059a5469f21"
   },
   "outputs": [
    {
     "data": {
      "text/html": [
       "<div>\n",
       "<style scoped>\n",
       "    .dataframe tbody tr th:only-of-type {\n",
       "        vertical-align: middle;\n",
       "    }\n",
       "\n",
       "    .dataframe tbody tr th {\n",
       "        vertical-align: top;\n",
       "    }\n",
       "\n",
       "    .dataframe thead th {\n",
       "        text-align: right;\n",
       "    }\n",
       "</style>\n",
       "<table border=\"1\" class=\"dataframe\">\n",
       "  <thead>\n",
       "    <tr style=\"text-align: right;\">\n",
       "      <th></th>\n",
       "      <th>codigo_ibge</th>\n",
       "      <th>uf</th>\n",
       "      <th>nome</th>\n",
       "      <th>latitude</th>\n",
       "      <th>longitude</th>\n",
       "      <th>capital</th>\n",
       "    </tr>\n",
       "  </thead>\n",
       "  <tbody>\n",
       "    <tr>\n",
       "      <th>0</th>\n",
       "      <td>2401305</td>\n",
       "      <td>RN</td>\n",
       "      <td>Augusto Severo</td>\n",
       "      <td>-5.86206</td>\n",
       "      <td>-37.3135</td>\n",
       "      <td>0</td>\n",
       "    </tr>\n",
       "    <tr>\n",
       "      <th>1</th>\n",
       "      <td>2401305</td>\n",
       "      <td>RN</td>\n",
       "      <td>Campo Grande</td>\n",
       "      <td>-5.86206</td>\n",
       "      <td>-37.3135</td>\n",
       "      <td>0</td>\n",
       "    </tr>\n",
       "    <tr>\n",
       "      <th>2</th>\n",
       "      <td>2405306</td>\n",
       "      <td>RN</td>\n",
       "      <td>Januário Cicco</td>\n",
       "      <td>-6.16566</td>\n",
       "      <td>-35.6219</td>\n",
       "      <td>0</td>\n",
       "    </tr>\n",
       "    <tr>\n",
       "      <th>3</th>\n",
       "      <td>2405306</td>\n",
       "      <td>RN</td>\n",
       "      <td>Boa Saúde</td>\n",
       "      <td>-6.16566</td>\n",
       "      <td>-35.6219</td>\n",
       "      <td>0</td>\n",
       "    </tr>\n",
       "    <tr>\n",
       "      <th>4</th>\n",
       "      <td>2922250</td>\n",
       "      <td>BA</td>\n",
       "      <td>Muquém do São Francisco</td>\n",
       "      <td>-12.06500</td>\n",
       "      <td>-43.5497</td>\n",
       "      <td>0</td>\n",
       "    </tr>\n",
       "    <tr>\n",
       "      <th>5</th>\n",
       "      <td>2928505</td>\n",
       "      <td>BA</td>\n",
       "      <td>Santa Terezinha</td>\n",
       "      <td>-12.76970</td>\n",
       "      <td>-39.5215</td>\n",
       "      <td>0</td>\n",
       "    </tr>\n",
       "    <tr>\n",
       "      <th>6</th>\n",
       "      <td>2306306</td>\n",
       "      <td>CE</td>\n",
       "      <td>Itapagé</td>\n",
       "      <td>-3.68314</td>\n",
       "      <td>-39.5855</td>\n",
       "      <td>0</td>\n",
       "    </tr>\n",
       "    <tr>\n",
       "      <th>7</th>\n",
       "      <td>3516101</td>\n",
       "      <td>SP</td>\n",
       "      <td>Florínea</td>\n",
       "      <td>-22.86800</td>\n",
       "      <td>-50.6814</td>\n",
       "      <td>0</td>\n",
       "    </tr>\n",
       "    <tr>\n",
       "      <th>8</th>\n",
       "      <td>3515004</td>\n",
       "      <td>SP</td>\n",
       "      <td>Embu</td>\n",
       "      <td>-23.64370</td>\n",
       "      <td>-46.8579</td>\n",
       "      <td>0</td>\n",
       "    </tr>\n",
       "    <tr>\n",
       "      <th>9</th>\n",
       "      <td>3530805</td>\n",
       "      <td>SP</td>\n",
       "      <td>Moji Mirim</td>\n",
       "      <td>-22.43320</td>\n",
       "      <td>-46.9532</td>\n",
       "      <td>0</td>\n",
       "    </tr>\n",
       "    <tr>\n",
       "      <th>10</th>\n",
       "      <td>3550001</td>\n",
       "      <td>SP</td>\n",
       "      <td>São Luís do Paraitinga</td>\n",
       "      <td>-23.22200</td>\n",
       "      <td>-45.3109</td>\n",
       "      <td>0</td>\n",
       "    </tr>\n",
       "    <tr>\n",
       "      <th>11</th>\n",
       "      <td>1502954</td>\n",
       "      <td>PA</td>\n",
       "      <td>Eldorado dos Carajás</td>\n",
       "      <td>-6.10389</td>\n",
       "      <td>-49.3553</td>\n",
       "      <td>0</td>\n",
       "    </tr>\n",
       "    <tr>\n",
       "      <th>12</th>\n",
       "      <td>1506500</td>\n",
       "      <td>PA</td>\n",
       "      <td>Santa Isabel do Pará</td>\n",
       "      <td>-1.29686</td>\n",
       "      <td>-48.1606</td>\n",
       "      <td>0</td>\n",
       "    </tr>\n",
       "    <tr>\n",
       "      <th>13</th>\n",
       "      <td>2513653</td>\n",
       "      <td>PB</td>\n",
       "      <td>Santarém</td>\n",
       "      <td>-6.48362</td>\n",
       "      <td>-38.4764</td>\n",
       "      <td>0</td>\n",
       "    </tr>\n",
       "    <tr>\n",
       "      <th>14</th>\n",
       "      <td>2515401</td>\n",
       "      <td>PB</td>\n",
       "      <td>Seridó</td>\n",
       "      <td>-6.85426</td>\n",
       "      <td>-36.4122</td>\n",
       "      <td>0</td>\n",
       "    </tr>\n",
       "    <tr>\n",
       "      <th>15</th>\n",
       "      <td>2613107</td>\n",
       "      <td>PE</td>\n",
       "      <td>São Caitano</td>\n",
       "      <td>-8.33763</td>\n",
       "      <td>-36.2869</td>\n",
       "      <td>0</td>\n",
       "    </tr>\n",
       "    <tr>\n",
       "      <th>16</th>\n",
       "      <td>2606903</td>\n",
       "      <td>PE</td>\n",
       "      <td>Iguaraci</td>\n",
       "      <td>-7.83222</td>\n",
       "      <td>-37.5082</td>\n",
       "      <td>0</td>\n",
       "    </tr>\n",
       "    <tr>\n",
       "      <th>17</th>\n",
       "      <td>3108909</td>\n",
       "      <td>MG</td>\n",
       "      <td>Brasópolis</td>\n",
       "      <td>-22.47430</td>\n",
       "      <td>-45.6166</td>\n",
       "      <td>0</td>\n",
       "    </tr>\n",
       "    <tr>\n",
       "      <th>18</th>\n",
       "      <td>5107008</td>\n",
       "      <td>MT</td>\n",
       "      <td>Poxoréo</td>\n",
       "      <td>-15.82990</td>\n",
       "      <td>-54.4208</td>\n",
       "      <td>0</td>\n",
       "    </tr>\n",
       "    <tr>\n",
       "      <th>19</th>\n",
       "      <td>1720499</td>\n",
       "      <td>TO</td>\n",
       "      <td>São Valério da Natividade</td>\n",
       "      <td>-11.97430</td>\n",
       "      <td>-48.2353</td>\n",
       "      <td>0</td>\n",
       "    </tr>\n",
       "  </tbody>\n",
       "</table>\n",
       "</div>"
      ],
      "text/plain": [
       "   codigo_ibge  uf                       nome  latitude  longitude capital\n",
       "0      2401305  RN             Augusto Severo  -5.86206   -37.3135       0\n",
       "1      2401305  RN               Campo Grande  -5.86206   -37.3135       0\n",
       "2      2405306  RN             Januário Cicco  -6.16566   -35.6219       0\n",
       "3      2405306  RN                  Boa Saúde  -6.16566   -35.6219       0\n",
       "4      2922250  BA    Muquém do São Francisco -12.06500   -43.5497       0\n",
       "5      2928505  BA            Santa Terezinha -12.76970   -39.5215       0\n",
       "6      2306306  CE                    Itapagé  -3.68314   -39.5855       0\n",
       "7      3516101  SP                   Florínea -22.86800   -50.6814       0\n",
       "8      3515004  SP                       Embu -23.64370   -46.8579       0\n",
       "9      3530805  SP                 Moji Mirim -22.43320   -46.9532       0\n",
       "10     3550001  SP     São Luís do Paraitinga -23.22200   -45.3109       0\n",
       "11     1502954  PA       Eldorado dos Carajás  -6.10389   -49.3553       0\n",
       "12     1506500  PA       Santa Isabel do Pará  -1.29686   -48.1606       0\n",
       "13     2513653  PB                   Santarém  -6.48362   -38.4764       0\n",
       "14     2515401  PB                     Seridó  -6.85426   -36.4122       0\n",
       "15     2613107  PE                São Caitano  -8.33763   -36.2869       0\n",
       "16     2606903  PE                   Iguaraci  -7.83222   -37.5082       0\n",
       "17     3108909  MG                 Brasópolis -22.47430   -45.6166       0\n",
       "18     5107008  MT                    Poxoréo -15.82990   -54.4208       0\n",
       "19     1720499  TO  São Valério da Natividade -11.97430   -48.2353       0"
      ]
     },
     "execution_count": 279,
     "metadata": {
      "tags": []
     },
     "output_type": "execute_result"
    }
   ],
   "source": [
    "df"
   ]
  },
  {
   "cell_type": "code",
   "execution_count": null,
   "metadata": {
    "colab": {},
    "colab_type": "code",
    "id": "LC2NYaBwFkrq"
   },
   "outputs": [],
   "source": [
    "vertical_corretas = pd.concat([vertical_stack, df],ignore_index = False, axis=0)"
   ]
  },
  {
   "cell_type": "markdown",
   "metadata": {
    "colab_type": "text",
    "id": "7rzcfHF0TUXm"
   },
   "source": [
    "## Salvar tabela final"
   ]
  },
  {
   "cell_type": "code",
   "execution_count": null,
   "metadata": {
    "colab": {},
    "colab_type": "code",
    "id": "3P-8za1KygpZ"
   },
   "outputs": [],
   "source": [
    "#vertical_stack.to_csv('nova_geo.csv', index=False, encoding='utf-8')"
   ]
  },
  {
   "cell_type": "code",
   "execution_count": null,
   "metadata": {
    "colab": {},
    "colab_type": "code",
    "id": "L0xZjFtVFt9W"
   },
   "outputs": [],
   "source": [
    "vertical_corretas.to_csv('nova_geo_corrigida.csv', index=False, encoding='utf-8')"
   ]
  },
  {
   "cell_type": "markdown",
   "metadata": {
    "colab_type": "text",
    "id": "XAsVFKaNrqcc"
   },
   "source": [
    "# Abrir tabela de lat/lon"
   ]
  },
  {
   "cell_type": "code",
   "execution_count": 50,
   "metadata": {
    "colab": {},
    "colab_type": "code",
    "id": "DMGMhQn4rwz2"
   },
   "outputs": [],
   "source": [
    "#geo_file = 'municipios_BR_latlon.csv'\n",
    "#geo_file = 'tabela.csv'\n",
    "geo_file = 'nova_geo_corrigida.csv'"
   ]
  },
  {
   "cell_type": "code",
   "execution_count": 51,
   "metadata": {
    "colab": {},
    "colab_type": "code",
    "id": "EwvAysGir0zO"
   },
   "outputs": [],
   "source": [
    "import pandas as pd"
   ]
  },
  {
   "cell_type": "code",
   "execution_count": 52,
   "metadata": {
    "colab": {},
    "colab_type": "code",
    "id": "Fl5XKSO4J6Ta"
   },
   "outputs": [],
   "source": [
    "#geo = pd.read_csv(geo_file, sep='\\t', index_col=0, names = ['index', 'nome', 'latitude', 'longitude', 'cep', 'estado', 'uf'])\n",
    "geo = pd.read_csv(geo_file)"
   ]
  },
  {
   "cell_type": "code",
   "execution_count": 53,
   "metadata": {
    "colab": {
     "base_uri": "https://localhost:8080/",
     "height": 0
    },
    "colab_type": "code",
    "id": "Cb5CfralFEp3",
    "outputId": "f488d003-7a70-4f75-b334-38644a1e7183"
   },
   "outputs": [
    {
     "data": {
      "text/html": [
       "<div>\n",
       "<style scoped>\n",
       "    .dataframe tbody tr th:only-of-type {\n",
       "        vertical-align: middle;\n",
       "    }\n",
       "\n",
       "    .dataframe tbody tr th {\n",
       "        vertical-align: top;\n",
       "    }\n",
       "\n",
       "    .dataframe thead th {\n",
       "        text-align: right;\n",
       "    }\n",
       "</style>\n",
       "<table border=\"1\" class=\"dataframe\">\n",
       "  <thead>\n",
       "    <tr style=\"text-align: right;\">\n",
       "      <th></th>\n",
       "      <th>codigo_ibge</th>\n",
       "      <th>uf</th>\n",
       "      <th>nome</th>\n",
       "      <th>latitude</th>\n",
       "      <th>longitude</th>\n",
       "      <th>capital</th>\n",
       "    </tr>\n",
       "  </thead>\n",
       "  <tbody>\n",
       "    <tr>\n",
       "      <th>0</th>\n",
       "      <td>1</td>\n",
       "      <td>BR</td>\n",
       "      <td>Brasil</td>\n",
       "      <td>-13.495277</td>\n",
       "      <td>-71.577063</td>\n",
       "      <td>2</td>\n",
       "    </tr>\n",
       "    <tr>\n",
       "      <th>1</th>\n",
       "      <td>11</td>\n",
       "      <td>RO</td>\n",
       "      <td>Rondônia</td>\n",
       "      <td>-10.830000</td>\n",
       "      <td>-63.340000</td>\n",
       "      <td>2</td>\n",
       "    </tr>\n",
       "    <tr>\n",
       "      <th>2</th>\n",
       "      <td>12</td>\n",
       "      <td>AC</td>\n",
       "      <td>Acre</td>\n",
       "      <td>-8.770000</td>\n",
       "      <td>-70.550000</td>\n",
       "      <td>2</td>\n",
       "    </tr>\n",
       "    <tr>\n",
       "      <th>3</th>\n",
       "      <td>13</td>\n",
       "      <td>AM</td>\n",
       "      <td>Amazonas</td>\n",
       "      <td>-3.470000</td>\n",
       "      <td>-65.100000</td>\n",
       "      <td>2</td>\n",
       "    </tr>\n",
       "    <tr>\n",
       "      <th>4</th>\n",
       "      <td>14</td>\n",
       "      <td>RR</td>\n",
       "      <td>Roraima</td>\n",
       "      <td>1.990000</td>\n",
       "      <td>-61.330000</td>\n",
       "      <td>2</td>\n",
       "    </tr>\n",
       "  </tbody>\n",
       "</table>\n",
       "</div>"
      ],
      "text/plain": [
       "   codigo_ibge  uf      nome   latitude  longitude  capital\n",
       "0            1  BR    Brasil -13.495277 -71.577063        2\n",
       "1           11  RO  Rondônia -10.830000 -63.340000        2\n",
       "2           12  AC      Acre  -8.770000 -70.550000        2\n",
       "3           13  AM  Amazonas  -3.470000 -65.100000        2\n",
       "4           14  RR   Roraima   1.990000 -61.330000        2"
      ]
     },
     "execution_count": 53,
     "metadata": {
      "tags": []
     },
     "output_type": "execute_result"
    }
   ],
   "source": [
    "geo.head()"
   ]
  },
  {
   "cell_type": "code",
   "execution_count": 54,
   "metadata": {
    "colab": {},
    "colab_type": "code",
    "id": "NAtIIdMCx3nx"
   },
   "outputs": [],
   "source": [
    "#geo['latitude'] = geo['latitude'].apply(troca_virgula_por_ponto)\n",
    "#geo['longitude'] = geo['longitude'].apply(troca_virgula_por_ponto)"
   ]
  },
  {
   "cell_type": "code",
   "execution_count": 55,
   "metadata": {
    "colab": {
     "base_uri": "https://localhost:8080/",
     "height": 0
    },
    "colab_type": "code",
    "id": "d-ixFcpUHw9e",
    "outputId": "18287938-4bd4-4eb3-a625-310000baa2f9"
   },
   "outputs": [
    {
     "name": "stdout",
     "output_type": "stream",
     "text": [
      "<class 'pandas.core.frame.DataFrame'>\n",
      "RangeIndex: 5618 entries, 0 to 5617\n",
      "Data columns (total 6 columns):\n",
      " #   Column       Non-Null Count  Dtype  \n",
      "---  ------       --------------  -----  \n",
      " 0   codigo_ibge  5618 non-null   int64  \n",
      " 1   uf           5618 non-null   object \n",
      " 2   nome         5618 non-null   object \n",
      " 3   latitude     5618 non-null   float64\n",
      " 4   longitude    5618 non-null   float64\n",
      " 5   capital      5618 non-null   int64  \n",
      "dtypes: float64(2), int64(2), object(2)\n",
      "memory usage: 263.5+ KB\n"
     ]
    }
   ],
   "source": [
    "geo.info()"
   ]
  },
  {
   "cell_type": "code",
   "execution_count": 56,
   "metadata": {
    "colab": {
     "base_uri": "https://localhost:8080/",
     "height": 0
    },
    "colab_type": "code",
    "id": "R6iu_-f0FJJi",
    "outputId": "6baee0d7-59cf-4711-e713-fcd89af8295d"
   },
   "outputs": [
    {
     "data": {
      "text/plain": [
       "MG    855\n",
       "SP    650\n",
       "RS    498\n",
       "BA    420\n",
       "PR    400\n",
       "SC    296\n",
       "GO    247\n",
       "PB    226\n",
       "PI    225\n",
       "MA    218\n",
       "PE    188\n",
       "CE    186\n",
       "RN    172\n",
       "PA    147\n",
       "MT    143\n",
       "TO    141\n",
       "AL    103\n",
       "RJ     93\n",
       "MS     80\n",
       "ES     79\n",
       "SE     76\n",
       "AM     63\n",
       "RO     53\n",
       "AC     23\n",
       "AP     17\n",
       "RR     16\n",
       "DF      2\n",
       "BR      1\n",
       "Name: uf, dtype: int64"
      ]
     },
     "execution_count": 56,
     "metadata": {
      "tags": []
     },
     "output_type": "execute_result"
    }
   ],
   "source": [
    "geo['uf'].value_counts()"
   ]
  },
  {
   "cell_type": "code",
   "execution_count": 57,
   "metadata": {
    "colab": {
     "base_uri": "https://localhost:8080/",
     "height": 0
    },
    "colab_type": "code",
    "id": "99KoZDQ789zz",
    "outputId": "a655ffac-eb7b-4753-dec4-d4afcc1a6fba"
   },
   "outputs": [
    {
     "data": {
      "text/html": [
       "<div>\n",
       "<style scoped>\n",
       "    .dataframe tbody tr th:only-of-type {\n",
       "        vertical-align: middle;\n",
       "    }\n",
       "\n",
       "    .dataframe tbody tr th {\n",
       "        vertical-align: top;\n",
       "    }\n",
       "\n",
       "    .dataframe thead th {\n",
       "        text-align: right;\n",
       "    }\n",
       "</style>\n",
       "<table border=\"1\" class=\"dataframe\">\n",
       "  <thead>\n",
       "    <tr style=\"text-align: right;\">\n",
       "      <th></th>\n",
       "      <th>codigo_ibge</th>\n",
       "      <th>uf</th>\n",
       "      <th>nome</th>\n",
       "      <th>latitude</th>\n",
       "      <th>longitude</th>\n",
       "      <th>capital</th>\n",
       "    </tr>\n",
       "  </thead>\n",
       "  <tbody>\n",
       "    <tr>\n",
       "      <th>2</th>\n",
       "      <td>12</td>\n",
       "      <td>AC</td>\n",
       "      <td>Acre</td>\n",
       "      <td>-8.77000</td>\n",
       "      <td>-70.5500</td>\n",
       "      <td>2</td>\n",
       "    </tr>\n",
       "    <tr>\n",
       "      <th>54</th>\n",
       "      <td>1200013</td>\n",
       "      <td>AC</td>\n",
       "      <td>Acrelândia</td>\n",
       "      <td>-9.82581</td>\n",
       "      <td>-66.8972</td>\n",
       "      <td>0</td>\n",
       "    </tr>\n",
       "    <tr>\n",
       "      <th>438</th>\n",
       "      <td>1200054</td>\n",
       "      <td>AC</td>\n",
       "      <td>Assis Brasil</td>\n",
       "      <td>-10.92980</td>\n",
       "      <td>-69.5738</td>\n",
       "      <td>0</td>\n",
       "    </tr>\n",
       "    <tr>\n",
       "      <th>781</th>\n",
       "      <td>1200104</td>\n",
       "      <td>AC</td>\n",
       "      <td>Brasiléia</td>\n",
       "      <td>-10.99500</td>\n",
       "      <td>-68.7497</td>\n",
       "      <td>0</td>\n",
       "    </tr>\n",
       "    <tr>\n",
       "      <th>824</th>\n",
       "      <td>1200138</td>\n",
       "      <td>AC</td>\n",
       "      <td>Bujari</td>\n",
       "      <td>-9.81528</td>\n",
       "      <td>-67.9550</td>\n",
       "      <td>0</td>\n",
       "    </tr>\n",
       "    <tr>\n",
       "      <th>1110</th>\n",
       "      <td>1200179</td>\n",
       "      <td>AC</td>\n",
       "      <td>Capixaba</td>\n",
       "      <td>-10.56600</td>\n",
       "      <td>-67.6860</td>\n",
       "      <td>0</td>\n",
       "    </tr>\n",
       "    <tr>\n",
       "      <th>1513</th>\n",
       "      <td>1200203</td>\n",
       "      <td>AC</td>\n",
       "      <td>Cruzeiro do Sul</td>\n",
       "      <td>-7.62762</td>\n",
       "      <td>-72.6756</td>\n",
       "      <td>0</td>\n",
       "    </tr>\n",
       "    <tr>\n",
       "      <th>1706</th>\n",
       "      <td>1200252</td>\n",
       "      <td>AC</td>\n",
       "      <td>Epitaciolândia</td>\n",
       "      <td>-11.01880</td>\n",
       "      <td>-68.7341</td>\n",
       "      <td>0</td>\n",
       "    </tr>\n",
       "    <tr>\n",
       "      <th>1784</th>\n",
       "      <td>1200302</td>\n",
       "      <td>AC</td>\n",
       "      <td>Feijó</td>\n",
       "      <td>-8.17054</td>\n",
       "      <td>-70.3510</td>\n",
       "      <td>0</td>\n",
       "    </tr>\n",
       "    <tr>\n",
       "      <th>2636</th>\n",
       "      <td>1200328</td>\n",
       "      <td>AC</td>\n",
       "      <td>Jordão</td>\n",
       "      <td>-9.43091</td>\n",
       "      <td>-71.8974</td>\n",
       "      <td>0</td>\n",
       "    </tr>\n",
       "    <tr>\n",
       "      <th>2914</th>\n",
       "      <td>1200336</td>\n",
       "      <td>AC</td>\n",
       "      <td>Mâncio Lima</td>\n",
       "      <td>-7.61657</td>\n",
       "      <td>-72.8997</td>\n",
       "      <td>0</td>\n",
       "    </tr>\n",
       "    <tr>\n",
       "      <th>2928</th>\n",
       "      <td>1200344</td>\n",
       "      <td>AC</td>\n",
       "      <td>Manoel Urbano</td>\n",
       "      <td>-8.83291</td>\n",
       "      <td>-69.2679</td>\n",
       "      <td>0</td>\n",
       "    </tr>\n",
       "    <tr>\n",
       "      <th>2974</th>\n",
       "      <td>1200351</td>\n",
       "      <td>AC</td>\n",
       "      <td>Marechal Thaumaturgo</td>\n",
       "      <td>-8.93898</td>\n",
       "      <td>-72.7997</td>\n",
       "      <td>0</td>\n",
       "    </tr>\n",
       "    <tr>\n",
       "      <th>3901</th>\n",
       "      <td>1200385</td>\n",
       "      <td>AC</td>\n",
       "      <td>Plácido de Castro</td>\n",
       "      <td>-10.28060</td>\n",
       "      <td>-67.1371</td>\n",
       "      <td>0</td>\n",
       "    </tr>\n",
       "    <tr>\n",
       "      <th>3974</th>\n",
       "      <td>1200807</td>\n",
       "      <td>AC</td>\n",
       "      <td>Porto Acre</td>\n",
       "      <td>-9.58138</td>\n",
       "      <td>-67.5478</td>\n",
       "      <td>0</td>\n",
       "    </tr>\n",
       "    <tr>\n",
       "      <th>4008</th>\n",
       "      <td>1200393</td>\n",
       "      <td>AC</td>\n",
       "      <td>Porto Walter</td>\n",
       "      <td>-8.26323</td>\n",
       "      <td>-72.7537</td>\n",
       "      <td>0</td>\n",
       "    </tr>\n",
       "    <tr>\n",
       "      <th>4221</th>\n",
       "      <td>1200401</td>\n",
       "      <td>AC</td>\n",
       "      <td>Rio Branco</td>\n",
       "      <td>-9.97499</td>\n",
       "      <td>-67.8243</td>\n",
       "      <td>1</td>\n",
       "    </tr>\n",
       "    <tr>\n",
       "      <th>4289</th>\n",
       "      <td>1200427</td>\n",
       "      <td>AC</td>\n",
       "      <td>Rodrigues Alves</td>\n",
       "      <td>-7.73864</td>\n",
       "      <td>-72.6610</td>\n",
       "      <td>0</td>\n",
       "    </tr>\n",
       "    <tr>\n",
       "      <th>4502</th>\n",
       "      <td>1200435</td>\n",
       "      <td>AC</td>\n",
       "      <td>Santa Rosa do Purus</td>\n",
       "      <td>-9.44652</td>\n",
       "      <td>-70.4902</td>\n",
       "      <td>0</td>\n",
       "    </tr>\n",
       "    <tr>\n",
       "      <th>4990</th>\n",
       "      <td>1200500</td>\n",
       "      <td>AC</td>\n",
       "      <td>Sena Madureira</td>\n",
       "      <td>-9.06596</td>\n",
       "      <td>-68.6571</td>\n",
       "      <td>0</td>\n",
       "    </tr>\n",
       "    <tr>\n",
       "      <th>4998</th>\n",
       "      <td>1200450</td>\n",
       "      <td>AC</td>\n",
       "      <td>Senador Guiomard</td>\n",
       "      <td>-10.14970</td>\n",
       "      <td>-67.7362</td>\n",
       "      <td>0</td>\n",
       "    </tr>\n",
       "    <tr>\n",
       "      <th>5205</th>\n",
       "      <td>1200609</td>\n",
       "      <td>AC</td>\n",
       "      <td>Tarauacá</td>\n",
       "      <td>-8.15697</td>\n",
       "      <td>-70.7722</td>\n",
       "      <td>0</td>\n",
       "    </tr>\n",
       "    <tr>\n",
       "      <th>5588</th>\n",
       "      <td>1200708</td>\n",
       "      <td>AC</td>\n",
       "      <td>Xapuri</td>\n",
       "      <td>-10.65160</td>\n",
       "      <td>-68.4969</td>\n",
       "      <td>0</td>\n",
       "    </tr>\n",
       "  </tbody>\n",
       "</table>\n",
       "</div>"
      ],
      "text/plain": [
       "      codigo_ibge  uf                  nome  latitude  longitude  capital\n",
       "2              12  AC                  Acre  -8.77000   -70.5500        2\n",
       "54        1200013  AC            Acrelândia  -9.82581   -66.8972        0\n",
       "438       1200054  AC          Assis Brasil -10.92980   -69.5738        0\n",
       "781       1200104  AC             Brasiléia -10.99500   -68.7497        0\n",
       "824       1200138  AC                Bujari  -9.81528   -67.9550        0\n",
       "1110      1200179  AC              Capixaba -10.56600   -67.6860        0\n",
       "1513      1200203  AC       Cruzeiro do Sul  -7.62762   -72.6756        0\n",
       "1706      1200252  AC        Epitaciolândia -11.01880   -68.7341        0\n",
       "1784      1200302  AC                 Feijó  -8.17054   -70.3510        0\n",
       "2636      1200328  AC                Jordão  -9.43091   -71.8974        0\n",
       "2914      1200336  AC           Mâncio Lima  -7.61657   -72.8997        0\n",
       "2928      1200344  AC         Manoel Urbano  -8.83291   -69.2679        0\n",
       "2974      1200351  AC  Marechal Thaumaturgo  -8.93898   -72.7997        0\n",
       "3901      1200385  AC     Plácido de Castro -10.28060   -67.1371        0\n",
       "3974      1200807  AC            Porto Acre  -9.58138   -67.5478        0\n",
       "4008      1200393  AC          Porto Walter  -8.26323   -72.7537        0\n",
       "4221      1200401  AC            Rio Branco  -9.97499   -67.8243        1\n",
       "4289      1200427  AC       Rodrigues Alves  -7.73864   -72.6610        0\n",
       "4502      1200435  AC   Santa Rosa do Purus  -9.44652   -70.4902        0\n",
       "4990      1200500  AC        Sena Madureira  -9.06596   -68.6571        0\n",
       "4998      1200450  AC      Senador Guiomard -10.14970   -67.7362        0\n",
       "5205      1200609  AC              Tarauacá  -8.15697   -70.7722        0\n",
       "5588      1200708  AC                Xapuri -10.65160   -68.4969        0"
      ]
     },
     "execution_count": 57,
     "metadata": {
      "tags": []
     },
     "output_type": "execute_result"
    }
   ],
   "source": [
    "geo.loc[geo['uf']=='AC']"
   ]
  },
  {
   "cell_type": "markdown",
   "metadata": {
    "colab_type": "text",
    "id": "ctL0t7Qfu1HX"
   },
   "source": [
    "# Abrir tabela de estados"
   ]
  },
  {
   "cell_type": "code",
   "execution_count": 27,
   "metadata": {
    "colab": {},
    "colab_type": "code",
    "id": "uEg13gMtuwKg"
   },
   "outputs": [],
   "source": [
    "file_name = 'Eixo2-Tabela1.xlsx'"
   ]
  },
  {
   "cell_type": "code",
   "execution_count": 28,
   "metadata": {
    "colab": {},
    "colab_type": "code",
    "id": "L0jIufjjEqYy"
   },
   "outputs": [],
   "source": [
    "#tabela = pd.read_csv(file_name, sep=';',  encoding = \"ISO-8859-1\")\n",
    "tabela = pd.read_excel(file_name)"
   ]
  },
  {
   "cell_type": "code",
   "execution_count": 29,
   "metadata": {
    "colab": {
     "base_uri": "https://localhost:8080/",
     "height": 238
    },
    "colab_type": "code",
    "id": "MPQSDyU1FdDi",
    "outputId": "646fa8bf-740a-4b16-ad3d-823e5bb0338f"
   },
   "outputs": [
    {
     "data": {
      "text/html": [
       "<div>\n",
       "<style scoped>\n",
       "    .dataframe tbody tr th:only-of-type {\n",
       "        vertical-align: middle;\n",
       "    }\n",
       "\n",
       "    .dataframe tbody tr th {\n",
       "        vertical-align: top;\n",
       "    }\n",
       "\n",
       "    .dataframe thead th {\n",
       "        text-align: right;\n",
       "    }\n",
       "</style>\n",
       "<table border=\"1\" class=\"dataframe\">\n",
       "  <thead>\n",
       "    <tr style=\"text-align: right;\">\n",
       "      <th></th>\n",
       "      <th>Sigla da UF</th>\n",
       "      <th>UF</th>\n",
       "      <th>Não aplicável (Pessoas que não estão estudando)</th>\n",
       "      <th>Alfabetização de jovens e adultos</th>\n",
       "      <th>Regular do ensino fundamental</th>\n",
       "      <th>Educação de jovens e adultos - EJA - ou supletivo do ensino fundamental</th>\n",
       "      <th>Regular do ensino médio</th>\n",
       "      <th>Educação de jovens e adultos - EJA - ou supletivo do ensino médio</th>\n",
       "      <th>Superior de graduação</th>\n",
       "      <th>Especialização de nível superior (mínimo de 360 horas)</th>\n",
       "      <th>Mestrado</th>\n",
       "      <th>Doutorado</th>\n",
       "      <th>Total</th>\n",
       "    </tr>\n",
       "  </thead>\n",
       "  <tbody>\n",
       "    <tr>\n",
       "      <th>0</th>\n",
       "      <td>AC</td>\n",
       "      <td>Acre</td>\n",
       "      <td>135003</td>\n",
       "      <td>1831</td>\n",
       "      <td>17294</td>\n",
       "      <td>6269</td>\n",
       "      <td>31123</td>\n",
       "      <td>6511</td>\n",
       "      <td>15637</td>\n",
       "      <td>804</td>\n",
       "      <td>185</td>\n",
       "      <td>79</td>\n",
       "      <td>214736</td>\n",
       "    </tr>\n",
       "    <tr>\n",
       "      <th>1</th>\n",
       "      <td>AL</td>\n",
       "      <td>Alagoas</td>\n",
       "      <td>546423</td>\n",
       "      <td>4935</td>\n",
       "      <td>119472</td>\n",
       "      <td>15080</td>\n",
       "      <td>119281</td>\n",
       "      <td>14679</td>\n",
       "      <td>52181</td>\n",
       "      <td>2370</td>\n",
       "      <td>539</td>\n",
       "      <td>109</td>\n",
       "      <td>875069</td>\n",
       "    </tr>\n",
       "    <tr>\n",
       "      <th>2</th>\n",
       "      <td>AP</td>\n",
       "      <td>Amapá</td>\n",
       "      <td>124823</td>\n",
       "      <td>991</td>\n",
       "      <td>17419</td>\n",
       "      <td>4600</td>\n",
       "      <td>34061</td>\n",
       "      <td>4743</td>\n",
       "      <td>17925</td>\n",
       "      <td>815</td>\n",
       "      <td>100</td>\n",
       "      <td>0</td>\n",
       "      <td>205477</td>\n",
       "    </tr>\n",
       "    <tr>\n",
       "      <th>3</th>\n",
       "      <td>AM</td>\n",
       "      <td>Amazonas</td>\n",
       "      <td>614035</td>\n",
       "      <td>7825</td>\n",
       "      <td>126322</td>\n",
       "      <td>26087</td>\n",
       "      <td>149104</td>\n",
       "      <td>29121</td>\n",
       "      <td>70161</td>\n",
       "      <td>3953</td>\n",
       "      <td>787</td>\n",
       "      <td>330</td>\n",
       "      <td>1027725</td>\n",
       "    </tr>\n",
       "    <tr>\n",
       "      <th>4</th>\n",
       "      <td>BA</td>\n",
       "      <td>Bahia</td>\n",
       "      <td>2513122</td>\n",
       "      <td>27716</td>\n",
       "      <td>469137</td>\n",
       "      <td>75675</td>\n",
       "      <td>539856</td>\n",
       "      <td>89507</td>\n",
       "      <td>207625</td>\n",
       "      <td>13207</td>\n",
       "      <td>2829</td>\n",
       "      <td>556</td>\n",
       "      <td>3939230</td>\n",
       "    </tr>\n",
       "  </tbody>\n",
       "</table>\n",
       "</div>"
      ],
      "text/plain": [
       "  Sigla da UF         UF  ...  Doutorado    Total\n",
       "0           AC      Acre  ...         79   214736\n",
       "1           AL   Alagoas  ...        109   875069\n",
       "2           AP     Amapá  ...          0   205477\n",
       "3           AM  Amazonas  ...        330  1027725\n",
       "4           BA     Bahia  ...        556  3939230\n",
       "\n",
       "[5 rows x 13 columns]"
      ]
     },
     "execution_count": 29,
     "metadata": {
      "tags": []
     },
     "output_type": "execute_result"
    }
   ],
   "source": [
    "tabela.head()"
   ]
  },
  {
   "cell_type": "code",
   "execution_count": 31,
   "metadata": {
    "colab": {
     "base_uri": "https://localhost:8080/",
     "height": 357
    },
    "colab_type": "code",
    "id": "IsHAnTaQHzsn",
    "outputId": "6e99642a-9e6e-4aad-ca4e-e0a90f64f7b4"
   },
   "outputs": [
    {
     "name": "stdout",
     "output_type": "stream",
     "text": [
      "<class 'pandas.core.frame.DataFrame'>\n",
      "RangeIndex: 28 entries, 0 to 27\n",
      "Data columns (total 13 columns):\n",
      " #   Column                                                                   Non-Null Count  Dtype \n",
      "---  ------                                                                   --------------  ----- \n",
      " 0   Sigla da UF                                                              28 non-null     object\n",
      " 1   UF                                                                       28 non-null     object\n",
      " 2   Não aplicável (Pessoas que não estão estudando)                          28 non-null     int64 \n",
      " 3   Alfabetização de jovens e adultos                                        28 non-null     int64 \n",
      " 4   Regular do ensino fundamental                                            28 non-null     int64 \n",
      " 5   Educação de jovens e adultos - EJA - ou supletivo do ensino fundamental  28 non-null     int64 \n",
      " 6   Regular do ensino médio                                                  28 non-null     int64 \n",
      " 7   Educação de jovens e adultos - EJA - ou supletivo do ensino médio        28 non-null     int64 \n",
      " 8   Superior de graduação                                                    28 non-null     int64 \n",
      " 9   Especialização de nível superior (mínimo de 360 horas)                   28 non-null     int64 \n",
      " 10  Mestrado                                                                 28 non-null     int64 \n",
      " 11  Doutorado                                                                28 non-null     int64 \n",
      " 12  Total                                                                    28 non-null     int64 \n",
      "dtypes: int64(11), object(2)\n",
      "memory usage: 3.0+ KB\n"
     ]
    }
   ],
   "source": [
    "tabela.info()"
   ]
  },
  {
   "cell_type": "code",
   "execution_count": 32,
   "metadata": {
    "colab": {
     "base_uri": "https://localhost:8080/",
     "height": 170
    },
    "colab_type": "code",
    "id": "qzI2BCZMF_zZ",
    "outputId": "f907da10-066e-4652-8cc5-700bcc830dde"
   },
   "outputs": [
    {
     "data": {
      "text/plain": [
       "Index(['Sigla da UF ', 'UF', 'Não aplicável (Pessoas que não estão estudando)',\n",
       "       'Alfabetização de jovens e adultos', 'Regular do ensino fundamental',\n",
       "       'Educação de jovens e adultos - EJA - ou supletivo do ensino fundamental',\n",
       "       'Regular do ensino médio',\n",
       "       'Educação de jovens e adultos - EJA - ou supletivo do ensino médio',\n",
       "       'Superior de graduação',\n",
       "       'Especialização de nível superior (mínimo de 360 horas)', 'Mestrado',\n",
       "       'Doutorado', 'Total'],\n",
       "      dtype='object')"
      ]
     },
     "execution_count": 32,
     "metadata": {
      "tags": []
     },
     "output_type": "execute_result"
    }
   ],
   "source": [
    "tabela.columns"
   ]
  },
  {
   "cell_type": "code",
   "execution_count": 33,
   "metadata": {
    "colab": {
     "base_uri": "https://localhost:8080/",
     "height": 238
    },
    "colab_type": "code",
    "id": "lAKBTueqHWRH",
    "outputId": "556923a9-3cc1-4346-f991-5f35d7303859"
   },
   "outputs": [
    {
     "name": "stdout",
     "output_type": "stream",
     "text": [
      "Sigla da UF \n",
      "UF\n",
      "Não aplicável (Pessoas que não estão estudando)\n",
      "Alfabetização de jovens e adultos\n",
      "Regular do ensino fundamental\n",
      "Educação de jovens e adultos - EJA - ou supletivo do ensino fundamental\n",
      "Regular do ensino médio\n",
      "Educação de jovens e adultos - EJA - ou supletivo do ensino médio\n",
      "Superior de graduação\n",
      "Especialização de nível superior (mínimo de 360 horas)\n",
      "Mestrado\n",
      "Doutorado\n",
      "Total\n"
     ]
    }
   ],
   "source": [
    "novas_colunas = []\n",
    "for i in tabela.columns:\n",
    "  print(i)\n",
    "  novas_colunas.append(clean_string(i))"
   ]
  },
  {
   "cell_type": "code",
   "execution_count": 34,
   "metadata": {
    "colab": {
     "base_uri": "https://localhost:8080/",
     "height": 238
    },
    "colab_type": "code",
    "id": "F07qTTlVviQJ",
    "outputId": "39ba9c60-c64a-4ff6-bb3d-e249d48cdefa"
   },
   "outputs": [
    {
     "data": {
      "text/plain": [
       "['sigla_da_uf',\n",
       " 'uf',\n",
       " 'nao_aplicavel_(pessoas_que_nao_estao_estudando)',\n",
       " 'alfabetizacao_de_jovens_e_adultos',\n",
       " 'regular_do_ensino_fundamental',\n",
       " 'educacao_de_jovens_e_adultos_-_eja_-_ou_supletivo_do_ensino_fundamental',\n",
       " 'regular_do_ensino_medio',\n",
       " 'educacao_de_jovens_e_adultos_-_eja_-_ou_supletivo_do_ensino_medio',\n",
       " 'superior_de_graduacao',\n",
       " 'especializacao_de_nivel_superior_(minimo_de_360_horas)',\n",
       " 'mestrado',\n",
       " 'doutorado',\n",
       " 'total']"
      ]
     },
     "execution_count": 34,
     "metadata": {
      "tags": []
     },
     "output_type": "execute_result"
    }
   ],
   "source": [
    "novas_colunas"
   ]
  },
  {
   "cell_type": "code",
   "execution_count": 35,
   "metadata": {
    "colab": {},
    "colab_type": "code",
    "id": "1WEkY3qbvwW_"
   },
   "outputs": [],
   "source": [
    "for i in range(len(novas_colunas)):\n",
    "  if novas_colunas[i] == 'uf':\n",
    "    novas_colunas[i] = 'nome'\n",
    "  \n",
    "for i in range(len(novas_colunas)):\n",
    "  if novas_colunas[i] == 'sigla_da_uf':\n",
    "    novas_colunas[i] = 'uf'"
   ]
  },
  {
   "cell_type": "code",
   "execution_count": 36,
   "metadata": {
    "colab": {},
    "colab_type": "code",
    "id": "AqzcKlTivlKn"
   },
   "outputs": [],
   "source": [
    "#tabela.columns = ['uf', 'nome', 'Sim (Frequência)',\t'Sim (%)', 'Não (Frequência)', 'Não (%)', 'Total']\n",
    "tabela.columns = novas_colunas"
   ]
  },
  {
   "cell_type": "code",
   "execution_count": 37,
   "metadata": {
    "colab": {
     "base_uri": "https://localhost:8080/",
     "height": 510
    },
    "colab_type": "code",
    "id": "5V-OQgXHFheR",
    "outputId": "49b061a1-a23c-442b-999b-64efc48f5f96"
   },
   "outputs": [
    {
     "data": {
      "text/plain": [
       "RS       1\n",
       "GO       1\n",
       "ES       1\n",
       "SP       1\n",
       "DF       1\n",
       "PR       1\n",
       "AC       1\n",
       "AL       1\n",
       "MS       1\n",
       "RO       1\n",
       "PI       1\n",
       "TO       1\n",
       "RN       1\n",
       "RR       1\n",
       "SC       1\n",
       "SE       1\n",
       "PE       1\n",
       "MT       1\n",
       "AM       1\n",
       "CE       1\n",
       "BA       1\n",
       "MA       1\n",
       "PA       1\n",
       "PB       1\n",
       "Total    1\n",
       "MG       1\n",
       "RJ       1\n",
       "AP       1\n",
       "Name: uf, dtype: int64"
      ]
     },
     "execution_count": 37,
     "metadata": {
      "tags": []
     },
     "output_type": "execute_result"
    }
   ],
   "source": [
    "tabela['uf'].value_counts()"
   ]
  },
  {
   "cell_type": "code",
   "execution_count": 38,
   "metadata": {
    "colab": {
     "base_uri": "https://localhost:8080/",
     "height": 103
    },
    "colab_type": "code",
    "id": "VkpzBmBr9GlS",
    "outputId": "16e3cb6d-9fd4-48de-ac5f-18e8094cb2a2"
   },
   "outputs": [
    {
     "data": {
      "text/html": [
       "<div>\n",
       "<style scoped>\n",
       "    .dataframe tbody tr th:only-of-type {\n",
       "        vertical-align: middle;\n",
       "    }\n",
       "\n",
       "    .dataframe tbody tr th {\n",
       "        vertical-align: top;\n",
       "    }\n",
       "\n",
       "    .dataframe thead th {\n",
       "        text-align: right;\n",
       "    }\n",
       "</style>\n",
       "<table border=\"1\" class=\"dataframe\">\n",
       "  <thead>\n",
       "    <tr style=\"text-align: right;\">\n",
       "      <th></th>\n",
       "      <th>uf</th>\n",
       "      <th>nome</th>\n",
       "      <th>nao_aplicavel_(pessoas_que_nao_estao_estudando)</th>\n",
       "      <th>alfabetizacao_de_jovens_e_adultos</th>\n",
       "      <th>regular_do_ensino_fundamental</th>\n",
       "      <th>educacao_de_jovens_e_adultos_-_eja_-_ou_supletivo_do_ensino_fundamental</th>\n",
       "      <th>regular_do_ensino_medio</th>\n",
       "      <th>educacao_de_jovens_e_adultos_-_eja_-_ou_supletivo_do_ensino_medio</th>\n",
       "      <th>superior_de_graduacao</th>\n",
       "      <th>especializacao_de_nivel_superior_(minimo_de_360_horas)</th>\n",
       "      <th>mestrado</th>\n",
       "      <th>doutorado</th>\n",
       "      <th>total</th>\n",
       "    </tr>\n",
       "  </thead>\n",
       "  <tbody>\n",
       "  </tbody>\n",
       "</table>\n",
       "</div>"
      ],
      "text/plain": [
       "Empty DataFrame\n",
       "Columns: [uf, nome, nao_aplicavel_(pessoas_que_nao_estao_estudando), alfabetizacao_de_jovens_e_adultos, regular_do_ensino_fundamental, educacao_de_jovens_e_adultos_-_eja_-_ou_supletivo_do_ensino_fundamental, regular_do_ensino_medio, educacao_de_jovens_e_adultos_-_eja_-_ou_supletivo_do_ensino_medio, superior_de_graduacao, especializacao_de_nivel_superior_(minimo_de_360_horas), mestrado, doutorado, total]\n",
       "Index: []"
      ]
     },
     "execution_count": 38,
     "metadata": {
      "tags": []
     },
     "output_type": "execute_result"
    }
   ],
   "source": [
    "#tabela.loc[tabela['uf']=='BR']"
   ]
  },
  {
   "cell_type": "code",
   "execution_count": 42,
   "metadata": {
    "colab": {
     "base_uri": "https://localhost:8080/",
     "height": 292
    },
    "colab_type": "code",
    "id": "zwhPCJ56j4eu",
    "outputId": "2739e9fd-4aae-48cb-f1e5-b13f5f359571"
   },
   "outputs": [
    {
     "data": {
      "text/html": [
       "<div>\n",
       "<style scoped>\n",
       "    .dataframe tbody tr th:only-of-type {\n",
       "        vertical-align: middle;\n",
       "    }\n",
       "\n",
       "    .dataframe tbody tr th {\n",
       "        vertical-align: top;\n",
       "    }\n",
       "\n",
       "    .dataframe thead th {\n",
       "        text-align: right;\n",
       "    }\n",
       "</style>\n",
       "<table border=\"1\" class=\"dataframe\">\n",
       "  <thead>\n",
       "    <tr style=\"text-align: right;\">\n",
       "      <th></th>\n",
       "      <th>uf</th>\n",
       "      <th>nome</th>\n",
       "      <th>nao_aplicavel_(pessoas_que_nao_estao_estudando)</th>\n",
       "      <th>alfabetizacao_de_jovens_e_adultos</th>\n",
       "      <th>regular_do_ensino_fundamental</th>\n",
       "      <th>educacao_de_jovens_e_adultos_-_eja_-_ou_supletivo_do_ensino_fundamental</th>\n",
       "      <th>regular_do_ensino_medio</th>\n",
       "      <th>educacao_de_jovens_e_adultos_-_eja_-_ou_supletivo_do_ensino_medio</th>\n",
       "      <th>superior_de_graduacao</th>\n",
       "      <th>especializacao_de_nivel_superior_(minimo_de_360_horas)</th>\n",
       "      <th>mestrado</th>\n",
       "      <th>doutorado</th>\n",
       "      <th>total</th>\n",
       "    </tr>\n",
       "  </thead>\n",
       "  <tbody>\n",
       "    <tr>\n",
       "      <th>23</th>\n",
       "      <td>SC</td>\n",
       "      <td>Santa Catarina</td>\n",
       "      <td>1107410</td>\n",
       "      <td>5675</td>\n",
       "      <td>70049</td>\n",
       "      <td>22114</td>\n",
       "      <td>213935</td>\n",
       "      <td>44636</td>\n",
       "      <td>191827</td>\n",
       "      <td>17796</td>\n",
       "      <td>3395</td>\n",
       "      <td>884</td>\n",
       "      <td>1677721</td>\n",
       "    </tr>\n",
       "    <tr>\n",
       "      <th>24</th>\n",
       "      <td>SP</td>\n",
       "      <td>São Paulo</td>\n",
       "      <td>7021073</td>\n",
       "      <td>45581</td>\n",
       "      <td>463738</td>\n",
       "      <td>128632</td>\n",
       "      <td>1602380</td>\n",
       "      <td>248174</td>\n",
       "      <td>1094192</td>\n",
       "      <td>92161</td>\n",
       "      <td>23795</td>\n",
       "      <td>8839</td>\n",
       "      <td>10728565</td>\n",
       "    </tr>\n",
       "    <tr>\n",
       "      <th>25</th>\n",
       "      <td>SE</td>\n",
       "      <td>Sergipe</td>\n",
       "      <td>357824</td>\n",
       "      <td>3021</td>\n",
       "      <td>73512</td>\n",
       "      <td>13746</td>\n",
       "      <td>78635</td>\n",
       "      <td>14599</td>\n",
       "      <td>47486</td>\n",
       "      <td>2466</td>\n",
       "      <td>778</td>\n",
       "      <td>138</td>\n",
       "      <td>592205</td>\n",
       "    </tr>\n",
       "    <tr>\n",
       "      <th>26</th>\n",
       "      <td>TO</td>\n",
       "      <td>Tocantins</td>\n",
       "      <td>246762</td>\n",
       "      <td>1386</td>\n",
       "      <td>34620</td>\n",
       "      <td>5271</td>\n",
       "      <td>61245</td>\n",
       "      <td>8811</td>\n",
       "      <td>35941</td>\n",
       "      <td>1936</td>\n",
       "      <td>283</td>\n",
       "      <td>80</td>\n",
       "      <td>396335</td>\n",
       "    </tr>\n",
       "    <tr>\n",
       "      <th>27</th>\n",
       "      <td>Total</td>\n",
       "      <td>Brasil</td>\n",
       "      <td>32941813</td>\n",
       "      <td>238392</td>\n",
       "      <td>3903065</td>\n",
       "      <td>846246</td>\n",
       "      <td>7337759</td>\n",
       "      <td>1192755</td>\n",
       "      <td>4454811</td>\n",
       "      <td>311159</td>\n",
       "      <td>80127</td>\n",
       "      <td>24340</td>\n",
       "      <td>51330467</td>\n",
       "    </tr>\n",
       "  </tbody>\n",
       "</table>\n",
       "</div>"
      ],
      "text/plain": [
       "       uf            nome  ...  doutorado     total\n",
       "23     SC  Santa Catarina  ...        884   1677721\n",
       "24     SP       São Paulo  ...       8839  10728565\n",
       "25     SE         Sergipe  ...        138    592205\n",
       "26     TO       Tocantins  ...         80    396335\n",
       "27  Total          Brasil  ...      24340  51330467\n",
       "\n",
       "[5 rows x 13 columns]"
      ]
     },
     "execution_count": 42,
     "metadata": {
      "tags": []
     },
     "output_type": "execute_result"
    }
   ],
   "source": [
    "tabela.tail()"
   ]
  },
  {
   "cell_type": "code",
   "execution_count": 39,
   "metadata": {
    "colab": {},
    "colab_type": "code",
    "id": "rfk5NiNC-R0O"
   },
   "outputs": [],
   "source": [
    "#paraíba é com acento\n",
    "tabela['nome'] = tabela['nome'].apply(correcao_paraiba)"
   ]
  },
  {
   "cell_type": "code",
   "execution_count": null,
   "metadata": {
    "colab": {},
    "colab_type": "code",
    "id": "yVLLbua4vkxU"
   },
   "outputs": [],
   "source": [
    "#como é tabela de estados, mudar todas as UF para BR\n",
    "#tabela['uf'] = 'BR'"
   ]
  },
  {
   "cell_type": "code",
   "execution_count": 48,
   "metadata": {
    "colab": {},
    "colab_type": "code",
    "id": "yqxbRiXjj9W0"
   },
   "outputs": [],
   "source": [
    "tabela.at[27,'uf'] = 'BR'"
   ]
  },
  {
   "cell_type": "code",
   "execution_count": 49,
   "metadata": {
    "colab": {
     "base_uri": "https://localhost:8080/",
     "height": 292
    },
    "colab_type": "code",
    "id": "Bwh1lNfykLDu",
    "outputId": "bb9b9d42-520f-4c95-a4f5-0efe459843c5"
   },
   "outputs": [
    {
     "data": {
      "text/html": [
       "<div>\n",
       "<style scoped>\n",
       "    .dataframe tbody tr th:only-of-type {\n",
       "        vertical-align: middle;\n",
       "    }\n",
       "\n",
       "    .dataframe tbody tr th {\n",
       "        vertical-align: top;\n",
       "    }\n",
       "\n",
       "    .dataframe thead th {\n",
       "        text-align: right;\n",
       "    }\n",
       "</style>\n",
       "<table border=\"1\" class=\"dataframe\">\n",
       "  <thead>\n",
       "    <tr style=\"text-align: right;\">\n",
       "      <th></th>\n",
       "      <th>uf</th>\n",
       "      <th>nome</th>\n",
       "      <th>nao_aplicavel_(pessoas_que_nao_estao_estudando)</th>\n",
       "      <th>alfabetizacao_de_jovens_e_adultos</th>\n",
       "      <th>regular_do_ensino_fundamental</th>\n",
       "      <th>educacao_de_jovens_e_adultos_-_eja_-_ou_supletivo_do_ensino_fundamental</th>\n",
       "      <th>regular_do_ensino_medio</th>\n",
       "      <th>educacao_de_jovens_e_adultos_-_eja_-_ou_supletivo_do_ensino_medio</th>\n",
       "      <th>superior_de_graduacao</th>\n",
       "      <th>especializacao_de_nivel_superior_(minimo_de_360_horas)</th>\n",
       "      <th>mestrado</th>\n",
       "      <th>doutorado</th>\n",
       "      <th>total</th>\n",
       "    </tr>\n",
       "  </thead>\n",
       "  <tbody>\n",
       "    <tr>\n",
       "      <th>23</th>\n",
       "      <td>SC</td>\n",
       "      <td>Santa Catarina</td>\n",
       "      <td>1107410</td>\n",
       "      <td>5675</td>\n",
       "      <td>70049</td>\n",
       "      <td>22114</td>\n",
       "      <td>213935</td>\n",
       "      <td>44636</td>\n",
       "      <td>191827</td>\n",
       "      <td>17796</td>\n",
       "      <td>3395</td>\n",
       "      <td>884</td>\n",
       "      <td>1677721</td>\n",
       "    </tr>\n",
       "    <tr>\n",
       "      <th>24</th>\n",
       "      <td>SP</td>\n",
       "      <td>São Paulo</td>\n",
       "      <td>7021073</td>\n",
       "      <td>45581</td>\n",
       "      <td>463738</td>\n",
       "      <td>128632</td>\n",
       "      <td>1602380</td>\n",
       "      <td>248174</td>\n",
       "      <td>1094192</td>\n",
       "      <td>92161</td>\n",
       "      <td>23795</td>\n",
       "      <td>8839</td>\n",
       "      <td>10728565</td>\n",
       "    </tr>\n",
       "    <tr>\n",
       "      <th>25</th>\n",
       "      <td>SE</td>\n",
       "      <td>Sergipe</td>\n",
       "      <td>357824</td>\n",
       "      <td>3021</td>\n",
       "      <td>73512</td>\n",
       "      <td>13746</td>\n",
       "      <td>78635</td>\n",
       "      <td>14599</td>\n",
       "      <td>47486</td>\n",
       "      <td>2466</td>\n",
       "      <td>778</td>\n",
       "      <td>138</td>\n",
       "      <td>592205</td>\n",
       "    </tr>\n",
       "    <tr>\n",
       "      <th>26</th>\n",
       "      <td>TO</td>\n",
       "      <td>Tocantins</td>\n",
       "      <td>246762</td>\n",
       "      <td>1386</td>\n",
       "      <td>34620</td>\n",
       "      <td>5271</td>\n",
       "      <td>61245</td>\n",
       "      <td>8811</td>\n",
       "      <td>35941</td>\n",
       "      <td>1936</td>\n",
       "      <td>283</td>\n",
       "      <td>80</td>\n",
       "      <td>396335</td>\n",
       "    </tr>\n",
       "    <tr>\n",
       "      <th>27</th>\n",
       "      <td>BR</td>\n",
       "      <td>Brasil</td>\n",
       "      <td>32941813</td>\n",
       "      <td>238392</td>\n",
       "      <td>3903065</td>\n",
       "      <td>846246</td>\n",
       "      <td>7337759</td>\n",
       "      <td>1192755</td>\n",
       "      <td>4454811</td>\n",
       "      <td>311159</td>\n",
       "      <td>80127</td>\n",
       "      <td>24340</td>\n",
       "      <td>51330467</td>\n",
       "    </tr>\n",
       "  </tbody>\n",
       "</table>\n",
       "</div>"
      ],
      "text/plain": [
       "    uf            nome  ...  doutorado     total\n",
       "23  SC  Santa Catarina  ...        884   1677721\n",
       "24  SP       São Paulo  ...       8839  10728565\n",
       "25  SE         Sergipe  ...        138    592205\n",
       "26  TO       Tocantins  ...         80    396335\n",
       "27  BR          Brasil  ...      24340  51330467\n",
       "\n",
       "[5 rows x 13 columns]"
      ]
     },
     "execution_count": 49,
     "metadata": {
      "tags": []
     },
     "output_type": "execute_result"
    }
   ],
   "source": [
    "tabela.tail()"
   ]
  },
  {
   "cell_type": "markdown",
   "metadata": {
    "colab_type": "text",
    "id": "AmY_LlotIQ9l"
   },
   "source": [
    "# Abrir tabela de municipios"
   ]
  },
  {
   "cell_type": "code",
   "execution_count": 125,
   "metadata": {
    "colab": {},
    "colab_type": "code",
    "id": "xYZJF7GIvAet"
   },
   "outputs": [],
   "source": [
    "file_name = 'Eixo2-Tabela3.xlsx'\n",
    "tabela = pd.read_excel(file_name)"
   ]
  },
  {
   "cell_type": "code",
   "execution_count": 126,
   "metadata": {
    "colab": {
     "base_uri": "https://localhost:8080/",
     "height": 204
    },
    "colab_type": "code",
    "id": "5gh939hKybY-",
    "outputId": "35b0dcd1-3fee-4fc8-dfa4-018a0012afc8"
   },
   "outputs": [
    {
     "data": {
      "text/html": [
       "<div>\n",
       "<style scoped>\n",
       "    .dataframe tbody tr th:only-of-type {\n",
       "        vertical-align: middle;\n",
       "    }\n",
       "\n",
       "    .dataframe tbody tr th {\n",
       "        vertical-align: top;\n",
       "    }\n",
       "\n",
       "    .dataframe thead th {\n",
       "        text-align: right;\n",
       "    }\n",
       "</style>\n",
       "<table border=\"1\" class=\"dataframe\">\n",
       "  <thead>\n",
       "    <tr style=\"text-align: right;\">\n",
       "      <th></th>\n",
       "      <th>Sigla da UF</th>\n",
       "      <th>UF/Município</th>\n",
       "      <th>Sim Frequência</th>\n",
       "      <th>Sim Percentual</th>\n",
       "      <th>Não Frequência</th>\n",
       "      <th>Não Percentual</th>\n",
       "      <th>Total</th>\n",
       "    </tr>\n",
       "  </thead>\n",
       "  <tbody>\n",
       "    <tr>\n",
       "      <th>0</th>\n",
       "      <td>AC</td>\n",
       "      <td>Acre</td>\n",
       "      <td>200674.0</td>\n",
       "      <td>0.934515</td>\n",
       "      <td>14062.0</td>\n",
       "      <td>0.065485</td>\n",
       "      <td>214736.0</td>\n",
       "    </tr>\n",
       "    <tr>\n",
       "      <th>1</th>\n",
       "      <td>AC</td>\n",
       "      <td>Acrelândia (AC)</td>\n",
       "      <td>3255.0</td>\n",
       "      <td>0.967311</td>\n",
       "      <td>110.0</td>\n",
       "      <td>0.032689</td>\n",
       "      <td>3365.0</td>\n",
       "    </tr>\n",
       "    <tr>\n",
       "      <th>2</th>\n",
       "      <td>AC</td>\n",
       "      <td>Assis Brasil (AC)</td>\n",
       "      <td>1605.0</td>\n",
       "      <td>0.918192</td>\n",
       "      <td>143.0</td>\n",
       "      <td>0.081808</td>\n",
       "      <td>1748.0</td>\n",
       "    </tr>\n",
       "    <tr>\n",
       "      <th>3</th>\n",
       "      <td>AC</td>\n",
       "      <td>Brasiléia (AC)</td>\n",
       "      <td>5719.0</td>\n",
       "      <td>0.945133</td>\n",
       "      <td>332.0</td>\n",
       "      <td>0.054867</td>\n",
       "      <td>6051.0</td>\n",
       "    </tr>\n",
       "    <tr>\n",
       "      <th>4</th>\n",
       "      <td>AC</td>\n",
       "      <td>Bujari (AC)</td>\n",
       "      <td>2061.0</td>\n",
       "      <td>0.920500</td>\n",
       "      <td>178.0</td>\n",
       "      <td>0.079500</td>\n",
       "      <td>2239.0</td>\n",
       "    </tr>\n",
       "  </tbody>\n",
       "</table>\n",
       "</div>"
      ],
      "text/plain": [
       "  Sigla da UF        UF/Município  ...  Não Percentual     Total\n",
       "0           AC              Acre   ...        0.065485  214736.0\n",
       "1           AC    Acrelândia (AC)  ...        0.032689    3365.0\n",
       "2           AC  Assis Brasil (AC)  ...        0.081808    1748.0\n",
       "3           AC     Brasiléia (AC)  ...        0.054867    6051.0\n",
       "4           AC        Bujari (AC)  ...        0.079500    2239.0\n",
       "\n",
       "[5 rows x 7 columns]"
      ]
     },
     "execution_count": 126,
     "metadata": {
      "tags": []
     },
     "output_type": "execute_result"
    }
   ],
   "source": [
    "tabela.head()"
   ]
  },
  {
   "cell_type": "code",
   "execution_count": 127,
   "metadata": {
    "colab": {
     "base_uri": "https://localhost:8080/",
     "height": 255
    },
    "colab_type": "code",
    "id": "jBexXtUsycre",
    "outputId": "d8356271-da54-42b1-c656-338ebe3cbb00"
   },
   "outputs": [
    {
     "name": "stdout",
     "output_type": "stream",
     "text": [
      "<class 'pandas.core.frame.DataFrame'>\n",
      "RangeIndex: 5596 entries, 0 to 5595\n",
      "Data columns (total 7 columns):\n",
      " #   Column          Non-Null Count  Dtype  \n",
      "---  ------          --------------  -----  \n",
      " 0   Sigla da UF     5596 non-null   object \n",
      " 1   UF/Município    5592 non-null   object \n",
      " 2   Sim Frequência  5592 non-null   float64\n",
      " 3   Sim Percentual  5592 non-null   float64\n",
      " 4   Não Frequência  5542 non-null   float64\n",
      " 5   Não Percentual  5592 non-null   float64\n",
      " 6   Total           5592 non-null   float64\n",
      "dtypes: float64(5), object(2)\n",
      "memory usage: 306.2+ KB\n"
     ]
    }
   ],
   "source": [
    "tabela.info()"
   ]
  },
  {
   "cell_type": "code",
   "execution_count": 128,
   "metadata": {
    "colab": {
     "base_uri": "https://localhost:8080/",
     "height": 68
    },
    "colab_type": "code",
    "id": "tmTD1mY4yfVY",
    "outputId": "e7a334b4-6d72-4f30-83c9-1ca971fa3c32"
   },
   "outputs": [
    {
     "data": {
      "text/plain": [
       "Index(['Sigla da UF ', 'UF/Município', 'Sim Frequência', 'Sim Percentual',\n",
       "       'Não Frequência', 'Não Percentual', 'Total'],\n",
       "      dtype='object')"
      ]
     },
     "execution_count": 128,
     "metadata": {
      "tags": []
     },
     "output_type": "execute_result"
    }
   ],
   "source": [
    "tabela.columns"
   ]
  },
  {
   "cell_type": "code",
   "execution_count": 129,
   "metadata": {
    "colab": {
     "base_uri": "https://localhost:8080/",
     "height": 136
    },
    "colab_type": "code",
    "id": "NwyiiF_9ylCI",
    "outputId": "6b6d68de-ab55-482b-e510-5a8c5012ec15"
   },
   "outputs": [
    {
     "name": "stdout",
     "output_type": "stream",
     "text": [
      "Sigla da UF \n",
      "UF/Município\n",
      "Sim Frequência\n",
      "Sim Percentual\n",
      "Não Frequência\n",
      "Não Percentual\n",
      "Total\n"
     ]
    }
   ],
   "source": [
    "novas_colunas = []\n",
    "for i in tabela.columns:\n",
    "  print(i)\n",
    "  novas_colunas.append(clean_string(i))"
   ]
  },
  {
   "cell_type": "code",
   "execution_count": 130,
   "metadata": {
    "colab": {
     "base_uri": "https://localhost:8080/",
     "height": 136
    },
    "colab_type": "code",
    "id": "Qr8EuLzzyn17",
    "outputId": "6e3de108-d276-4cb2-d903-279deace842a"
   },
   "outputs": [
    {
     "data": {
      "text/plain": [
       "['sigla_da_uf',\n",
       " 'uf/municipio',\n",
       " 'sim_frequencia',\n",
       " 'sim_percentual',\n",
       " 'nao_frequencia',\n",
       " 'nao_percentual',\n",
       " 'total']"
      ]
     },
     "execution_count": 130,
     "metadata": {
      "tags": []
     },
     "output_type": "execute_result"
    }
   ],
   "source": [
    "novas_colunas"
   ]
  },
  {
   "cell_type": "code",
   "execution_count": 131,
   "metadata": {
    "colab": {},
    "colab_type": "code",
    "id": "hSYOVytTypL9"
   },
   "outputs": [],
   "source": [
    "for i in range(len(novas_colunas)):\n",
    "  if novas_colunas[i] == 'uf/municipio':\n",
    "    novas_colunas[i] = 'nome'\n",
    "  \n",
    "for i in range(len(novas_colunas)):\n",
    "  if novas_colunas[i] == 'sigla_da_uf':\n",
    "    novas_colunas[i] = 'uf'"
   ]
  },
  {
   "cell_type": "code",
   "execution_count": 132,
   "metadata": {
    "colab": {},
    "colab_type": "code",
    "id": "SpGWAdNtyyeg"
   },
   "outputs": [],
   "source": [
    "#tabela.columns = ['uf', 'nome', 'Sim (Frequência)',\t'Sim (%)', 'Não (Frequência)', 'Não (%)', 'Total']\n",
    "tabela.columns = novas_colunas"
   ]
  },
  {
   "cell_type": "markdown",
   "metadata": {
    "colab_type": "text",
    "id": "zJpaB0oey9F1"
   },
   "source": [
    "Remover linhas de regiões"
   ]
  },
  {
   "cell_type": "code",
   "execution_count": 133,
   "metadata": {
    "colab": {},
    "colab_type": "code",
    "id": "Y2Wcy4gaIeUP"
   },
   "outputs": [],
   "source": [
    "regioes = ['Região Centro Oeste','Região Sudeste','Região Nordeste','Região Sul','Região Norte']"
   ]
  },
  {
   "cell_type": "code",
   "execution_count": 134,
   "metadata": {
    "colab": {
     "base_uri": "https://localhost:8080/",
     "height": 561
    },
    "colab_type": "code",
    "id": "-E-kJxATzD46",
    "outputId": "b982353c-7d26-457f-c264-cacac25ac576"
   },
   "outputs": [
    {
     "name": "stdout",
     "output_type": "stream",
     "text": [
      "uf                Região Centro Oeste\n",
      "nome                              NaN\n",
      "sim_frequencia                    NaN\n",
      "sim_percentual                    NaN\n",
      "nao_frequencia                    NaN\n",
      "nao_percentual                    NaN\n",
      "total                             NaN\n",
      "Name: 2260, dtype: object\n",
      "uf                Região Sudeste\n",
      "nome                         NaN\n",
      "sim_frequencia               NaN\n",
      "sim_percentual               NaN\n",
      "nao_frequencia               NaN\n",
      "nao_percentual               NaN\n",
      "total                        NaN\n",
      "Name: 2731, dtype: object\n",
      "uf                Região Nordeste\n",
      "nome                          NaN\n",
      "sim_frequencia                NaN\n",
      "sim_percentual                NaN\n",
      "nao_frequencia                NaN\n",
      "nao_percentual                NaN\n",
      "total                         NaN\n",
      "Name: 456, dtype: object\n",
      "uf                Região Sul\n",
      "nome                     NaN\n",
      "sim_frequencia           NaN\n",
      "sim_percentual           NaN\n",
      "nao_frequencia           NaN\n",
      "nao_percentual           NaN\n",
      "total                    NaN\n",
      "Name: 4404, dtype: object\n"
     ]
    }
   ],
   "source": [
    "for r in regioes:\n",
    "  index = tabela[ tabela['uf'] == r].index.tolist() #[2260, dtype=string]\n",
    "  if index:\n",
    "    print(tabela.loc[index[0]])"
   ]
  },
  {
   "cell_type": "code",
   "execution_count": 135,
   "metadata": {
    "colab": {},
    "colab_type": "code",
    "id": "S3jyj7RHI71h"
   },
   "outputs": [],
   "source": [
    "remover = []\n",
    "for r in regioes:\n",
    "  index = tabela[ tabela['uf'] == r].index.tolist() #[2260, dtype=string]\n",
    "  if index:\n",
    "    remover.append(index[0])"
   ]
  },
  {
   "cell_type": "code",
   "execution_count": 136,
   "metadata": {
    "colab": {
     "base_uri": "https://localhost:8080/",
     "height": 34
    },
    "colab_type": "code",
    "id": "2_Pd5wIeJMRb",
    "outputId": "7054b668-c909-460c-dd43-8d66d5df655a"
   },
   "outputs": [
    {
     "data": {
      "text/plain": [
       "[2260, 2731, 456, 4404]"
      ]
     },
     "execution_count": 136,
     "metadata": {
      "tags": []
     },
     "output_type": "execute_result"
    }
   ],
   "source": [
    "remover"
   ]
  },
  {
   "cell_type": "code",
   "execution_count": 137,
   "metadata": {
    "colab": {},
    "colab_type": "code",
    "id": "CfoGm-1MKfuG"
   },
   "outputs": [],
   "source": [
    "tabela.drop(remover , inplace=True)"
   ]
  },
  {
   "cell_type": "markdown",
   "metadata": {
    "colab_type": "text",
    "id": "DtxXSlqLzLWw"
   },
   "source": [
    "Valores nulos"
   ]
  },
  {
   "cell_type": "code",
   "execution_count": 138,
   "metadata": {
    "colab": {},
    "colab_type": "code",
    "id": "96zUM6kOH2sl"
   },
   "outputs": [],
   "source": [
    "#tabela.isna().any(axis=1)"
   ]
  },
  {
   "cell_type": "code",
   "execution_count": 139,
   "metadata": {
    "colab": {
     "base_uri": "https://localhost:8080/",
     "height": 1000
    },
    "colab_type": "code",
    "id": "SiI2DV1_zMh-",
    "outputId": "19d1e344-9474-4190-ec1b-7f0404ce6463"
   },
   "outputs": [
    {
     "data": {
      "text/html": [
       "<div>\n",
       "<style scoped>\n",
       "    .dataframe tbody tr th:only-of-type {\n",
       "        vertical-align: middle;\n",
       "    }\n",
       "\n",
       "    .dataframe tbody tr th {\n",
       "        vertical-align: top;\n",
       "    }\n",
       "\n",
       "    .dataframe thead th {\n",
       "        text-align: right;\n",
       "    }\n",
       "</style>\n",
       "<table border=\"1\" class=\"dataframe\">\n",
       "  <thead>\n",
       "    <tr style=\"text-align: right;\">\n",
       "      <th></th>\n",
       "      <th>uf</th>\n",
       "      <th>nome</th>\n",
       "      <th>sim_frequencia</th>\n",
       "      <th>sim_percentual</th>\n",
       "      <th>nao_frequencia</th>\n",
       "      <th>nao_percentual</th>\n",
       "      <th>total</th>\n",
       "    </tr>\n",
       "  </thead>\n",
       "  <tbody>\n",
       "    <tr>\n",
       "      <th>2331</th>\n",
       "      <td>GO</td>\n",
       "      <td>Córrego do Ouro (GO)</td>\n",
       "      <td>551.0</td>\n",
       "      <td>1.0</td>\n",
       "      <td>NaN</td>\n",
       "      <td>0.0</td>\n",
       "      <td>551.0</td>\n",
       "    </tr>\n",
       "    <tr>\n",
       "      <th>2340</th>\n",
       "      <td>GO</td>\n",
       "      <td>Damolândia (GO)</td>\n",
       "      <td>666.0</td>\n",
       "      <td>1.0</td>\n",
       "      <td>NaN</td>\n",
       "      <td>0.0</td>\n",
       "      <td>666.0</td>\n",
       "    </tr>\n",
       "    <tr>\n",
       "      <th>2364</th>\n",
       "      <td>GO</td>\n",
       "      <td>Guaraíta (GO)</td>\n",
       "      <td>495.0</td>\n",
       "      <td>1.0</td>\n",
       "      <td>NaN</td>\n",
       "      <td>0.0</td>\n",
       "      <td>495.0</td>\n",
       "    </tr>\n",
       "    <tr>\n",
       "      <th>2458</th>\n",
       "      <td>GO</td>\n",
       "      <td>Rialma (GO)</td>\n",
       "      <td>2589.0</td>\n",
       "      <td>1.0</td>\n",
       "      <td>NaN</td>\n",
       "      <td>0.0</td>\n",
       "      <td>2589.0</td>\n",
       "    </tr>\n",
       "    <tr>\n",
       "      <th>2825</th>\n",
       "      <td>MG</td>\n",
       "      <td>Albertina (MG)</td>\n",
       "      <td>712.0</td>\n",
       "      <td>1.0</td>\n",
       "      <td>NaN</td>\n",
       "      <td>0.0</td>\n",
       "      <td>712.0</td>\n",
       "    </tr>\n",
       "    <tr>\n",
       "      <th>2853</th>\n",
       "      <td>MG</td>\n",
       "      <td>Arapuá (MG)</td>\n",
       "      <td>564.0</td>\n",
       "      <td>1.0</td>\n",
       "      <td>NaN</td>\n",
       "      <td>0.0</td>\n",
       "      <td>564.0</td>\n",
       "    </tr>\n",
       "    <tr>\n",
       "      <th>2924</th>\n",
       "      <td>MG</td>\n",
       "      <td>Camacho (MG)</td>\n",
       "      <td>787.0</td>\n",
       "      <td>1.0</td>\n",
       "      <td>NaN</td>\n",
       "      <td>0.0</td>\n",
       "      <td>787.0</td>\n",
       "    </tr>\n",
       "    <tr>\n",
       "      <th>2965</th>\n",
       "      <td>MG</td>\n",
       "      <td>Carmo do Cajuru (MG)</td>\n",
       "      <td>5041.0</td>\n",
       "      <td>1.0</td>\n",
       "      <td>NaN</td>\n",
       "      <td>0.0</td>\n",
       "      <td>5041.0</td>\n",
       "    </tr>\n",
       "    <tr>\n",
       "      <th>3594</th>\n",
       "      <td>MG</td>\n",
       "      <td>Serra da Saudade (MG)</td>\n",
       "      <td>193.0</td>\n",
       "      <td>1.0</td>\n",
       "      <td>NaN</td>\n",
       "      <td>0.0</td>\n",
       "      <td>193.0</td>\n",
       "    </tr>\n",
       "    <tr>\n",
       "      <th>3611</th>\n",
       "      <td>MG</td>\n",
       "      <td>Tapira (MG)</td>\n",
       "      <td>1122.0</td>\n",
       "      <td>1.0</td>\n",
       "      <td>NaN</td>\n",
       "      <td>0.0</td>\n",
       "      <td>1122.0</td>\n",
       "    </tr>\n",
       "    <tr>\n",
       "      <th>3621</th>\n",
       "      <td>MG</td>\n",
       "      <td>Tocos do Moji (MG)</td>\n",
       "      <td>880.0</td>\n",
       "      <td>1.0</td>\n",
       "      <td>NaN</td>\n",
       "      <td>0.0</td>\n",
       "      <td>880.0</td>\n",
       "    </tr>\n",
       "    <tr>\n",
       "      <th>3774</th>\n",
       "      <td>SP</td>\n",
       "      <td>Álvares Machado (SP)</td>\n",
       "      <td>5823.0</td>\n",
       "      <td>1.0</td>\n",
       "      <td>NaN</td>\n",
       "      <td>0.0</td>\n",
       "      <td>5823.0</td>\n",
       "    </tr>\n",
       "    <tr>\n",
       "      <th>3916</th>\n",
       "      <td>SP</td>\n",
       "      <td>Dolcinópolis (SP)</td>\n",
       "      <td>430.0</td>\n",
       "      <td>1.0</td>\n",
       "      <td>NaN</td>\n",
       "      <td>0.0</td>\n",
       "      <td>430.0</td>\n",
       "    </tr>\n",
       "    <tr>\n",
       "      <th>3963</th>\n",
       "      <td>SP</td>\n",
       "      <td>Guarani d'Oeste (SP)</td>\n",
       "      <td>445.0</td>\n",
       "      <td>1.0</td>\n",
       "      <td>NaN</td>\n",
       "      <td>0.0</td>\n",
       "      <td>445.0</td>\n",
       "    </tr>\n",
       "    <tr>\n",
       "      <th>3997</th>\n",
       "      <td>SP</td>\n",
       "      <td>Inúbia Paulista (SP)</td>\n",
       "      <td>878.0</td>\n",
       "      <td>1.0</td>\n",
       "      <td>NaN</td>\n",
       "      <td>0.0</td>\n",
       "      <td>878.0</td>\n",
       "    </tr>\n",
       "    <tr>\n",
       "      <th>4286</th>\n",
       "      <td>SP</td>\n",
       "      <td>Santana da Ponte Pensa (SP)</td>\n",
       "      <td>318.0</td>\n",
       "      <td>1.0</td>\n",
       "      <td>NaN</td>\n",
       "      <td>0.0</td>\n",
       "      <td>318.0</td>\n",
       "    </tr>\n",
       "    <tr>\n",
       "      <th>4331</th>\n",
       "      <td>SP</td>\n",
       "      <td>Sebastianópolis do Sul (SP)</td>\n",
       "      <td>752.0</td>\n",
       "      <td>1.0</td>\n",
       "      <td>NaN</td>\n",
       "      <td>0.0</td>\n",
       "      <td>752.0</td>\n",
       "    </tr>\n",
       "    <tr>\n",
       "      <th>4627</th>\n",
       "      <td>PR</td>\n",
       "      <td>Miraselva (PR)</td>\n",
       "      <td>453.0</td>\n",
       "      <td>1.0</td>\n",
       "      <td>NaN</td>\n",
       "      <td>0.0</td>\n",
       "      <td>453.0</td>\n",
       "    </tr>\n",
       "    <tr>\n",
       "      <th>4695</th>\n",
       "      <td>PR</td>\n",
       "      <td>Quatro Pontes (PR)</td>\n",
       "      <td>868.0</td>\n",
       "      <td>1.0</td>\n",
       "      <td>NaN</td>\n",
       "      <td>0.0</td>\n",
       "      <td>868.0</td>\n",
       "    </tr>\n",
       "    <tr>\n",
       "      <th>4889</th>\n",
       "      <td>RS</td>\n",
       "      <td>Capão do Cipó (RS)</td>\n",
       "      <td>692.0</td>\n",
       "      <td>1.0</td>\n",
       "      <td>NaN</td>\n",
       "      <td>0.0</td>\n",
       "      <td>692.0</td>\n",
       "    </tr>\n",
       "    <tr>\n",
       "      <th>4916</th>\n",
       "      <td>RS</td>\n",
       "      <td>Colinas (RS)</td>\n",
       "      <td>488.0</td>\n",
       "      <td>1.0</td>\n",
       "      <td>NaN</td>\n",
       "      <td>0.0</td>\n",
       "      <td>488.0</td>\n",
       "    </tr>\n",
       "    <tr>\n",
       "      <th>4922</th>\n",
       "      <td>RS</td>\n",
       "      <td>Coronel Barros (RS)</td>\n",
       "      <td>484.0</td>\n",
       "      <td>1.0</td>\n",
       "      <td>NaN</td>\n",
       "      <td>0.0</td>\n",
       "      <td>484.0</td>\n",
       "    </tr>\n",
       "    <tr>\n",
       "      <th>4931</th>\n",
       "      <td>RS</td>\n",
       "      <td>Cruzaltense (RS)</td>\n",
       "      <td>452.0</td>\n",
       "      <td>1.0</td>\n",
       "      <td>NaN</td>\n",
       "      <td>0.0</td>\n",
       "      <td>452.0</td>\n",
       "    </tr>\n",
       "    <tr>\n",
       "      <th>4967</th>\n",
       "      <td>RS</td>\n",
       "      <td>Fagundes Varela (RS)</td>\n",
       "      <td>494.0</td>\n",
       "      <td>1.0</td>\n",
       "      <td>NaN</td>\n",
       "      <td>0.0</td>\n",
       "      <td>494.0</td>\n",
       "    </tr>\n",
       "    <tr>\n",
       "      <th>4977</th>\n",
       "      <td>RS</td>\n",
       "      <td>Forquetinha (RS)</td>\n",
       "      <td>454.0</td>\n",
       "      <td>1.0</td>\n",
       "      <td>NaN</td>\n",
       "      <td>0.0</td>\n",
       "      <td>454.0</td>\n",
       "    </tr>\n",
       "    <tr>\n",
       "      <th>5022</th>\n",
       "      <td>RS</td>\n",
       "      <td>Ivorá (RS)</td>\n",
       "      <td>457.0</td>\n",
       "      <td>1.0</td>\n",
       "      <td>NaN</td>\n",
       "      <td>0.0</td>\n",
       "      <td>457.0</td>\n",
       "    </tr>\n",
       "    <tr>\n",
       "      <th>5035</th>\n",
       "      <td>RS</td>\n",
       "      <td>Lagoa dos Três Cantos (RS)</td>\n",
       "      <td>325.0</td>\n",
       "      <td>1.0</td>\n",
       "      <td>NaN</td>\n",
       "      <td>0.0</td>\n",
       "      <td>325.0</td>\n",
       "    </tr>\n",
       "    <tr>\n",
       "      <th>5061</th>\n",
       "      <td>RS</td>\n",
       "      <td>Montauri (RS)</td>\n",
       "      <td>308.0</td>\n",
       "      <td>1.0</td>\n",
       "      <td>NaN</td>\n",
       "      <td>0.0</td>\n",
       "      <td>308.0</td>\n",
       "    </tr>\n",
       "    <tr>\n",
       "      <th>5085</th>\n",
       "      <td>RS</td>\n",
       "      <td>Nova Palma (RS)</td>\n",
       "      <td>1594.0</td>\n",
       "      <td>1.0</td>\n",
       "      <td>NaN</td>\n",
       "      <td>0.0</td>\n",
       "      <td>1594.0</td>\n",
       "    </tr>\n",
       "    <tr>\n",
       "      <th>5119</th>\n",
       "      <td>RS</td>\n",
       "      <td>Pinhal da Serra (RS)</td>\n",
       "      <td>456.0</td>\n",
       "      <td>1.0</td>\n",
       "      <td>NaN</td>\n",
       "      <td>0.0</td>\n",
       "      <td>456.0</td>\n",
       "    </tr>\n",
       "    <tr>\n",
       "      <th>5132</th>\n",
       "      <td>RS</td>\n",
       "      <td>Porto Mauá (RS)</td>\n",
       "      <td>507.0</td>\n",
       "      <td>1.0</td>\n",
       "      <td>NaN</td>\n",
       "      <td>0.0</td>\n",
       "      <td>507.0</td>\n",
       "    </tr>\n",
       "    <tr>\n",
       "      <th>5138</th>\n",
       "      <td>RS</td>\n",
       "      <td>Protásio Alves (RS)</td>\n",
       "      <td>391.0</td>\n",
       "      <td>1.0</td>\n",
       "      <td>NaN</td>\n",
       "      <td>0.0</td>\n",
       "      <td>391.0</td>\n",
       "    </tr>\n",
       "    <tr>\n",
       "      <th>5145</th>\n",
       "      <td>RS</td>\n",
       "      <td>Relvado (RS)</td>\n",
       "      <td>395.0</td>\n",
       "      <td>1.0</td>\n",
       "      <td>NaN</td>\n",
       "      <td>0.0</td>\n",
       "      <td>395.0</td>\n",
       "    </tr>\n",
       "    <tr>\n",
       "      <th>5160</th>\n",
       "      <td>RS</td>\n",
       "      <td>Saldanha Marinho (RS)</td>\n",
       "      <td>615.0</td>\n",
       "      <td>1.0</td>\n",
       "      <td>NaN</td>\n",
       "      <td>0.0</td>\n",
       "      <td>615.0</td>\n",
       "    </tr>\n",
       "    <tr>\n",
       "      <th>5162</th>\n",
       "      <td>RS</td>\n",
       "      <td>Salvador das Missões (RS)</td>\n",
       "      <td>541.0</td>\n",
       "      <td>1.0</td>\n",
       "      <td>NaN</td>\n",
       "      <td>0.0</td>\n",
       "      <td>541.0</td>\n",
       "    </tr>\n",
       "    <tr>\n",
       "      <th>5166</th>\n",
       "      <td>RS</td>\n",
       "      <td>Santa Cecília do Sul (RS)</td>\n",
       "      <td>336.0</td>\n",
       "      <td>1.0</td>\n",
       "      <td>NaN</td>\n",
       "      <td>0.0</td>\n",
       "      <td>336.0</td>\n",
       "    </tr>\n",
       "    <tr>\n",
       "      <th>5175</th>\n",
       "      <td>RS</td>\n",
       "      <td>Santa Tereza (RS)</td>\n",
       "      <td>318.0</td>\n",
       "      <td>1.0</td>\n",
       "      <td>NaN</td>\n",
       "      <td>0.0</td>\n",
       "      <td>318.0</td>\n",
       "    </tr>\n",
       "    <tr>\n",
       "      <th>5187</th>\n",
       "      <td>RS</td>\n",
       "      <td>São Domingos do Sul (RS)</td>\n",
       "      <td>654.0</td>\n",
       "      <td>1.0</td>\n",
       "      <td>NaN</td>\n",
       "      <td>0.0</td>\n",
       "      <td>654.0</td>\n",
       "    </tr>\n",
       "    <tr>\n",
       "      <th>5238</th>\n",
       "      <td>RS</td>\n",
       "      <td>Silveira Martins (RS)</td>\n",
       "      <td>506.0</td>\n",
       "      <td>1.0</td>\n",
       "      <td>NaN</td>\n",
       "      <td>0.0</td>\n",
       "      <td>506.0</td>\n",
       "    </tr>\n",
       "    <tr>\n",
       "      <th>5255</th>\n",
       "      <td>RS</td>\n",
       "      <td>Toropi (RS)</td>\n",
       "      <td>566.0</td>\n",
       "      <td>1.0</td>\n",
       "      <td>NaN</td>\n",
       "      <td>0.0</td>\n",
       "      <td>566.0</td>\n",
       "    </tr>\n",
       "    <tr>\n",
       "      <th>5259</th>\n",
       "      <td>RS</td>\n",
       "      <td>Três Arroios (RS)</td>\n",
       "      <td>535.0</td>\n",
       "      <td>1.0</td>\n",
       "      <td>NaN</td>\n",
       "      <td>0.0</td>\n",
       "      <td>535.0</td>\n",
       "    </tr>\n",
       "    <tr>\n",
       "      <th>5292</th>\n",
       "      <td>RS</td>\n",
       "      <td>Vila Flores (RS)</td>\n",
       "      <td>772.0</td>\n",
       "      <td>1.0</td>\n",
       "      <td>NaN</td>\n",
       "      <td>0.0</td>\n",
       "      <td>772.0</td>\n",
       "    </tr>\n",
       "    <tr>\n",
       "      <th>5366</th>\n",
       "      <td>SC</td>\n",
       "      <td>Celso Ramos (SC)</td>\n",
       "      <td>674.0</td>\n",
       "      <td>1.0</td>\n",
       "      <td>NaN</td>\n",
       "      <td>0.0</td>\n",
       "      <td>674.0</td>\n",
       "    </tr>\n",
       "    <tr>\n",
       "      <th>5451</th>\n",
       "      <td>SC</td>\n",
       "      <td>Lontras (SC)</td>\n",
       "      <td>2672.0</td>\n",
       "      <td>1.0</td>\n",
       "      <td>NaN</td>\n",
       "      <td>0.0</td>\n",
       "      <td>2672.0</td>\n",
       "    </tr>\n",
       "    <tr>\n",
       "      <th>5453</th>\n",
       "      <td>SC</td>\n",
       "      <td>Luzerna (SC)</td>\n",
       "      <td>1311.0</td>\n",
       "      <td>1.0</td>\n",
       "      <td>NaN</td>\n",
       "      <td>0.0</td>\n",
       "      <td>1311.0</td>\n",
       "    </tr>\n",
       "    <tr>\n",
       "      <th>5501</th>\n",
       "      <td>SC</td>\n",
       "      <td>Pomerode (SC)</td>\n",
       "      <td>7210.0</td>\n",
       "      <td>1.0</td>\n",
       "      <td>NaN</td>\n",
       "      <td>0.0</td>\n",
       "      <td>7210.0</td>\n",
       "    </tr>\n",
       "    <tr>\n",
       "      <th>5514</th>\n",
       "      <td>SC</td>\n",
       "      <td>Rancho Queimado (SC)</td>\n",
       "      <td>626.0</td>\n",
       "      <td>1.0</td>\n",
       "      <td>NaN</td>\n",
       "      <td>0.0</td>\n",
       "      <td>626.0</td>\n",
       "    </tr>\n",
       "    <tr>\n",
       "      <th>5545</th>\n",
       "      <td>SC</td>\n",
       "      <td>São João do Oeste (SC)</td>\n",
       "      <td>1407.0</td>\n",
       "      <td>1.0</td>\n",
       "      <td>NaN</td>\n",
       "      <td>0.0</td>\n",
       "      <td>1407.0</td>\n",
       "    </tr>\n",
       "    <tr>\n",
       "      <th>5574</th>\n",
       "      <td>SC</td>\n",
       "      <td>Treviso (SC)</td>\n",
       "      <td>893.0</td>\n",
       "      <td>1.0</td>\n",
       "      <td>NaN</td>\n",
       "      <td>0.0</td>\n",
       "      <td>893.0</td>\n",
       "    </tr>\n",
       "    <tr>\n",
       "      <th>5583</th>\n",
       "      <td>SC</td>\n",
       "      <td>Urupema (SC)</td>\n",
       "      <td>539.0</td>\n",
       "      <td>1.0</td>\n",
       "      <td>NaN</td>\n",
       "      <td>0.0</td>\n",
       "      <td>539.0</td>\n",
       "    </tr>\n",
       "  </tbody>\n",
       "</table>\n",
       "</div>"
      ],
      "text/plain": [
       "      uf                         nome  ...  nao_percentual   total\n",
       "2331  GO         Córrego do Ouro (GO)  ...             0.0   551.0\n",
       "2340  GO              Damolândia (GO)  ...             0.0   666.0\n",
       "2364  GO                Guaraíta (GO)  ...             0.0   495.0\n",
       "2458  GO                  Rialma (GO)  ...             0.0  2589.0\n",
       "2825  MG               Albertina (MG)  ...             0.0   712.0\n",
       "2853  MG                  Arapuá (MG)  ...             0.0   564.0\n",
       "2924  MG                 Camacho (MG)  ...             0.0   787.0\n",
       "2965  MG         Carmo do Cajuru (MG)  ...             0.0  5041.0\n",
       "3594  MG        Serra da Saudade (MG)  ...             0.0   193.0\n",
       "3611  MG                  Tapira (MG)  ...             0.0  1122.0\n",
       "3621  MG           Tocos do Moji (MG)  ...             0.0   880.0\n",
       "3774  SP         Álvares Machado (SP)  ...             0.0  5823.0\n",
       "3916  SP            Dolcinópolis (SP)  ...             0.0   430.0\n",
       "3963  SP         Guarani d'Oeste (SP)  ...             0.0   445.0\n",
       "3997  SP         Inúbia Paulista (SP)  ...             0.0   878.0\n",
       "4286  SP  Santana da Ponte Pensa (SP)  ...             0.0   318.0\n",
       "4331  SP  Sebastianópolis do Sul (SP)  ...             0.0   752.0\n",
       "4627  PR               Miraselva (PR)  ...             0.0   453.0\n",
       "4695  PR           Quatro Pontes (PR)  ...             0.0   868.0\n",
       "4889  RS           Capão do Cipó (RS)  ...             0.0   692.0\n",
       "4916  RS                 Colinas (RS)  ...             0.0   488.0\n",
       "4922  RS          Coronel Barros (RS)  ...             0.0   484.0\n",
       "4931  RS             Cruzaltense (RS)  ...             0.0   452.0\n",
       "4967  RS         Fagundes Varela (RS)  ...             0.0   494.0\n",
       "4977  RS             Forquetinha (RS)  ...             0.0   454.0\n",
       "5022  RS                   Ivorá (RS)  ...             0.0   457.0\n",
       "5035  RS   Lagoa dos Três Cantos (RS)  ...             0.0   325.0\n",
       "5061  RS                Montauri (RS)  ...             0.0   308.0\n",
       "5085  RS              Nova Palma (RS)  ...             0.0  1594.0\n",
       "5119  RS         Pinhal da Serra (RS)  ...             0.0   456.0\n",
       "5132  RS              Porto Mauá (RS)  ...             0.0   507.0\n",
       "5138  RS          Protásio Alves (RS)  ...             0.0   391.0\n",
       "5145  RS                 Relvado (RS)  ...             0.0   395.0\n",
       "5160  RS        Saldanha Marinho (RS)  ...             0.0   615.0\n",
       "5162  RS    Salvador das Missões (RS)  ...             0.0   541.0\n",
       "5166  RS    Santa Cecília do Sul (RS)  ...             0.0   336.0\n",
       "5175  RS            Santa Tereza (RS)  ...             0.0   318.0\n",
       "5187  RS     São Domingos do Sul (RS)  ...             0.0   654.0\n",
       "5238  RS        Silveira Martins (RS)  ...             0.0   506.0\n",
       "5255  RS                  Toropi (RS)  ...             0.0   566.0\n",
       "5259  RS            Três Arroios (RS)  ...             0.0   535.0\n",
       "5292  RS             Vila Flores (RS)  ...             0.0   772.0\n",
       "5366  SC             Celso Ramos (SC)  ...             0.0   674.0\n",
       "5451  SC                 Lontras (SC)  ...             0.0  2672.0\n",
       "5453  SC                 Luzerna (SC)  ...             0.0  1311.0\n",
       "5501  SC                Pomerode (SC)  ...             0.0  7210.0\n",
       "5514  SC         Rancho Queimado (SC)  ...             0.0   626.0\n",
       "5545  SC       São João do Oeste (SC)  ...             0.0  1407.0\n",
       "5574  SC                 Treviso (SC)  ...             0.0   893.0\n",
       "5583  SC                 Urupema (SC)  ...             0.0   539.0\n",
       "\n",
       "[50 rows x 7 columns]"
      ]
     },
     "execution_count": 139,
     "metadata": {
      "tags": []
     },
     "output_type": "execute_result"
    }
   ],
   "source": [
    "tabela[tabela.isna().any(axis=1)]"
   ]
  },
  {
   "cell_type": "code",
   "execution_count": 140,
   "metadata": {
    "colab": {},
    "colab_type": "code",
    "id": "ktN5Ei6vP1_T"
   },
   "outputs": [],
   "source": [
    "#transforma todos os vazios em zero\n",
    "tabela = tabela.fillna(0)"
   ]
  },
  {
   "cell_type": "code",
   "execution_count": 141,
   "metadata": {
    "colab": {
     "base_uri": "https://localhost:8080/",
     "height": 255
    },
    "colab_type": "code",
    "id": "uTsQb2uzST3s",
    "outputId": "1842d175-caa7-4208-d5ca-3fd7e5b4fad0"
   },
   "outputs": [
    {
     "name": "stdout",
     "output_type": "stream",
     "text": [
      "<class 'pandas.core.frame.DataFrame'>\n",
      "Int64Index: 5592 entries, 0 to 5595\n",
      "Data columns (total 7 columns):\n",
      " #   Column          Non-Null Count  Dtype  \n",
      "---  ------          --------------  -----  \n",
      " 0   uf              5592 non-null   object \n",
      " 1   nome            5592 non-null   object \n",
      " 2   sim_frequencia  5592 non-null   float64\n",
      " 3   sim_percentual  5592 non-null   float64\n",
      " 4   nao_frequencia  5592 non-null   float64\n",
      " 5   nao_percentual  5592 non-null   float64\n",
      " 6   total           5592 non-null   float64\n",
      "dtypes: float64(5), object(2)\n",
      "memory usage: 349.5+ KB\n"
     ]
    }
   ],
   "source": [
    "#checar que os valores são float ou int\n",
    "tabela.info()"
   ]
  },
  {
   "cell_type": "code",
   "execution_count": 142,
   "metadata": {
    "colab": {},
    "colab_type": "code",
    "id": "cgYCKhy3TFkx"
   },
   "outputs": [],
   "source": [
    "# convert column \"a\" to int64 dtype and \"b\" to complex type\n",
    "#tabela = tabela.astype({\"Sim (Frequência)\": float, \"Não (Frequência)\": float, 'Não (%)': float})"
   ]
  },
  {
   "cell_type": "code",
   "execution_count": 143,
   "metadata": {
    "colab": {},
    "colab_type": "code",
    "id": "KyZhNODLs4oL"
   },
   "outputs": [],
   "source": [
    "#alguns nomes de cidade ligeiramente diferentes\n",
    "tabela['nome'] = tabela['nome'].apply(correcao_nomes)"
   ]
  },
  {
   "cell_type": "code",
   "execution_count": 144,
   "metadata": {
    "colab": {},
    "colab_type": "code",
    "id": "VGh3KcZE1WfY"
   },
   "outputs": [],
   "source": [
    "#nao vou remover a sigla pois a tabela de dados contém os estados (nome igual)\n",
    "#tabela['nome'] = tabela['nome'].apply(remover_parenteses)"
   ]
  },
  {
   "cell_type": "code",
   "execution_count": 145,
   "metadata": {
    "colab": {
     "base_uri": "https://localhost:8080/",
     "height": 221
    },
    "colab_type": "code",
    "id": "_4vNcpXPJeon",
    "outputId": "7943c85a-5218-4072-89e4-6216feb731ab"
   },
   "outputs": [
    {
     "data": {
      "text/plain": [
       "0                   Acre \n",
       "1         Acrelândia (AC)\n",
       "2       Assis Brasil (AC)\n",
       "3          Brasiléia (AC)\n",
       "4             Bujari (AC)\n",
       "              ...        \n",
       "5591       Witmarsum (SC)\n",
       "5592         Xanxerê (SC)\n",
       "5593       Xavantina (SC)\n",
       "5594           Xaxim (SC)\n",
       "5595          Zortéa (SC)\n",
       "Name: nome, Length: 5592, dtype: object"
      ]
     },
     "execution_count": 145,
     "metadata": {
      "tags": []
     },
     "output_type": "execute_result"
    }
   ],
   "source": [
    "tabela['nome']"
   ]
  },
  {
   "cell_type": "markdown",
   "metadata": {
    "colab_type": "text",
    "id": "Tqtsd9ajz1Um"
   },
   "source": [
    "# Encontrar lat lon certa"
   ]
  },
  {
   "cell_type": "code",
   "execution_count": 58,
   "metadata": {
    "colab": {
     "base_uri": "https://localhost:8080/",
     "height": 80
    },
    "colab_type": "code",
    "id": "ZNcJ0hMwSCrr",
    "outputId": "ee43e795-fae4-4197-a5c9-1bd70985015c"
   },
   "outputs": [
    {
     "data": {
      "text/html": [
       "<div>\n",
       "<style scoped>\n",
       "    .dataframe tbody tr th:only-of-type {\n",
       "        vertical-align: middle;\n",
       "    }\n",
       "\n",
       "    .dataframe tbody tr th {\n",
       "        vertical-align: top;\n",
       "    }\n",
       "\n",
       "    .dataframe thead th {\n",
       "        text-align: right;\n",
       "    }\n",
       "</style>\n",
       "<table border=\"1\" class=\"dataframe\">\n",
       "  <thead>\n",
       "    <tr style=\"text-align: right;\">\n",
       "      <th></th>\n",
       "      <th>codigo_ibge</th>\n",
       "      <th>uf</th>\n",
       "      <th>nome</th>\n",
       "      <th>latitude</th>\n",
       "      <th>longitude</th>\n",
       "      <th>capital</th>\n",
       "    </tr>\n",
       "  </thead>\n",
       "  <tbody>\n",
       "    <tr>\n",
       "      <th>0</th>\n",
       "      <td>1</td>\n",
       "      <td>BR</td>\n",
       "      <td>Brasil</td>\n",
       "      <td>-13.495277</td>\n",
       "      <td>-71.577063</td>\n",
       "      <td>2</td>\n",
       "    </tr>\n",
       "  </tbody>\n",
       "</table>\n",
       "</div>"
      ],
      "text/plain": [
       "   codigo_ibge  uf    nome   latitude  longitude  capital\n",
       "0            1  BR  Brasil -13.495277 -71.577063        2"
      ]
     },
     "execution_count": 58,
     "metadata": {
      "tags": []
     },
     "output_type": "execute_result"
    }
   ],
   "source": [
    "geo.loc[geo['nome']=='Brasil']"
   ]
  },
  {
   "cell_type": "code",
   "execution_count": 59,
   "metadata": {
    "colab": {
     "base_uri": "https://localhost:8080/",
     "height": 762
    },
    "colab_type": "code",
    "id": "Vx9Hdah7GXPZ",
    "outputId": "1aa69f22-43a9-4d59-8275-4ea774fbf40e"
   },
   "outputs": [
    {
     "data": {
      "text/html": [
       "<div>\n",
       "<style scoped>\n",
       "    .dataframe tbody tr th:only-of-type {\n",
       "        vertical-align: middle;\n",
       "    }\n",
       "\n",
       "    .dataframe tbody tr th {\n",
       "        vertical-align: top;\n",
       "    }\n",
       "\n",
       "    .dataframe thead th {\n",
       "        text-align: right;\n",
       "    }\n",
       "</style>\n",
       "<table border=\"1\" class=\"dataframe\">\n",
       "  <thead>\n",
       "    <tr style=\"text-align: right;\">\n",
       "      <th></th>\n",
       "      <th>codigo_ibge</th>\n",
       "      <th>uf</th>\n",
       "      <th>nome</th>\n",
       "      <th>latitude</th>\n",
       "      <th>longitude</th>\n",
       "      <th>capital</th>\n",
       "    </tr>\n",
       "  </thead>\n",
       "  <tbody>\n",
       "    <tr>\n",
       "      <th>2</th>\n",
       "      <td>12</td>\n",
       "      <td>AC</td>\n",
       "      <td>Acre</td>\n",
       "      <td>-8.77000</td>\n",
       "      <td>-70.5500</td>\n",
       "      <td>2</td>\n",
       "    </tr>\n",
       "    <tr>\n",
       "      <th>54</th>\n",
       "      <td>1200013</td>\n",
       "      <td>AC</td>\n",
       "      <td>Acrelândia</td>\n",
       "      <td>-9.82581</td>\n",
       "      <td>-66.8972</td>\n",
       "      <td>0</td>\n",
       "    </tr>\n",
       "    <tr>\n",
       "      <th>438</th>\n",
       "      <td>1200054</td>\n",
       "      <td>AC</td>\n",
       "      <td>Assis Brasil</td>\n",
       "      <td>-10.92980</td>\n",
       "      <td>-69.5738</td>\n",
       "      <td>0</td>\n",
       "    </tr>\n",
       "    <tr>\n",
       "      <th>781</th>\n",
       "      <td>1200104</td>\n",
       "      <td>AC</td>\n",
       "      <td>Brasiléia</td>\n",
       "      <td>-10.99500</td>\n",
       "      <td>-68.7497</td>\n",
       "      <td>0</td>\n",
       "    </tr>\n",
       "    <tr>\n",
       "      <th>824</th>\n",
       "      <td>1200138</td>\n",
       "      <td>AC</td>\n",
       "      <td>Bujari</td>\n",
       "      <td>-9.81528</td>\n",
       "      <td>-67.9550</td>\n",
       "      <td>0</td>\n",
       "    </tr>\n",
       "    <tr>\n",
       "      <th>1110</th>\n",
       "      <td>1200179</td>\n",
       "      <td>AC</td>\n",
       "      <td>Capixaba</td>\n",
       "      <td>-10.56600</td>\n",
       "      <td>-67.6860</td>\n",
       "      <td>0</td>\n",
       "    </tr>\n",
       "    <tr>\n",
       "      <th>1513</th>\n",
       "      <td>1200203</td>\n",
       "      <td>AC</td>\n",
       "      <td>Cruzeiro do Sul</td>\n",
       "      <td>-7.62762</td>\n",
       "      <td>-72.6756</td>\n",
       "      <td>0</td>\n",
       "    </tr>\n",
       "    <tr>\n",
       "      <th>1706</th>\n",
       "      <td>1200252</td>\n",
       "      <td>AC</td>\n",
       "      <td>Epitaciolândia</td>\n",
       "      <td>-11.01880</td>\n",
       "      <td>-68.7341</td>\n",
       "      <td>0</td>\n",
       "    </tr>\n",
       "    <tr>\n",
       "      <th>1784</th>\n",
       "      <td>1200302</td>\n",
       "      <td>AC</td>\n",
       "      <td>Feijó</td>\n",
       "      <td>-8.17054</td>\n",
       "      <td>-70.3510</td>\n",
       "      <td>0</td>\n",
       "    </tr>\n",
       "    <tr>\n",
       "      <th>2636</th>\n",
       "      <td>1200328</td>\n",
       "      <td>AC</td>\n",
       "      <td>Jordão</td>\n",
       "      <td>-9.43091</td>\n",
       "      <td>-71.8974</td>\n",
       "      <td>0</td>\n",
       "    </tr>\n",
       "    <tr>\n",
       "      <th>2914</th>\n",
       "      <td>1200336</td>\n",
       "      <td>AC</td>\n",
       "      <td>Mâncio Lima</td>\n",
       "      <td>-7.61657</td>\n",
       "      <td>-72.8997</td>\n",
       "      <td>0</td>\n",
       "    </tr>\n",
       "    <tr>\n",
       "      <th>2928</th>\n",
       "      <td>1200344</td>\n",
       "      <td>AC</td>\n",
       "      <td>Manoel Urbano</td>\n",
       "      <td>-8.83291</td>\n",
       "      <td>-69.2679</td>\n",
       "      <td>0</td>\n",
       "    </tr>\n",
       "    <tr>\n",
       "      <th>2974</th>\n",
       "      <td>1200351</td>\n",
       "      <td>AC</td>\n",
       "      <td>Marechal Thaumaturgo</td>\n",
       "      <td>-8.93898</td>\n",
       "      <td>-72.7997</td>\n",
       "      <td>0</td>\n",
       "    </tr>\n",
       "    <tr>\n",
       "      <th>3901</th>\n",
       "      <td>1200385</td>\n",
       "      <td>AC</td>\n",
       "      <td>Plácido de Castro</td>\n",
       "      <td>-10.28060</td>\n",
       "      <td>-67.1371</td>\n",
       "      <td>0</td>\n",
       "    </tr>\n",
       "    <tr>\n",
       "      <th>3974</th>\n",
       "      <td>1200807</td>\n",
       "      <td>AC</td>\n",
       "      <td>Porto Acre</td>\n",
       "      <td>-9.58138</td>\n",
       "      <td>-67.5478</td>\n",
       "      <td>0</td>\n",
       "    </tr>\n",
       "    <tr>\n",
       "      <th>4008</th>\n",
       "      <td>1200393</td>\n",
       "      <td>AC</td>\n",
       "      <td>Porto Walter</td>\n",
       "      <td>-8.26323</td>\n",
       "      <td>-72.7537</td>\n",
       "      <td>0</td>\n",
       "    </tr>\n",
       "    <tr>\n",
       "      <th>4221</th>\n",
       "      <td>1200401</td>\n",
       "      <td>AC</td>\n",
       "      <td>Rio Branco</td>\n",
       "      <td>-9.97499</td>\n",
       "      <td>-67.8243</td>\n",
       "      <td>1</td>\n",
       "    </tr>\n",
       "    <tr>\n",
       "      <th>4289</th>\n",
       "      <td>1200427</td>\n",
       "      <td>AC</td>\n",
       "      <td>Rodrigues Alves</td>\n",
       "      <td>-7.73864</td>\n",
       "      <td>-72.6610</td>\n",
       "      <td>0</td>\n",
       "    </tr>\n",
       "    <tr>\n",
       "      <th>4502</th>\n",
       "      <td>1200435</td>\n",
       "      <td>AC</td>\n",
       "      <td>Santa Rosa do Purus</td>\n",
       "      <td>-9.44652</td>\n",
       "      <td>-70.4902</td>\n",
       "      <td>0</td>\n",
       "    </tr>\n",
       "    <tr>\n",
       "      <th>4990</th>\n",
       "      <td>1200500</td>\n",
       "      <td>AC</td>\n",
       "      <td>Sena Madureira</td>\n",
       "      <td>-9.06596</td>\n",
       "      <td>-68.6571</td>\n",
       "      <td>0</td>\n",
       "    </tr>\n",
       "    <tr>\n",
       "      <th>4998</th>\n",
       "      <td>1200450</td>\n",
       "      <td>AC</td>\n",
       "      <td>Senador Guiomard</td>\n",
       "      <td>-10.14970</td>\n",
       "      <td>-67.7362</td>\n",
       "      <td>0</td>\n",
       "    </tr>\n",
       "    <tr>\n",
       "      <th>5205</th>\n",
       "      <td>1200609</td>\n",
       "      <td>AC</td>\n",
       "      <td>Tarauacá</td>\n",
       "      <td>-8.15697</td>\n",
       "      <td>-70.7722</td>\n",
       "      <td>0</td>\n",
       "    </tr>\n",
       "    <tr>\n",
       "      <th>5588</th>\n",
       "      <td>1200708</td>\n",
       "      <td>AC</td>\n",
       "      <td>Xapuri</td>\n",
       "      <td>-10.65160</td>\n",
       "      <td>-68.4969</td>\n",
       "      <td>0</td>\n",
       "    </tr>\n",
       "  </tbody>\n",
       "</table>\n",
       "</div>"
      ],
      "text/plain": [
       "      codigo_ibge  uf                  nome  latitude  longitude  capital\n",
       "2              12  AC                  Acre  -8.77000   -70.5500        2\n",
       "54        1200013  AC            Acrelândia  -9.82581   -66.8972        0\n",
       "438       1200054  AC          Assis Brasil -10.92980   -69.5738        0\n",
       "781       1200104  AC             Brasiléia -10.99500   -68.7497        0\n",
       "824       1200138  AC                Bujari  -9.81528   -67.9550        0\n",
       "1110      1200179  AC              Capixaba -10.56600   -67.6860        0\n",
       "1513      1200203  AC       Cruzeiro do Sul  -7.62762   -72.6756        0\n",
       "1706      1200252  AC        Epitaciolândia -11.01880   -68.7341        0\n",
       "1784      1200302  AC                 Feijó  -8.17054   -70.3510        0\n",
       "2636      1200328  AC                Jordão  -9.43091   -71.8974        0\n",
       "2914      1200336  AC           Mâncio Lima  -7.61657   -72.8997        0\n",
       "2928      1200344  AC         Manoel Urbano  -8.83291   -69.2679        0\n",
       "2974      1200351  AC  Marechal Thaumaturgo  -8.93898   -72.7997        0\n",
       "3901      1200385  AC     Plácido de Castro -10.28060   -67.1371        0\n",
       "3974      1200807  AC            Porto Acre  -9.58138   -67.5478        0\n",
       "4008      1200393  AC          Porto Walter  -8.26323   -72.7537        0\n",
       "4221      1200401  AC            Rio Branco  -9.97499   -67.8243        1\n",
       "4289      1200427  AC       Rodrigues Alves  -7.73864   -72.6610        0\n",
       "4502      1200435  AC   Santa Rosa do Purus  -9.44652   -70.4902        0\n",
       "4990      1200500  AC        Sena Madureira  -9.06596   -68.6571        0\n",
       "4998      1200450  AC      Senador Guiomard -10.14970   -67.7362        0\n",
       "5205      1200609  AC              Tarauacá  -8.15697   -70.7722        0\n",
       "5588      1200708  AC                Xapuri -10.65160   -68.4969        0"
      ]
     },
     "execution_count": 59,
     "metadata": {
      "tags": []
     },
     "output_type": "execute_result"
    }
   ],
   "source": [
    "geo.loc[geo['uf']=='AC']"
   ]
  },
  {
   "cell_type": "code",
   "execution_count": 60,
   "metadata": {
    "colab": {},
    "colab_type": "code",
    "id": "k-19iYRzPW_f"
   },
   "outputs": [],
   "source": [
    "geo['nomeEdit'] = geo['nome'].apply(clean_string_original)"
   ]
  },
  {
   "cell_type": "code",
   "execution_count": 147,
   "metadata": {
    "colab": {
     "base_uri": "https://localhost:8080/",
     "height": 255
    },
    "colab_type": "code",
    "id": "bnq1t7vjkt2I",
    "outputId": "23dd92aa-0ccc-4c97-a45d-f5fa5f2c6bcd"
   },
   "outputs": [
    {
     "name": "stdout",
     "output_type": "stream",
     "text": [
      "<class 'pandas.core.frame.DataFrame'>\n",
      "RangeIndex: 5618 entries, 0 to 5617\n",
      "Data columns (total 7 columns):\n",
      " #   Column       Non-Null Count  Dtype  \n",
      "---  ------       --------------  -----  \n",
      " 0   codigo_ibge  5618 non-null   int64  \n",
      " 1   uf           5618 non-null   object \n",
      " 2   nome         5618 non-null   object \n",
      " 3   latitude     5618 non-null   float64\n",
      " 4   longitude    5618 non-null   float64\n",
      " 5   capital      5618 non-null   int64  \n",
      " 6   nomeEdit     5618 non-null   object \n",
      "dtypes: float64(2), int64(2), object(3)\n",
      "memory usage: 307.4+ KB\n"
     ]
    }
   ],
   "source": [
    "geo.info()"
   ]
  },
  {
   "cell_type": "code",
   "execution_count": 69,
   "metadata": {
    "colab": {},
    "colab_type": "code",
    "id": "VgGmaPCBkpvH"
   },
   "outputs": [],
   "source": [
    "#pegar apenas estados\n",
    "estados_geo = geo.loc[geo['capital']==2]"
   ]
  },
  {
   "cell_type": "code",
   "execution_count": 70,
   "metadata": {
    "colab": {
     "base_uri": "https://localhost:8080/",
     "height": 255
    },
    "colab_type": "code",
    "id": "f9GAeKU2k0vx",
    "outputId": "df32c32d-7ba2-4595-8d93-cff9796be13e"
   },
   "outputs": [
    {
     "name": "stdout",
     "output_type": "stream",
     "text": [
      "<class 'pandas.core.frame.DataFrame'>\n",
      "Int64Index: 28 entries, 0 to 27\n",
      "Data columns (total 7 columns):\n",
      " #   Column       Non-Null Count  Dtype  \n",
      "---  ------       --------------  -----  \n",
      " 0   codigo_ibge  28 non-null     int64  \n",
      " 1   uf           28 non-null     object \n",
      " 2   nome         28 non-null     object \n",
      " 3   latitude     28 non-null     float64\n",
      " 4   longitude    28 non-null     float64\n",
      " 5   capital      28 non-null     int64  \n",
      " 6   nomeEdit     28 non-null     object \n",
      "dtypes: float64(2), int64(2), object(3)\n",
      "memory usage: 1.8+ KB\n"
     ]
    }
   ],
   "source": [
    "estados_geo.info()"
   ]
  },
  {
   "cell_type": "code",
   "execution_count": 61,
   "metadata": {
    "colab": {
     "base_uri": "https://localhost:8080/",
     "height": 134
    },
    "colab_type": "code",
    "id": "Sr2IPf7KHJt4",
    "outputId": "0659cad7-d5d6-4143-aa0e-f35803278f61"
   },
   "outputs": [
    {
     "data": {
      "text/html": [
       "<div>\n",
       "<style scoped>\n",
       "    .dataframe tbody tr th:only-of-type {\n",
       "        vertical-align: middle;\n",
       "    }\n",
       "\n",
       "    .dataframe tbody tr th {\n",
       "        vertical-align: top;\n",
       "    }\n",
       "\n",
       "    .dataframe thead th {\n",
       "        text-align: right;\n",
       "    }\n",
       "</style>\n",
       "<table border=\"1\" class=\"dataframe\">\n",
       "  <thead>\n",
       "    <tr style=\"text-align: right;\">\n",
       "      <th></th>\n",
       "      <th>uf</th>\n",
       "      <th>nome</th>\n",
       "      <th>nao_aplicavel_(pessoas_que_nao_estao_estudando)</th>\n",
       "      <th>alfabetizacao_de_jovens_e_adultos</th>\n",
       "      <th>regular_do_ensino_fundamental</th>\n",
       "      <th>educacao_de_jovens_e_adultos_-_eja_-_ou_supletivo_do_ensino_fundamental</th>\n",
       "      <th>regular_do_ensino_medio</th>\n",
       "      <th>educacao_de_jovens_e_adultos_-_eja_-_ou_supletivo_do_ensino_medio</th>\n",
       "      <th>superior_de_graduacao</th>\n",
       "      <th>especializacao_de_nivel_superior_(minimo_de_360_horas)</th>\n",
       "      <th>mestrado</th>\n",
       "      <th>doutorado</th>\n",
       "      <th>total</th>\n",
       "    </tr>\n",
       "  </thead>\n",
       "  <tbody>\n",
       "    <tr>\n",
       "      <th>0</th>\n",
       "      <td>AC</td>\n",
       "      <td>Acre</td>\n",
       "      <td>135003</td>\n",
       "      <td>1831</td>\n",
       "      <td>17294</td>\n",
       "      <td>6269</td>\n",
       "      <td>31123</td>\n",
       "      <td>6511</td>\n",
       "      <td>15637</td>\n",
       "      <td>804</td>\n",
       "      <td>185</td>\n",
       "      <td>79</td>\n",
       "      <td>214736</td>\n",
       "    </tr>\n",
       "  </tbody>\n",
       "</table>\n",
       "</div>"
      ],
      "text/plain": [
       "   uf  nome  ...  doutorado   total\n",
       "0  AC  Acre  ...         79  214736\n",
       "\n",
       "[1 rows x 13 columns]"
      ]
     },
     "execution_count": 61,
     "metadata": {
      "tags": []
     },
     "output_type": "execute_result"
    }
   ],
   "source": [
    "tabela.loc[tabela['uf']=='AC']"
   ]
  },
  {
   "cell_type": "code",
   "execution_count": 62,
   "metadata": {
    "colab": {},
    "colab_type": "code",
    "id": "oG7x3WS_PhIg"
   },
   "outputs": [],
   "source": [
    "tabela['nomeEdit'] = tabela['nome'].apply(clean_string_original)"
   ]
  },
  {
   "cell_type": "code",
   "execution_count": 63,
   "metadata": {
    "colab": {
     "base_uri": "https://localhost:8080/",
     "height": 34
    },
    "colab_type": "code",
    "id": "dwz2Lq_QQw8L",
    "outputId": "5ffc8381-145a-4da4-a9fc-2026eb437777"
   },
   "outputs": [
    {
     "data": {
      "text/plain": [
       "(28, 5618)"
      ]
     },
     "execution_count": 63,
     "metadata": {
      "tags": []
     },
     "output_type": "execute_result"
    }
   ],
   "source": [
    "len(tabela), len(geo)"
   ]
  },
  {
   "cell_type": "markdown",
   "metadata": {
    "colab_type": "text",
    "id": "u68HB21JlBUf"
   },
   "source": [
    "## estados"
   ]
  },
  {
   "cell_type": "code",
   "execution_count": 73,
   "metadata": {
    "colab": {},
    "colab_type": "code",
    "id": "GBuZlKX9lJhv"
   },
   "outputs": [],
   "source": [
    "dataset_merge = pd.merge(tabela, estados_geo, how='left', left_on=['uf','nomeEdit'],right_on=['uf','nomeEdit'])"
   ]
  },
  {
   "cell_type": "code",
   "execution_count": 74,
   "metadata": {
    "colab": {
     "base_uri": "https://localhost:8080/",
     "height": 459
    },
    "colab_type": "code",
    "id": "LTVxvttllMBM",
    "outputId": "2b7f9a85-68ea-49ed-d18f-f475aaa0669c"
   },
   "outputs": [
    {
     "name": "stdout",
     "output_type": "stream",
     "text": [
      "<class 'pandas.core.frame.DataFrame'>\n",
      "Int64Index: 28 entries, 0 to 27\n",
      "Data columns (total 19 columns):\n",
      " #   Column                                                                   Non-Null Count  Dtype  \n",
      "---  ------                                                                   --------------  -----  \n",
      " 0   uf                                                                       28 non-null     object \n",
      " 1   nome_x                                                                   28 non-null     object \n",
      " 2   nao_aplicavel_(pessoas_que_nao_estao_estudando)                          28 non-null     int64  \n",
      " 3   alfabetizacao_de_jovens_e_adultos                                        28 non-null     int64  \n",
      " 4   regular_do_ensino_fundamental                                            28 non-null     int64  \n",
      " 5   educacao_de_jovens_e_adultos_-_eja_-_ou_supletivo_do_ensino_fundamental  28 non-null     int64  \n",
      " 6   regular_do_ensino_medio                                                  28 non-null     int64  \n",
      " 7   educacao_de_jovens_e_adultos_-_eja_-_ou_supletivo_do_ensino_medio        28 non-null     int64  \n",
      " 8   superior_de_graduacao                                                    28 non-null     int64  \n",
      " 9   especializacao_de_nivel_superior_(minimo_de_360_horas)                   28 non-null     int64  \n",
      " 10  mestrado                                                                 28 non-null     int64  \n",
      " 11  doutorado                                                                28 non-null     int64  \n",
      " 12  total                                                                    28 non-null     int64  \n",
      " 13  nomeEdit                                                                 28 non-null     object \n",
      " 14  codigo_ibge                                                              28 non-null     int64  \n",
      " 15  nome_y                                                                   28 non-null     object \n",
      " 16  latitude                                                                 28 non-null     float64\n",
      " 17  longitude                                                                28 non-null     float64\n",
      " 18  capital                                                                  28 non-null     int64  \n",
      "dtypes: float64(2), int64(13), object(4)\n",
      "memory usage: 4.4+ KB\n"
     ]
    }
   ],
   "source": [
    "dataset_merge.info()"
   ]
  },
  {
   "cell_type": "code",
   "execution_count": 75,
   "metadata": {
    "colab": {
     "base_uri": "https://localhost:8080/",
     "height": 258
    },
    "colab_type": "code",
    "id": "EK09DGz5lOsZ",
    "outputId": "b002aacd-61d5-477e-fad9-aabe8c16f825"
   },
   "outputs": [
    {
     "data": {
      "text/html": [
       "<div>\n",
       "<style scoped>\n",
       "    .dataframe tbody tr th:only-of-type {\n",
       "        vertical-align: middle;\n",
       "    }\n",
       "\n",
       "    .dataframe tbody tr th {\n",
       "        vertical-align: top;\n",
       "    }\n",
       "\n",
       "    .dataframe thead th {\n",
       "        text-align: right;\n",
       "    }\n",
       "</style>\n",
       "<table border=\"1\" class=\"dataframe\">\n",
       "  <thead>\n",
       "    <tr style=\"text-align: right;\">\n",
       "      <th></th>\n",
       "      <th>uf</th>\n",
       "      <th>nome_x</th>\n",
       "      <th>nao_aplicavel_(pessoas_que_nao_estao_estudando)</th>\n",
       "      <th>alfabetizacao_de_jovens_e_adultos</th>\n",
       "      <th>regular_do_ensino_fundamental</th>\n",
       "      <th>educacao_de_jovens_e_adultos_-_eja_-_ou_supletivo_do_ensino_fundamental</th>\n",
       "      <th>regular_do_ensino_medio</th>\n",
       "      <th>educacao_de_jovens_e_adultos_-_eja_-_ou_supletivo_do_ensino_medio</th>\n",
       "      <th>superior_de_graduacao</th>\n",
       "      <th>especializacao_de_nivel_superior_(minimo_de_360_horas)</th>\n",
       "      <th>mestrado</th>\n",
       "      <th>doutorado</th>\n",
       "      <th>total</th>\n",
       "      <th>nomeEdit</th>\n",
       "      <th>codigo_ibge</th>\n",
       "      <th>nome_y</th>\n",
       "      <th>latitude</th>\n",
       "      <th>longitude</th>\n",
       "      <th>capital</th>\n",
       "    </tr>\n",
       "  </thead>\n",
       "  <tbody>\n",
       "    <tr>\n",
       "      <th>0</th>\n",
       "      <td>AC</td>\n",
       "      <td>Acre</td>\n",
       "      <td>135003</td>\n",
       "      <td>1831</td>\n",
       "      <td>17294</td>\n",
       "      <td>6269</td>\n",
       "      <td>31123</td>\n",
       "      <td>6511</td>\n",
       "      <td>15637</td>\n",
       "      <td>804</td>\n",
       "      <td>185</td>\n",
       "      <td>79</td>\n",
       "      <td>214736</td>\n",
       "      <td>acre</td>\n",
       "      <td>12</td>\n",
       "      <td>Acre</td>\n",
       "      <td>-8.77</td>\n",
       "      <td>-70.55</td>\n",
       "      <td>2</td>\n",
       "    </tr>\n",
       "    <tr>\n",
       "      <th>1</th>\n",
       "      <td>AL</td>\n",
       "      <td>Alagoas</td>\n",
       "      <td>546423</td>\n",
       "      <td>4935</td>\n",
       "      <td>119472</td>\n",
       "      <td>15080</td>\n",
       "      <td>119281</td>\n",
       "      <td>14679</td>\n",
       "      <td>52181</td>\n",
       "      <td>2370</td>\n",
       "      <td>539</td>\n",
       "      <td>109</td>\n",
       "      <td>875069</td>\n",
       "      <td>alagoas</td>\n",
       "      <td>27</td>\n",
       "      <td>Alagoas</td>\n",
       "      <td>-9.62</td>\n",
       "      <td>-36.82</td>\n",
       "      <td>2</td>\n",
       "    </tr>\n",
       "    <tr>\n",
       "      <th>2</th>\n",
       "      <td>AP</td>\n",
       "      <td>Amapá</td>\n",
       "      <td>124823</td>\n",
       "      <td>991</td>\n",
       "      <td>17419</td>\n",
       "      <td>4600</td>\n",
       "      <td>34061</td>\n",
       "      <td>4743</td>\n",
       "      <td>17925</td>\n",
       "      <td>815</td>\n",
       "      <td>100</td>\n",
       "      <td>0</td>\n",
       "      <td>205477</td>\n",
       "      <td>amapa</td>\n",
       "      <td>16</td>\n",
       "      <td>Amapá</td>\n",
       "      <td>1.41</td>\n",
       "      <td>-51.77</td>\n",
       "      <td>2</td>\n",
       "    </tr>\n",
       "    <tr>\n",
       "      <th>3</th>\n",
       "      <td>AM</td>\n",
       "      <td>Amazonas</td>\n",
       "      <td>614035</td>\n",
       "      <td>7825</td>\n",
       "      <td>126322</td>\n",
       "      <td>26087</td>\n",
       "      <td>149104</td>\n",
       "      <td>29121</td>\n",
       "      <td>70161</td>\n",
       "      <td>3953</td>\n",
       "      <td>787</td>\n",
       "      <td>330</td>\n",
       "      <td>1027725</td>\n",
       "      <td>amazonas</td>\n",
       "      <td>13</td>\n",
       "      <td>Amazonas</td>\n",
       "      <td>-3.47</td>\n",
       "      <td>-65.10</td>\n",
       "      <td>2</td>\n",
       "    </tr>\n",
       "    <tr>\n",
       "      <th>4</th>\n",
       "      <td>BA</td>\n",
       "      <td>Bahia</td>\n",
       "      <td>2513122</td>\n",
       "      <td>27716</td>\n",
       "      <td>469137</td>\n",
       "      <td>75675</td>\n",
       "      <td>539856</td>\n",
       "      <td>89507</td>\n",
       "      <td>207625</td>\n",
       "      <td>13207</td>\n",
       "      <td>2829</td>\n",
       "      <td>556</td>\n",
       "      <td>3939230</td>\n",
       "      <td>bahia</td>\n",
       "      <td>29</td>\n",
       "      <td>Bahia</td>\n",
       "      <td>-13.29</td>\n",
       "      <td>-41.71</td>\n",
       "      <td>2</td>\n",
       "    </tr>\n",
       "  </tbody>\n",
       "</table>\n",
       "</div>"
      ],
      "text/plain": [
       "   uf    nome_x  ...  longitude  capital\n",
       "0  AC      Acre  ...     -70.55        2\n",
       "1  AL   Alagoas  ...     -36.82        2\n",
       "2  AP     Amapá  ...     -51.77        2\n",
       "3  AM  Amazonas  ...     -65.10        2\n",
       "4  BA     Bahia  ...     -41.71        2\n",
       "\n",
       "[5 rows x 19 columns]"
      ]
     },
     "execution_count": 75,
     "metadata": {
      "tags": []
     },
     "output_type": "execute_result"
    }
   ],
   "source": [
    "dataset_merge.head()"
   ]
  },
  {
   "cell_type": "code",
   "execution_count": 76,
   "metadata": {
    "colab": {},
    "colab_type": "code",
    "id": "UuMkEXKilUcR"
   },
   "outputs": [],
   "source": [
    "#colunas podem ser ignorada quando é brasil\n",
    "dataset_merge.drop(columns='nomeEdit', inplace=True)\n",
    "dataset_merge.drop(columns='nome_y', inplace=True)\n",
    "dataset_merge.drop(columns='capital', inplace=True)"
   ]
  },
  {
   "cell_type": "code",
   "execution_count": null,
   "metadata": {
    "colab": {},
    "colab_type": "code",
    "id": "v0W6m4jmqXBX"
   },
   "outputs": [],
   "source": [
    "dataset_merge.rename(columns={'nome_x':'nome'}, inplace=True)"
   ]
  },
  {
   "cell_type": "markdown",
   "metadata": {
    "colab_type": "text",
    "id": "MjoC2D9gk-N6"
   },
   "source": [
    "## municipios"
   ]
  },
  {
   "cell_type": "code",
   "execution_count": 150,
   "metadata": {
    "colab": {},
    "colab_type": "code",
    "id": "bBquDidEn45l"
   },
   "outputs": [],
   "source": [
    "def adiciona_parenteses(row):\n",
    "    if (row['capital'] != 2):\n",
    "      novo = str(row['nome']).strip() + ' (' + str(row['uf']).strip() + ')'\n",
    "    else:\n",
    "      novo = row['nome']\n",
    "\n",
    "    return novo"
   ]
  },
  {
   "cell_type": "code",
   "execution_count": 151,
   "metadata": {
    "colab": {
     "base_uri": "https://localhost:8080/",
     "height": 221
    },
    "colab_type": "code",
    "id": "MFKsEntAoPtL",
    "outputId": "c8e13a98-3580-4f3f-ba66-8e845dae2807"
   },
   "outputs": [
    {
     "data": {
      "text/plain": [
       "0                               Brasil\n",
       "1                             Rondônia\n",
       "2                                 Acre\n",
       "3                             Amazonas\n",
       "4                              Roraima\n",
       "                     ...              \n",
       "5613                  São Caitano (PE)\n",
       "5614                     Iguaraci (PE)\n",
       "5615                   Brasópolis (MG)\n",
       "5616                      Poxoréo (MT)\n",
       "5617    São Valério da Natividade (TO)\n",
       "Length: 5618, dtype: object"
      ]
     },
     "execution_count": 151,
     "metadata": {
      "tags": []
     },
     "output_type": "execute_result"
    }
   ],
   "source": [
    "#df['C'] = df.apply(lambda row: row['A'] + row['B'], axis=1)\n",
    "#df.apply (lambda row: label_race(row), axis=1)\n",
    "geo.apply(lambda row: adiciona_parenteses(row), axis=1)"
   ]
  },
  {
   "cell_type": "code",
   "execution_count": 152,
   "metadata": {
    "colab": {},
    "colab_type": "code",
    "id": "DXhSZrlfo0ib"
   },
   "outputs": [],
   "source": [
    "geo['novoNome'] = geo.apply(lambda row: adiciona_parenteses(row), axis=1)"
   ]
  },
  {
   "cell_type": "code",
   "execution_count": 153,
   "metadata": {
    "colab": {},
    "colab_type": "code",
    "id": "V6IJp340obAH"
   },
   "outputs": [],
   "source": [
    "geo['nomeEdit'] = geo['novoNome'].apply(clean_string_original)"
   ]
  },
  {
   "cell_type": "code",
   "execution_count": 155,
   "metadata": {
    "colab": {
     "base_uri": "https://localhost:8080/",
     "height": 204
    },
    "colab_type": "code",
    "id": "IXhHN-kao_Hn",
    "outputId": "9361eeec-8385-47b1-b618-3503c7f0eebf"
   },
   "outputs": [
    {
     "data": {
      "text/html": [
       "<div>\n",
       "<style scoped>\n",
       "    .dataframe tbody tr th:only-of-type {\n",
       "        vertical-align: middle;\n",
       "    }\n",
       "\n",
       "    .dataframe tbody tr th {\n",
       "        vertical-align: top;\n",
       "    }\n",
       "\n",
       "    .dataframe thead th {\n",
       "        text-align: right;\n",
       "    }\n",
       "</style>\n",
       "<table border=\"1\" class=\"dataframe\">\n",
       "  <thead>\n",
       "    <tr style=\"text-align: right;\">\n",
       "      <th></th>\n",
       "      <th>codigo_ibge</th>\n",
       "      <th>uf</th>\n",
       "      <th>nome</th>\n",
       "      <th>latitude</th>\n",
       "      <th>longitude</th>\n",
       "      <th>capital</th>\n",
       "      <th>nomeEdit</th>\n",
       "      <th>novoNome</th>\n",
       "    </tr>\n",
       "  </thead>\n",
       "  <tbody>\n",
       "    <tr>\n",
       "      <th>5613</th>\n",
       "      <td>2613107</td>\n",
       "      <td>PE</td>\n",
       "      <td>São Caitano</td>\n",
       "      <td>-8.33763</td>\n",
       "      <td>-36.2869</td>\n",
       "      <td>0</td>\n",
       "      <td>saocaitano(pe)</td>\n",
       "      <td>São Caitano (PE)</td>\n",
       "    </tr>\n",
       "    <tr>\n",
       "      <th>5614</th>\n",
       "      <td>2606903</td>\n",
       "      <td>PE</td>\n",
       "      <td>Iguaraci</td>\n",
       "      <td>-7.83222</td>\n",
       "      <td>-37.5082</td>\n",
       "      <td>0</td>\n",
       "      <td>iguaraci(pe)</td>\n",
       "      <td>Iguaraci (PE)</td>\n",
       "    </tr>\n",
       "    <tr>\n",
       "      <th>5615</th>\n",
       "      <td>3108909</td>\n",
       "      <td>MG</td>\n",
       "      <td>Brasópolis</td>\n",
       "      <td>-22.47430</td>\n",
       "      <td>-45.6166</td>\n",
       "      <td>0</td>\n",
       "      <td>brasopolis(mg)</td>\n",
       "      <td>Brasópolis (MG)</td>\n",
       "    </tr>\n",
       "    <tr>\n",
       "      <th>5616</th>\n",
       "      <td>5107008</td>\n",
       "      <td>MT</td>\n",
       "      <td>Poxoréo</td>\n",
       "      <td>-15.82990</td>\n",
       "      <td>-54.4208</td>\n",
       "      <td>0</td>\n",
       "      <td>poxoreo(mt)</td>\n",
       "      <td>Poxoréo (MT)</td>\n",
       "    </tr>\n",
       "    <tr>\n",
       "      <th>5617</th>\n",
       "      <td>1720499</td>\n",
       "      <td>TO</td>\n",
       "      <td>São Valério da Natividade</td>\n",
       "      <td>-11.97430</td>\n",
       "      <td>-48.2353</td>\n",
       "      <td>0</td>\n",
       "      <td>saovaleriodanatividade(to)</td>\n",
       "      <td>São Valério da Natividade (TO)</td>\n",
       "    </tr>\n",
       "  </tbody>\n",
       "</table>\n",
       "</div>"
      ],
      "text/plain": [
       "      codigo_ibge  ...                        novoNome\n",
       "5613      2613107  ...                São Caitano (PE)\n",
       "5614      2606903  ...                   Iguaraci (PE)\n",
       "5615      3108909  ...                 Brasópolis (MG)\n",
       "5616      5107008  ...                    Poxoréo (MT)\n",
       "5617      1720499  ...  São Valério da Natividade (TO)\n",
       "\n",
       "[5 rows x 8 columns]"
      ]
     },
     "execution_count": 155,
     "metadata": {
      "tags": []
     },
     "output_type": "execute_result"
    }
   ],
   "source": [
    "#geo.tail()"
   ]
  },
  {
   "cell_type": "code",
   "execution_count": 157,
   "metadata": {
    "colab": {},
    "colab_type": "code",
    "id": "qoce9w4xpN4L"
   },
   "outputs": [],
   "source": [
    "tabela['nomeEdit'] = tabela['nome'].apply(clean_string_original)"
   ]
  },
  {
   "cell_type": "code",
   "execution_count": 158,
   "metadata": {
    "colab": {
     "base_uri": "https://localhost:8080/",
     "height": 204
    },
    "colab_type": "code",
    "id": "Peyw1GfFpHRo",
    "outputId": "890bc80e-e08d-49de-adcc-a3cea5b2b180"
   },
   "outputs": [
    {
     "data": {
      "text/html": [
       "<div>\n",
       "<style scoped>\n",
       "    .dataframe tbody tr th:only-of-type {\n",
       "        vertical-align: middle;\n",
       "    }\n",
       "\n",
       "    .dataframe tbody tr th {\n",
       "        vertical-align: top;\n",
       "    }\n",
       "\n",
       "    .dataframe thead th {\n",
       "        text-align: right;\n",
       "    }\n",
       "</style>\n",
       "<table border=\"1\" class=\"dataframe\">\n",
       "  <thead>\n",
       "    <tr style=\"text-align: right;\">\n",
       "      <th></th>\n",
       "      <th>uf</th>\n",
       "      <th>nome</th>\n",
       "      <th>sim_frequencia</th>\n",
       "      <th>sim_percentual</th>\n",
       "      <th>nao_frequencia</th>\n",
       "      <th>nao_percentual</th>\n",
       "      <th>total</th>\n",
       "      <th>nomeEdit</th>\n",
       "    </tr>\n",
       "  </thead>\n",
       "  <tbody>\n",
       "    <tr>\n",
       "      <th>5591</th>\n",
       "      <td>SC</td>\n",
       "      <td>Witmarsum (SC)</td>\n",
       "      <td>881.0</td>\n",
       "      <td>1.000000</td>\n",
       "      <td>0.0</td>\n",
       "      <td>0.000000</td>\n",
       "      <td>881.0</td>\n",
       "      <td>witmarsum(sc)</td>\n",
       "    </tr>\n",
       "    <tr>\n",
       "      <th>5592</th>\n",
       "      <td>SC</td>\n",
       "      <td>Xanxerê (SC)</td>\n",
       "      <td>11842.0</td>\n",
       "      <td>0.989885</td>\n",
       "      <td>121.0</td>\n",
       "      <td>0.010115</td>\n",
       "      <td>11963.0</td>\n",
       "      <td>xanxere(sc)</td>\n",
       "    </tr>\n",
       "    <tr>\n",
       "      <th>5593</th>\n",
       "      <td>SC</td>\n",
       "      <td>Xavantina (SC)</td>\n",
       "      <td>951.0</td>\n",
       "      <td>1.000000</td>\n",
       "      <td>0.0</td>\n",
       "      <td>0.000000</td>\n",
       "      <td>951.0</td>\n",
       "      <td>xavantina(sc)</td>\n",
       "    </tr>\n",
       "    <tr>\n",
       "      <th>5594</th>\n",
       "      <td>SC</td>\n",
       "      <td>Xaxim (SC)</td>\n",
       "      <td>6792.0</td>\n",
       "      <td>0.984776</td>\n",
       "      <td>105.0</td>\n",
       "      <td>0.015224</td>\n",
       "      <td>6897.0</td>\n",
       "      <td>xaxim(sc)</td>\n",
       "    </tr>\n",
       "    <tr>\n",
       "      <th>5595</th>\n",
       "      <td>SC</td>\n",
       "      <td>Zortéa (SC)</td>\n",
       "      <td>760.0</td>\n",
       "      <td>1.000000</td>\n",
       "      <td>0.0</td>\n",
       "      <td>0.000000</td>\n",
       "      <td>760.0</td>\n",
       "      <td>zortea(sc)</td>\n",
       "    </tr>\n",
       "  </tbody>\n",
       "</table>\n",
       "</div>"
      ],
      "text/plain": [
       "      uf            nome  ...    total       nomeEdit\n",
       "5591  SC  Witmarsum (SC)  ...    881.0  witmarsum(sc)\n",
       "5592  SC    Xanxerê (SC)  ...  11963.0    xanxere(sc)\n",
       "5593  SC  Xavantina (SC)  ...    951.0  xavantina(sc)\n",
       "5594  SC      Xaxim (SC)  ...   6897.0      xaxim(sc)\n",
       "5595  SC     Zortéa (SC)  ...    760.0     zortea(sc)\n",
       "\n",
       "[5 rows x 8 columns]"
      ]
     },
     "execution_count": 158,
     "metadata": {
      "tags": []
     },
     "output_type": "execute_result"
    }
   ],
   "source": [
    "tabela.tail()"
   ]
  },
  {
   "cell_type": "code",
   "execution_count": 159,
   "metadata": {
    "colab": {},
    "colab_type": "code",
    "id": "aU-cQT6yHtKY"
   },
   "outputs": [],
   "source": [
    "dataset_merge = pd.merge(tabela, geo, how='left', left_on=['uf','nomeEdit'],right_on=['uf','nomeEdit'])"
   ]
  },
  {
   "cell_type": "code",
   "execution_count": 174,
   "metadata": {
    "colab": {
     "base_uri": "https://localhost:8080/",
     "height": 306
    },
    "colab_type": "code",
    "id": "6woRN1qjEqI7",
    "outputId": "37bd26c8-813d-4031-c65b-0b599bd73d2d"
   },
   "outputs": [
    {
     "name": "stdout",
     "output_type": "stream",
     "text": [
      "<class 'pandas.core.frame.DataFrame'>\n",
      "Int64Index: 5592 entries, 0 to 5591\n",
      "Data columns (total 10 columns):\n",
      " #   Column          Non-Null Count  Dtype  \n",
      "---  ------          --------------  -----  \n",
      " 0   uf              5592 non-null   object \n",
      " 1   nome            5592 non-null   object \n",
      " 2   sim_frequencia  5592 non-null   float64\n",
      " 3   sim_percentual  5592 non-null   float64\n",
      " 4   nao_frequencia  5592 non-null   float64\n",
      " 5   nao_percentual  5592 non-null   float64\n",
      " 6   total           5592 non-null   float64\n",
      " 7   codigo_ibge     5592 non-null   int64  \n",
      " 8   latitude        5592 non-null   float64\n",
      " 9   longitude       5592 non-null   float64\n",
      "dtypes: float64(7), int64(1), object(2)\n",
      "memory usage: 480.6+ KB\n"
     ]
    }
   ],
   "source": [
    "dataset_merge.info()"
   ]
  },
  {
   "cell_type": "code",
   "execution_count": 171,
   "metadata": {
    "colab": {},
    "colab_type": "code",
    "id": "xH20v8vJppkw"
   },
   "outputs": [],
   "source": [
    "#coluna estado pode ser ignorada quando é brasil\n",
    "dataset_merge.drop(columns='nomeEdit', inplace=True)\n",
    "dataset_merge.drop(columns='nome_y', inplace=True)\n",
    "dataset_merge.drop(columns='capital', inplace=True)\n",
    "dataset_merge.drop(columns='novoNome', inplace=True)"
   ]
  },
  {
   "cell_type": "code",
   "execution_count": 172,
   "metadata": {
    "colab": {},
    "colab_type": "code",
    "id": "Hh_4R5Fdp_Nt"
   },
   "outputs": [],
   "source": [
    "dataset_merge.rename(columns={'nome_x':'nome'}, inplace=True)"
   ]
  },
  {
   "cell_type": "markdown",
   "metadata": {
    "colab_type": "text",
    "id": "ePq9ZKvGqF2r"
   },
   "source": [
    "### operações para encontrar mismatches"
   ]
  },
  {
   "cell_type": "code",
   "execution_count": 161,
   "metadata": {
    "colab": {
     "base_uri": "https://localhost:8080/",
     "height": 49
    },
    "colab_type": "code",
    "id": "r9HUa26lLX94",
    "outputId": "f90af057-7329-4a49-bfe2-2f843a808066"
   },
   "outputs": [
    {
     "data": {
      "text/html": [
       "<div>\n",
       "<style scoped>\n",
       "    .dataframe tbody tr th:only-of-type {\n",
       "        vertical-align: middle;\n",
       "    }\n",
       "\n",
       "    .dataframe tbody tr th {\n",
       "        vertical-align: top;\n",
       "    }\n",
       "\n",
       "    .dataframe thead th {\n",
       "        text-align: right;\n",
       "    }\n",
       "</style>\n",
       "<table border=\"1\" class=\"dataframe\">\n",
       "  <thead>\n",
       "    <tr style=\"text-align: right;\">\n",
       "      <th></th>\n",
       "      <th>uf</th>\n",
       "      <th>nome_x</th>\n",
       "      <th>sim_frequencia</th>\n",
       "      <th>sim_percentual</th>\n",
       "      <th>nao_frequencia</th>\n",
       "      <th>nao_percentual</th>\n",
       "      <th>total</th>\n",
       "      <th>nomeEdit</th>\n",
       "      <th>codigo_ibge</th>\n",
       "      <th>nome_y</th>\n",
       "      <th>latitude</th>\n",
       "      <th>longitude</th>\n",
       "      <th>capital</th>\n",
       "      <th>novoNome</th>\n",
       "    </tr>\n",
       "  </thead>\n",
       "  <tbody>\n",
       "  </tbody>\n",
       "</table>\n",
       "</div>"
      ],
      "text/plain": [
       "Empty DataFrame\n",
       "Columns: [uf, nome_x, sim_frequencia, sim_percentual, nao_frequencia, nao_percentual, total, nomeEdit, codigo_ibge, nome_y, latitude, longitude, capital, novoNome]\n",
       "Index: []"
      ]
     },
     "execution_count": 161,
     "metadata": {
      "tags": []
     },
     "output_type": "execute_result"
    }
   ],
   "source": [
    "notfound = dataset_merge[dataset_merge.isna().any(axis=1)]\n",
    "notfound"
   ]
  },
  {
   "cell_type": "code",
   "execution_count": null,
   "metadata": {
    "colab": {
     "base_uri": "https://localhost:8080/",
     "height": 173
    },
    "colab_type": "code",
    "id": "0NWmyf3wezj4",
    "outputId": "34ef3edb-b740-4b19-a5d6-f0b2d2975295"
   },
   "outputs": [
    {
     "data": {
      "text/html": [
       "<div>\n",
       "<style scoped>\n",
       "    .dataframe tbody tr th:only-of-type {\n",
       "        vertical-align: middle;\n",
       "    }\n",
       "\n",
       "    .dataframe tbody tr th {\n",
       "        vertical-align: top;\n",
       "    }\n",
       "\n",
       "    .dataframe thead th {\n",
       "        text-align: right;\n",
       "    }\n",
       "</style>\n",
       "<table border=\"1\" class=\"dataframe\">\n",
       "  <thead>\n",
       "    <tr style=\"text-align: right;\">\n",
       "      <th></th>\n",
       "      <th>uf</th>\n",
       "      <th>nome_x</th>\n",
       "      <th>sim_frequencia</th>\n",
       "      <th>sim_percentual</th>\n",
       "      <th>nao_frequencia</th>\n",
       "      <th>nao_percentual</th>\n",
       "      <th>total</th>\n",
       "      <th>nomeEdit</th>\n",
       "      <th>codigo_ibge</th>\n",
       "      <th>nome_y</th>\n",
       "      <th>latitude</th>\n",
       "      <th>longitude</th>\n",
       "      <th>capital</th>\n",
       "    </tr>\n",
       "  </thead>\n",
       "  <tbody>\n",
       "    <tr>\n",
       "      <th>1066</th>\n",
       "      <td>CE</td>\n",
       "      <td>Itapagé</td>\n",
       "      <td>13134.0</td>\n",
       "      <td>0.939149</td>\n",
       "      <td>851.0</td>\n",
       "      <td>0.060851</td>\n",
       "      <td>13985.0</td>\n",
       "      <td>itapage</td>\n",
       "      <td>NaN</td>\n",
       "      <td>NaN</td>\n",
       "      <td>NaN</td>\n",
       "      <td>NaN</td>\n",
       "      <td>NaN</td>\n",
       "    </tr>\n",
       "    <tr>\n",
       "      <th>1756</th>\n",
       "      <td>PE</td>\n",
       "      <td>São Caitano</td>\n",
       "      <td>8810.0</td>\n",
       "      <td>0.896601</td>\n",
       "      <td>1016.0</td>\n",
       "      <td>0.103399</td>\n",
       "      <td>9826.0</td>\n",
       "      <td>saocaitano</td>\n",
       "      <td>NaN</td>\n",
       "      <td>NaN</td>\n",
       "      <td>NaN</td>\n",
       "      <td>NaN</td>\n",
       "      <td>NaN</td>\n",
       "    </tr>\n",
       "    <tr>\n",
       "      <th>2030</th>\n",
       "      <td>RN</td>\n",
       "      <td>Augusto Severo</td>\n",
       "      <td>2286.0</td>\n",
       "      <td>0.897174</td>\n",
       "      <td>262.0</td>\n",
       "      <td>0.102826</td>\n",
       "      <td>2548.0</td>\n",
       "      <td>augustosevero</td>\n",
       "      <td>NaN</td>\n",
       "      <td>NaN</td>\n",
       "      <td>NaN</td>\n",
       "      <td>NaN</td>\n",
       "      <td>NaN</td>\n",
       "    </tr>\n",
       "    <tr>\n",
       "      <th>2076</th>\n",
       "      <td>RN</td>\n",
       "      <td>Januário Cicco</td>\n",
       "      <td>2241.0</td>\n",
       "      <td>0.902174</td>\n",
       "      <td>243.0</td>\n",
       "      <td>0.097826</td>\n",
       "      <td>2484.0</td>\n",
       "      <td>januariocicco</td>\n",
       "      <td>NaN</td>\n",
       "      <td>NaN</td>\n",
       "      <td>NaN</td>\n",
       "      <td>NaN</td>\n",
       "      <td>NaN</td>\n",
       "    </tr>\n",
       "  </tbody>\n",
       "</table>\n",
       "</div>"
      ],
      "text/plain": [
       "      uf          nome_x  sim_frequencia  ...  latitude  longitude  capital\n",
       "1066  CE         Itapagé         13134.0  ...       NaN        NaN      NaN\n",
       "1756  PE     São Caitano          8810.0  ...       NaN        NaN      NaN\n",
       "2030  RN  Augusto Severo          2286.0  ...       NaN        NaN      NaN\n",
       "2076  RN  Januário Cicco          2241.0  ...       NaN        NaN      NaN\n",
       "\n",
       "[4 rows x 13 columns]"
      ]
     },
     "execution_count": 68,
     "metadata": {
      "tags": []
     },
     "output_type": "execute_result"
    }
   ],
   "source": [
    "notfound.sort_values(by=['uf','nome_x'])"
   ]
  },
  {
   "cell_type": "code",
   "execution_count": 162,
   "metadata": {
    "colab": {
     "base_uri": "https://localhost:8080/",
     "height": 34
    },
    "colab_type": "code",
    "id": "jPzjYx8TP0X5",
    "outputId": "ad37fbcb-8ea7-4d1b-b36e-bc4d96b3c5c3"
   },
   "outputs": [
    {
     "data": {
      "text/plain": [
       "-28"
      ]
     },
     "execution_count": 162,
     "metadata": {
      "tags": []
     },
     "output_type": "execute_result"
    }
   ],
   "source": [
    "len(notfound['nome_x'].tolist())-28"
   ]
  },
  {
   "cell_type": "code",
   "execution_count": 163,
   "metadata": {
    "colab": {
     "base_uri": "https://localhost:8080/",
     "height": 34
    },
    "colab_type": "code",
    "id": "Tz31iojXLnU_",
    "outputId": "ba4273d7-7fd5-4380-b6e7-1888c3df0800"
   },
   "outputs": [
    {
     "data": {
      "text/plain": [
       "[]"
      ]
     },
     "execution_count": 163,
     "metadata": {
      "tags": []
     },
     "output_type": "execute_result"
    }
   ],
   "source": [
    "notfound['nome_x'].tolist()"
   ]
  },
  {
   "cell_type": "code",
   "execution_count": 164,
   "metadata": {
    "colab": {
     "base_uri": "https://localhost:8080/",
     "height": 419
    },
    "colab_type": "code",
    "id": "D4C6f-4w4V7-",
    "outputId": "1f884f00-77ef-4f40-b759-74d7941a2bef"
   },
   "outputs": [
    {
     "data": {
      "text/html": [
       "<div>\n",
       "<style scoped>\n",
       "    .dataframe tbody tr th:only-of-type {\n",
       "        vertical-align: middle;\n",
       "    }\n",
       "\n",
       "    .dataframe tbody tr th {\n",
       "        vertical-align: top;\n",
       "    }\n",
       "\n",
       "    .dataframe thead th {\n",
       "        text-align: right;\n",
       "    }\n",
       "</style>\n",
       "<table border=\"1\" class=\"dataframe\">\n",
       "  <thead>\n",
       "    <tr style=\"text-align: right;\">\n",
       "      <th></th>\n",
       "      <th>uf</th>\n",
       "      <th>nome_x</th>\n",
       "      <th>sim_frequencia</th>\n",
       "      <th>sim_percentual</th>\n",
       "      <th>nao_frequencia</th>\n",
       "      <th>nao_percentual</th>\n",
       "      <th>total</th>\n",
       "      <th>nomeEdit</th>\n",
       "      <th>codigo_ibge</th>\n",
       "      <th>nome_y</th>\n",
       "      <th>latitude</th>\n",
       "      <th>longitude</th>\n",
       "      <th>capital</th>\n",
       "      <th>novoNome</th>\n",
       "    </tr>\n",
       "  </thead>\n",
       "  <tbody>\n",
       "    <tr>\n",
       "      <th>0</th>\n",
       "      <td>AC</td>\n",
       "      <td>Acre</td>\n",
       "      <td>200674.0</td>\n",
       "      <td>0.934515</td>\n",
       "      <td>14062.0</td>\n",
       "      <td>0.065485</td>\n",
       "      <td>214736.0</td>\n",
       "      <td>acre</td>\n",
       "      <td>12</td>\n",
       "      <td>Acre</td>\n",
       "      <td>-8.77000</td>\n",
       "      <td>-70.5500</td>\n",
       "      <td>2</td>\n",
       "      <td>Acre</td>\n",
       "    </tr>\n",
       "    <tr>\n",
       "      <th>1</th>\n",
       "      <td>AC</td>\n",
       "      <td>Acrelândia (AC)</td>\n",
       "      <td>3255.0</td>\n",
       "      <td>0.967311</td>\n",
       "      <td>110.0</td>\n",
       "      <td>0.032689</td>\n",
       "      <td>3365.0</td>\n",
       "      <td>acrelandia(ac)</td>\n",
       "      <td>1200013</td>\n",
       "      <td>Acrelândia</td>\n",
       "      <td>-9.82581</td>\n",
       "      <td>-66.8972</td>\n",
       "      <td>0</td>\n",
       "      <td>Acrelândia (AC)</td>\n",
       "    </tr>\n",
       "    <tr>\n",
       "      <th>2</th>\n",
       "      <td>AC</td>\n",
       "      <td>Assis Brasil (AC)</td>\n",
       "      <td>1605.0</td>\n",
       "      <td>0.918192</td>\n",
       "      <td>143.0</td>\n",
       "      <td>0.081808</td>\n",
       "      <td>1748.0</td>\n",
       "      <td>assisbrasil(ac)</td>\n",
       "      <td>1200054</td>\n",
       "      <td>Assis Brasil</td>\n",
       "      <td>-10.92980</td>\n",
       "      <td>-69.5738</td>\n",
       "      <td>0</td>\n",
       "      <td>Assis Brasil (AC)</td>\n",
       "    </tr>\n",
       "    <tr>\n",
       "      <th>3</th>\n",
       "      <td>AC</td>\n",
       "      <td>Brasiléia (AC)</td>\n",
       "      <td>5719.0</td>\n",
       "      <td>0.945133</td>\n",
       "      <td>332.0</td>\n",
       "      <td>0.054867</td>\n",
       "      <td>6051.0</td>\n",
       "      <td>brasileia(ac)</td>\n",
       "      <td>1200104</td>\n",
       "      <td>Brasiléia</td>\n",
       "      <td>-10.99500</td>\n",
       "      <td>-68.7497</td>\n",
       "      <td>0</td>\n",
       "      <td>Brasiléia (AC)</td>\n",
       "    </tr>\n",
       "    <tr>\n",
       "      <th>4</th>\n",
       "      <td>AC</td>\n",
       "      <td>Bujari (AC)</td>\n",
       "      <td>2061.0</td>\n",
       "      <td>0.920500</td>\n",
       "      <td>178.0</td>\n",
       "      <td>0.079500</td>\n",
       "      <td>2239.0</td>\n",
       "      <td>bujari(ac)</td>\n",
       "      <td>1200138</td>\n",
       "      <td>Bujari</td>\n",
       "      <td>-9.81528</td>\n",
       "      <td>-67.9550</td>\n",
       "      <td>0</td>\n",
       "      <td>Bujari (AC)</td>\n",
       "    </tr>\n",
       "    <tr>\n",
       "      <th>...</th>\n",
       "      <td>...</td>\n",
       "      <td>...</td>\n",
       "      <td>...</td>\n",
       "      <td>...</td>\n",
       "      <td>...</td>\n",
       "      <td>...</td>\n",
       "      <td>...</td>\n",
       "      <td>...</td>\n",
       "      <td>...</td>\n",
       "      <td>...</td>\n",
       "      <td>...</td>\n",
       "      <td>...</td>\n",
       "      <td>...</td>\n",
       "      <td>...</td>\n",
       "    </tr>\n",
       "    <tr>\n",
       "      <th>5587</th>\n",
       "      <td>SC</td>\n",
       "      <td>Witmarsum (SC)</td>\n",
       "      <td>881.0</td>\n",
       "      <td>1.000000</td>\n",
       "      <td>0.0</td>\n",
       "      <td>0.000000</td>\n",
       "      <td>881.0</td>\n",
       "      <td>witmarsum(sc)</td>\n",
       "      <td>4219408</td>\n",
       "      <td>Witmarsum</td>\n",
       "      <td>-26.92750</td>\n",
       "      <td>-49.7947</td>\n",
       "      <td>0</td>\n",
       "      <td>Witmarsum (SC)</td>\n",
       "    </tr>\n",
       "    <tr>\n",
       "      <th>5588</th>\n",
       "      <td>SC</td>\n",
       "      <td>Xanxerê (SC)</td>\n",
       "      <td>11842.0</td>\n",
       "      <td>0.989885</td>\n",
       "      <td>121.0</td>\n",
       "      <td>0.010115</td>\n",
       "      <td>11963.0</td>\n",
       "      <td>xanxere(sc)</td>\n",
       "      <td>4219507</td>\n",
       "      <td>Xanxerê</td>\n",
       "      <td>-26.87470</td>\n",
       "      <td>-52.4036</td>\n",
       "      <td>0</td>\n",
       "      <td>Xanxerê (SC)</td>\n",
       "    </tr>\n",
       "    <tr>\n",
       "      <th>5589</th>\n",
       "      <td>SC</td>\n",
       "      <td>Xavantina (SC)</td>\n",
       "      <td>951.0</td>\n",
       "      <td>1.000000</td>\n",
       "      <td>0.0</td>\n",
       "      <td>0.000000</td>\n",
       "      <td>951.0</td>\n",
       "      <td>xavantina(sc)</td>\n",
       "      <td>4219606</td>\n",
       "      <td>Xavantina</td>\n",
       "      <td>-27.06670</td>\n",
       "      <td>-52.3430</td>\n",
       "      <td>0</td>\n",
       "      <td>Xavantina (SC)</td>\n",
       "    </tr>\n",
       "    <tr>\n",
       "      <th>5590</th>\n",
       "      <td>SC</td>\n",
       "      <td>Xaxim (SC)</td>\n",
       "      <td>6792.0</td>\n",
       "      <td>0.984776</td>\n",
       "      <td>105.0</td>\n",
       "      <td>0.015224</td>\n",
       "      <td>6897.0</td>\n",
       "      <td>xaxim(sc)</td>\n",
       "      <td>4219705</td>\n",
       "      <td>Xaxim</td>\n",
       "      <td>-26.95960</td>\n",
       "      <td>-52.5374</td>\n",
       "      <td>0</td>\n",
       "      <td>Xaxim (SC)</td>\n",
       "    </tr>\n",
       "    <tr>\n",
       "      <th>5591</th>\n",
       "      <td>SC</td>\n",
       "      <td>Zortéa (SC)</td>\n",
       "      <td>760.0</td>\n",
       "      <td>1.000000</td>\n",
       "      <td>0.0</td>\n",
       "      <td>0.000000</td>\n",
       "      <td>760.0</td>\n",
       "      <td>zortea(sc)</td>\n",
       "      <td>4219853</td>\n",
       "      <td>Zortéa</td>\n",
       "      <td>-27.45210</td>\n",
       "      <td>-51.5520</td>\n",
       "      <td>0</td>\n",
       "      <td>Zortéa (SC)</td>\n",
       "    </tr>\n",
       "  </tbody>\n",
       "</table>\n",
       "<p>5592 rows × 14 columns</p>\n",
       "</div>"
      ],
      "text/plain": [
       "      uf             nome_x  ...  capital           novoNome\n",
       "0     AC              Acre   ...        2               Acre\n",
       "1     AC    Acrelândia (AC)  ...        0    Acrelândia (AC)\n",
       "2     AC  Assis Brasil (AC)  ...        0  Assis Brasil (AC)\n",
       "3     AC     Brasiléia (AC)  ...        0     Brasiléia (AC)\n",
       "4     AC        Bujari (AC)  ...        0        Bujari (AC)\n",
       "...   ..                ...  ...      ...                ...\n",
       "5587  SC     Witmarsum (SC)  ...        0     Witmarsum (SC)\n",
       "5588  SC       Xanxerê (SC)  ...        0       Xanxerê (SC)\n",
       "5589  SC     Xavantina (SC)  ...        0     Xavantina (SC)\n",
       "5590  SC         Xaxim (SC)  ...        0         Xaxim (SC)\n",
       "5591  SC        Zortéa (SC)  ...        0        Zortéa (SC)\n",
       "\n",
       "[5592 rows x 14 columns]"
      ]
     },
     "execution_count": 164,
     "metadata": {
      "tags": []
     },
     "output_type": "execute_result"
    }
   ],
   "source": [
    "dataset_merge"
   ]
  },
  {
   "cell_type": "code",
   "execution_count": 173,
   "metadata": {
    "colab": {
     "base_uri": "https://localhost:8080/",
     "height": 306
    },
    "colab_type": "code",
    "id": "ecJkqI0dxILr",
    "outputId": "1431dcc2-3118-4f92-e948-43fee2e04471"
   },
   "outputs": [
    {
     "name": "stdout",
     "output_type": "stream",
     "text": [
      "<class 'pandas.core.frame.DataFrame'>\n",
      "Int64Index: 5592 entries, 0 to 5591\n",
      "Data columns (total 10 columns):\n",
      " #   Column          Non-Null Count  Dtype  \n",
      "---  ------          --------------  -----  \n",
      " 0   uf              5592 non-null   object \n",
      " 1   nome            5592 non-null   object \n",
      " 2   sim_frequencia  5592 non-null   float64\n",
      " 3   sim_percentual  5592 non-null   float64\n",
      " 4   nao_frequencia  5592 non-null   float64\n",
      " 5   nao_percentual  5592 non-null   float64\n",
      " 6   total           5592 non-null   float64\n",
      " 7   codigo_ibge     5592 non-null   int64  \n",
      " 8   latitude        5592 non-null   float64\n",
      " 9   longitude       5592 non-null   float64\n",
      "dtypes: float64(7), int64(1), object(2)\n",
      "memory usage: 480.6+ KB\n"
     ]
    }
   ],
   "source": [
    "dataset_merge.info()"
   ]
  },
  {
   "cell_type": "code",
   "execution_count": 166,
   "metadata": {
    "colab": {},
    "colab_type": "code",
    "id": "pJBZmpWKQtSj"
   },
   "outputs": [],
   "source": [
    "dataset_right = pd.merge(tabela, geo, how='right', left_on=['uf','nomeEdit'],right_on=['uf','nomeEdit'])"
   ]
  },
  {
   "cell_type": "code",
   "execution_count": 167,
   "metadata": {
    "colab": {
     "base_uri": "https://localhost:8080/",
     "height": 374
    },
    "colab_type": "code",
    "id": "j_AHgDKORKX9",
    "outputId": "2de61d29-2c82-4715-ec95-341691a38956"
   },
   "outputs": [
    {
     "name": "stdout",
     "output_type": "stream",
     "text": [
      "<class 'pandas.core.frame.DataFrame'>\n",
      "Int64Index: 5618 entries, 0 to 5617\n",
      "Data columns (total 14 columns):\n",
      " #   Column          Non-Null Count  Dtype  \n",
      "---  ------          --------------  -----  \n",
      " 0   uf              5618 non-null   object \n",
      " 1   nome_x          5592 non-null   object \n",
      " 2   sim_frequencia  5592 non-null   float64\n",
      " 3   sim_percentual  5592 non-null   float64\n",
      " 4   nao_frequencia  5592 non-null   float64\n",
      " 5   nao_percentual  5592 non-null   float64\n",
      " 6   total           5592 non-null   float64\n",
      " 7   nomeEdit        5618 non-null   object \n",
      " 8   codigo_ibge     5618 non-null   int64  \n",
      " 9   nome_y          5618 non-null   object \n",
      " 10  latitude        5618 non-null   float64\n",
      " 11  longitude       5618 non-null   float64\n",
      " 12  capital         5618 non-null   int64  \n",
      " 13  novoNome        5618 non-null   object \n",
      "dtypes: float64(7), int64(2), object(5)\n",
      "memory usage: 658.4+ KB\n"
     ]
    }
   ],
   "source": [
    "dataset_right.info()"
   ]
  },
  {
   "cell_type": "code",
   "execution_count": 168,
   "metadata": {
    "colab": {},
    "colab_type": "code",
    "id": "1KqdXRsjRTxI"
   },
   "outputs": [],
   "source": [
    "notfound = dataset_right[dataset_right.isna().any(axis=1)]"
   ]
  },
  {
   "cell_type": "code",
   "execution_count": 169,
   "metadata": {
    "colab": {},
    "colab_type": "code",
    "id": "-ooKaxGoRTuw"
   },
   "outputs": [],
   "source": [
    "#notfound.loc[notfound['estado'] != 'Brasil'].sort_values(by=['estado'])"
   ]
  },
  {
   "cell_type": "code",
   "execution_count": 170,
   "metadata": {
    "colab": {
     "base_uri": "https://localhost:8080/",
     "height": 974
    },
    "colab_type": "code",
    "id": "ZCxPjbvZRTr4",
    "outputId": "33adc2bc-9a39-4c74-e32e-2abe8b1d7c03"
   },
   "outputs": [
    {
     "data": {
      "text/html": [
       "<div>\n",
       "<style scoped>\n",
       "    .dataframe tbody tr th:only-of-type {\n",
       "        vertical-align: middle;\n",
       "    }\n",
       "\n",
       "    .dataframe tbody tr th {\n",
       "        vertical-align: top;\n",
       "    }\n",
       "\n",
       "    .dataframe thead th {\n",
       "        text-align: right;\n",
       "    }\n",
       "</style>\n",
       "<table border=\"1\" class=\"dataframe\">\n",
       "  <thead>\n",
       "    <tr style=\"text-align: right;\">\n",
       "      <th></th>\n",
       "      <th>uf</th>\n",
       "      <th>nome_x</th>\n",
       "      <th>sim_frequencia</th>\n",
       "      <th>sim_percentual</th>\n",
       "      <th>nao_frequencia</th>\n",
       "      <th>nao_percentual</th>\n",
       "      <th>total</th>\n",
       "      <th>nomeEdit</th>\n",
       "      <th>codigo_ibge</th>\n",
       "      <th>nome_y</th>\n",
       "      <th>latitude</th>\n",
       "      <th>longitude</th>\n",
       "      <th>capital</th>\n",
       "      <th>novoNome</th>\n",
       "    </tr>\n",
       "  </thead>\n",
       "  <tbody>\n",
       "    <tr>\n",
       "      <th>5598</th>\n",
       "      <td>BA</td>\n",
       "      <td>NaN</td>\n",
       "      <td>NaN</td>\n",
       "      <td>NaN</td>\n",
       "      <td>NaN</td>\n",
       "      <td>NaN</td>\n",
       "      <td>NaN</td>\n",
       "      <td>muquemdesaofrancisco(ba)</td>\n",
       "      <td>2922250</td>\n",
       "      <td>Muquém de São Francisco</td>\n",
       "      <td>-12.065000</td>\n",
       "      <td>-43.549700</td>\n",
       "      <td>0</td>\n",
       "      <td>Muquém de São Francisco (BA)</td>\n",
       "    </tr>\n",
       "    <tr>\n",
       "      <th>5602</th>\n",
       "      <td>BA</td>\n",
       "      <td>NaN</td>\n",
       "      <td>NaN</td>\n",
       "      <td>NaN</td>\n",
       "      <td>NaN</td>\n",
       "      <td>NaN</td>\n",
       "      <td>NaN</td>\n",
       "      <td>santateresinha(ba)</td>\n",
       "      <td>2928505</td>\n",
       "      <td>Santa Teresinha</td>\n",
       "      <td>-12.769700</td>\n",
       "      <td>-39.521500</td>\n",
       "      <td>0</td>\n",
       "      <td>Santa Teresinha (BA)</td>\n",
       "    </tr>\n",
       "    <tr>\n",
       "      <th>5592</th>\n",
       "      <td>BR</td>\n",
       "      <td>NaN</td>\n",
       "      <td>NaN</td>\n",
       "      <td>NaN</td>\n",
       "      <td>NaN</td>\n",
       "      <td>NaN</td>\n",
       "      <td>NaN</td>\n",
       "      <td>brasil</td>\n",
       "      <td>1</td>\n",
       "      <td>Brasil</td>\n",
       "      <td>-13.495277</td>\n",
       "      <td>-71.577063</td>\n",
       "      <td>2</td>\n",
       "      <td>Brasil</td>\n",
       "    </tr>\n",
       "    <tr>\n",
       "      <th>5606</th>\n",
       "      <td>CE</td>\n",
       "      <td>NaN</td>\n",
       "      <td>NaN</td>\n",
       "      <td>NaN</td>\n",
       "      <td>NaN</td>\n",
       "      <td>NaN</td>\n",
       "      <td>NaN</td>\n",
       "      <td>itapage(ce)</td>\n",
       "      <td>2306306</td>\n",
       "      <td>Itapagé</td>\n",
       "      <td>-3.683140</td>\n",
       "      <td>-39.585500</td>\n",
       "      <td>0</td>\n",
       "      <td>Itapagé (CE)</td>\n",
       "    </tr>\n",
       "    <tr>\n",
       "      <th>5615</th>\n",
       "      <td>MG</td>\n",
       "      <td>NaN</td>\n",
       "      <td>NaN</td>\n",
       "      <td>NaN</td>\n",
       "      <td>NaN</td>\n",
       "      <td>NaN</td>\n",
       "      <td>NaN</td>\n",
       "      <td>brasopolis(mg)</td>\n",
       "      <td>3108909</td>\n",
       "      <td>Brasópolis</td>\n",
       "      <td>-22.474300</td>\n",
       "      <td>-45.616600</td>\n",
       "      <td>0</td>\n",
       "      <td>Brasópolis (MG)</td>\n",
       "    </tr>\n",
       "    <tr>\n",
       "      <th>5599</th>\n",
       "      <td>MS</td>\n",
       "      <td>NaN</td>\n",
       "      <td>NaN</td>\n",
       "      <td>NaN</td>\n",
       "      <td>NaN</td>\n",
       "      <td>NaN</td>\n",
       "      <td>NaN</td>\n",
       "      <td>paraisodasaguas(ms)</td>\n",
       "      <td>5006275</td>\n",
       "      <td>Paraíso das Águas</td>\n",
       "      <td>-19.021600</td>\n",
       "      <td>-53.011600</td>\n",
       "      <td>0</td>\n",
       "      <td>Paraíso das Águas (MS)</td>\n",
       "    </tr>\n",
       "    <tr>\n",
       "      <th>5616</th>\n",
       "      <td>MT</td>\n",
       "      <td>NaN</td>\n",
       "      <td>NaN</td>\n",
       "      <td>NaN</td>\n",
       "      <td>NaN</td>\n",
       "      <td>NaN</td>\n",
       "      <td>NaN</td>\n",
       "      <td>poxoreo(mt)</td>\n",
       "      <td>5107008</td>\n",
       "      <td>Poxoréo</td>\n",
       "      <td>-15.829900</td>\n",
       "      <td>-54.420800</td>\n",
       "      <td>0</td>\n",
       "      <td>Poxoréo (MT)</td>\n",
       "    </tr>\n",
       "    <tr>\n",
       "      <th>5610</th>\n",
       "      <td>PA</td>\n",
       "      <td>NaN</td>\n",
       "      <td>NaN</td>\n",
       "      <td>NaN</td>\n",
       "      <td>NaN</td>\n",
       "      <td>NaN</td>\n",
       "      <td>NaN</td>\n",
       "      <td>eldoradodoscarajas(pa)</td>\n",
       "      <td>1502954</td>\n",
       "      <td>Eldorado dos Carajás</td>\n",
       "      <td>-6.103890</td>\n",
       "      <td>-49.355300</td>\n",
       "      <td>0</td>\n",
       "      <td>Eldorado dos Carajás (PA)</td>\n",
       "    </tr>\n",
       "    <tr>\n",
       "      <th>5597</th>\n",
       "      <td>PA</td>\n",
       "      <td>NaN</td>\n",
       "      <td>NaN</td>\n",
       "      <td>NaN</td>\n",
       "      <td>NaN</td>\n",
       "      <td>NaN</td>\n",
       "      <td>NaN</td>\n",
       "      <td>mojuidoscampos(pa)</td>\n",
       "      <td>1504752</td>\n",
       "      <td>Mojuí dos Campos</td>\n",
       "      <td>-2.682200</td>\n",
       "      <td>-54.642500</td>\n",
       "      <td>0</td>\n",
       "      <td>Mojuí dos Campos (PA)</td>\n",
       "    </tr>\n",
       "    <tr>\n",
       "      <th>5611</th>\n",
       "      <td>PA</td>\n",
       "      <td>NaN</td>\n",
       "      <td>NaN</td>\n",
       "      <td>NaN</td>\n",
       "      <td>NaN</td>\n",
       "      <td>NaN</td>\n",
       "      <td>NaN</td>\n",
       "      <td>santaisabeldopara(pa)</td>\n",
       "      <td>1506500</td>\n",
       "      <td>Santa Isabel do Pará</td>\n",
       "      <td>-1.296860</td>\n",
       "      <td>-48.160600</td>\n",
       "      <td>0</td>\n",
       "      <td>Santa Isabel do Pará (PA)</td>\n",
       "    </tr>\n",
       "    <tr>\n",
       "      <th>5612</th>\n",
       "      <td>PB</td>\n",
       "      <td>NaN</td>\n",
       "      <td>NaN</td>\n",
       "      <td>NaN</td>\n",
       "      <td>NaN</td>\n",
       "      <td>NaN</td>\n",
       "      <td>NaN</td>\n",
       "      <td>santarem(pb)</td>\n",
       "      <td>2513653</td>\n",
       "      <td>Santarém</td>\n",
       "      <td>-6.483620</td>\n",
       "      <td>-38.476400</td>\n",
       "      <td>0</td>\n",
       "      <td>Santarém (PB)</td>\n",
       "    </tr>\n",
       "    <tr>\n",
       "      <th>5613</th>\n",
       "      <td>PB</td>\n",
       "      <td>NaN</td>\n",
       "      <td>NaN</td>\n",
       "      <td>NaN</td>\n",
       "      <td>NaN</td>\n",
       "      <td>NaN</td>\n",
       "      <td>NaN</td>\n",
       "      <td>serido(pb)</td>\n",
       "      <td>2515401</td>\n",
       "      <td>Seridó</td>\n",
       "      <td>-6.854260</td>\n",
       "      <td>-36.412200</td>\n",
       "      <td>0</td>\n",
       "      <td>Seridó (PB)</td>\n",
       "    </tr>\n",
       "    <tr>\n",
       "      <th>5614</th>\n",
       "      <td>PE</td>\n",
       "      <td>NaN</td>\n",
       "      <td>NaN</td>\n",
       "      <td>NaN</td>\n",
       "      <td>NaN</td>\n",
       "      <td>NaN</td>\n",
       "      <td>NaN</td>\n",
       "      <td>iguaraci(pe)</td>\n",
       "      <td>2606903</td>\n",
       "      <td>Iguaraci</td>\n",
       "      <td>-7.832220</td>\n",
       "      <td>-37.508200</td>\n",
       "      <td>0</td>\n",
       "      <td>Iguaraci (PE)</td>\n",
       "    </tr>\n",
       "    <tr>\n",
       "      <th>5603</th>\n",
       "      <td>PE</td>\n",
       "      <td>NaN</td>\n",
       "      <td>NaN</td>\n",
       "      <td>NaN</td>\n",
       "      <td>NaN</td>\n",
       "      <td>NaN</td>\n",
       "      <td>NaN</td>\n",
       "      <td>saocaetano(pe)</td>\n",
       "      <td>2613107</td>\n",
       "      <td>São Caetano</td>\n",
       "      <td>-8.337630</td>\n",
       "      <td>-36.286900</td>\n",
       "      <td>0</td>\n",
       "      <td>São Caetano (PE)</td>\n",
       "    </tr>\n",
       "    <tr>\n",
       "      <th>5593</th>\n",
       "      <td>RN</td>\n",
       "      <td>NaN</td>\n",
       "      <td>NaN</td>\n",
       "      <td>NaN</td>\n",
       "      <td>NaN</td>\n",
       "      <td>NaN</td>\n",
       "      <td>NaN</td>\n",
       "      <td>augustosevero(campogrande)(rn)</td>\n",
       "      <td>2401305</td>\n",
       "      <td>Augusto Severo (Campo Grande)</td>\n",
       "      <td>-5.862060</td>\n",
       "      <td>-37.313500</td>\n",
       "      <td>0</td>\n",
       "      <td>Augusto Severo (Campo Grande) (RN)</td>\n",
       "    </tr>\n",
       "    <tr>\n",
       "      <th>5605</th>\n",
       "      <td>RN</td>\n",
       "      <td>NaN</td>\n",
       "      <td>NaN</td>\n",
       "      <td>NaN</td>\n",
       "      <td>NaN</td>\n",
       "      <td>NaN</td>\n",
       "      <td>NaN</td>\n",
       "      <td>boasaude(rn)</td>\n",
       "      <td>2405306</td>\n",
       "      <td>Boa Saúde</td>\n",
       "      <td>-6.165660</td>\n",
       "      <td>-35.621900</td>\n",
       "      <td>0</td>\n",
       "      <td>Boa Saúde (RN)</td>\n",
       "    </tr>\n",
       "    <tr>\n",
       "      <th>5604</th>\n",
       "      <td>RN</td>\n",
       "      <td>NaN</td>\n",
       "      <td>NaN</td>\n",
       "      <td>NaN</td>\n",
       "      <td>NaN</td>\n",
       "      <td>NaN</td>\n",
       "      <td>NaN</td>\n",
       "      <td>campogrande(rn)</td>\n",
       "      <td>2401305</td>\n",
       "      <td>Campo Grande</td>\n",
       "      <td>-5.862060</td>\n",
       "      <td>-37.313500</td>\n",
       "      <td>0</td>\n",
       "      <td>Campo Grande (RN)</td>\n",
       "    </tr>\n",
       "    <tr>\n",
       "      <th>5596</th>\n",
       "      <td>RN</td>\n",
       "      <td>NaN</td>\n",
       "      <td>NaN</td>\n",
       "      <td>NaN</td>\n",
       "      <td>NaN</td>\n",
       "      <td>NaN</td>\n",
       "      <td>NaN</td>\n",
       "      <td>januariocicco(boasaude)(rn)</td>\n",
       "      <td>2405306</td>\n",
       "      <td>Januário Cicco (Boa Saúde)</td>\n",
       "      <td>-6.165660</td>\n",
       "      <td>-35.621900</td>\n",
       "      <td>0</td>\n",
       "      <td>Januário Cicco (Boa Saúde) (RN)</td>\n",
       "    </tr>\n",
       "    <tr>\n",
       "      <th>5601</th>\n",
       "      <td>RS</td>\n",
       "      <td>NaN</td>\n",
       "      <td>NaN</td>\n",
       "      <td>NaN</td>\n",
       "      <td>NaN</td>\n",
       "      <td>NaN</td>\n",
       "      <td>NaN</td>\n",
       "      <td>pintobandeira(rs)</td>\n",
       "      <td>4314548</td>\n",
       "      <td>Pinto Bandeira</td>\n",
       "      <td>-29.097500</td>\n",
       "      <td>-51.450300</td>\n",
       "      <td>0</td>\n",
       "      <td>Pinto Bandeira (RS)</td>\n",
       "    </tr>\n",
       "    <tr>\n",
       "      <th>5594</th>\n",
       "      <td>SC</td>\n",
       "      <td>NaN</td>\n",
       "      <td>NaN</td>\n",
       "      <td>NaN</td>\n",
       "      <td>NaN</td>\n",
       "      <td>NaN</td>\n",
       "      <td>NaN</td>\n",
       "      <td>balneariorincao(sc)</td>\n",
       "      <td>4220000</td>\n",
       "      <td>Balneário Rincão</td>\n",
       "      <td>-28.831400</td>\n",
       "      <td>-49.235200</td>\n",
       "      <td>0</td>\n",
       "      <td>Balneário Rincão (SC)</td>\n",
       "    </tr>\n",
       "    <tr>\n",
       "      <th>5600</th>\n",
       "      <td>SC</td>\n",
       "      <td>NaN</td>\n",
       "      <td>NaN</td>\n",
       "      <td>NaN</td>\n",
       "      <td>NaN</td>\n",
       "      <td>NaN</td>\n",
       "      <td>NaN</td>\n",
       "      <td>pescariabrava(sc)</td>\n",
       "      <td>4212650</td>\n",
       "      <td>Pescaria Brava</td>\n",
       "      <td>-28.396600</td>\n",
       "      <td>-48.886400</td>\n",
       "      <td>0</td>\n",
       "      <td>Pescaria Brava (SC)</td>\n",
       "    </tr>\n",
       "    <tr>\n",
       "      <th>5607</th>\n",
       "      <td>SP</td>\n",
       "      <td>NaN</td>\n",
       "      <td>NaN</td>\n",
       "      <td>NaN</td>\n",
       "      <td>NaN</td>\n",
       "      <td>NaN</td>\n",
       "      <td>NaN</td>\n",
       "      <td>embu(sp)</td>\n",
       "      <td>3515004</td>\n",
       "      <td>Embu</td>\n",
       "      <td>-23.643700</td>\n",
       "      <td>-46.857900</td>\n",
       "      <td>0</td>\n",
       "      <td>Embu (SP)</td>\n",
       "    </tr>\n",
       "    <tr>\n",
       "      <th>5595</th>\n",
       "      <td>SP</td>\n",
       "      <td>NaN</td>\n",
       "      <td>NaN</td>\n",
       "      <td>NaN</td>\n",
       "      <td>NaN</td>\n",
       "      <td>NaN</td>\n",
       "      <td>NaN</td>\n",
       "      <td>florinia(sp)</td>\n",
       "      <td>3516101</td>\n",
       "      <td>Florínia</td>\n",
       "      <td>-22.868000</td>\n",
       "      <td>-50.681400</td>\n",
       "      <td>0</td>\n",
       "      <td>Florínia (SP)</td>\n",
       "    </tr>\n",
       "    <tr>\n",
       "      <th>5608</th>\n",
       "      <td>SP</td>\n",
       "      <td>NaN</td>\n",
       "      <td>NaN</td>\n",
       "      <td>NaN</td>\n",
       "      <td>NaN</td>\n",
       "      <td>NaN</td>\n",
       "      <td>NaN</td>\n",
       "      <td>mojimirim(sp)</td>\n",
       "      <td>3530805</td>\n",
       "      <td>Moji Mirim</td>\n",
       "      <td>-22.433200</td>\n",
       "      <td>-46.953200</td>\n",
       "      <td>0</td>\n",
       "      <td>Moji Mirim (SP)</td>\n",
       "    </tr>\n",
       "    <tr>\n",
       "      <th>5609</th>\n",
       "      <td>SP</td>\n",
       "      <td>NaN</td>\n",
       "      <td>NaN</td>\n",
       "      <td>NaN</td>\n",
       "      <td>NaN</td>\n",
       "      <td>NaN</td>\n",
       "      <td>NaN</td>\n",
       "      <td>saoluisdoparaitinga(sp)</td>\n",
       "      <td>3550001</td>\n",
       "      <td>São Luís do Paraitinga</td>\n",
       "      <td>-23.222000</td>\n",
       "      <td>-45.310900</td>\n",
       "      <td>0</td>\n",
       "      <td>São Luís do Paraitinga (SP)</td>\n",
       "    </tr>\n",
       "    <tr>\n",
       "      <th>5617</th>\n",
       "      <td>TO</td>\n",
       "      <td>NaN</td>\n",
       "      <td>NaN</td>\n",
       "      <td>NaN</td>\n",
       "      <td>NaN</td>\n",
       "      <td>NaN</td>\n",
       "      <td>NaN</td>\n",
       "      <td>saovaleriodanatividade(to)</td>\n",
       "      <td>1720499</td>\n",
       "      <td>São Valério da Natividade</td>\n",
       "      <td>-11.974300</td>\n",
       "      <td>-48.235300</td>\n",
       "      <td>0</td>\n",
       "      <td>São Valério da Natividade (TO)</td>\n",
       "    </tr>\n",
       "  </tbody>\n",
       "</table>\n",
       "</div>"
      ],
      "text/plain": [
       "      uf nome_x  ...  capital                            novoNome\n",
       "5598  BA    NaN  ...        0        Muquém de São Francisco (BA)\n",
       "5602  BA    NaN  ...        0                Santa Teresinha (BA)\n",
       "5592  BR    NaN  ...        2                              Brasil\n",
       "5606  CE    NaN  ...        0                        Itapagé (CE)\n",
       "5615  MG    NaN  ...        0                     Brasópolis (MG)\n",
       "5599  MS    NaN  ...        0              Paraíso das Águas (MS)\n",
       "5616  MT    NaN  ...        0                        Poxoréo (MT)\n",
       "5610  PA    NaN  ...        0           Eldorado dos Carajás (PA)\n",
       "5597  PA    NaN  ...        0               Mojuí dos Campos (PA)\n",
       "5611  PA    NaN  ...        0           Santa Isabel do Pará (PA)\n",
       "5612  PB    NaN  ...        0                       Santarém (PB)\n",
       "5613  PB    NaN  ...        0                         Seridó (PB)\n",
       "5614  PE    NaN  ...        0                       Iguaraci (PE)\n",
       "5603  PE    NaN  ...        0                    São Caetano (PE)\n",
       "5593  RN    NaN  ...        0  Augusto Severo (Campo Grande) (RN)\n",
       "5605  RN    NaN  ...        0                      Boa Saúde (RN)\n",
       "5604  RN    NaN  ...        0                   Campo Grande (RN)\n",
       "5596  RN    NaN  ...        0     Januário Cicco (Boa Saúde) (RN)\n",
       "5601  RS    NaN  ...        0                 Pinto Bandeira (RS)\n",
       "5594  SC    NaN  ...        0               Balneário Rincão (SC)\n",
       "5600  SC    NaN  ...        0                 Pescaria Brava (SC)\n",
       "5607  SP    NaN  ...        0                           Embu (SP)\n",
       "5595  SP    NaN  ...        0                       Florínia (SP)\n",
       "5608  SP    NaN  ...        0                     Moji Mirim (SP)\n",
       "5609  SP    NaN  ...        0         São Luís do Paraitinga (SP)\n",
       "5617  TO    NaN  ...        0      São Valério da Natividade (TO)\n",
       "\n",
       "[26 rows x 14 columns]"
      ]
     },
     "execution_count": 170,
     "metadata": {
      "tags": []
     },
     "output_type": "execute_result"
    }
   ],
   "source": [
    "notfound.sort_values(by=['uf','nome_y'])"
   ]
  },
  {
   "cell_type": "code",
   "execution_count": null,
   "metadata": {
    "colab": {},
    "colab_type": "code",
    "id": "Us9F83mlxPb7"
   },
   "outputs": [],
   "source": [
    "#coluna estado pode ser ignorada quando é brasil\n",
    "dataset_merge.drop(columns='estado', inplace=True)\n",
    "dataset_merge.drop(columns='cep', inplace=True)"
   ]
  },
  {
   "cell_type": "code",
   "execution_count": null,
   "metadata": {
    "colab": {
     "base_uri": "https://localhost:8080/",
     "height": 408
    },
    "colab_type": "code",
    "id": "fpEzy8b5FYCE",
    "outputId": "c722de5e-09d0-4a58-83b7-87a0b0a6a392"
   },
   "outputs": [
    {
     "name": "stdout",
     "output_type": "stream",
     "text": [
      "<class 'pandas.core.frame.DataFrame'>\n",
      "Int64Index: 28 entries, 0 to 27\n",
      "Data columns (total 16 columns):\n",
      " #   Column                                                                   Non-Null Count  Dtype  \n",
      "---  ------                                                                   --------------  -----  \n",
      " 0   uf                                                                       28 non-null     object \n",
      " 1   nome                                                                     28 non-null     object \n",
      " 2   nao_aplicavel_(pessoas_que_nao_estao_estudando)                          28 non-null     int64  \n",
      " 3   alfabetizacao_de_jovens_e_adultos                                        28 non-null     int64  \n",
      " 4   regular_do_ensino_fundamental                                            28 non-null     int64  \n",
      " 5   educacao_de_jovens_e_adultos_-_eja_-_ou_supletivo_do_ensino_fundamental  28 non-null     int64  \n",
      " 6   regular_do_ensino_medio                                                  28 non-null     int64  \n",
      " 7   educacao_de_jovens_e_adultos_-_eja_-_ou_supletivo_do_ensino_medio        28 non-null     int64  \n",
      " 8   superior_de_graduacao                                                    28 non-null     int64  \n",
      " 9   especializacao_de_nivel_superior_(minimo_de_360_horas)                   28 non-null     int64  \n",
      " 10  mestrado                                                                 28 non-null     int64  \n",
      " 11  doutorado                                                                28 non-null     int64  \n",
      " 12  total                                                                    28 non-null     int64  \n",
      " 13  latitude                                                                 28 non-null     float64\n",
      " 14  longitude                                                                28 non-null     float64\n",
      " 15  cep                                                                      28 non-null     object \n",
      "dtypes: float64(2), int64(11), object(3)\n",
      "memory usage: 3.7+ KB\n"
     ]
    }
   ],
   "source": [
    "dataset_merge.info()"
   ]
  },
  {
   "cell_type": "markdown",
   "metadata": {
    "colab_type": "text",
    "id": "RE1xznv-z9FI"
   },
   "source": [
    "# Salvar arquivo csv final"
   ]
  },
  {
   "cell_type": "code",
   "execution_count": 77,
   "metadata": {
    "colab": {},
    "colab_type": "code",
    "id": "gp2QUvQ9xGXH"
   },
   "outputs": [],
   "source": [
    "#estados\n",
    "dataset_merge.to_csv('Eixo2_Tabela1.csv', index=False, encoding='utf-8')"
   ]
  },
  {
   "cell_type": "code",
   "execution_count": 175,
   "metadata": {
    "colab": {},
    "colab_type": "code",
    "id": "wG2yKBpqxgL4"
   },
   "outputs": [],
   "source": [
    "#municipios\n",
    "dataset_merge.to_csv('Eixo2_Tabela3.csv', index=False, encoding='utf-8')"
   ]
  },
  {
   "cell_type": "code",
   "execution_count": null,
   "metadata": {
    "colab": {},
    "colab_type": "code",
    "id": "imUgZ4iuqSyi"
   },
   "outputs": [],
   "source": []
  }
 ],
 "metadata": {
  "colab": {
   "collapsed_sections": [
    "cXaMjPZzYB3x",
    "XAsVFKaNrqcc",
    "ePq9ZKvGqF2r"
   ],
   "name": "Adicionar LAT/LON aos dados",
   "provenance": [],
   "toc_visible": true
  },
  "kernelspec": {
   "display_name": "Python 3",
   "language": "python",
   "name": "python3"
  },
  "language_info": {
   "codemirror_mode": {
    "name": "ipython",
    "version": 3
   },
   "file_extension": ".py",
   "mimetype": "text/x-python",
   "name": "python",
   "nbconvert_exporter": "python",
   "pygments_lexer": "ipython3",
   "version": "3.7.7"
  }
 },
 "nbformat": 4,
 "nbformat_minor": 1
}
