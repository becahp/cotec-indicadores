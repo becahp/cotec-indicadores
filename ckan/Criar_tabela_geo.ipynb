{
 "cells": [
  {
   "cell_type": "markdown",
   "metadata": {
    "colab_type": "text",
    "id": "50-OnWvotyX8"
   },
   "source": [
    "# Limpeza de strings"
   ]
  },
  {
   "cell_type": "code",
   "execution_count": 3,
   "metadata": {
    "colab": {
     "base_uri": "https://localhost:8080/",
     "height": 34
    },
    "colab_type": "code",
    "id": "l2fBgTvvsXf2",
    "outputId": "6d069597-583a-4680-b598-f21ae4b87904"
   },
   "outputs": [],
   "source": [
    "import unidecode"
   ]
  },
  {
   "cell_type": "code",
   "execution_count": 4,
   "metadata": {
    "colab": {
     "base_uri": "https://localhost:8080/",
     "height": 35
    },
    "colab_type": "code",
    "id": "9GA29GZwsV7P",
    "outputId": "ece601b7-86fc-4825-a5e7-d32e8406dcb9"
   },
   "outputs": [
    {
     "data": {
      "text/plain": [
       "'nova_brasilandia_doeste_oracao'"
      ]
     },
     "execution_count": 4,
     "metadata": {},
     "output_type": "execute_result"
    }
   ],
   "source": [
    "def clean_string(str):\n",
    "    str = str.strip()\n",
    "    str = str.replace(\" \",\"_\") #remover elspaços\n",
    "    str = str.replace(\"'\",\"\") #remover apóstrofos\n",
    "    str = str.lower() #colocar tudo em minúsculas\n",
    "    str = unidecode.unidecode(str) #remover acentuação\n",
    "    return str\n",
    "\n",
    "#exemplo\n",
    "txt = \"Nova Brasilândia D'Oeste oração   \"\n",
    "clean_string(txt)"
   ]
  },
  {
   "cell_type": "code",
   "execution_count": 5,
   "metadata": {
    "colab": {
     "base_uri": "https://localhost:8080/",
     "height": 35
    },
    "colab_type": "code",
    "id": "3m3R5dGEPLZ1",
    "outputId": "6113897d-0b04-486a-93ae-b70399af2170"
   },
   "outputs": [
    {
     "data": {
      "text/plain": [
       "'novabrasilandiadoesteoracao'"
      ]
     },
     "execution_count": 5,
     "metadata": {},
     "output_type": "execute_result"
    }
   ],
   "source": [
    "def clean_string_original(str):\n",
    "    str = str.strip()\n",
    "    str = str.replace(\" \",\"\") #remover espaços\n",
    "    str = str.replace(\"-\",\"\") #remover hifen\n",
    "    str = str.replace(\"'\",\"\") #remover apóstrofos\n",
    "    str = str.lower() #colocar tudo em minúsculas\n",
    "    str = unidecode.unidecode(str) #remover acentuação\n",
    "    return str\n",
    "\n",
    "#exemplo\n",
    "txt = \"Nova Brasilândia D'Oeste oração   \"\n",
    "clean_string_original(txt)"
   ]
  },
  {
   "cell_type": "code",
   "execution_count": 6,
   "metadata": {
    "colab": {
     "base_uri": "https://localhost:8080/",
     "height": 35
    },
    "colab_type": "code",
    "id": "DrX8Wrj_xDH-",
    "outputId": "0aff96d7-b812-4521-9a82-0e0d960ba656"
   },
   "outputs": [
    {
     "data": {
      "text/plain": [
       "'-1.00012'"
      ]
     },
     "execution_count": 6,
     "metadata": {},
     "output_type": "execute_result"
    }
   ],
   "source": [
    "def troca_virgula_por_ponto(text):\n",
    "    text = str(text)\n",
    "    text = text.strip()\n",
    "    text = text.replace(\",\",\".\") #trocar por ponto\n",
    "    return text\n",
    "\n",
    "#exemplo\n",
    "txt = \"-1,00012 \"\n",
    "troca_virgula_por_ponto(txt)"
   ]
  },
  {
   "cell_type": "code",
   "execution_count": 7,
   "metadata": {
    "colab": {},
    "colab_type": "code",
    "id": "q2mtrqoo9Pdh"
   },
   "outputs": [],
   "source": [
    "#Paraíba é com acento\n",
    "def correcao_paraiba(text):\n",
    "    if (str(text) == 'Paraiba'):\n",
    "        text = 'Paraíba'   \n",
    "    if (str(text) == 'Total'):\n",
    "        text = 'Brasil' \n",
    "    return text"
   ]
  },
  {
   "cell_type": "code",
   "execution_count": 8,
   "metadata": {
    "colab": {},
    "colab_type": "code",
    "id": "MBGAT5Ro0Mjo"
   },
   "outputs": [],
   "source": [
    "def remover_parenteses(text):\n",
    "    novo = str(text).strip()\n",
    "    if novo.endswith(')'):\n",
    "        novo = novo[:-4]\n",
    "    return novo.strip()"
   ]
  },
  {
   "cell_type": "code",
   "execution_count": 9,
   "metadata": {
    "colab": {},
    "colab_type": "code",
    "id": "qi12sXumYp5t"
   },
   "outputs": [],
   "source": [
    "correcoes_dados_dicionario = {\n",
    "  \"Tarauacá ARAUACÁ (AC)\": \"Tarauacá (AC)\"\n",
    "}\n",
    "\n",
    "#esses foram duplicados na tabela de nomes\n",
    "#\"Muquém do São Francisco (BA)\": \"Muquém de São Francisco (BA)\",\n",
    "#\"Santa Terezinha (BA)\": \"Santa Teresinha (BA)\",\n",
    "#\"Itapajé (CE)\" : \"Itapagé (CE)\",\n",
    "#\"Florínea (SP)\" : \"Florínia (SP)\",\n",
    "#\"São Caitano (PE)\": \"São Caetano (PE)\"\n",
    "\n",
    "geo_falta = {\n",
    "    \"Santarém (PB)\": \"Joca Claudino (PB)\",\n",
    "    \"Seridó (PB)\": \"São Vicente do Seridó (PB)\",\n",
    "    \"Boa Saúde (RN)\": \"Januário Cicco (RN)\",\n",
    "    \"Campo Grande (RN)\": \"Augusto Severo (RN)\", #Augusto Severo (Campo Grande)\n",
    "    \"Presidente Juscelino (RN)\": \"Serra Caiada (RN)\",\n",
    "    \"Embu (SP)\": \"Embu das Artes (SP)\"\n",
    "}"
   ]
  },
  {
   "cell_type": "code",
   "execution_count": 10,
   "metadata": {
    "colab": {},
    "colab_type": "code",
    "id": "KtlFzdgUr0sz"
   },
   "outputs": [],
   "source": [
    "#nomes ligeiramente errados\n",
    "def correcao_nomes(text):\n",
    "    if (str(text) in correcoes_dados_dicionario.keys()):\n",
    "        text = correcoes_dados_dicionario[text]\n",
    "    return text"
   ]
  },
  {
   "cell_type": "code",
   "execution_count": 18,
   "metadata": {
    "colab": {},
    "colab_type": "code",
    "id": "-bVw-8mRrrji"
   },
   "outputs": [],
   "source": [
    "#'Itapajé (CE)' in correcoes_leslie.keys()\n",
    "#correcoes_dados['Itapajé (CE)']"
   ]
  },
  {
   "cell_type": "markdown",
   "metadata": {
    "colab_type": "text",
    "id": "cXaMjPZzYB3x"
   },
   "source": [
    "# Nova tabela de lat/lon"
   ]
  },
  {
   "cell_type": "code",
   "execution_count": 20,
   "metadata": {
    "colab": {},
    "colab_type": "code",
    "id": "8DH3-e7PYGls"
   },
   "outputs": [],
   "source": [
    "import pandas as pd"
   ]
  },
  {
   "cell_type": "code",
   "execution_count": 15,
   "metadata": {},
   "outputs": [],
   "source": [
    "import wget"
   ]
  },
  {
   "cell_type": "code",
   "execution_count": 18,
   "metadata": {
    "colab": {
     "base_uri": "https://localhost:8080/",
     "height": 204
    },
    "colab_type": "code",
    "id": "jRlrEVw42C8O",
    "outputId": "69619ff4-8c40-4ac1-a325-37c6cd63bede"
   },
   "outputs": [
    {
     "data": {
      "text/plain": [
       "'municipios.csv'"
      ]
     },
     "execution_count": 18,
     "metadata": {},
     "output_type": "execute_result"
    }
   ],
   "source": [
    "#pegar tabela de municipios\n",
    "wget.download(\"https://raw.githubusercontent.com/kelvins/Municipios-Brasileiros/master/csv/municipios.csv\")"
   ]
  },
  {
   "cell_type": "code",
   "execution_count": 19,
   "metadata": {
    "colab": {
     "base_uri": "https://localhost:8080/",
     "height": 204
    },
    "colab_type": "code",
    "id": "YAluOhr-1_pt",
    "outputId": "9f3a3d17-f99b-4d56-e6ca-7356424c6ebb"
   },
   "outputs": [
    {
     "data": {
      "text/plain": [
       "'estados.csv'"
      ]
     },
     "execution_count": 19,
     "metadata": {},
     "output_type": "execute_result"
    }
   ],
   "source": [
    "#pegar tabela de estados\n",
    "wget.download(\"https://raw.githubusercontent.com/kelvins/Municipios-Brasileiros/master/csv/estados.csv\")"
   ]
  },
  {
   "cell_type": "code",
   "execution_count": null,
   "metadata": {
    "colab": {},
    "colab_type": "code",
    "id": "eZK-kgykvN1Z"
   },
   "outputs": [],
   "source": [
    "estados_file = 'estados.csv'\n",
    "municipios_file = 'municipios.csv'"
   ]
  },
  {
   "cell_type": "markdown",
   "metadata": {
    "colab_type": "text",
    "id": "SdQ_YjFFxekc"
   },
   "source": [
    "## Estados"
   ]
  },
  {
   "cell_type": "code",
   "execution_count": null,
   "metadata": {
    "colab": {},
    "colab_type": "code",
    "id": "aLIcGD0HvMC9"
   },
   "outputs": [],
   "source": [
    "estados = pd.read_csv(estados_file)"
   ]
  },
  {
   "cell_type": "code",
   "execution_count": null,
   "metadata": {
    "colab": {
     "base_uri": "https://localhost:8080/",
     "height": 221
    },
    "colab_type": "code",
    "id": "RAZAGp7KvSKg",
    "outputId": "e426f770-e1aa-4ae2-8cfd-9c658d468e83"
   },
   "outputs": [
    {
     "name": "stdout",
     "output_type": "stream",
     "text": [
      "<class 'pandas.core.frame.DataFrame'>\n",
      "RangeIndex: 27 entries, 0 to 26\n",
      "Data columns (total 5 columns):\n",
      " #   Column     Non-Null Count  Dtype  \n",
      "---  ------     --------------  -----  \n",
      " 0   codigo_uf  27 non-null     int64  \n",
      " 1   uf         27 non-null     object \n",
      " 2   nome       27 non-null     object \n",
      " 3   latitude   27 non-null     float64\n",
      " 4   longitude  27 non-null     float64\n",
      "dtypes: float64(2), int64(1), object(2)\n",
      "memory usage: 1.2+ KB\n"
     ]
    }
   ],
   "source": [
    "estados.info()"
   ]
  },
  {
   "cell_type": "code",
   "execution_count": null,
   "metadata": {
    "colab": {
     "base_uri": "https://localhost:8080/",
     "height": 204
    },
    "colab_type": "code",
    "id": "GgPHJongvVg2",
    "outputId": "667dbadc-f9d1-4ed1-a345-97f520dd8152"
   },
   "outputs": [
    {
     "data": {
      "text/html": [
       "<div>\n",
       "<style scoped>\n",
       "    .dataframe tbody tr th:only-of-type {\n",
       "        vertical-align: middle;\n",
       "    }\n",
       "\n",
       "    .dataframe tbody tr th {\n",
       "        vertical-align: top;\n",
       "    }\n",
       "\n",
       "    .dataframe thead th {\n",
       "        text-align: right;\n",
       "    }\n",
       "</style>\n",
       "<table border=\"1\" class=\"dataframe\">\n",
       "  <thead>\n",
       "    <tr style=\"text-align: right;\">\n",
       "      <th></th>\n",
       "      <th>codigo_uf</th>\n",
       "      <th>uf</th>\n",
       "      <th>nome</th>\n",
       "      <th>latitude</th>\n",
       "      <th>longitude</th>\n",
       "    </tr>\n",
       "  </thead>\n",
       "  <tbody>\n",
       "    <tr>\n",
       "      <th>0</th>\n",
       "      <td>11</td>\n",
       "      <td>RO</td>\n",
       "      <td>Rondônia</td>\n",
       "      <td>-10.83</td>\n",
       "      <td>-63.34</td>\n",
       "    </tr>\n",
       "    <tr>\n",
       "      <th>1</th>\n",
       "      <td>12</td>\n",
       "      <td>AC</td>\n",
       "      <td>Acre</td>\n",
       "      <td>-8.77</td>\n",
       "      <td>-70.55</td>\n",
       "    </tr>\n",
       "    <tr>\n",
       "      <th>2</th>\n",
       "      <td>13</td>\n",
       "      <td>AM</td>\n",
       "      <td>Amazonas</td>\n",
       "      <td>-3.47</td>\n",
       "      <td>-65.10</td>\n",
       "    </tr>\n",
       "    <tr>\n",
       "      <th>3</th>\n",
       "      <td>14</td>\n",
       "      <td>RR</td>\n",
       "      <td>Roraima</td>\n",
       "      <td>1.99</td>\n",
       "      <td>-61.33</td>\n",
       "    </tr>\n",
       "    <tr>\n",
       "      <th>4</th>\n",
       "      <td>15</td>\n",
       "      <td>PA</td>\n",
       "      <td>Pará</td>\n",
       "      <td>-3.79</td>\n",
       "      <td>-52.48</td>\n",
       "    </tr>\n",
       "  </tbody>\n",
       "</table>\n",
       "</div>"
      ],
      "text/plain": [
       "   codigo_uf  uf      nome  latitude  longitude\n",
       "0         11  RO  Rondônia    -10.83     -63.34\n",
       "1         12  AC      Acre     -8.77     -70.55\n",
       "2         13  AM  Amazonas     -3.47     -65.10\n",
       "3         14  RR   Roraima      1.99     -61.33\n",
       "4         15  PA      Pará     -3.79     -52.48"
      ]
     },
     "execution_count": 81,
     "metadata": {
      "tags": []
     },
     "output_type": "execute_result"
    }
   ],
   "source": [
    "estados.head()"
   ]
  },
  {
   "cell_type": "markdown",
   "metadata": {
    "colab_type": "text",
    "id": "GUOrB8Obv-Qq"
   },
   "source": [
    "Criar dicionario com código dos estados"
   ]
  },
  {
   "cell_type": "code",
   "execution_count": null,
   "metadata": {
    "colab": {},
    "colab_type": "code",
    "id": "_7SC-N2avjl5"
   },
   "outputs": [],
   "source": [
    "estados_dict = dict(zip(estados.codigo_uf, estados.uf))"
   ]
  },
  {
   "cell_type": "code",
   "execution_count": null,
   "metadata": {
    "colab": {
     "base_uri": "https://localhost:8080/",
     "height": 476
    },
    "colab_type": "code",
    "id": "0g8ZauUpv9Gs",
    "outputId": "96348194-6f1f-48d6-e08a-a1e80beef653"
   },
   "outputs": [
    {
     "data": {
      "text/plain": [
       "{11: 'RO',\n",
       " 12: 'AC',\n",
       " 13: 'AM',\n",
       " 14: 'RR',\n",
       " 15: 'PA',\n",
       " 16: 'AP',\n",
       " 17: 'TO',\n",
       " 21: 'MA',\n",
       " 22: 'PI',\n",
       " 23: 'CE',\n",
       " 24: 'RN',\n",
       " 25: 'PB',\n",
       " 26: 'PE',\n",
       " 27: 'AL',\n",
       " 28: 'SE',\n",
       " 29: 'BA',\n",
       " 31: 'MG',\n",
       " 32: 'ES',\n",
       " 33: 'RJ',\n",
       " 35: 'SP',\n",
       " 41: 'PR',\n",
       " 42: 'SC',\n",
       " 43: 'RS',\n",
       " 50: 'MS',\n",
       " 51: 'MT',\n",
       " 52: 'GO',\n",
       " 53: 'DF'}"
      ]
     },
     "execution_count": 83,
     "metadata": {
      "tags": []
     },
     "output_type": "execute_result"
    }
   ],
   "source": [
    "estados_dict"
   ]
  },
  {
   "cell_type": "code",
   "execution_count": null,
   "metadata": {
    "colab": {},
    "colab_type": "code",
    "id": "pia3Nalbw1rf"
   },
   "outputs": [],
   "source": [
    "def troca_codigo_uf(codigo):\n",
    "    novo = str(estados_dict[codigo]).strip()\n",
    "    return novo"
   ]
  },
  {
   "cell_type": "code",
   "execution_count": null,
   "metadata": {
    "colab": {
     "base_uri": "https://localhost:8080/",
     "height": 34
    },
    "colab_type": "code",
    "id": "Br6OQNpmxbgA",
    "outputId": "ea02bd8d-0eda-420b-ca5f-a0c1966febdb"
   },
   "outputs": [
    {
     "data": {
      "text/plain": [
       "Index(['codigo_uf', 'uf', 'nome', 'latitude', 'longitude'], dtype='object')"
      ]
     },
     "execution_count": 85,
     "metadata": {
      "tags": []
     },
     "output_type": "execute_result"
    }
   ],
   "source": [
    "estados.columns"
   ]
  },
  {
   "cell_type": "code",
   "execution_count": null,
   "metadata": {
    "colab": {},
    "colab_type": "code",
    "id": "yx9dCCzExjfq"
   },
   "outputs": [],
   "source": [
    "novas_colunas = ['codigo_ibge', 'uf', 'nome', 'latitude', 'longitude']"
   ]
  },
  {
   "cell_type": "code",
   "execution_count": null,
   "metadata": {
    "colab": {},
    "colab_type": "code",
    "id": "hQdx_0Nixo2L"
   },
   "outputs": [],
   "source": [
    "estados.columns = novas_colunas"
   ]
  },
  {
   "cell_type": "code",
   "execution_count": null,
   "metadata": {
    "colab": {},
    "colab_type": "code",
    "id": "-n-uBeQHxrKq"
   },
   "outputs": [],
   "source": [
    "estados['capital'] = 2"
   ]
  },
  {
   "cell_type": "code",
   "execution_count": null,
   "metadata": {
    "colab": {
     "base_uri": "https://localhost:8080/",
     "height": 204
    },
    "colab_type": "code",
    "id": "9r2rhKEyxuxs",
    "outputId": "08b9a999-4477-4533-f701-f51558189ff0"
   },
   "outputs": [
    {
     "data": {
      "text/html": [
       "<div>\n",
       "<style scoped>\n",
       "    .dataframe tbody tr th:only-of-type {\n",
       "        vertical-align: middle;\n",
       "    }\n",
       "\n",
       "    .dataframe tbody tr th {\n",
       "        vertical-align: top;\n",
       "    }\n",
       "\n",
       "    .dataframe thead th {\n",
       "        text-align: right;\n",
       "    }\n",
       "</style>\n",
       "<table border=\"1\" class=\"dataframe\">\n",
       "  <thead>\n",
       "    <tr style=\"text-align: right;\">\n",
       "      <th></th>\n",
       "      <th>codigo_ibge</th>\n",
       "      <th>uf</th>\n",
       "      <th>nome</th>\n",
       "      <th>latitude</th>\n",
       "      <th>longitude</th>\n",
       "      <th>capital</th>\n",
       "    </tr>\n",
       "  </thead>\n",
       "  <tbody>\n",
       "    <tr>\n",
       "      <th>0</th>\n",
       "      <td>11</td>\n",
       "      <td>RO</td>\n",
       "      <td>Rondônia</td>\n",
       "      <td>-10.83</td>\n",
       "      <td>-63.34</td>\n",
       "      <td>2</td>\n",
       "    </tr>\n",
       "    <tr>\n",
       "      <th>1</th>\n",
       "      <td>12</td>\n",
       "      <td>AC</td>\n",
       "      <td>Acre</td>\n",
       "      <td>-8.77</td>\n",
       "      <td>-70.55</td>\n",
       "      <td>2</td>\n",
       "    </tr>\n",
       "    <tr>\n",
       "      <th>2</th>\n",
       "      <td>13</td>\n",
       "      <td>AM</td>\n",
       "      <td>Amazonas</td>\n",
       "      <td>-3.47</td>\n",
       "      <td>-65.10</td>\n",
       "      <td>2</td>\n",
       "    </tr>\n",
       "    <tr>\n",
       "      <th>3</th>\n",
       "      <td>14</td>\n",
       "      <td>RR</td>\n",
       "      <td>Roraima</td>\n",
       "      <td>1.99</td>\n",
       "      <td>-61.33</td>\n",
       "      <td>2</td>\n",
       "    </tr>\n",
       "    <tr>\n",
       "      <th>4</th>\n",
       "      <td>15</td>\n",
       "      <td>PA</td>\n",
       "      <td>Pará</td>\n",
       "      <td>-3.79</td>\n",
       "      <td>-52.48</td>\n",
       "      <td>2</td>\n",
       "    </tr>\n",
       "  </tbody>\n",
       "</table>\n",
       "</div>"
      ],
      "text/plain": [
       "   codigo_ibge  uf      nome  latitude  longitude  capital\n",
       "0           11  RO  Rondônia    -10.83     -63.34        2\n",
       "1           12  AC      Acre     -8.77     -70.55        2\n",
       "2           13  AM  Amazonas     -3.47     -65.10        2\n",
       "3           14  RR   Roraima      1.99     -61.33        2\n",
       "4           15  PA      Pará     -3.79     -52.48        2"
      ]
     },
     "execution_count": 89,
     "metadata": {
      "tags": []
     },
     "output_type": "execute_result"
    }
   ],
   "source": [
    "estados.head()"
   ]
  },
  {
   "cell_type": "markdown",
   "metadata": {
    "colab_type": "text",
    "id": "7Og2O46yxbx4"
   },
   "source": [
    "## Municipios"
   ]
  },
  {
   "cell_type": "code",
   "execution_count": null,
   "metadata": {
    "colab": {},
    "colab_type": "code",
    "id": "HQhO-ByuwB1b"
   },
   "outputs": [],
   "source": [
    "municipios = pd.read_csv(municipios_file)"
   ]
  },
  {
   "cell_type": "code",
   "execution_count": null,
   "metadata": {
    "colab": {
     "base_uri": "https://localhost:8080/",
     "height": 238
    },
    "colab_type": "code",
    "id": "15q3vbiXwFw9",
    "outputId": "1d9d0348-7075-47d3-e58d-c0486e6af291"
   },
   "outputs": [
    {
     "name": "stdout",
     "output_type": "stream",
     "text": [
      "<class 'pandas.core.frame.DataFrame'>\n",
      "RangeIndex: 5570 entries, 0 to 5569\n",
      "Data columns (total 6 columns):\n",
      " #   Column       Non-Null Count  Dtype  \n",
      "---  ------       --------------  -----  \n",
      " 0   codigo_ibge  5570 non-null   int64  \n",
      " 1   nome         5570 non-null   object \n",
      " 2   latitude     5570 non-null   float64\n",
      " 3   longitude    5570 non-null   float64\n",
      " 4   capital      5570 non-null   int64  \n",
      " 5   codigo_uf    5570 non-null   int64  \n",
      "dtypes: float64(2), int64(3), object(1)\n",
      "memory usage: 261.2+ KB\n"
     ]
    }
   ],
   "source": [
    "municipios.info()"
   ]
  },
  {
   "cell_type": "code",
   "execution_count": null,
   "metadata": {
    "colab": {
     "base_uri": "https://localhost:8080/",
     "height": 204
    },
    "colab_type": "code",
    "id": "P9XHWs42wkMY",
    "outputId": "bc286fdc-9da7-49b8-90c9-7238e6539a7a"
   },
   "outputs": [
    {
     "data": {
      "text/html": [
       "<div>\n",
       "<style scoped>\n",
       "    .dataframe tbody tr th:only-of-type {\n",
       "        vertical-align: middle;\n",
       "    }\n",
       "\n",
       "    .dataframe tbody tr th {\n",
       "        vertical-align: top;\n",
       "    }\n",
       "\n",
       "    .dataframe thead th {\n",
       "        text-align: right;\n",
       "    }\n",
       "</style>\n",
       "<table border=\"1\" class=\"dataframe\">\n",
       "  <thead>\n",
       "    <tr style=\"text-align: right;\">\n",
       "      <th></th>\n",
       "      <th>codigo_ibge</th>\n",
       "      <th>nome</th>\n",
       "      <th>latitude</th>\n",
       "      <th>longitude</th>\n",
       "      <th>capital</th>\n",
       "      <th>codigo_uf</th>\n",
       "    </tr>\n",
       "  </thead>\n",
       "  <tbody>\n",
       "    <tr>\n",
       "      <th>0</th>\n",
       "      <td>5200050</td>\n",
       "      <td>Abadia de Goiás</td>\n",
       "      <td>-16.75730</td>\n",
       "      <td>-49.4412</td>\n",
       "      <td>0</td>\n",
       "      <td>52</td>\n",
       "    </tr>\n",
       "    <tr>\n",
       "      <th>1</th>\n",
       "      <td>3100104</td>\n",
       "      <td>Abadia dos Dourados</td>\n",
       "      <td>-18.48310</td>\n",
       "      <td>-47.3916</td>\n",
       "      <td>0</td>\n",
       "      <td>31</td>\n",
       "    </tr>\n",
       "    <tr>\n",
       "      <th>2</th>\n",
       "      <td>5200100</td>\n",
       "      <td>Abadiânia</td>\n",
       "      <td>-16.19700</td>\n",
       "      <td>-48.7057</td>\n",
       "      <td>0</td>\n",
       "      <td>52</td>\n",
       "    </tr>\n",
       "    <tr>\n",
       "      <th>3</th>\n",
       "      <td>3100203</td>\n",
       "      <td>Abaeté</td>\n",
       "      <td>-19.15510</td>\n",
       "      <td>-45.4444</td>\n",
       "      <td>0</td>\n",
       "      <td>31</td>\n",
       "    </tr>\n",
       "    <tr>\n",
       "      <th>4</th>\n",
       "      <td>1500107</td>\n",
       "      <td>Abaetetuba</td>\n",
       "      <td>-1.72183</td>\n",
       "      <td>-48.8788</td>\n",
       "      <td>0</td>\n",
       "      <td>15</td>\n",
       "    </tr>\n",
       "  </tbody>\n",
       "</table>\n",
       "</div>"
      ],
      "text/plain": [
       "   codigo_ibge                 nome  latitude  longitude  capital  codigo_uf\n",
       "0      5200050      Abadia de Goiás -16.75730   -49.4412        0         52\n",
       "1      3100104  Abadia dos Dourados -18.48310   -47.3916        0         31\n",
       "2      5200100            Abadiânia -16.19700   -48.7057        0         52\n",
       "3      3100203               Abaeté -19.15510   -45.4444        0         31\n",
       "4      1500107           Abaetetuba  -1.72183   -48.8788        0         15"
      ]
     },
     "execution_count": 92,
     "metadata": {
      "tags": []
     },
     "output_type": "execute_result"
    }
   ],
   "source": [
    "municipios.head()"
   ]
  },
  {
   "cell_type": "code",
   "execution_count": null,
   "metadata": {
    "colab": {},
    "colab_type": "code",
    "id": "xYGOCMJHw_iI"
   },
   "outputs": [],
   "source": [
    "municipios['uf'] = municipios['codigo_uf'].apply(troca_codigo_uf)"
   ]
  },
  {
   "cell_type": "code",
   "execution_count": null,
   "metadata": {
    "colab": {
     "base_uri": "https://localhost:8080/",
     "height": 204
    },
    "colab_type": "code",
    "id": "L3sCPZVIxHaT",
    "outputId": "0c321699-bb87-440a-fa5c-f6733ec0bb5d"
   },
   "outputs": [
    {
     "data": {
      "text/html": [
       "<div>\n",
       "<style scoped>\n",
       "    .dataframe tbody tr th:only-of-type {\n",
       "        vertical-align: middle;\n",
       "    }\n",
       "\n",
       "    .dataframe tbody tr th {\n",
       "        vertical-align: top;\n",
       "    }\n",
       "\n",
       "    .dataframe thead th {\n",
       "        text-align: right;\n",
       "    }\n",
       "</style>\n",
       "<table border=\"1\" class=\"dataframe\">\n",
       "  <thead>\n",
       "    <tr style=\"text-align: right;\">\n",
       "      <th></th>\n",
       "      <th>codigo_ibge</th>\n",
       "      <th>nome</th>\n",
       "      <th>latitude</th>\n",
       "      <th>longitude</th>\n",
       "      <th>capital</th>\n",
       "      <th>codigo_uf</th>\n",
       "      <th>uf</th>\n",
       "    </tr>\n",
       "  </thead>\n",
       "  <tbody>\n",
       "    <tr>\n",
       "      <th>0</th>\n",
       "      <td>5200050</td>\n",
       "      <td>Abadia de Goiás</td>\n",
       "      <td>-16.75730</td>\n",
       "      <td>-49.4412</td>\n",
       "      <td>0</td>\n",
       "      <td>52</td>\n",
       "      <td>GO</td>\n",
       "    </tr>\n",
       "    <tr>\n",
       "      <th>1</th>\n",
       "      <td>3100104</td>\n",
       "      <td>Abadia dos Dourados</td>\n",
       "      <td>-18.48310</td>\n",
       "      <td>-47.3916</td>\n",
       "      <td>0</td>\n",
       "      <td>31</td>\n",
       "      <td>MG</td>\n",
       "    </tr>\n",
       "    <tr>\n",
       "      <th>2</th>\n",
       "      <td>5200100</td>\n",
       "      <td>Abadiânia</td>\n",
       "      <td>-16.19700</td>\n",
       "      <td>-48.7057</td>\n",
       "      <td>0</td>\n",
       "      <td>52</td>\n",
       "      <td>GO</td>\n",
       "    </tr>\n",
       "    <tr>\n",
       "      <th>3</th>\n",
       "      <td>3100203</td>\n",
       "      <td>Abaeté</td>\n",
       "      <td>-19.15510</td>\n",
       "      <td>-45.4444</td>\n",
       "      <td>0</td>\n",
       "      <td>31</td>\n",
       "      <td>MG</td>\n",
       "    </tr>\n",
       "    <tr>\n",
       "      <th>4</th>\n",
       "      <td>1500107</td>\n",
       "      <td>Abaetetuba</td>\n",
       "      <td>-1.72183</td>\n",
       "      <td>-48.8788</td>\n",
       "      <td>0</td>\n",
       "      <td>15</td>\n",
       "      <td>PA</td>\n",
       "    </tr>\n",
       "  </tbody>\n",
       "</table>\n",
       "</div>"
      ],
      "text/plain": [
       "   codigo_ibge                 nome  latitude  ...  capital  codigo_uf  uf\n",
       "0      5200050      Abadia de Goiás -16.75730  ...        0         52  GO\n",
       "1      3100104  Abadia dos Dourados -18.48310  ...        0         31  MG\n",
       "2      5200100            Abadiânia -16.19700  ...        0         52  GO\n",
       "3      3100203               Abaeté -19.15510  ...        0         31  MG\n",
       "4      1500107           Abaetetuba  -1.72183  ...        0         15  PA\n",
       "\n",
       "[5 rows x 7 columns]"
      ]
     },
     "execution_count": 94,
     "metadata": {
      "tags": []
     },
     "output_type": "execute_result"
    }
   ],
   "source": [
    "municipios.head()"
   ]
  },
  {
   "cell_type": "code",
   "execution_count": null,
   "metadata": {
    "colab": {},
    "colab_type": "code",
    "id": "6DbHaQpxxXGO"
   },
   "outputs": [],
   "source": [
    "municipios.drop(columns='codigo_uf', inplace=True)"
   ]
  },
  {
   "cell_type": "markdown",
   "metadata": {
    "colab_type": "text",
    "id": "NqUesMuEx6S7"
   },
   "source": [
    "## juntar as duas"
   ]
  },
  {
   "cell_type": "code",
   "execution_count": null,
   "metadata": {
    "colab": {},
    "colab_type": "code",
    "id": "g3Q-66kix7-A"
   },
   "outputs": [],
   "source": [
    "#juntas = pd.concat(estados, municipios,ignore_index = False)\n",
    "vertical_stack = pd.concat([estados, municipios],ignore_index = False, axis=0)"
   ]
  },
  {
   "cell_type": "code",
   "execution_count": null,
   "metadata": {
    "colab": {
     "base_uri": "https://localhost:8080/",
     "height": 419
    },
    "colab_type": "code",
    "id": "k8vqE2swyQRq",
    "outputId": "ff17a478-16b4-4508-e037-254fad11e512"
   },
   "outputs": [
    {
     "data": {
      "text/html": [
       "<div>\n",
       "<style scoped>\n",
       "    .dataframe tbody tr th:only-of-type {\n",
       "        vertical-align: middle;\n",
       "    }\n",
       "\n",
       "    .dataframe tbody tr th {\n",
       "        vertical-align: top;\n",
       "    }\n",
       "\n",
       "    .dataframe thead th {\n",
       "        text-align: right;\n",
       "    }\n",
       "</style>\n",
       "<table border=\"1\" class=\"dataframe\">\n",
       "  <thead>\n",
       "    <tr style=\"text-align: right;\">\n",
       "      <th></th>\n",
       "      <th>codigo_ibge</th>\n",
       "      <th>uf</th>\n",
       "      <th>nome</th>\n",
       "      <th>latitude</th>\n",
       "      <th>longitude</th>\n",
       "      <th>capital</th>\n",
       "    </tr>\n",
       "  </thead>\n",
       "  <tbody>\n",
       "    <tr>\n",
       "      <th>0</th>\n",
       "      <td>11</td>\n",
       "      <td>RO</td>\n",
       "      <td>Rondônia</td>\n",
       "      <td>-10.83000</td>\n",
       "      <td>-63.3400</td>\n",
       "      <td>2</td>\n",
       "    </tr>\n",
       "    <tr>\n",
       "      <th>1</th>\n",
       "      <td>12</td>\n",
       "      <td>AC</td>\n",
       "      <td>Acre</td>\n",
       "      <td>-8.77000</td>\n",
       "      <td>-70.5500</td>\n",
       "      <td>2</td>\n",
       "    </tr>\n",
       "    <tr>\n",
       "      <th>2</th>\n",
       "      <td>13</td>\n",
       "      <td>AM</td>\n",
       "      <td>Amazonas</td>\n",
       "      <td>-3.47000</td>\n",
       "      <td>-65.1000</td>\n",
       "      <td>2</td>\n",
       "    </tr>\n",
       "    <tr>\n",
       "      <th>3</th>\n",
       "      <td>14</td>\n",
       "      <td>RR</td>\n",
       "      <td>Roraima</td>\n",
       "      <td>1.99000</td>\n",
       "      <td>-61.3300</td>\n",
       "      <td>2</td>\n",
       "    </tr>\n",
       "    <tr>\n",
       "      <th>4</th>\n",
       "      <td>15</td>\n",
       "      <td>PA</td>\n",
       "      <td>Pará</td>\n",
       "      <td>-3.79000</td>\n",
       "      <td>-52.4800</td>\n",
       "      <td>2</td>\n",
       "    </tr>\n",
       "    <tr>\n",
       "      <th>...</th>\n",
       "      <td>...</td>\n",
       "      <td>...</td>\n",
       "      <td>...</td>\n",
       "      <td>...</td>\n",
       "      <td>...</td>\n",
       "      <td>...</td>\n",
       "    </tr>\n",
       "    <tr>\n",
       "      <th>5565</th>\n",
       "      <td>2933604</td>\n",
       "      <td>BA</td>\n",
       "      <td>Xique-Xique</td>\n",
       "      <td>-10.82300</td>\n",
       "      <td>-42.7245</td>\n",
       "      <td>0</td>\n",
       "    </tr>\n",
       "    <tr>\n",
       "      <th>5566</th>\n",
       "      <td>2517407</td>\n",
       "      <td>PB</td>\n",
       "      <td>Zabelê</td>\n",
       "      <td>-8.07901</td>\n",
       "      <td>-37.1057</td>\n",
       "      <td>0</td>\n",
       "    </tr>\n",
       "    <tr>\n",
       "      <th>5567</th>\n",
       "      <td>3557154</td>\n",
       "      <td>SP</td>\n",
       "      <td>Zacarias</td>\n",
       "      <td>-21.05060</td>\n",
       "      <td>-50.0552</td>\n",
       "      <td>0</td>\n",
       "    </tr>\n",
       "    <tr>\n",
       "      <th>5568</th>\n",
       "      <td>2114007</td>\n",
       "      <td>MA</td>\n",
       "      <td>Zé Doca</td>\n",
       "      <td>-3.27014</td>\n",
       "      <td>-45.6553</td>\n",
       "      <td>0</td>\n",
       "    </tr>\n",
       "    <tr>\n",
       "      <th>5569</th>\n",
       "      <td>4219853</td>\n",
       "      <td>SC</td>\n",
       "      <td>Zortéa</td>\n",
       "      <td>-27.45210</td>\n",
       "      <td>-51.5520</td>\n",
       "      <td>0</td>\n",
       "    </tr>\n",
       "  </tbody>\n",
       "</table>\n",
       "<p>5597 rows × 6 columns</p>\n",
       "</div>"
      ],
      "text/plain": [
       "      codigo_ibge  uf         nome  latitude  longitude  capital\n",
       "0              11  RO     Rondônia -10.83000   -63.3400        2\n",
       "1              12  AC         Acre  -8.77000   -70.5500        2\n",
       "2              13  AM     Amazonas  -3.47000   -65.1000        2\n",
       "3              14  RR      Roraima   1.99000   -61.3300        2\n",
       "4              15  PA         Pará  -3.79000   -52.4800        2\n",
       "...           ...  ..          ...       ...        ...      ...\n",
       "5565      2933604  BA  Xique-Xique -10.82300   -42.7245        0\n",
       "5566      2517407  PB       Zabelê  -8.07901   -37.1057        0\n",
       "5567      3557154  SP     Zacarias -21.05060   -50.0552        0\n",
       "5568      2114007  MA      Zé Doca  -3.27014   -45.6553        0\n",
       "5569      4219853  SC       Zortéa -27.45210   -51.5520        0\n",
       "\n",
       "[5597 rows x 6 columns]"
      ]
     },
     "execution_count": 97,
     "metadata": {
      "tags": []
     },
     "output_type": "execute_result"
    }
   ],
   "source": [
    "vertical_stack"
   ]
  },
  {
   "cell_type": "markdown",
   "metadata": {
    "colab_type": "text",
    "id": "QD2SsmPZTOs0"
   },
   "source": [
    "## Novas linhas para correções"
   ]
  },
  {
   "cell_type": "markdown",
   "metadata": {
    "colab_type": "text",
    "id": "rMLHvmJ711wF"
   },
   "source": [
    "Dados Leslie:\n",
    "*   \"Muquém do São Francisco (BA)\": \"Muquém de São Francisco (BA)\",\n",
    "* \"Santa Terezinha (BA)\": \"Santa Teresinha (BA)\",\n",
    "*  \"Itapajé (CE)\" : \"Itapagé (CE)\",\n",
    "*  \"Florínea (SP)\" : \"Florínia (SP)\",\n",
    "*  \"São Caitano (PE)\": \"São Caetano (PE)\"\n",
    "\n",
    "Tabela antiga GEO\n",
    "*    \"Santarém (PB)\": \"Joca Claudino (PB)\",\n",
    "*    \"Seridó (PB)\": \"São Vicente do Seridó (PB)\",\n",
    "*    \"Boa Saúde (RN)\": \"Januário Cicco (RN)\",\n",
    "*    \"Campo Grande (RN)\": \"Augusto Severo (RN)\", #Augusto Severo (Campo Grande)\n",
    "*    \"Presidente Juscelino (RN)\": \"Serra Caiada (RN)\",\n",
    "*    \"Embu (SP)\": \"Embu das Artes (SP)\"\n",
    "\n",
    "mais alguns:\n",
    "* Serra do Navio (PA): Serra do Navio (AP)\n",
    "* Eldorado dos Carajás (PA): Eldorado do Carajás (PA)\n",
    "* Santa Isabel do Pará (PA): Santa Izabel do Pará (PA): \n",
    "* Iguaraci(PE): Iguaracy (PE)\n",
    "* Brasópolis(MG): Brazópolis (MG)\n",
    "* Poxoréo (MT): Poxoréu (MT)\n",
    "* Moji Mirim (SP): Mogi Mirim (SP)\n",
    "* São Luís do Paraitinga (SP): São Luiz do Paraitinga (SP)\n",
    "* São Valério da Natividade (TO): São Valério (TO)"
   ]
  },
  {
   "cell_type": "code",
   "execution_count": null,
   "metadata": {
    "colab": {},
    "colab_type": "code",
    "id": "AE6gp3ybwUH_"
   },
   "outputs": [],
   "source": [
    "#definicao de funções para ajudar\n",
    "def get_linha_original(dataset, index):\n",
    "    original = dataset.loc[index].tolist()\n",
    "    #print(original)\n",
    "    print(original[2])\n",
    "    return original\n",
    "\n",
    "def change_nome_linha(original, nome):\n",
    "    linha = original.copy()\n",
    "    linha[2] = nome\n",
    "    print(nome)\n",
    "    return linha"
   ]
  },
  {
   "cell_type": "code",
   "execution_count": null,
   "metadata": {
    "colab": {},
    "colab_type": "code",
    "id": "87tr_L56UL05"
   },
   "outputs": [],
   "source": [
    "novas_linhas = []"
   ]
  },
  {
   "cell_type": "markdown",
   "metadata": {
    "colab_type": "text",
    "id": "qxVoyYAZ-EkL"
   },
   "source": [
    "### Rio Grande do Norte"
   ]
  },
  {
   "cell_type": "code",
   "execution_count": null,
   "metadata": {
    "colab": {},
    "colab_type": "code",
    "id": "bGmB-jWxR8sx"
   },
   "outputs": [],
   "source": [
    "RN = vertical_stack.loc[vertical_stack['uf'] == 'RN']"
   ]
  },
  {
   "cell_type": "markdown",
   "metadata": {
    "colab_type": "text",
    "id": "RMNWuiozzo1u"
   },
   "source": [
    "RN Augusto Severo (Campo Grande)\t-5.86206\t-37.3135\t0"
   ]
  },
  {
   "cell_type": "code",
   "execution_count": null,
   "metadata": {
    "colab": {
     "base_uri": "https://localhost:8080/",
     "height": 80
    },
    "colab_type": "code",
    "id": "vQm3bSt2SiuM",
    "outputId": "65b729af-e1b6-4ff3-dd56-749e764930ce"
   },
   "outputs": [
    {
     "data": {
      "text/html": [
       "<div>\n",
       "<style scoped>\n",
       "    .dataframe tbody tr th:only-of-type {\n",
       "        vertical-align: middle;\n",
       "    }\n",
       "\n",
       "    .dataframe tbody tr th {\n",
       "        vertical-align: top;\n",
       "    }\n",
       "\n",
       "    .dataframe thead th {\n",
       "        text-align: right;\n",
       "    }\n",
       "</style>\n",
       "<table border=\"1\" class=\"dataframe\">\n",
       "  <thead>\n",
       "    <tr style=\"text-align: right;\">\n",
       "      <th></th>\n",
       "      <th>codigo_ibge</th>\n",
       "      <th>uf</th>\n",
       "      <th>nome</th>\n",
       "      <th>latitude</th>\n",
       "      <th>longitude</th>\n",
       "      <th>capital</th>\n",
       "    </tr>\n",
       "  </thead>\n",
       "  <tbody>\n",
       "    <tr>\n",
       "      <th>427</th>\n",
       "      <td>2401305</td>\n",
       "      <td>RN</td>\n",
       "      <td>Augusto Severo (Campo Grande)</td>\n",
       "      <td>-5.86206</td>\n",
       "      <td>-37.3135</td>\n",
       "      <td>0</td>\n",
       "    </tr>\n",
       "  </tbody>\n",
       "</table>\n",
       "</div>"
      ],
      "text/plain": [
       "     codigo_ibge  uf  ... longitude  capital\n",
       "427      2401305  RN  ...  -37.3135        0\n",
       "\n",
       "[1 rows x 6 columns]"
      ]
     },
     "execution_count": 183,
     "metadata": {
      "tags": []
     },
     "output_type": "execute_result"
    }
   ],
   "source": [
    "RN.loc[RN[\"nome\"] == 'Augusto Severo (Campo Grande)']"
   ]
  },
  {
   "cell_type": "code",
   "execution_count": null,
   "metadata": {
    "colab": {},
    "colab_type": "code",
    "id": "L2ZE7h8kyuMJ"
   },
   "outputs": [],
   "source": [
    "index = RN.loc[RN[\"nome\"] == 'Augusto Severo (Campo Grande)'].index.tolist()[0]"
   ]
  },
  {
   "cell_type": "code",
   "execution_count": null,
   "metadata": {
    "colab": {
     "base_uri": "https://localhost:8080/",
     "height": 34
    },
    "colab_type": "code",
    "id": "x50TP2hYT43n",
    "outputId": "b1d80aa2-5c41-4899-987d-edb298a17322"
   },
   "outputs": [
    {
     "name": "stdout",
     "output_type": "stream",
     "text": [
      "Augusto Severo (Campo Grande)\n"
     ]
    }
   ],
   "source": [
    "original = get_linha_original(RN, index)"
   ]
  },
  {
   "cell_type": "code",
   "execution_count": null,
   "metadata": {
    "colab": {
     "base_uri": "https://localhost:8080/",
     "height": 34
    },
    "colab_type": "code",
    "id": "qDLbEaa5zBjh",
    "outputId": "2fa4aa0c-8117-4b83-f339-777b2165b3dd"
   },
   "outputs": [
    {
     "name": "stdout",
     "output_type": "stream",
     "text": [
      "Augusto Severo\n"
     ]
    }
   ],
   "source": [
    "linha = change_nome_linha(original, 'Augusto Severo')"
   ]
  },
  {
   "cell_type": "code",
   "execution_count": null,
   "metadata": {
    "colab": {
     "base_uri": "https://localhost:8080/",
     "height": 34
    },
    "colab_type": "code",
    "id": "yzMaxd-pUbR1",
    "outputId": "34a98c9a-159c-47a7-a693-8afc7b6cf0ac"
   },
   "outputs": [
    {
     "name": "stdout",
     "output_type": "stream",
     "text": [
      "[[2401305, 'RN', 'Augusto Severo', -5.86206, -37.3135, 0]]\n"
     ]
    }
   ],
   "source": [
    "#adicionar linha Augusto Severo ao dataset\n",
    "novas_linhas.append(linha)\n",
    "print(novas_linhas)"
   ]
  },
  {
   "cell_type": "code",
   "execution_count": null,
   "metadata": {
    "colab": {
     "base_uri": "https://localhost:8080/",
     "height": 34
    },
    "colab_type": "code",
    "id": "TpqFE8dDUia4",
    "outputId": "40b292df-e87a-438e-b63a-84cceb35ebc2"
   },
   "outputs": [
    {
     "name": "stdout",
     "output_type": "stream",
     "text": [
      "Campo Grande\n"
     ]
    }
   ],
   "source": [
    "linha = change_nome_linha(original, 'Campo Grande')"
   ]
  },
  {
   "cell_type": "code",
   "execution_count": null,
   "metadata": {
    "colab": {
     "base_uri": "https://localhost:8080/",
     "height": 34
    },
    "colab_type": "code",
    "id": "WduswVpsUiho",
    "outputId": "a7e3b491-2e50-463f-b8f3-7500edd6a85a"
   },
   "outputs": [
    {
     "name": "stdout",
     "output_type": "stream",
     "text": [
      "[[2401305, 'RN', 'Augusto Severo', -5.86206, -37.3135, 0], [2401305, 'RN', 'Campo Grande', -5.86206, -37.3135, 0]]\n"
     ]
    }
   ],
   "source": [
    "#adicionar linha Campo Grande ao dataset\n",
    "novas_linhas.append(linha)\n",
    "print(novas_linhas)"
   ]
  },
  {
   "cell_type": "markdown",
   "metadata": {
    "colab_type": "text",
    "id": "5Zk6Onuszrhv"
   },
   "source": [
    "RN\tJanuário Cicco (Boa Saúde)\t-6.16566\t-35.6219\t0"
   ]
  },
  {
   "cell_type": "code",
   "execution_count": null,
   "metadata": {
    "colab": {
     "base_uri": "https://localhost:8080/",
     "height": 80
    },
    "colab_type": "code",
    "id": "ABMnitEtUint",
    "outputId": "f61511c0-aaa6-4c7a-e5e9-3bdf0d160e75"
   },
   "outputs": [
    {
     "data": {
      "text/html": [
       "<div>\n",
       "<style scoped>\n",
       "    .dataframe tbody tr th:only-of-type {\n",
       "        vertical-align: middle;\n",
       "    }\n",
       "\n",
       "    .dataframe tbody tr th {\n",
       "        vertical-align: top;\n",
       "    }\n",
       "\n",
       "    .dataframe thead th {\n",
       "        text-align: right;\n",
       "    }\n",
       "</style>\n",
       "<table border=\"1\" class=\"dataframe\">\n",
       "  <thead>\n",
       "    <tr style=\"text-align: right;\">\n",
       "      <th></th>\n",
       "      <th>codigo_ibge</th>\n",
       "      <th>uf</th>\n",
       "      <th>nome</th>\n",
       "      <th>latitude</th>\n",
       "      <th>longitude</th>\n",
       "      <th>capital</th>\n",
       "    </tr>\n",
       "  </thead>\n",
       "  <tbody>\n",
       "    <tr>\n",
       "      <th>2519</th>\n",
       "      <td>2405306</td>\n",
       "      <td>RN</td>\n",
       "      <td>Januário Cicco (Boa Saúde)</td>\n",
       "      <td>-6.16566</td>\n",
       "      <td>-35.6219</td>\n",
       "      <td>0</td>\n",
       "    </tr>\n",
       "  </tbody>\n",
       "</table>\n",
       "</div>"
      ],
      "text/plain": [
       "      codigo_ibge  uf                        nome  latitude  longitude  capital\n",
       "2519      2405306  RN  Januário Cicco (Boa Saúde)  -6.16566   -35.6219        0"
      ]
     },
     "execution_count": 197,
     "metadata": {
      "tags": []
     },
     "output_type": "execute_result"
    }
   ],
   "source": [
    "index = RN.loc[RN[\"nome\"] == 'Januário Cicco (Boa Saúde)'].index.tolist()[0]\n",
    "RN.loc[RN[\"nome\"] == 'Januário Cicco (Boa Saúde)']"
   ]
  },
  {
   "cell_type": "code",
   "execution_count": null,
   "metadata": {
    "colab": {
     "base_uri": "https://localhost:8080/",
     "height": 34
    },
    "colab_type": "code",
    "id": "5iEqjHsfXEWa",
    "outputId": "019c5f0f-aa3c-4bea-ca2b-5876bae80582"
   },
   "outputs": [
    {
     "name": "stdout",
     "output_type": "stream",
     "text": [
      "Januário Cicco (Boa Saúde)\n"
     ]
    }
   ],
   "source": [
    "original = get_linha_original(RN, index)"
   ]
  },
  {
   "cell_type": "code",
   "execution_count": null,
   "metadata": {
    "colab": {
     "base_uri": "https://localhost:8080/",
     "height": 34
    },
    "colab_type": "code",
    "id": "EQkZf4oeXD7C",
    "outputId": "affb4df3-d681-44b5-d11d-5eef136157d2"
   },
   "outputs": [
    {
     "name": "stdout",
     "output_type": "stream",
     "text": [
      "Januário Cicco\n"
     ]
    }
   ],
   "source": [
    "linha = change_nome_linha(original, 'Januário Cicco')"
   ]
  },
  {
   "cell_type": "code",
   "execution_count": null,
   "metadata": {
    "colab": {
     "base_uri": "https://localhost:8080/",
     "height": 34
    },
    "colab_type": "code",
    "id": "gH-ehs0dXajf",
    "outputId": "fd4bc906-76bd-4219-d247-b4dc8eed88f1"
   },
   "outputs": [
    {
     "name": "stdout",
     "output_type": "stream",
     "text": [
      "[[2401305, 'RN', 'Augusto Severo', -5.86206, -37.3135, 0], [2401305, 'RN', 'Campo Grande', -5.86206, -37.3135, 0], [2405306, 'RN', 'Januário Cicco', -6.16566, -35.6219, 0]]\n"
     ]
    }
   ],
   "source": [
    "#adicionar linha Januário Cicco ao dataset\n",
    "novas_linhas.append(linha)\n",
    "print(novas_linhas)"
   ]
  },
  {
   "cell_type": "code",
   "execution_count": null,
   "metadata": {
    "colab": {
     "base_uri": "https://localhost:8080/",
     "height": 34
    },
    "colab_type": "code",
    "id": "0frFrSCXXe1t",
    "outputId": "7981f82d-ba28-4044-c350-2d0e99eb46bd"
   },
   "outputs": [
    {
     "name": "stdout",
     "output_type": "stream",
     "text": [
      "Boa Saúde\n"
     ]
    }
   ],
   "source": [
    "linha = change_nome_linha(original, 'Boa Saúde')"
   ]
  },
  {
   "cell_type": "code",
   "execution_count": null,
   "metadata": {
    "colab": {
     "base_uri": "https://localhost:8080/",
     "height": 54
    },
    "colab_type": "code",
    "id": "rNTw2yKkXh-0",
    "outputId": "1dd36e48-b86a-4cd2-f9c6-f3dcc2c42e2f"
   },
   "outputs": [
    {
     "name": "stdout",
     "output_type": "stream",
     "text": [
      "[[2401305, 'RN', 'Augusto Severo', -5.86206, -37.3135, 0], [2401305, 'RN', 'Campo Grande', -5.86206, -37.3135, 0], [2405306, 'RN', 'Januário Cicco', -6.16566, -35.6219, 0], [2405306, 'RN', 'Boa Saúde', -6.16566, -35.6219, 0]]\n"
     ]
    }
   ],
   "source": [
    "#adicionar linha Boa Saúde ao dataset\n",
    "novas_linhas.append(linha)\n",
    "print(novas_linhas)"
   ]
  },
  {
   "cell_type": "markdown",
   "metadata": {
    "colab_type": "text",
    "id": "Mv-sMJBk-Hwn"
   },
   "source": [
    "### Bahia"
   ]
  },
  {
   "cell_type": "code",
   "execution_count": null,
   "metadata": {
    "colab": {},
    "colab_type": "code",
    "id": "JA2tpEn3Xh4V"
   },
   "outputs": [],
   "source": [
    "BA = vertical_stack.loc[vertical_stack['uf'] == 'BA']"
   ]
  },
  {
   "cell_type": "markdown",
   "metadata": {
    "colab_type": "text",
    "id": "fz2XELYDzu8i"
   },
   "source": [
    "\"Muquém do São Francisco (BA)\": \"Muquém de São Francisco (BA)\""
   ]
  },
  {
   "cell_type": "code",
   "execution_count": null,
   "metadata": {
    "colab": {
     "base_uri": "https://localhost:8080/",
     "height": 80
    },
    "colab_type": "code",
    "id": "JpqCJfsnXh00",
    "outputId": "e176c07f-60c4-4648-c6e7-1ea921a6e292"
   },
   "outputs": [
    {
     "data": {
      "text/html": [
       "<div>\n",
       "<style scoped>\n",
       "    .dataframe tbody tr th:only-of-type {\n",
       "        vertical-align: middle;\n",
       "    }\n",
       "\n",
       "    .dataframe tbody tr th {\n",
       "        vertical-align: top;\n",
       "    }\n",
       "\n",
       "    .dataframe thead th {\n",
       "        text-align: right;\n",
       "    }\n",
       "</style>\n",
       "<table border=\"1\" class=\"dataframe\">\n",
       "  <thead>\n",
       "    <tr style=\"text-align: right;\">\n",
       "      <th></th>\n",
       "      <th>codigo_ibge</th>\n",
       "      <th>uf</th>\n",
       "      <th>nome</th>\n",
       "      <th>latitude</th>\n",
       "      <th>longitude</th>\n",
       "      <th>capital</th>\n",
       "    </tr>\n",
       "  </thead>\n",
       "  <tbody>\n",
       "    <tr>\n",
       "      <th>3220</th>\n",
       "      <td>2922250</td>\n",
       "      <td>BA</td>\n",
       "      <td>Muquém de São Francisco</td>\n",
       "      <td>-12.065</td>\n",
       "      <td>-43.5497</td>\n",
       "      <td>0</td>\n",
       "    </tr>\n",
       "  </tbody>\n",
       "</table>\n",
       "</div>"
      ],
      "text/plain": [
       "      codigo_ibge  uf                     nome  latitude  longitude  capital\n",
       "3220      2922250  BA  Muquém de São Francisco   -12.065   -43.5497        0"
      ]
     },
     "execution_count": 204,
     "metadata": {
      "tags": []
     },
     "output_type": "execute_result"
    }
   ],
   "source": [
    "index = BA.loc[BA[\"nome\"] == 'Muquém de São Francisco'].index.tolist()[0]\n",
    "BA.loc[BA[\"nome\"] == 'Muquém de São Francisco']"
   ]
  },
  {
   "cell_type": "code",
   "execution_count": null,
   "metadata": {
    "colab": {
     "base_uri": "https://localhost:8080/",
     "height": 34
    },
    "colab_type": "code",
    "id": "8NB2ReXMwDDj",
    "outputId": "b43c2e4a-c6ad-4704-f3f0-cfda538a1f6d"
   },
   "outputs": [
    {
     "name": "stdout",
     "output_type": "stream",
     "text": [
      "Muquém de São Francisco\n"
     ]
    }
   ],
   "source": [
    "original = get_linha_original(BA, index)"
   ]
  },
  {
   "cell_type": "code",
   "execution_count": null,
   "metadata": {
    "colab": {
     "base_uri": "https://localhost:8080/",
     "height": 34
    },
    "colab_type": "code",
    "id": "XPuhuQ7_wGZB",
    "outputId": "37d5cbaf-cd1b-4d00-98d1-a444f18cbedf"
   },
   "outputs": [
    {
     "name": "stdout",
     "output_type": "stream",
     "text": [
      "Muquém do São Francisco\n"
     ]
    }
   ],
   "source": [
    "linha = change_nome_linha(original, 'Muquém do São Francisco')"
   ]
  },
  {
   "cell_type": "code",
   "execution_count": null,
   "metadata": {
    "colab": {
     "base_uri": "https://localhost:8080/",
     "height": 54
    },
    "colab_type": "code",
    "id": "btnbkkqHv2FQ",
    "outputId": "10a8f31f-c990-4dc5-fbb0-ebccc8505915"
   },
   "outputs": [
    {
     "name": "stdout",
     "output_type": "stream",
     "text": [
      "[[2401305, 'RN', 'Augusto Severo', -5.86206, -37.3135, 0], [2401305, 'RN', 'Campo Grande', -5.86206, -37.3135, 0], [2405306, 'RN', 'Januário Cicco', -6.16566, -35.6219, 0], [2405306, 'RN', 'Boa Saúde', -6.16566, -35.6219, 0], [2922250, 'BA', 'Muquém do São Francisco', -12.065, -43.5497, 0]]\n"
     ]
    }
   ],
   "source": [
    "#adicionar linha Muquém do São Francisco ao dataset\n",
    "novas_linhas.append(linha)\n",
    "print(novas_linhas)"
   ]
  },
  {
   "cell_type": "markdown",
   "metadata": {
    "colab_type": "text",
    "id": "KLEMfiVX0FTU"
   },
   "source": [
    "\"Santa Terezinha (BA)\": \"Santa Teresinha (BA)\""
   ]
  },
  {
   "cell_type": "code",
   "execution_count": null,
   "metadata": {
    "colab": {
     "base_uri": "https://localhost:8080/",
     "height": 80
    },
    "colab_type": "code",
    "id": "HUnkcVOXXhxP",
    "outputId": "6fe09404-03b1-44ad-83c2-aa04939c374e"
   },
   "outputs": [
    {
     "data": {
      "text/html": [
       "<div>\n",
       "<style scoped>\n",
       "    .dataframe tbody tr th:only-of-type {\n",
       "        vertical-align: middle;\n",
       "    }\n",
       "\n",
       "    .dataframe tbody tr th {\n",
       "        vertical-align: top;\n",
       "    }\n",
       "\n",
       "    .dataframe thead th {\n",
       "        text-align: right;\n",
       "    }\n",
       "</style>\n",
       "<table border=\"1\" class=\"dataframe\">\n",
       "  <thead>\n",
       "    <tr style=\"text-align: right;\">\n",
       "      <th></th>\n",
       "      <th>codigo_ibge</th>\n",
       "      <th>uf</th>\n",
       "      <th>nome</th>\n",
       "      <th>latitude</th>\n",
       "      <th>longitude</th>\n",
       "      <th>capital</th>\n",
       "    </tr>\n",
       "  </thead>\n",
       "  <tbody>\n",
       "    <tr>\n",
       "      <th>4479</th>\n",
       "      <td>2928505</td>\n",
       "      <td>BA</td>\n",
       "      <td>Santa Teresinha</td>\n",
       "      <td>-12.7697</td>\n",
       "      <td>-39.5215</td>\n",
       "      <td>0</td>\n",
       "    </tr>\n",
       "  </tbody>\n",
       "</table>\n",
       "</div>"
      ],
      "text/plain": [
       "      codigo_ibge  uf             nome  latitude  longitude  capital\n",
       "4479      2928505  BA  Santa Teresinha  -12.7697   -39.5215        0"
      ]
     },
     "execution_count": 209,
     "metadata": {
      "tags": []
     },
     "output_type": "execute_result"
    }
   ],
   "source": [
    "index = BA.loc[BA[\"nome\"] == 'Santa Teresinha'].index.tolist()[0]\n",
    "BA.loc[BA[\"nome\"] == 'Santa Teresinha']"
   ]
  },
  {
   "cell_type": "code",
   "execution_count": null,
   "metadata": {
    "colab": {
     "base_uri": "https://localhost:8080/",
     "height": 34
    },
    "colab_type": "code",
    "id": "CWZ4q1O80PZd",
    "outputId": "fd661b1c-5aed-44cb-96d7-bac4d5c93177"
   },
   "outputs": [
    {
     "name": "stdout",
     "output_type": "stream",
     "text": [
      "Santa Teresinha\n"
     ]
    }
   ],
   "source": [
    "original = get_linha_original(BA, index)"
   ]
  },
  {
   "cell_type": "code",
   "execution_count": null,
   "metadata": {
    "colab": {
     "base_uri": "https://localhost:8080/",
     "height": 34
    },
    "colab_type": "code",
    "id": "HfWyRalw0PeV",
    "outputId": "76339ca0-ae76-444d-d3fe-76ac9c7117b8"
   },
   "outputs": [
    {
     "name": "stdout",
     "output_type": "stream",
     "text": [
      "Santa Terezinha\n"
     ]
    }
   ],
   "source": [
    "linha = change_nome_linha(original, 'Santa Terezinha')"
   ]
  },
  {
   "cell_type": "code",
   "execution_count": null,
   "metadata": {
    "colab": {
     "base_uri": "https://localhost:8080/",
     "height": 54
    },
    "colab_type": "code",
    "id": "UKGylfYP0Piu",
    "outputId": "07766074-a1e4-4395-d0ec-0e060b8d7ff1"
   },
   "outputs": [
    {
     "name": "stdout",
     "output_type": "stream",
     "text": [
      "[[2401305, 'RN', 'Augusto Severo', -5.86206, -37.3135, 0], [2401305, 'RN', 'Campo Grande', -5.86206, -37.3135, 0], [2405306, 'RN', 'Januário Cicco', -6.16566, -35.6219, 0], [2405306, 'RN', 'Boa Saúde', -6.16566, -35.6219, 0], [2922250, 'BA', 'Muquém do São Francisco', -12.065, -43.5497, 0], [2928505, 'BA', 'Santa Terezinha', -12.7697, -39.5215, 0]]\n"
     ]
    }
   ],
   "source": [
    "#adicionar linha Santa Terezinha ao dataset\n",
    "novas_linhas.append(linha)\n",
    "print(novas_linhas)"
   ]
  },
  {
   "cell_type": "markdown",
   "metadata": {
    "colab_type": "text",
    "id": "juQNq11W-Rkl"
   },
   "source": [
    "### Ceará"
   ]
  },
  {
   "cell_type": "code",
   "execution_count": null,
   "metadata": {
    "colab": {},
    "colab_type": "code",
    "id": "LE22eYQR78dS"
   },
   "outputs": [],
   "source": [
    "CE = vertical_stack.loc[vertical_stack['uf'] == 'CE']"
   ]
  },
  {
   "cell_type": "markdown",
   "metadata": {
    "colab_type": "text",
    "id": "fEj8bTaV7wgp"
   },
   "source": [
    "\"Itapajé (CE)\" : \"Itapagé (CE)\""
   ]
  },
  {
   "cell_type": "code",
   "execution_count": null,
   "metadata": {
    "colab": {
     "base_uri": "https://localhost:8080/",
     "height": 80
    },
    "colab_type": "code",
    "id": "oxxL9YKo0XWs",
    "outputId": "1f9c9c42-1995-4e9d-fe5d-f9874b7758ef"
   },
   "outputs": [
    {
     "data": {
      "text/html": [
       "<div>\n",
       "<style scoped>\n",
       "    .dataframe tbody tr th:only-of-type {\n",
       "        vertical-align: middle;\n",
       "    }\n",
       "\n",
       "    .dataframe tbody tr th {\n",
       "        vertical-align: top;\n",
       "    }\n",
       "\n",
       "    .dataframe thead th {\n",
       "        text-align: right;\n",
       "    }\n",
       "</style>\n",
       "<table border=\"1\" class=\"dataframe\">\n",
       "  <thead>\n",
       "    <tr style=\"text-align: right;\">\n",
       "      <th></th>\n",
       "      <th>codigo_ibge</th>\n",
       "      <th>uf</th>\n",
       "      <th>nome</th>\n",
       "      <th>latitude</th>\n",
       "      <th>longitude</th>\n",
       "      <th>capital</th>\n",
       "    </tr>\n",
       "  </thead>\n",
       "  <tbody>\n",
       "    <tr>\n",
       "      <th>2358</th>\n",
       "      <td>2306306</td>\n",
       "      <td>CE</td>\n",
       "      <td>Itapajé</td>\n",
       "      <td>-3.68314</td>\n",
       "      <td>-39.5855</td>\n",
       "      <td>0</td>\n",
       "    </tr>\n",
       "  </tbody>\n",
       "</table>\n",
       "</div>"
      ],
      "text/plain": [
       "      codigo_ibge  uf     nome  latitude  longitude  capital\n",
       "2358      2306306  CE  Itapajé  -3.68314   -39.5855        0"
      ]
     },
     "execution_count": 219,
     "metadata": {
      "tags": []
     },
     "output_type": "execute_result"
    }
   ],
   "source": [
    "n = 'Itapajé'\n",
    "index = CE.loc[CE[\"nome\"] == n].index.tolist()[0]\n",
    "CE.loc[CE[\"nome\"] == n]"
   ]
  },
  {
   "cell_type": "code",
   "execution_count": null,
   "metadata": {
    "colab": {
     "base_uri": "https://localhost:8080/",
     "height": 34
    },
    "colab_type": "code",
    "id": "QWZf44HV0X_P",
    "outputId": "408362a1-fb25-497b-a00f-07efafa5eb32"
   },
   "outputs": [
    {
     "name": "stdout",
     "output_type": "stream",
     "text": [
      "Itapajé\n"
     ]
    }
   ],
   "source": [
    "original = get_linha_original(CE, index)"
   ]
  },
  {
   "cell_type": "code",
   "execution_count": null,
   "metadata": {
    "colab": {
     "base_uri": "https://localhost:8080/",
     "height": 34
    },
    "colab_type": "code",
    "id": "iaGIhsPY0Xxp",
    "outputId": "0b7e91aa-0e8f-41fd-ad71-45abfdaef581"
   },
   "outputs": [
    {
     "name": "stdout",
     "output_type": "stream",
     "text": [
      "Itapagé\n"
     ]
    }
   ],
   "source": [
    "linha = change_nome_linha(original, 'Itapagé')"
   ]
  },
  {
   "cell_type": "code",
   "execution_count": null,
   "metadata": {
    "colab": {
     "base_uri": "https://localhost:8080/",
     "height": 54
    },
    "colab_type": "code",
    "id": "zwp9JX-_0WuI",
    "outputId": "ed8980fb-1466-472c-d6ed-921b349159ed"
   },
   "outputs": [
    {
     "name": "stdout",
     "output_type": "stream",
     "text": [
      "[[2401305, 'RN', 'Augusto Severo', -5.86206, -37.3135, 0], [2401305, 'RN', 'Campo Grande', -5.86206, -37.3135, 0], [2405306, 'RN', 'Januário Cicco', -6.16566, -35.6219, 0], [2405306, 'RN', 'Boa Saúde', -6.16566, -35.6219, 0], [2922250, 'BA', 'Muquém do São Francisco', -12.065, -43.5497, 0], [2928505, 'BA', 'Santa Terezinha', -12.7697, -39.5215, 0], [2306306, 'CE', 'Itapagé', -3.6831400000000003, -39.5855, 0]]\n"
     ]
    }
   ],
   "source": [
    "#adicionar linha Itapagé ao dataset\n",
    "novas_linhas.append(linha)\n",
    "print(novas_linhas)"
   ]
  },
  {
   "cell_type": "markdown",
   "metadata": {
    "colab_type": "text",
    "id": "hcjl81Mt9GTl"
   },
   "source": [
    "### São Paulo\n",
    "\"Florínea (SP)\" : \"Florínia (SP)\", \"Embu (SP)\": \"Embu das Artes (SP)\" Moji Mirim (SP): Mogi Mirim (SP) São Luís do Paraitinga (SP): São Luiz do Paraitinga (SP)"
   ]
  },
  {
   "cell_type": "code",
   "execution_count": null,
   "metadata": {
    "colab": {},
    "colab_type": "code",
    "id": "juzKtsoQ8ZK1"
   },
   "outputs": [],
   "source": [
    "SP = vertical_stack.loc[vertical_stack['uf'] == 'SP']"
   ]
  },
  {
   "cell_type": "code",
   "execution_count": null,
   "metadata": {
    "colab": {
     "base_uri": "https://localhost:8080/",
     "height": 80
    },
    "colab_type": "code",
    "id": "5CuT-GD88ZUl",
    "outputId": "3fab8ad5-d426-4cac-9e44-3ac85bc90dd1"
   },
   "outputs": [
    {
     "data": {
      "text/html": [
       "<div>\n",
       "<style scoped>\n",
       "    .dataframe tbody tr th:only-of-type {\n",
       "        vertical-align: middle;\n",
       "    }\n",
       "\n",
       "    .dataframe tbody tr th {\n",
       "        vertical-align: top;\n",
       "    }\n",
       "\n",
       "    .dataframe thead th {\n",
       "        text-align: right;\n",
       "    }\n",
       "</style>\n",
       "<table border=\"1\" class=\"dataframe\">\n",
       "  <thead>\n",
       "    <tr style=\"text-align: right;\">\n",
       "      <th></th>\n",
       "      <th>codigo_ibge</th>\n",
       "      <th>uf</th>\n",
       "      <th>nome</th>\n",
       "      <th>latitude</th>\n",
       "      <th>longitude</th>\n",
       "      <th>capital</th>\n",
       "    </tr>\n",
       "  </thead>\n",
       "  <tbody>\n",
       "    <tr>\n",
       "      <th>1815</th>\n",
       "      <td>3516101</td>\n",
       "      <td>SP</td>\n",
       "      <td>Florínia</td>\n",
       "      <td>-22.868</td>\n",
       "      <td>-50.6814</td>\n",
       "      <td>0</td>\n",
       "    </tr>\n",
       "  </tbody>\n",
       "</table>\n",
       "</div>"
      ],
      "text/plain": [
       "      codigo_ibge  uf      nome  latitude  longitude  capital\n",
       "1815      3516101  SP  Florínia   -22.868   -50.6814        0"
      ]
     },
     "execution_count": 226,
     "metadata": {
      "tags": []
     },
     "output_type": "execute_result"
    }
   ],
   "source": [
    "n = 'Florínia'\n",
    "index = SP.loc[SP[\"nome\"] == n].index.tolist()[0]\n",
    "SP.loc[SP[\"nome\"] == n]"
   ]
  },
  {
   "cell_type": "code",
   "execution_count": null,
   "metadata": {
    "colab": {
     "base_uri": "https://localhost:8080/",
     "height": 51
    },
    "colab_type": "code",
    "id": "RrYgst0t8ZR5",
    "outputId": "f420139e-5fb0-495c-93a7-028e36666df3"
   },
   "outputs": [
    {
     "name": "stdout",
     "output_type": "stream",
     "text": [
      "Florínia\n",
      "Florínea\n"
     ]
    }
   ],
   "source": [
    "original = get_linha_original(SP, index)\n",
    "linha = change_nome_linha(original, 'Florínea')\n",
    "novas_linhas.append(linha)"
   ]
  },
  {
   "cell_type": "code",
   "execution_count": null,
   "metadata": {
    "colab": {
     "base_uri": "https://localhost:8080/",
     "height": 80
    },
    "colab_type": "code",
    "id": "S-vJODJ68Y84",
    "outputId": "ec7009ff-3c9b-4170-c04f-87b304d5d425"
   },
   "outputs": [
    {
     "data": {
      "text/html": [
       "<div>\n",
       "<style scoped>\n",
       "    .dataframe tbody tr th:only-of-type {\n",
       "        vertical-align: middle;\n",
       "    }\n",
       "\n",
       "    .dataframe tbody tr th {\n",
       "        vertical-align: top;\n",
       "    }\n",
       "\n",
       "    .dataframe thead th {\n",
       "        text-align: right;\n",
       "    }\n",
       "</style>\n",
       "<table border=\"1\" class=\"dataframe\">\n",
       "  <thead>\n",
       "    <tr style=\"text-align: right;\">\n",
       "      <th></th>\n",
       "      <th>codigo_ibge</th>\n",
       "      <th>uf</th>\n",
       "      <th>nome</th>\n",
       "      <th>latitude</th>\n",
       "      <th>longitude</th>\n",
       "      <th>capital</th>\n",
       "    </tr>\n",
       "  </thead>\n",
       "  <tbody>\n",
       "    <tr>\n",
       "      <th>1656</th>\n",
       "      <td>3515004</td>\n",
       "      <td>SP</td>\n",
       "      <td>Embu das Artes</td>\n",
       "      <td>-23.6437</td>\n",
       "      <td>-46.8579</td>\n",
       "      <td>0</td>\n",
       "    </tr>\n",
       "  </tbody>\n",
       "</table>\n",
       "</div>"
      ],
      "text/plain": [
       "      codigo_ibge  uf            nome  latitude  longitude  capital\n",
       "1656      3515004  SP  Embu das Artes  -23.6437   -46.8579        0"
      ]
     },
     "execution_count": 229,
     "metadata": {
      "tags": []
     },
     "output_type": "execute_result"
    }
   ],
   "source": [
    "n = 'Embu das Artes'\n",
    "index = SP.loc[SP[\"nome\"] == n].index.tolist()[0]\n",
    "SP.loc[SP[\"nome\"] == n]"
   ]
  },
  {
   "cell_type": "code",
   "execution_count": null,
   "metadata": {
    "colab": {
     "base_uri": "https://localhost:8080/",
     "height": 51
    },
    "colab_type": "code",
    "id": "d-phufhK9mBH",
    "outputId": "b3d6aaea-0da4-4391-dcb7-3b92acd7b296"
   },
   "outputs": [
    {
     "name": "stdout",
     "output_type": "stream",
     "text": [
      "Embu das Artes\n",
      "Embu\n"
     ]
    }
   ],
   "source": [
    "original = get_linha_original(SP, index)\n",
    "linha = change_nome_linha(original, 'Embu')\n",
    "novas_linhas.append(linha)"
   ]
  },
  {
   "cell_type": "code",
   "execution_count": null,
   "metadata": {
    "colab": {
     "base_uri": "https://localhost:8080/",
     "height": 80
    },
    "colab_type": "code",
    "id": "V_R-UsrX9lbL",
    "outputId": "7a90d65b-9a20-45d8-8e53-e530eb2340b3"
   },
   "outputs": [
    {
     "data": {
      "text/html": [
       "<div>\n",
       "<style scoped>\n",
       "    .dataframe tbody tr th:only-of-type {\n",
       "        vertical-align: middle;\n",
       "    }\n",
       "\n",
       "    .dataframe tbody tr th {\n",
       "        vertical-align: top;\n",
       "    }\n",
       "\n",
       "    .dataframe thead th {\n",
       "        text-align: right;\n",
       "    }\n",
       "</style>\n",
       "<table border=\"1\" class=\"dataframe\">\n",
       "  <thead>\n",
       "    <tr style=\"text-align: right;\">\n",
       "      <th></th>\n",
       "      <th>codigo_ibge</th>\n",
       "      <th>uf</th>\n",
       "      <th>nome</th>\n",
       "      <th>latitude</th>\n",
       "      <th>longitude</th>\n",
       "      <th>capital</th>\n",
       "    </tr>\n",
       "  </thead>\n",
       "  <tbody>\n",
       "    <tr>\n",
       "      <th>3111</th>\n",
       "      <td>3530805</td>\n",
       "      <td>SP</td>\n",
       "      <td>Mogi Mirim</td>\n",
       "      <td>-22.4332</td>\n",
       "      <td>-46.9532</td>\n",
       "      <td>0</td>\n",
       "    </tr>\n",
       "  </tbody>\n",
       "</table>\n",
       "</div>"
      ],
      "text/plain": [
       "      codigo_ibge  uf        nome  latitude  longitude  capital\n",
       "3111      3530805  SP  Mogi Mirim  -22.4332   -46.9532        0"
      ]
     },
     "execution_count": 232,
     "metadata": {
      "tags": []
     },
     "output_type": "execute_result"
    }
   ],
   "source": [
    "n = 'Mogi Mirim'\n",
    "index = SP.loc[SP[\"nome\"] == n].index.tolist()[0]\n",
    "SP.loc[SP[\"nome\"] == n]"
   ]
  },
  {
   "cell_type": "code",
   "execution_count": null,
   "metadata": {
    "colab": {
     "base_uri": "https://localhost:8080/",
     "height": 51
    },
    "colab_type": "code",
    "id": "yVtniYS79lPO",
    "outputId": "cf3ded31-b727-4b83-9c44-5bdf833ff516"
   },
   "outputs": [
    {
     "name": "stdout",
     "output_type": "stream",
     "text": [
      "Mogi Mirim\n",
      "Moji Mirim\n"
     ]
    }
   ],
   "source": [
    "original = get_linha_original(SP, index)\n",
    "linha = change_nome_linha(original, 'Moji Mirim')\n",
    "novas_linhas.append(linha)"
   ]
  },
  {
   "cell_type": "code",
   "execution_count": null,
   "metadata": {
    "colab": {
     "base_uri": "https://localhost:8080/",
     "height": 80
    },
    "colab_type": "code",
    "id": "nUmNa-jt9wme",
    "outputId": "d2e5a647-7cdf-417a-d5d5-f42f75bcd68d"
   },
   "outputs": [
    {
     "data": {
      "text/html": [
       "<div>\n",
       "<style scoped>\n",
       "    .dataframe tbody tr th:only-of-type {\n",
       "        vertical-align: middle;\n",
       "    }\n",
       "\n",
       "    .dataframe tbody tr th {\n",
       "        vertical-align: top;\n",
       "    }\n",
       "\n",
       "    .dataframe thead th {\n",
       "        text-align: right;\n",
       "    }\n",
       "</style>\n",
       "<table border=\"1\" class=\"dataframe\">\n",
       "  <thead>\n",
       "    <tr style=\"text-align: right;\">\n",
       "      <th></th>\n",
       "      <th>codigo_ibge</th>\n",
       "      <th>uf</th>\n",
       "      <th>nome</th>\n",
       "      <th>latitude</th>\n",
       "      <th>longitude</th>\n",
       "      <th>capital</th>\n",
       "    </tr>\n",
       "  </thead>\n",
       "  <tbody>\n",
       "    <tr>\n",
       "      <th>4818</th>\n",
       "      <td>3550001</td>\n",
       "      <td>SP</td>\n",
       "      <td>São Luiz do Paraitinga</td>\n",
       "      <td>-23.222</td>\n",
       "      <td>-45.3109</td>\n",
       "      <td>0</td>\n",
       "    </tr>\n",
       "  </tbody>\n",
       "</table>\n",
       "</div>"
      ],
      "text/plain": [
       "      codigo_ibge  uf                    nome  latitude  longitude  capital\n",
       "4818      3550001  SP  São Luiz do Paraitinga   -23.222   -45.3109        0"
      ]
     },
     "execution_count": 234,
     "metadata": {
      "tags": []
     },
     "output_type": "execute_result"
    }
   ],
   "source": [
    "n = 'São Luiz do Paraitinga'\n",
    "index = SP.loc[SP[\"nome\"] == n].index.tolist()[0]\n",
    "SP.loc[SP[\"nome\"] == n]"
   ]
  },
  {
   "cell_type": "code",
   "execution_count": null,
   "metadata": {
    "colab": {
     "base_uri": "https://localhost:8080/",
     "height": 51
    },
    "colab_type": "code",
    "id": "MtDmlv6M90_y",
    "outputId": "01db2592-c3dc-4b37-8d2b-b5b9d4b8974c"
   },
   "outputs": [
    {
     "name": "stdout",
     "output_type": "stream",
     "text": [
      "São Luiz do Paraitinga\n",
      "São Luís do Paraitinga\n"
     ]
    }
   ],
   "source": [
    "original = get_linha_original(SP, index)\n",
    "linha = change_nome_linha(original, 'São Luís do Paraitinga')\n",
    "novas_linhas.append(linha)"
   ]
  },
  {
   "cell_type": "markdown",
   "metadata": {
    "colab_type": "text",
    "id": "zU91DGJ_95DT"
   },
   "source": [
    "### Pará"
   ]
  },
  {
   "cell_type": "code",
   "execution_count": null,
   "metadata": {
    "colab": {},
    "colab_type": "code",
    "id": "NMbJ7Dp994FE"
   },
   "outputs": [],
   "source": [
    "PA = vertical_stack.loc[vertical_stack['uf'] == 'PA']"
   ]
  },
  {
   "cell_type": "code",
   "execution_count": null,
   "metadata": {
    "colab": {
     "base_uri": "https://localhost:8080/",
     "height": 80
    },
    "colab_type": "code",
    "id": "_0xWEvZd-iI4",
    "outputId": "c9ba24cf-0c33-4375-ad12-54f36d049902"
   },
   "outputs": [
    {
     "data": {
      "text/html": [
       "<div>\n",
       "<style scoped>\n",
       "    .dataframe tbody tr th:only-of-type {\n",
       "        vertical-align: middle;\n",
       "    }\n",
       "\n",
       "    .dataframe tbody tr th {\n",
       "        vertical-align: top;\n",
       "    }\n",
       "\n",
       "    .dataframe thead th {\n",
       "        text-align: right;\n",
       "    }\n",
       "</style>\n",
       "<table border=\"1\" class=\"dataframe\">\n",
       "  <thead>\n",
       "    <tr style=\"text-align: right;\">\n",
       "      <th></th>\n",
       "      <th>codigo_ibge</th>\n",
       "      <th>uf</th>\n",
       "      <th>nome</th>\n",
       "      <th>latitude</th>\n",
       "      <th>longitude</th>\n",
       "      <th>capital</th>\n",
       "    </tr>\n",
       "  </thead>\n",
       "  <tbody>\n",
       "    <tr>\n",
       "      <th>1646</th>\n",
       "      <td>1502954</td>\n",
       "      <td>PA</td>\n",
       "      <td>Eldorado do Carajás</td>\n",
       "      <td>-6.10389</td>\n",
       "      <td>-49.3553</td>\n",
       "      <td>0</td>\n",
       "    </tr>\n",
       "  </tbody>\n",
       "</table>\n",
       "</div>"
      ],
      "text/plain": [
       "      codigo_ibge  uf                 nome  latitude  longitude  capital\n",
       "1646      1502954  PA  Eldorado do Carajás  -6.10389   -49.3553        0"
      ]
     },
     "execution_count": 239,
     "metadata": {
      "tags": []
     },
     "output_type": "execute_result"
    }
   ],
   "source": [
    "n = 'Eldorado do Carajás'\n",
    "index = PA.loc[PA[\"nome\"] == n].index.tolist()[0]\n",
    "PA.loc[PA[\"nome\"] == n]"
   ]
  },
  {
   "cell_type": "code",
   "execution_count": null,
   "metadata": {
    "colab": {
     "base_uri": "https://localhost:8080/",
     "height": 51
    },
    "colab_type": "code",
    "id": "TqQ3TUoc-iyB",
    "outputId": "bae973b7-6f63-4424-9216-ce1eec591882"
   },
   "outputs": [
    {
     "name": "stdout",
     "output_type": "stream",
     "text": [
      "Eldorado do Carajás\n",
      "Eldorado dos Carajás\n"
     ]
    }
   ],
   "source": [
    "original = get_linha_original(PA, index)\n",
    "linha = change_nome_linha(original, 'Eldorado dos Carajás')\n",
    "novas_linhas.append(linha)"
   ]
  },
  {
   "cell_type": "code",
   "execution_count": null,
   "metadata": {
    "colab": {
     "base_uri": "https://localhost:8080/",
     "height": 80
    },
    "colab_type": "code",
    "id": "PeyyxIU2-ivW",
    "outputId": "12bd3f3d-878b-4dad-c866-217199f3b56d"
   },
   "outputs": [
    {
     "data": {
      "text/html": [
       "<div>\n",
       "<style scoped>\n",
       "    .dataframe tbody tr th:only-of-type {\n",
       "        vertical-align: middle;\n",
       "    }\n",
       "\n",
       "    .dataframe tbody tr th {\n",
       "        vertical-align: top;\n",
       "    }\n",
       "\n",
       "    .dataframe thead th {\n",
       "        text-align: right;\n",
       "    }\n",
       "</style>\n",
       "<table border=\"1\" class=\"dataframe\">\n",
       "  <thead>\n",
       "    <tr style=\"text-align: right;\">\n",
       "      <th></th>\n",
       "      <th>codigo_ibge</th>\n",
       "      <th>uf</th>\n",
       "      <th>nome</th>\n",
       "      <th>latitude</th>\n",
       "      <th>longitude</th>\n",
       "      <th>capital</th>\n",
       "    </tr>\n",
       "  </thead>\n",
       "  <tbody>\n",
       "    <tr>\n",
       "      <th>4413</th>\n",
       "      <td>1506500</td>\n",
       "      <td>PA</td>\n",
       "      <td>Santa Izabel do Pará</td>\n",
       "      <td>-1.29686</td>\n",
       "      <td>-48.1606</td>\n",
       "      <td>0</td>\n",
       "    </tr>\n",
       "  </tbody>\n",
       "</table>\n",
       "</div>"
      ],
      "text/plain": [
       "      codigo_ibge  uf                  nome  latitude  longitude  capital\n",
       "4413      1506500  PA  Santa Izabel do Pará  -1.29686   -48.1606        0"
      ]
     },
     "execution_count": 241,
     "metadata": {
      "tags": []
     },
     "output_type": "execute_result"
    }
   ],
   "source": [
    "n = 'Santa Izabel do Pará'\n",
    "index = PA.loc[PA[\"nome\"] == n].index.tolist()[0]\n",
    "PA.loc[PA[\"nome\"] == n]"
   ]
  },
  {
   "cell_type": "code",
   "execution_count": null,
   "metadata": {
    "colab": {
     "base_uri": "https://localhost:8080/",
     "height": 51
    },
    "colab_type": "code",
    "id": "gIoWd4KC-isV",
    "outputId": "ac3b02ea-5c4a-4161-e15a-709882af5fa8"
   },
   "outputs": [
    {
     "name": "stdout",
     "output_type": "stream",
     "text": [
      "Santa Izabel do Pará\n",
      "Santa Isabel do Pará\n"
     ]
    }
   ],
   "source": [
    "original = get_linha_original(PA, index)\n",
    "linha = change_nome_linha(original, 'Santa Isabel do Pará')\n",
    "novas_linhas.append(linha)"
   ]
  },
  {
   "cell_type": "markdown",
   "metadata": {
    "colab_type": "text",
    "id": "LdZjrXfD_EV3"
   },
   "source": [
    "### PB"
   ]
  },
  {
   "cell_type": "code",
   "execution_count": null,
   "metadata": {
    "colab": {},
    "colab_type": "code",
    "id": "d0yGyHcO_Go0"
   },
   "outputs": [],
   "source": [
    "PB = vertical_stack.loc[vertical_stack['uf'] == 'PB']"
   ]
  },
  {
   "cell_type": "code",
   "execution_count": null,
   "metadata": {
    "colab": {
     "base_uri": "https://localhost:8080/",
     "height": 80
    },
    "colab_type": "code",
    "id": "ad2FLm2p_HA_",
    "outputId": "eca94a0a-a1db-4cc1-f9e0-eb79b26b86e0"
   },
   "outputs": [
    {
     "data": {
      "text/html": [
       "<div>\n",
       "<style scoped>\n",
       "    .dataframe tbody tr th:only-of-type {\n",
       "        vertical-align: middle;\n",
       "    }\n",
       "\n",
       "    .dataframe tbody tr th {\n",
       "        vertical-align: top;\n",
       "    }\n",
       "\n",
       "    .dataframe thead th {\n",
       "        text-align: right;\n",
       "    }\n",
       "</style>\n",
       "<table border=\"1\" class=\"dataframe\">\n",
       "  <thead>\n",
       "    <tr style=\"text-align: right;\">\n",
       "      <th></th>\n",
       "      <th>codigo_ibge</th>\n",
       "      <th>uf</th>\n",
       "      <th>nome</th>\n",
       "      <th>latitude</th>\n",
       "      <th>longitude</th>\n",
       "      <th>capital</th>\n",
       "    </tr>\n",
       "  </thead>\n",
       "  <tbody>\n",
       "    <tr>\n",
       "      <th>2603</th>\n",
       "      <td>2513653</td>\n",
       "      <td>PB</td>\n",
       "      <td>Joca Claudino</td>\n",
       "      <td>-6.48362</td>\n",
       "      <td>-38.4764</td>\n",
       "      <td>0</td>\n",
       "    </tr>\n",
       "  </tbody>\n",
       "</table>\n",
       "</div>"
      ],
      "text/plain": [
       "      codigo_ibge  uf           nome  latitude  longitude  capital\n",
       "2603      2513653  PB  Joca Claudino  -6.48362   -38.4764        0"
      ]
     },
     "execution_count": 244,
     "metadata": {
      "tags": []
     },
     "output_type": "execute_result"
    }
   ],
   "source": [
    "n = 'Joca Claudino'\n",
    "index = PB.loc[PB[\"nome\"] == n].index.tolist()[0]\n",
    "PB.loc[PB[\"nome\"] == n]"
   ]
  },
  {
   "cell_type": "code",
   "execution_count": null,
   "metadata": {
    "colab": {
     "base_uri": "https://localhost:8080/",
     "height": 51
    },
    "colab_type": "code",
    "id": "nqw4OPg3_G8_",
    "outputId": "537e3ad7-560e-47e3-9fae-42ce4fa88805"
   },
   "outputs": [
    {
     "name": "stdout",
     "output_type": "stream",
     "text": [
      "Joca Claudino\n",
      "Santarém\n"
     ]
    }
   ],
   "source": [
    "original = get_linha_original(PB, index)\n",
    "linha = change_nome_linha(original, 'Santarém')\n",
    "novas_linhas.append(linha)"
   ]
  },
  {
   "cell_type": "code",
   "execution_count": null,
   "metadata": {
    "colab": {
     "base_uri": "https://localhost:8080/",
     "height": 80
    },
    "colab_type": "code",
    "id": "LZqVqRHh_G4W",
    "outputId": "27cb2548-f79f-4042-cf7d-147c4486ce4a"
   },
   "outputs": [
    {
     "data": {
      "text/html": [
       "<div>\n",
       "<style scoped>\n",
       "    .dataframe tbody tr th:only-of-type {\n",
       "        vertical-align: middle;\n",
       "    }\n",
       "\n",
       "    .dataframe tbody tr th {\n",
       "        vertical-align: top;\n",
       "    }\n",
       "\n",
       "    .dataframe thead th {\n",
       "        text-align: right;\n",
       "    }\n",
       "</style>\n",
       "<table border=\"1\" class=\"dataframe\">\n",
       "  <thead>\n",
       "    <tr style=\"text-align: right;\">\n",
       "      <th></th>\n",
       "      <th>codigo_ibge</th>\n",
       "      <th>uf</th>\n",
       "      <th>nome</th>\n",
       "      <th>latitude</th>\n",
       "      <th>longitude</th>\n",
       "      <th>capital</th>\n",
       "    </tr>\n",
       "  </thead>\n",
       "  <tbody>\n",
       "    <tr>\n",
       "      <th>4922</th>\n",
       "      <td>2515401</td>\n",
       "      <td>PB</td>\n",
       "      <td>São Vicente do Seridó</td>\n",
       "      <td>-6.85426</td>\n",
       "      <td>-36.4122</td>\n",
       "      <td>0</td>\n",
       "    </tr>\n",
       "  </tbody>\n",
       "</table>\n",
       "</div>"
      ],
      "text/plain": [
       "      codigo_ibge  uf                   nome  latitude  longitude  capital\n",
       "4922      2515401  PB  São Vicente do Seridó  -6.85426   -36.4122        0"
      ]
     },
     "execution_count": 248,
     "metadata": {
      "tags": []
     },
     "output_type": "execute_result"
    }
   ],
   "source": [
    "n = 'São Vicente do Seridó'\n",
    "index = PB.loc[PB[\"nome\"] == n].index.tolist()[0]\n",
    "PB.loc[PB[\"nome\"] == n]"
   ]
  },
  {
   "cell_type": "code",
   "execution_count": null,
   "metadata": {
    "colab": {
     "base_uri": "https://localhost:8080/",
     "height": 51
    },
    "colab_type": "code",
    "id": "c5Va8Eff_Gzs",
    "outputId": "f92c8dbb-1a49-49fa-dfbc-dc95500bc46e"
   },
   "outputs": [
    {
     "name": "stdout",
     "output_type": "stream",
     "text": [
      "São Vicente do Seridó\n",
      "Seridó\n"
     ]
    }
   ],
   "source": [
    "original = get_linha_original(PB, index)\n",
    "linha = change_nome_linha(original, 'Seridó')\n",
    "novas_linhas.append(linha)"
   ]
  },
  {
   "cell_type": "markdown",
   "metadata": {
    "colab_type": "text",
    "id": "5B7vuHC4_eGz"
   },
   "source": [
    "### PE"
   ]
  },
  {
   "cell_type": "code",
   "execution_count": null,
   "metadata": {
    "colab": {},
    "colab_type": "code",
    "id": "YQ-UEx1D_iQS"
   },
   "outputs": [],
   "source": [
    "PE = vertical_stack.loc[vertical_stack['uf'] == 'PE']"
   ]
  },
  {
   "cell_type": "code",
   "execution_count": null,
   "metadata": {
    "colab": {
     "base_uri": "https://localhost:8080/",
     "height": 80
    },
    "colab_type": "code",
    "id": "C-U0Rtpj_GSn",
    "outputId": "b0949eb0-14d7-4280-9705-2e0b525c03a1"
   },
   "outputs": [
    {
     "data": {
      "text/html": [
       "<div>\n",
       "<style scoped>\n",
       "    .dataframe tbody tr th:only-of-type {\n",
       "        vertical-align: middle;\n",
       "    }\n",
       "\n",
       "    .dataframe tbody tr th {\n",
       "        vertical-align: top;\n",
       "    }\n",
       "\n",
       "    .dataframe thead th {\n",
       "        text-align: right;\n",
       "    }\n",
       "</style>\n",
       "<table border=\"1\" class=\"dataframe\">\n",
       "  <thead>\n",
       "    <tr style=\"text-align: right;\">\n",
       "      <th></th>\n",
       "      <th>codigo_ibge</th>\n",
       "      <th>uf</th>\n",
       "      <th>nome</th>\n",
       "      <th>latitude</th>\n",
       "      <th>longitude</th>\n",
       "      <th>capital</th>\n",
       "    </tr>\n",
       "  </thead>\n",
       "  <tbody>\n",
       "    <tr>\n",
       "      <th>4603</th>\n",
       "      <td>2613107</td>\n",
       "      <td>PE</td>\n",
       "      <td>São Caetano</td>\n",
       "      <td>-8.33763</td>\n",
       "      <td>-36.2869</td>\n",
       "      <td>0</td>\n",
       "    </tr>\n",
       "  </tbody>\n",
       "</table>\n",
       "</div>"
      ],
      "text/plain": [
       "      codigo_ibge  uf         nome  latitude  longitude  capital\n",
       "4603      2613107  PE  São Caetano  -8.33763   -36.2869        0"
      ]
     },
     "execution_count": 252,
     "metadata": {
      "tags": []
     },
     "output_type": "execute_result"
    }
   ],
   "source": [
    "n = 'São Caetano'\n",
    "index = PE.loc[PE[\"nome\"] == n].index.tolist()[0]\n",
    "PE.loc[PE[\"nome\"] == n]"
   ]
  },
  {
   "cell_type": "code",
   "execution_count": null,
   "metadata": {
    "colab": {
     "base_uri": "https://localhost:8080/",
     "height": 51
    },
    "colab_type": "code",
    "id": "vcq4-VpqCMuR",
    "outputId": "71c38c4a-62b9-40d7-a81a-da511aff87c9"
   },
   "outputs": [
    {
     "name": "stdout",
     "output_type": "stream",
     "text": [
      "São Caetano\n",
      "São Caitano\n"
     ]
    }
   ],
   "source": [
    "original = get_linha_original(PE, index)\n",
    "linha = change_nome_linha(original, 'São Caitano')\n",
    "novas_linhas.append(linha)"
   ]
  },
  {
   "cell_type": "code",
   "execution_count": null,
   "metadata": {
    "colab": {
     "base_uri": "https://localhost:8080/",
     "height": 80
    },
    "colab_type": "code",
    "id": "4RbF5tctCTL2",
    "outputId": "d93df706-7ff5-4947-b694-8c12b13a4021"
   },
   "outputs": [
    {
     "data": {
      "text/html": [
       "<div>\n",
       "<style scoped>\n",
       "    .dataframe tbody tr th:only-of-type {\n",
       "        vertical-align: middle;\n",
       "    }\n",
       "\n",
       "    .dataframe tbody tr th {\n",
       "        vertical-align: top;\n",
       "    }\n",
       "\n",
       "    .dataframe thead th {\n",
       "        text-align: right;\n",
       "    }\n",
       "</style>\n",
       "<table border=\"1\" class=\"dataframe\">\n",
       "  <thead>\n",
       "    <tr style=\"text-align: right;\">\n",
       "      <th></th>\n",
       "      <th>codigo_ibge</th>\n",
       "      <th>uf</th>\n",
       "      <th>nome</th>\n",
       "      <th>latitude</th>\n",
       "      <th>longitude</th>\n",
       "      <th>capital</th>\n",
       "    </tr>\n",
       "  </thead>\n",
       "  <tbody>\n",
       "    <tr>\n",
       "      <th>2158</th>\n",
       "      <td>2606903</td>\n",
       "      <td>PE</td>\n",
       "      <td>Iguaracy</td>\n",
       "      <td>-7.83222</td>\n",
       "      <td>-37.5082</td>\n",
       "      <td>0</td>\n",
       "    </tr>\n",
       "  </tbody>\n",
       "</table>\n",
       "</div>"
      ],
      "text/plain": [
       "      codigo_ibge  uf      nome  latitude  longitude  capital\n",
       "2158      2606903  PE  Iguaracy  -7.83222   -37.5082        0"
      ]
     },
     "execution_count": 254,
     "metadata": {
      "tags": []
     },
     "output_type": "execute_result"
    }
   ],
   "source": [
    "n = 'Iguaracy'\n",
    "index = PE.loc[PE[\"nome\"] == n].index.tolist()[0]\n",
    "PE.loc[PE[\"nome\"] == n]"
   ]
  },
  {
   "cell_type": "code",
   "execution_count": null,
   "metadata": {
    "colab": {
     "base_uri": "https://localhost:8080/",
     "height": 51
    },
    "colab_type": "code",
    "id": "ryJZV46DCXTX",
    "outputId": "343dd5a5-c032-4744-ebbf-e8c45ae7ec5f"
   },
   "outputs": [
    {
     "name": "stdout",
     "output_type": "stream",
     "text": [
      "Iguaracy\n",
      "Iguaraci\n"
     ]
    }
   ],
   "source": [
    "original = get_linha_original(PE, index)\n",
    "linha = change_nome_linha(original, 'Iguaraci')\n",
    "novas_linhas.append(linha)"
   ]
  },
  {
   "cell_type": "markdown",
   "metadata": {
    "colab_type": "text",
    "id": "tYSKVyScCe-S"
   },
   "source": [
    "### MG"
   ]
  },
  {
   "cell_type": "code",
   "execution_count": null,
   "metadata": {
    "colab": {},
    "colab_type": "code",
    "id": "nOYqnAEvCbPh"
   },
   "outputs": [],
   "source": [
    "MG = vertical_stack.loc[vertical_stack['uf'] == 'MG']"
   ]
  },
  {
   "cell_type": "code",
   "execution_count": null,
   "metadata": {
    "colab": {
     "base_uri": "https://localhost:8080/",
     "height": 80
    },
    "colab_type": "code",
    "id": "On15wHPSCm8v",
    "outputId": "c27b0e3e-f6e2-4f9f-9cd3-e57cdf0cfd20"
   },
   "outputs": [
    {
     "data": {
      "text/html": [
       "<div>\n",
       "<style scoped>\n",
       "    .dataframe tbody tr th:only-of-type {\n",
       "        vertical-align: middle;\n",
       "    }\n",
       "\n",
       "    .dataframe tbody tr th {\n",
       "        vertical-align: top;\n",
       "    }\n",
       "\n",
       "    .dataframe thead th {\n",
       "        text-align: right;\n",
       "    }\n",
       "</style>\n",
       "<table border=\"1\" class=\"dataframe\">\n",
       "  <thead>\n",
       "    <tr style=\"text-align: right;\">\n",
       "      <th></th>\n",
       "      <th>codigo_ibge</th>\n",
       "      <th>uf</th>\n",
       "      <th>nome</th>\n",
       "      <th>latitude</th>\n",
       "      <th>longitude</th>\n",
       "      <th>capital</th>\n",
       "    </tr>\n",
       "  </thead>\n",
       "  <tbody>\n",
       "    <tr>\n",
       "      <th>761</th>\n",
       "      <td>3108909</td>\n",
       "      <td>MG</td>\n",
       "      <td>Brazópolis</td>\n",
       "      <td>-22.4743</td>\n",
       "      <td>-45.6166</td>\n",
       "      <td>0</td>\n",
       "    </tr>\n",
       "  </tbody>\n",
       "</table>\n",
       "</div>"
      ],
      "text/plain": [
       "     codigo_ibge  uf        nome  latitude  longitude  capital\n",
       "761      3108909  MG  Brazópolis  -22.4743   -45.6166        0"
      ]
     },
     "execution_count": 257,
     "metadata": {
      "tags": []
     },
     "output_type": "execute_result"
    }
   ],
   "source": [
    "n = 'Brazópolis'\n",
    "index = MG.loc[MG[\"nome\"] == n].index.tolist()[0]\n",
    "MG.loc[MG[\"nome\"] == n]"
   ]
  },
  {
   "cell_type": "code",
   "execution_count": null,
   "metadata": {
    "colab": {
     "base_uri": "https://localhost:8080/",
     "height": 51
    },
    "colab_type": "code",
    "id": "l6idIpuCCqN9",
    "outputId": "b0050c22-aac2-4229-f90f-988c5bf599dc"
   },
   "outputs": [
    {
     "name": "stdout",
     "output_type": "stream",
     "text": [
      "Brazópolis\n",
      "Brasópolis\n"
     ]
    }
   ],
   "source": [
    "original = get_linha_original(MG, index)\n",
    "linha = change_nome_linha(original, 'Brasópolis')\n",
    "novas_linhas.append(linha)"
   ]
  },
  {
   "cell_type": "markdown",
   "metadata": {
    "colab_type": "text",
    "id": "0pMWTSbBC6zr"
   },
   "source": [
    "### MT"
   ]
  },
  {
   "cell_type": "code",
   "execution_count": null,
   "metadata": {
    "colab": {},
    "colab_type": "code",
    "id": "a-eHU522C8dQ"
   },
   "outputs": [],
   "source": [
    "MT = vertical_stack.loc[vertical_stack['uf'] == 'MT']"
   ]
  },
  {
   "cell_type": "code",
   "execution_count": null,
   "metadata": {
    "colab": {
     "base_uri": "https://localhost:8080/",
     "height": 80
    },
    "colab_type": "code",
    "id": "OmWd7YRECxOy",
    "outputId": "b7ef9f1a-3253-49d1-83a1-a8aa0f7ade38"
   },
   "outputs": [
    {
     "data": {
      "text/html": [
       "<div>\n",
       "<style scoped>\n",
       "    .dataframe tbody tr th:only-of-type {\n",
       "        vertical-align: middle;\n",
       "    }\n",
       "\n",
       "    .dataframe tbody tr th {\n",
       "        vertical-align: top;\n",
       "    }\n",
       "\n",
       "    .dataframe thead th {\n",
       "        text-align: right;\n",
       "    }\n",
       "</style>\n",
       "<table border=\"1\" class=\"dataframe\">\n",
       "  <thead>\n",
       "    <tr style=\"text-align: right;\">\n",
       "      <th></th>\n",
       "      <th>codigo_ibge</th>\n",
       "      <th>uf</th>\n",
       "      <th>nome</th>\n",
       "      <th>latitude</th>\n",
       "      <th>longitude</th>\n",
       "      <th>capital</th>\n",
       "    </tr>\n",
       "  </thead>\n",
       "  <tbody>\n",
       "    <tr>\n",
       "      <th>3993</th>\n",
       "      <td>5107008</td>\n",
       "      <td>MT</td>\n",
       "      <td>Poxoréu</td>\n",
       "      <td>-15.8299</td>\n",
       "      <td>-54.4208</td>\n",
       "      <td>0</td>\n",
       "    </tr>\n",
       "  </tbody>\n",
       "</table>\n",
       "</div>"
      ],
      "text/plain": [
       "      codigo_ibge  uf     nome  latitude  longitude  capital\n",
       "3993      5107008  MT  Poxoréu  -15.8299   -54.4208        0"
      ]
     },
     "execution_count": 267,
     "metadata": {
      "tags": []
     },
     "output_type": "execute_result"
    }
   ],
   "source": [
    "n = 'Poxoréu'\n",
    "index = MT.loc[MT[\"nome\"] == n].index.tolist()[0]\n",
    "MT.loc[MT[\"nome\"] == n]"
   ]
  },
  {
   "cell_type": "code",
   "execution_count": null,
   "metadata": {
    "colab": {
     "base_uri": "https://localhost:8080/",
     "height": 51
    },
    "colab_type": "code",
    "id": "j_vPMpnNDHvR",
    "outputId": "961bf522-60f9-4c74-f5d2-14853265efeb"
   },
   "outputs": [
    {
     "name": "stdout",
     "output_type": "stream",
     "text": [
      "Poxoréu\n",
      "Poxoréo\n"
     ]
    }
   ],
   "source": [
    "original = get_linha_original(MT, index)\n",
    "linha = change_nome_linha(original, 'Poxoréo')\n",
    "novas_linhas.append(linha)"
   ]
  },
  {
   "cell_type": "markdown",
   "metadata": {
    "colab_type": "text",
    "id": "oR0cMOpjDMwY"
   },
   "source": [
    "### TO"
   ]
  },
  {
   "cell_type": "code",
   "execution_count": null,
   "metadata": {
    "colab": {},
    "colab_type": "code",
    "id": "MHRNppJ9DUBt"
   },
   "outputs": [],
   "source": [
    "TO = vertical_stack.loc[vertical_stack['uf'] == 'TO']"
   ]
  },
  {
   "cell_type": "code",
   "execution_count": null,
   "metadata": {
    "colab": {
     "base_uri": "https://localhost:8080/",
     "height": 80
    },
    "colab_type": "code",
    "id": "paicIihuDTrM",
    "outputId": "d454b393-6ce1-4438-ae68-4f079ee089b0"
   },
   "outputs": [
    {
     "data": {
      "text/html": [
       "<div>\n",
       "<style scoped>\n",
       "    .dataframe tbody tr th:only-of-type {\n",
       "        vertical-align: middle;\n",
       "    }\n",
       "\n",
       "    .dataframe tbody tr th {\n",
       "        vertical-align: top;\n",
       "    }\n",
       "\n",
       "    .dataframe thead th {\n",
       "        text-align: right;\n",
       "    }\n",
       "</style>\n",
       "<table border=\"1\" class=\"dataframe\">\n",
       "  <thead>\n",
       "    <tr style=\"text-align: right;\">\n",
       "      <th></th>\n",
       "      <th>codigo_ibge</th>\n",
       "      <th>uf</th>\n",
       "      <th>nome</th>\n",
       "      <th>latitude</th>\n",
       "      <th>longitude</th>\n",
       "      <th>capital</th>\n",
       "    </tr>\n",
       "  </thead>\n",
       "  <tbody>\n",
       "    <tr>\n",
       "      <th>4916</th>\n",
       "      <td>1720499</td>\n",
       "      <td>TO</td>\n",
       "      <td>São Valério</td>\n",
       "      <td>-11.9743</td>\n",
       "      <td>-48.2353</td>\n",
       "      <td>0</td>\n",
       "    </tr>\n",
       "  </tbody>\n",
       "</table>\n",
       "</div>"
      ],
      "text/plain": [
       "      codigo_ibge  uf         nome  latitude  longitude  capital\n",
       "4916      1720499  TO  São Valério  -11.9743   -48.2353        0"
      ]
     },
     "execution_count": 270,
     "metadata": {
      "tags": []
     },
     "output_type": "execute_result"
    }
   ],
   "source": [
    "n = 'São Valério'\n",
    "index = TO.loc[TO[\"nome\"] == n].index.tolist()[0]\n",
    "TO.loc[TO[\"nome\"] == n]"
   ]
  },
  {
   "cell_type": "code",
   "execution_count": null,
   "metadata": {
    "colab": {
     "base_uri": "https://localhost:8080/",
     "height": 51
    },
    "colab_type": "code",
    "id": "uJqPn0nfDbfW",
    "outputId": "ac252bfa-44e3-48bd-cf96-90707d703d85"
   },
   "outputs": [
    {
     "name": "stdout",
     "output_type": "stream",
     "text": [
      "São Valério\n",
      "São Valério da Natividade\n"
     ]
    }
   ],
   "source": [
    "original = get_linha_original(TO, index)\n",
    "linha = change_nome_linha(original, 'São Valério da Natividade')\n",
    "novas_linhas.append(linha)"
   ]
  },
  {
   "cell_type": "markdown",
   "metadata": {
    "colab_type": "text",
    "id": "y-9wPmwLDgPd"
   },
   "source": [
    "### Final"
   ]
  },
  {
   "cell_type": "code",
   "execution_count": null,
   "metadata": {
    "colab": {
     "base_uri": "https://localhost:8080/",
     "height": 34
    },
    "colab_type": "code",
    "id": "SOvz272P-hnT",
    "outputId": "c6159ed0-36d4-4d38-e827-5a0c067c91a4"
   },
   "outputs": [
    {
     "data": {
      "text/plain": [
       "20"
      ]
     },
     "execution_count": 274,
     "metadata": {
      "tags": []
     },
     "output_type": "execute_result"
    }
   ],
   "source": [
    "len(novas_linhas)"
   ]
  },
  {
   "cell_type": "code",
   "execution_count": null,
   "metadata": {
    "colab": {
     "base_uri": "https://localhost:8080/",
     "height": 357
    },
    "colab_type": "code",
    "id": "z7ClJB4tUiQ6",
    "outputId": "5bc69a97-0b72-4880-c344-dfb42b80b73c"
   },
   "outputs": [
    {
     "data": {
      "text/plain": [
       "[[2401305, 'RN', 'Augusto Severo', -5.86206, -37.3135, 0],\n",
       " [2401305, 'RN', 'Campo Grande', -5.86206, -37.3135, 0],\n",
       " [2405306, 'RN', 'Januário Cicco', -6.16566, -35.6219, 0],\n",
       " [2405306, 'RN', 'Boa Saúde', -6.16566, -35.6219, 0],\n",
       " [2922250, 'BA', 'Muquém do São Francisco', -12.065, -43.5497, 0],\n",
       " [2928505, 'BA', 'Santa Terezinha', -12.7697, -39.5215, 0],\n",
       " [2306306, 'CE', 'Itapagé', -3.6831400000000003, -39.5855, 0],\n",
       " [3516101, 'SP', 'Florínea', -22.868000000000002, -50.6814, 0],\n",
       " [3515004, 'SP', 'Embu', -23.6437, -46.8579, 0],\n",
       " [3530805, 'SP', 'Moji Mirim', -22.4332, -46.9532, 0],\n",
       " [3550001, 'SP', 'São Luís do Paraitinga', -23.221999999999998, -45.3109, 0],\n",
       " [1502954, 'PA', 'Eldorado dos Carajás', -6.10389, -49.3553, 0],\n",
       " [1506500, 'PA', 'Santa Isabel do Pará', -1.2968600000000001, -48.1606, 0],\n",
       " [2513653, 'PB', 'Santarém', -6.483619999999999, -38.4764, 0],\n",
       " [2515401, 'PB', 'Seridó', -6.854260000000001, -36.4122, 0],\n",
       " [2613107, 'PE', 'São Caitano', -8.33763, -36.2869, 0],\n",
       " [2606903, 'PE', 'Iguaraci', -7.8322199999999995, -37.5082, 0],\n",
       " [3108909, 'MG', 'Brasópolis', -22.4743, -45.6166, 0],\n",
       " [5107008, 'MT', 'Poxoréo', -15.8299, -54.4208, 0],\n",
       " [1720499, 'TO', 'São Valério da Natividade', -11.9743, -48.2353, 0]]"
      ]
     },
     "execution_count": 275,
     "metadata": {
      "tags": []
     },
     "output_type": "execute_result"
    }
   ],
   "source": [
    "novas_linhas"
   ]
  },
  {
   "cell_type": "markdown",
   "metadata": {
    "colab_type": "text",
    "id": "XjnlGlDcTtaG"
   },
   "source": [
    "Criar novo dataframe"
   ]
  },
  {
   "cell_type": "code",
   "execution_count": null,
   "metadata": {
    "colab": {
     "base_uri": "https://localhost:8080/",
     "height": 34
    },
    "colab_type": "code",
    "id": "0FBVezY0FFsv",
    "outputId": "ea22f5c7-f6ea-4ead-99fe-f2db4bf70f7b"
   },
   "outputs": [
    {
     "data": {
      "text/plain": [
       "Index(['codigo_ibge', 'uf', 'nome', 'latitude', 'longitude', 'capital'], dtype='object')"
      ]
     },
     "execution_count": 276,
     "metadata": {
      "tags": []
     },
     "output_type": "execute_result"
    }
   ],
   "source": [
    "vertical_stack.columns"
   ]
  },
  {
   "cell_type": "code",
   "execution_count": null,
   "metadata": {
    "colab": {},
    "colab_type": "code",
    "id": "oTcvkdzgFPcr"
   },
   "outputs": [],
   "source": [
    "df = pd.DataFrame(columns=vertical_stack.columns)"
   ]
  },
  {
   "cell_type": "code",
   "execution_count": null,
   "metadata": {
    "colab": {},
    "colab_type": "code",
    "id": "zyRowFe3Sopd"
   },
   "outputs": [],
   "source": [
    "for row in novas_linhas:\n",
    "    df.loc[len(df)] = row"
   ]
  },
  {
   "cell_type": "code",
   "execution_count": null,
   "metadata": {
    "colab": {
     "base_uri": "https://localhost:8080/",
     "height": 669
    },
    "colab_type": "code",
    "id": "lOfzVjyaFW5R",
    "outputId": "2aec6572-87c0-4614-b627-3059a5469f21"
   },
   "outputs": [
    {
     "data": {
      "text/html": [
       "<div>\n",
       "<style scoped>\n",
       "    .dataframe tbody tr th:only-of-type {\n",
       "        vertical-align: middle;\n",
       "    }\n",
       "\n",
       "    .dataframe tbody tr th {\n",
       "        vertical-align: top;\n",
       "    }\n",
       "\n",
       "    .dataframe thead th {\n",
       "        text-align: right;\n",
       "    }\n",
       "</style>\n",
       "<table border=\"1\" class=\"dataframe\">\n",
       "  <thead>\n",
       "    <tr style=\"text-align: right;\">\n",
       "      <th></th>\n",
       "      <th>codigo_ibge</th>\n",
       "      <th>uf</th>\n",
       "      <th>nome</th>\n",
       "      <th>latitude</th>\n",
       "      <th>longitude</th>\n",
       "      <th>capital</th>\n",
       "    </tr>\n",
       "  </thead>\n",
       "  <tbody>\n",
       "    <tr>\n",
       "      <th>0</th>\n",
       "      <td>2401305</td>\n",
       "      <td>RN</td>\n",
       "      <td>Augusto Severo</td>\n",
       "      <td>-5.86206</td>\n",
       "      <td>-37.3135</td>\n",
       "      <td>0</td>\n",
       "    </tr>\n",
       "    <tr>\n",
       "      <th>1</th>\n",
       "      <td>2401305</td>\n",
       "      <td>RN</td>\n",
       "      <td>Campo Grande</td>\n",
       "      <td>-5.86206</td>\n",
       "      <td>-37.3135</td>\n",
       "      <td>0</td>\n",
       "    </tr>\n",
       "    <tr>\n",
       "      <th>2</th>\n",
       "      <td>2405306</td>\n",
       "      <td>RN</td>\n",
       "      <td>Januário Cicco</td>\n",
       "      <td>-6.16566</td>\n",
       "      <td>-35.6219</td>\n",
       "      <td>0</td>\n",
       "    </tr>\n",
       "    <tr>\n",
       "      <th>3</th>\n",
       "      <td>2405306</td>\n",
       "      <td>RN</td>\n",
       "      <td>Boa Saúde</td>\n",
       "      <td>-6.16566</td>\n",
       "      <td>-35.6219</td>\n",
       "      <td>0</td>\n",
       "    </tr>\n",
       "    <tr>\n",
       "      <th>4</th>\n",
       "      <td>2922250</td>\n",
       "      <td>BA</td>\n",
       "      <td>Muquém do São Francisco</td>\n",
       "      <td>-12.06500</td>\n",
       "      <td>-43.5497</td>\n",
       "      <td>0</td>\n",
       "    </tr>\n",
       "    <tr>\n",
       "      <th>5</th>\n",
       "      <td>2928505</td>\n",
       "      <td>BA</td>\n",
       "      <td>Santa Terezinha</td>\n",
       "      <td>-12.76970</td>\n",
       "      <td>-39.5215</td>\n",
       "      <td>0</td>\n",
       "    </tr>\n",
       "    <tr>\n",
       "      <th>6</th>\n",
       "      <td>2306306</td>\n",
       "      <td>CE</td>\n",
       "      <td>Itapagé</td>\n",
       "      <td>-3.68314</td>\n",
       "      <td>-39.5855</td>\n",
       "      <td>0</td>\n",
       "    </tr>\n",
       "    <tr>\n",
       "      <th>7</th>\n",
       "      <td>3516101</td>\n",
       "      <td>SP</td>\n",
       "      <td>Florínea</td>\n",
       "      <td>-22.86800</td>\n",
       "      <td>-50.6814</td>\n",
       "      <td>0</td>\n",
       "    </tr>\n",
       "    <tr>\n",
       "      <th>8</th>\n",
       "      <td>3515004</td>\n",
       "      <td>SP</td>\n",
       "      <td>Embu</td>\n",
       "      <td>-23.64370</td>\n",
       "      <td>-46.8579</td>\n",
       "      <td>0</td>\n",
       "    </tr>\n",
       "    <tr>\n",
       "      <th>9</th>\n",
       "      <td>3530805</td>\n",
       "      <td>SP</td>\n",
       "      <td>Moji Mirim</td>\n",
       "      <td>-22.43320</td>\n",
       "      <td>-46.9532</td>\n",
       "      <td>0</td>\n",
       "    </tr>\n",
       "    <tr>\n",
       "      <th>10</th>\n",
       "      <td>3550001</td>\n",
       "      <td>SP</td>\n",
       "      <td>São Luís do Paraitinga</td>\n",
       "      <td>-23.22200</td>\n",
       "      <td>-45.3109</td>\n",
       "      <td>0</td>\n",
       "    </tr>\n",
       "    <tr>\n",
       "      <th>11</th>\n",
       "      <td>1502954</td>\n",
       "      <td>PA</td>\n",
       "      <td>Eldorado dos Carajás</td>\n",
       "      <td>-6.10389</td>\n",
       "      <td>-49.3553</td>\n",
       "      <td>0</td>\n",
       "    </tr>\n",
       "    <tr>\n",
       "      <th>12</th>\n",
       "      <td>1506500</td>\n",
       "      <td>PA</td>\n",
       "      <td>Santa Isabel do Pará</td>\n",
       "      <td>-1.29686</td>\n",
       "      <td>-48.1606</td>\n",
       "      <td>0</td>\n",
       "    </tr>\n",
       "    <tr>\n",
       "      <th>13</th>\n",
       "      <td>2513653</td>\n",
       "      <td>PB</td>\n",
       "      <td>Santarém</td>\n",
       "      <td>-6.48362</td>\n",
       "      <td>-38.4764</td>\n",
       "      <td>0</td>\n",
       "    </tr>\n",
       "    <tr>\n",
       "      <th>14</th>\n",
       "      <td>2515401</td>\n",
       "      <td>PB</td>\n",
       "      <td>Seridó</td>\n",
       "      <td>-6.85426</td>\n",
       "      <td>-36.4122</td>\n",
       "      <td>0</td>\n",
       "    </tr>\n",
       "    <tr>\n",
       "      <th>15</th>\n",
       "      <td>2613107</td>\n",
       "      <td>PE</td>\n",
       "      <td>São Caitano</td>\n",
       "      <td>-8.33763</td>\n",
       "      <td>-36.2869</td>\n",
       "      <td>0</td>\n",
       "    </tr>\n",
       "    <tr>\n",
       "      <th>16</th>\n",
       "      <td>2606903</td>\n",
       "      <td>PE</td>\n",
       "      <td>Iguaraci</td>\n",
       "      <td>-7.83222</td>\n",
       "      <td>-37.5082</td>\n",
       "      <td>0</td>\n",
       "    </tr>\n",
       "    <tr>\n",
       "      <th>17</th>\n",
       "      <td>3108909</td>\n",
       "      <td>MG</td>\n",
       "      <td>Brasópolis</td>\n",
       "      <td>-22.47430</td>\n",
       "      <td>-45.6166</td>\n",
       "      <td>0</td>\n",
       "    </tr>\n",
       "    <tr>\n",
       "      <th>18</th>\n",
       "      <td>5107008</td>\n",
       "      <td>MT</td>\n",
       "      <td>Poxoréo</td>\n",
       "      <td>-15.82990</td>\n",
       "      <td>-54.4208</td>\n",
       "      <td>0</td>\n",
       "    </tr>\n",
       "    <tr>\n",
       "      <th>19</th>\n",
       "      <td>1720499</td>\n",
       "      <td>TO</td>\n",
       "      <td>São Valério da Natividade</td>\n",
       "      <td>-11.97430</td>\n",
       "      <td>-48.2353</td>\n",
       "      <td>0</td>\n",
       "    </tr>\n",
       "  </tbody>\n",
       "</table>\n",
       "</div>"
      ],
      "text/plain": [
       "   codigo_ibge  uf                       nome  latitude  longitude capital\n",
       "0      2401305  RN             Augusto Severo  -5.86206   -37.3135       0\n",
       "1      2401305  RN               Campo Grande  -5.86206   -37.3135       0\n",
       "2      2405306  RN             Januário Cicco  -6.16566   -35.6219       0\n",
       "3      2405306  RN                  Boa Saúde  -6.16566   -35.6219       0\n",
       "4      2922250  BA    Muquém do São Francisco -12.06500   -43.5497       0\n",
       "5      2928505  BA            Santa Terezinha -12.76970   -39.5215       0\n",
       "6      2306306  CE                    Itapagé  -3.68314   -39.5855       0\n",
       "7      3516101  SP                   Florínea -22.86800   -50.6814       0\n",
       "8      3515004  SP                       Embu -23.64370   -46.8579       0\n",
       "9      3530805  SP                 Moji Mirim -22.43320   -46.9532       0\n",
       "10     3550001  SP     São Luís do Paraitinga -23.22200   -45.3109       0\n",
       "11     1502954  PA       Eldorado dos Carajás  -6.10389   -49.3553       0\n",
       "12     1506500  PA       Santa Isabel do Pará  -1.29686   -48.1606       0\n",
       "13     2513653  PB                   Santarém  -6.48362   -38.4764       0\n",
       "14     2515401  PB                     Seridó  -6.85426   -36.4122       0\n",
       "15     2613107  PE                São Caitano  -8.33763   -36.2869       0\n",
       "16     2606903  PE                   Iguaraci  -7.83222   -37.5082       0\n",
       "17     3108909  MG                 Brasópolis -22.47430   -45.6166       0\n",
       "18     5107008  MT                    Poxoréo -15.82990   -54.4208       0\n",
       "19     1720499  TO  São Valério da Natividade -11.97430   -48.2353       0"
      ]
     },
     "execution_count": 279,
     "metadata": {
      "tags": []
     },
     "output_type": "execute_result"
    }
   ],
   "source": [
    "df"
   ]
  },
  {
   "cell_type": "code",
   "execution_count": null,
   "metadata": {
    "colab": {},
    "colab_type": "code",
    "id": "LC2NYaBwFkrq"
   },
   "outputs": [],
   "source": [
    "vertical_corretas = pd.concat([vertical_stack, df],ignore_index = False, axis=0)"
   ]
  },
  {
   "cell_type": "markdown",
   "metadata": {
    "colab_type": "text",
    "id": "7rzcfHF0TUXm"
   },
   "source": [
    "## Salvar tabela final"
   ]
  },
  {
   "cell_type": "code",
   "execution_count": null,
   "metadata": {
    "colab": {},
    "colab_type": "code",
    "id": "3P-8za1KygpZ"
   },
   "outputs": [],
   "source": [
    "#vertical_stack.to_csv('nova_geo.csv', index=False, encoding='utf-8')"
   ]
  },
  {
   "cell_type": "code",
   "execution_count": null,
   "metadata": {
    "colab": {},
    "colab_type": "code",
    "id": "L0xZjFtVFt9W"
   },
   "outputs": [],
   "source": [
    "vertical_corretas.to_csv('nova_geo_corrigida.csv', index=False, encoding='utf-8')"
   ]
  }
 ],
 "metadata": {
  "colab": {
   "collapsed_sections": [
    "cXaMjPZzYB3x",
    "XAsVFKaNrqcc",
    "ePq9ZKvGqF2r"
   ],
   "name": "Adicionar LAT/LON aos dados",
   "provenance": [],
   "toc_visible": true
  },
  "kernelspec": {
   "display_name": "Python 3",
   "language": "python",
   "name": "python3"
  },
  "language_info": {
   "codemirror_mode": {
    "name": "ipython",
    "version": 3
   },
   "file_extension": ".py",
   "mimetype": "text/x-python",
   "name": "python",
   "nbconvert_exporter": "python",
   "pygments_lexer": "ipython3",
   "version": "3.7.7"
  }
 },
 "nbformat": 4,
 "nbformat_minor": 1
}
