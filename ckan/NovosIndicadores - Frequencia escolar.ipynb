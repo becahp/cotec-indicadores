{
 "cells": [
  {
   "cell_type": "code",
   "execution_count": 1,
   "metadata": {},
   "outputs": [],
   "source": [
    "import pandas as pd\n",
    "import numpy as np"
   ]
  },
  {
   "cell_type": "code",
   "execution_count": 2,
   "metadata": {},
   "outputs": [],
   "source": [
    "path = 'data/'\n",
    "file = 'Indicador da Juventude - Frequência Escolar.csv.npy'\n",
    "file1 = path + file"
   ]
  },
  {
   "cell_type": "code",
   "execution_count": 3,
   "metadata": {},
   "outputs": [
    {
     "data": {
      "text/plain": [
       "'data/Indicador da Juventude - Frequência Escolar.csv.npy'"
      ]
     },
     "execution_count": 3,
     "metadata": {},
     "output_type": "execute_result"
    }
   ],
   "source": [
    "file1"
   ]
  },
  {
   "cell_type": "code",
   "execution_count": 25,
   "metadata": {},
   "outputs": [],
   "source": [
    "novo_array = np.load(file1, allow_pickle=True)"
   ]
  },
  {
   "cell_type": "code",
   "execution_count": 26,
   "metadata": {},
   "outputs": [
    {
     "data": {
      "text/plain": [
       "array([[2010, 'Todas as idades', 'Rondônia', ..., 'Ambos os sexos',\n",
       "        'Todas as raças/cores', 498648.131103883],\n",
       "       [2010, '15 a 17 anos', 'Rondônia', ..., 'Ambos os sexos',\n",
       "        'Todas as raças/cores', 77048.8062913825],\n",
       "       [2010, '18 a 24 anos', 'Rondônia', ..., 'Ambos os sexos',\n",
       "        'Todas as raças/cores', 58987.468097034005],\n",
       "       ...,\n",
       "       [2010, '15 a 17 anos', 'Brasília', ..., 'Ambos os sexos',\n",
       "        'Todas as raças/cores', 115729.85387729],\n",
       "       [2010, '18 a 24 anos', 'Brasília', ..., 'Ambos os sexos',\n",
       "        'Todas as raças/cores', 130604.87922178801],\n",
       "       [2010, '25 a 29 anos', 'Brasília', ..., 'Ambos os sexos',\n",
       "        'Todas as raças/cores', 50499.7014067539]], dtype=object)"
      ]
     },
     "execution_count": 26,
     "metadata": {},
     "output_type": "execute_result"
    }
   ],
   "source": [
    "novo_array"
   ]
  },
  {
   "cell_type": "code",
   "execution_count": 70,
   "metadata": {},
   "outputs": [],
   "source": [
    "header = ['Ano', 'FaixaEtaria', 'Municipio', 'UF', 'Area', 'Sexo', 'Cor','ValorAbsoluto']\n",
    "dataset = pd.DataFrame(novo_array, columns=header)"
   ]
  },
  {
   "cell_type": "code",
   "execution_count": 139,
   "metadata": {},
   "outputs": [],
   "source": [
    "#dataset = pd.read_csv(file1, sep=';')"
   ]
  },
  {
   "cell_type": "markdown",
   "metadata": {},
   "source": [
    "Agora com os três indicadores em um só dataset"
   ]
  },
  {
   "cell_type": "code",
   "execution_count": 10,
   "metadata": {},
   "outputs": [
    {
     "data": {
      "text/html": [
       "<div>\n",
       "<style scoped>\n",
       "    .dataframe tbody tr th:only-of-type {\n",
       "        vertical-align: middle;\n",
       "    }\n",
       "\n",
       "    .dataframe tbody tr th {\n",
       "        vertical-align: top;\n",
       "    }\n",
       "\n",
       "    .dataframe thead th {\n",
       "        text-align: right;\n",
       "    }\n",
       "</style>\n",
       "<table border=\"1\" class=\"dataframe\">\n",
       "  <thead>\n",
       "    <tr style=\"text-align: right;\">\n",
       "      <th></th>\n",
       "      <th>Ano</th>\n",
       "      <th>FaixaEtaria</th>\n",
       "      <th>Municipio</th>\n",
       "      <th>UF</th>\n",
       "      <th>Area</th>\n",
       "      <th>Sexo</th>\n",
       "      <th>Cor</th>\n",
       "      <th>ValorAbsoluto</th>\n",
       "    </tr>\n",
       "  </thead>\n",
       "  <tbody>\n",
       "    <tr>\n",
       "      <th>0</th>\n",
       "      <td>2010</td>\n",
       "      <td>Todas as idades</td>\n",
       "      <td>Rondônia</td>\n",
       "      <td>RO</td>\n",
       "      <td>Rural e Urbana</td>\n",
       "      <td>Ambos os sexos</td>\n",
       "      <td>Todas as raças/cores</td>\n",
       "      <td>498648</td>\n",
       "    </tr>\n",
       "    <tr>\n",
       "      <th>1</th>\n",
       "      <td>2010</td>\n",
       "      <td>15 a 17 anos</td>\n",
       "      <td>Rondônia</td>\n",
       "      <td>RO</td>\n",
       "      <td>Rural e Urbana</td>\n",
       "      <td>Ambos os sexos</td>\n",
       "      <td>Todas as raças/cores</td>\n",
       "      <td>77048.8</td>\n",
       "    </tr>\n",
       "    <tr>\n",
       "      <th>2</th>\n",
       "      <td>2010</td>\n",
       "      <td>18 a 24 anos</td>\n",
       "      <td>Rondônia</td>\n",
       "      <td>RO</td>\n",
       "      <td>Rural e Urbana</td>\n",
       "      <td>Ambos os sexos</td>\n",
       "      <td>Todas as raças/cores</td>\n",
       "      <td>58987.5</td>\n",
       "    </tr>\n",
       "    <tr>\n",
       "      <th>3</th>\n",
       "      <td>2010</td>\n",
       "      <td>25 a 29 anos</td>\n",
       "      <td>Rondônia</td>\n",
       "      <td>RO</td>\n",
       "      <td>Rural e Urbana</td>\n",
       "      <td>Ambos os sexos</td>\n",
       "      <td>Todas as raças/cores</td>\n",
       "      <td>20081.9</td>\n",
       "    </tr>\n",
       "    <tr>\n",
       "      <th>4</th>\n",
       "      <td>2010</td>\n",
       "      <td>Todas as idades</td>\n",
       "      <td>Acre</td>\n",
       "      <td>AC</td>\n",
       "      <td>Rural e Urbana</td>\n",
       "      <td>Ambos os sexos</td>\n",
       "      <td>Todas as raças/cores</td>\n",
       "      <td>268161</td>\n",
       "    </tr>\n",
       "    <tr>\n",
       "      <th>5</th>\n",
       "      <td>2010</td>\n",
       "      <td>15 a 17 anos</td>\n",
       "      <td>Acre</td>\n",
       "      <td>AC</td>\n",
       "      <td>Rural e Urbana</td>\n",
       "      <td>Ambos os sexos</td>\n",
       "      <td>Todas as raças/cores</td>\n",
       "      <td>37647.4</td>\n",
       "    </tr>\n",
       "    <tr>\n",
       "      <th>6</th>\n",
       "      <td>2010</td>\n",
       "      <td>18 a 24 anos</td>\n",
       "      <td>Acre</td>\n",
       "      <td>AC</td>\n",
       "      <td>Rural e Urbana</td>\n",
       "      <td>Ambos os sexos</td>\n",
       "      <td>Todas as raças/cores</td>\n",
       "      <td>30689</td>\n",
       "    </tr>\n",
       "    <tr>\n",
       "      <th>7</th>\n",
       "      <td>2010</td>\n",
       "      <td>25 a 29 anos</td>\n",
       "      <td>Acre</td>\n",
       "      <td>AC</td>\n",
       "      <td>Rural e Urbana</td>\n",
       "      <td>Ambos os sexos</td>\n",
       "      <td>Todas as raças/cores</td>\n",
       "      <td>11396.2</td>\n",
       "    </tr>\n",
       "    <tr>\n",
       "      <th>8</th>\n",
       "      <td>2010</td>\n",
       "      <td>Todas as idades</td>\n",
       "      <td>Amazonas</td>\n",
       "      <td>AM</td>\n",
       "      <td>Rural e Urbana</td>\n",
       "      <td>Ambos os sexos</td>\n",
       "      <td>Todas as raças/cores</td>\n",
       "      <td>1.31782e+06</td>\n",
       "    </tr>\n",
       "    <tr>\n",
       "      <th>9</th>\n",
       "      <td>2010</td>\n",
       "      <td>15 a 17 anos</td>\n",
       "      <td>Amazonas</td>\n",
       "      <td>AM</td>\n",
       "      <td>Rural e Urbana</td>\n",
       "      <td>Ambos os sexos</td>\n",
       "      <td>Todas as raças/cores</td>\n",
       "      <td>182935</td>\n",
       "    </tr>\n",
       "  </tbody>\n",
       "</table>\n",
       "</div>"
      ],
      "text/plain": [
       "    Ano      FaixaEtaria Municipio  UF            Area            Sexo  \\\n",
       "0  2010  Todas as idades  Rondônia  RO  Rural e Urbana  Ambos os sexos   \n",
       "1  2010     15 a 17 anos  Rondônia  RO  Rural e Urbana  Ambos os sexos   \n",
       "2  2010     18 a 24 anos  Rondônia  RO  Rural e Urbana  Ambos os sexos   \n",
       "3  2010     25 a 29 anos  Rondônia  RO  Rural e Urbana  Ambos os sexos   \n",
       "4  2010  Todas as idades      Acre  AC  Rural e Urbana  Ambos os sexos   \n",
       "5  2010     15 a 17 anos      Acre  AC  Rural e Urbana  Ambos os sexos   \n",
       "6  2010     18 a 24 anos      Acre  AC  Rural e Urbana  Ambos os sexos   \n",
       "7  2010     25 a 29 anos      Acre  AC  Rural e Urbana  Ambos os sexos   \n",
       "8  2010  Todas as idades  Amazonas  AM  Rural e Urbana  Ambos os sexos   \n",
       "9  2010     15 a 17 anos  Amazonas  AM  Rural e Urbana  Ambos os sexos   \n",
       "\n",
       "                    Cor ValorAbsoluto  \n",
       "0  Todas as raças/cores        498648  \n",
       "1  Todas as raças/cores       77048.8  \n",
       "2  Todas as raças/cores       58987.5  \n",
       "3  Todas as raças/cores       20081.9  \n",
       "4  Todas as raças/cores        268161  \n",
       "5  Todas as raças/cores       37647.4  \n",
       "6  Todas as raças/cores         30689  \n",
       "7  Todas as raças/cores       11396.2  \n",
       "8  Todas as raças/cores   1.31782e+06  \n",
       "9  Todas as raças/cores        182935  "
      ]
     },
     "execution_count": 10,
     "metadata": {},
     "output_type": "execute_result"
    }
   ],
   "source": [
    "dataset.head(10)"
   ]
  },
  {
   "cell_type": "code",
   "execution_count": 11,
   "metadata": {},
   "outputs": [
    {
     "data": {
      "text/plain": [
       "Index(['Ano', 'FaixaEtaria', 'Municipio', 'UF', 'Area', 'Sexo', 'Cor',\n",
       "       'ValorAbsoluto'],\n",
       "      dtype='object')"
      ]
     },
     "execution_count": 11,
     "metadata": {},
     "output_type": "execute_result"
    }
   ],
   "source": [
    "dataset.columns"
   ]
  },
  {
   "cell_type": "code",
   "execution_count": 14,
   "metadata": {},
   "outputs": [
    {
     "name": "stdout",
     "output_type": "stream",
     "text": [
      "<class 'pandas.core.frame.DataFrame'>\n",
      "RangeIndex: 22363 entries, 0 to 22362\n",
      "Data columns (total 8 columns):\n",
      " #   Column         Non-Null Count  Dtype \n",
      "---  ------         --------------  ----- \n",
      " 0   Ano            22363 non-null  object\n",
      " 1   FaixaEtaria    22363 non-null  object\n",
      " 2   Municipio      22363 non-null  object\n",
      " 3   UF             22363 non-null  object\n",
      " 4   Area           22363 non-null  object\n",
      " 5   Sexo           22363 non-null  object\n",
      " 6   Cor            22363 non-null  object\n",
      " 7   ValorAbsoluto  22363 non-null  object\n",
      "dtypes: object(8)\n",
      "memory usage: 1.4+ MB\n"
     ]
    }
   ],
   "source": [
    "dataset.info()"
   ]
  },
  {
   "cell_type": "code",
   "execution_count": 15,
   "metadata": {},
   "outputs": [
    {
     "name": "stdout",
     "output_type": "stream",
     "text": [
      "Ano: [2010]\n",
      "\n",
      "FaixaEtaria: ['Todas as idades' '15 a 17 anos' '18 a 24 anos' '25 a 29 anos']\n",
      "\n",
      "Municipio: ['Rondônia' 'Acre' 'Amazonas' ... 'Vila Boa' 'Vila Propício' 'Brasília']\n",
      "\n",
      "UF: ['RO' 'AC' 'AM' 'RR' 'PA' 'TO' 'MA' 'PI' 'CE' 'RN' 'PB' 'PE' 'AL' 'SE'\n",
      " 'BA' 'MG' 'ES' 'RJ' 'SP' 'PR' 'SC' 'RS' 'MS' 'MT' 'GO' 'DF' 'AP']\n",
      "\n",
      "Area: ['Rural e Urbana']\n",
      "\n",
      "Sexo: ['Ambos os sexos']\n",
      "\n",
      "Cor: ['Todas as raças/cores']\n",
      "\n",
      "ValorAbsoluto: [498648.131103883 77048.8062913825 58987.468097034005 ... 279.453830382873\n",
      " 147.493124439914 27.585454970700003]\n",
      "\n"
     ]
    }
   ],
   "source": [
    "for i in dataset.columns:\n",
    "    #print(dataset[i].value_counts)\n",
    "    print(str(i) + \": \" + str(dataset[i].unique()) + \"\\n\")"
   ]
  },
  {
   "cell_type": "markdown",
   "metadata": {},
   "source": [
    "Recalcular coluna de Todas as Idades, pois o correto é somar os valores de '15 a 17 anos' '18 a 24 anos' '25 a 29 anos'"
   ]
  },
  {
   "cell_type": "code",
   "execution_count": 16,
   "metadata": {},
   "outputs": [
    {
     "data": {
      "text/html": [
       "<div>\n",
       "<style scoped>\n",
       "    .dataframe tbody tr th:only-of-type {\n",
       "        vertical-align: middle;\n",
       "    }\n",
       "\n",
       "    .dataframe tbody tr th {\n",
       "        vertical-align: top;\n",
       "    }\n",
       "\n",
       "    .dataframe thead th {\n",
       "        text-align: right;\n",
       "    }\n",
       "</style>\n",
       "<table border=\"1\" class=\"dataframe\">\n",
       "  <thead>\n",
       "    <tr style=\"text-align: right;\">\n",
       "      <th></th>\n",
       "      <th>Ano</th>\n",
       "      <th>FaixaEtaria</th>\n",
       "      <th>Municipio</th>\n",
       "      <th>UF</th>\n",
       "      <th>Area</th>\n",
       "      <th>Sexo</th>\n",
       "      <th>Cor</th>\n",
       "      <th>ValorAbsoluto</th>\n",
       "    </tr>\n",
       "  </thead>\n",
       "  <tbody>\n",
       "    <tr>\n",
       "      <th>11981</th>\n",
       "      <td>2010</td>\n",
       "      <td>Todas as idades</td>\n",
       "      <td>São João da Mata</td>\n",
       "      <td>MG</td>\n",
       "      <td>Rural e Urbana</td>\n",
       "      <td>Ambos os sexos</td>\n",
       "      <td>Todas as raças/cores</td>\n",
       "      <td>574.898</td>\n",
       "    </tr>\n",
       "    <tr>\n",
       "      <th>11982</th>\n",
       "      <td>2010</td>\n",
       "      <td>15 a 17 anos</td>\n",
       "      <td>São João da Mata</td>\n",
       "      <td>MG</td>\n",
       "      <td>Rural e Urbana</td>\n",
       "      <td>Ambos os sexos</td>\n",
       "      <td>Todas as raças/cores</td>\n",
       "      <td>110.649</td>\n",
       "    </tr>\n",
       "    <tr>\n",
       "      <th>11983</th>\n",
       "      <td>2010</td>\n",
       "      <td>18 a 24 anos</td>\n",
       "      <td>São João da Mata</td>\n",
       "      <td>MG</td>\n",
       "      <td>Rural e Urbana</td>\n",
       "      <td>Ambos os sexos</td>\n",
       "      <td>Todas as raças/cores</td>\n",
       "      <td>65.0429</td>\n",
       "    </tr>\n",
       "    <tr>\n",
       "      <th>11984</th>\n",
       "      <td>2010</td>\n",
       "      <td>25 a 29 anos</td>\n",
       "      <td>São João da Mata</td>\n",
       "      <td>MG</td>\n",
       "      <td>Rural e Urbana</td>\n",
       "      <td>Ambos os sexos</td>\n",
       "      <td>Todas as raças/cores</td>\n",
       "      <td>18.9258</td>\n",
       "    </tr>\n",
       "  </tbody>\n",
       "</table>\n",
       "</div>"
      ],
      "text/plain": [
       "        Ano      FaixaEtaria         Municipio  UF            Area  \\\n",
       "11981  2010  Todas as idades  São João da Mata  MG  Rural e Urbana   \n",
       "11982  2010     15 a 17 anos  São João da Mata  MG  Rural e Urbana   \n",
       "11983  2010     18 a 24 anos  São João da Mata  MG  Rural e Urbana   \n",
       "11984  2010     25 a 29 anos  São João da Mata  MG  Rural e Urbana   \n",
       "\n",
       "                 Sexo                   Cor ValorAbsoluto  \n",
       "11981  Ambos os sexos  Todas as raças/cores       574.898  \n",
       "11982  Ambos os sexos  Todas as raças/cores       110.649  \n",
       "11983  Ambos os sexos  Todas as raças/cores       65.0429  \n",
       "11984  Ambos os sexos  Todas as raças/cores       18.9258  "
      ]
     },
     "execution_count": 16,
     "metadata": {},
     "output_type": "execute_result"
    }
   ],
   "source": [
    "dataset.loc[dataset['Municipio'] == 'São João da Mata']"
   ]
  },
  {
   "cell_type": "code",
   "execution_count": 17,
   "metadata": {},
   "outputs": [],
   "source": [
    "#explicação do problema:\n",
    "datateste = dataset.loc[dataset['Municipio'] == 'São João da Mata']\n",
    "#for index, row in datateste.iterrows():\n",
    "\n",
    "fx_etaria_15_17 = datateste.loc[datateste['FaixaEtaria'] == '15 a 17 anos','ValorAbsoluto'].values\n",
    "fx_etaria_18_24 = datateste.loc[datateste['FaixaEtaria'] == '18 a 24 anos','ValorAbsoluto'].values\n",
    "fx_etaria_25_29 = datateste.loc[datateste['FaixaEtaria'] == '25 a 29 anos','ValorAbsoluto'].values\n",
    "\n",
    "fx_etaria_todas = datateste.loc[datateste['FaixaEtaria'] == 'Todas as idades','ValorAbsoluto'].values"
   ]
  },
  {
   "cell_type": "code",
   "execution_count": 18,
   "metadata": {},
   "outputs": [
    {
     "name": "stdout",
     "output_type": "stream",
     "text": [
      "Total da tabela: [574.897989785]\n",
      "Total correto: [194.61734458194974]\n"
     ]
    }
   ],
   "source": [
    "print(\"Total da tabela: \" + str(fx_etaria_todas))\n",
    "print(\"Total correto: \" + str(fx_etaria_15_17 + fx_etaria_18_24 + fx_etaria_25_29))"
   ]
  },
  {
   "cell_type": "markdown",
   "metadata": {},
   "source": [
    "Vou pegar os estados"
   ]
  },
  {
   "cell_type": "code",
   "execution_count": 28,
   "metadata": {},
   "outputs": [],
   "source": [
    "listaUF = dataset['UF'].unique()"
   ]
  },
  {
   "cell_type": "code",
   "execution_count": 29,
   "metadata": {},
   "outputs": [
    {
     "data": {
      "text/plain": [
       "array(['RO', 'AC', 'AM', 'RR', 'PA', 'TO', 'MA', 'PI', 'CE', 'RN', 'PB',\n",
       "       'PE', 'AL', 'SE', 'BA', 'MG', 'ES', 'RJ', 'SP', 'PR', 'SC', 'RS',\n",
       "       'MS', 'MT', 'GO', 'DF', 'AP'], dtype=object)"
      ]
     },
     "execution_count": 29,
     "metadata": {},
     "output_type": "execute_result"
    }
   ],
   "source": [
    "listaUF"
   ]
  },
  {
   "cell_type": "code",
   "execution_count": 71,
   "metadata": {},
   "outputs": [],
   "source": [
    "datasetDict = {}\n",
    "for i in listaUF:\n",
    "    datateste = dataset.copy()\n",
    "    datasetDict[i] = datateste.loc[(datateste['UF']==i)]"
   ]
  },
  {
   "cell_type": "code",
   "execution_count": 72,
   "metadata": {},
   "outputs": [
    {
     "name": "stdout",
     "output_type": "stream",
     "text": [
      "Arrumando o estado  RO\n",
      "Arrumando o estado  AC\n",
      "Arrumando o estado  AM\n",
      "Arrumando o estado  RR\n",
      "Arrumando o estado  PA\n",
      "Arrumando o estado  TO\n",
      "Arrumando o estado  MA\n",
      "Arrumando o estado  PI\n",
      "Arrumando o estado  CE\n",
      "Arrumando o estado  RN\n",
      "Arrumando o estado  PB\n",
      "Arrumando o estado  PE\n",
      "Arrumando o estado  AL\n",
      "Arrumando o estado  SE\n",
      "Arrumando o estado  BA\n",
      "Arrumando o estado  MG\n",
      "Arrumando o estado  ES\n",
      "Arrumando o estado  RJ\n",
      "Arrumando o estado  SP\n",
      "Arrumando o estado  PR\n",
      "Arrumando o estado  SC\n",
      "Arrumando o estado  RS\n",
      "Arrumando o estado  MS\n",
      "Arrumando o estado  MT\n",
      "Arrumando o estado  GO\n",
      "Arrumando o estado  DF\n",
      "Arrumando o estado  AP\n"
     ]
    }
   ],
   "source": [
    "for i in listaUF:\n",
    "    print(\"Arrumando o estado \", i)\n",
    "    lista_municipios = datasetDict[i]['Municipio'].unique()\n",
    "    \n",
    "    #lista de municipios unicos\n",
    "    for municipio in lista_municipios:\n",
    "        #cria um dataset para cada municipio\n",
    "        datateste = datasetDict[i].loc[datasetDict[i]['Municipio'] == municipio]\n",
    "\n",
    "        #faço um loop dentro desse novo dataset   \n",
    "        for index, row in datateste.iterrows():    \n",
    "            if row['FaixaEtaria'] == '15 a 17 anos':\n",
    "                fx_etaria_15_17 = row['ValorAbsoluto']\n",
    "            if row['FaixaEtaria'] == '18 a 24 anos':\n",
    "                fx_etaria_18_24 = row['ValorAbsoluto']\n",
    "            if row['FaixaEtaria'] == '25 a 29 anos':\n",
    "                fx_etaria_25_29 = row['ValorAbsoluto']\n",
    "\n",
    "        #index para ser atualizado\n",
    "        index = datateste.index[datateste['FaixaEtaria'] == 'Todas as idades']    \n",
    "\n",
    "        #atualiza no dataset original\n",
    "        datasetDict[i].loc[index, 'ValorAbsoluto'] = fx_etaria_15_17 + fx_etaria_18_24 + fx_etaria_25_29"
   ]
  },
  {
   "cell_type": "code",
   "execution_count": 37,
   "metadata": {},
   "outputs": [
    {
     "data": {
      "text/html": [
       "<div>\n",
       "<style scoped>\n",
       "    .dataframe tbody tr th:only-of-type {\n",
       "        vertical-align: middle;\n",
       "    }\n",
       "\n",
       "    .dataframe tbody tr th {\n",
       "        vertical-align: top;\n",
       "    }\n",
       "\n",
       "    .dataframe thead th {\n",
       "        text-align: right;\n",
       "    }\n",
       "</style>\n",
       "<table border=\"1\" class=\"dataframe\">\n",
       "  <thead>\n",
       "    <tr style=\"text-align: right;\">\n",
       "      <th></th>\n",
       "      <th>Ano</th>\n",
       "      <th>FaixaEtaria</th>\n",
       "      <th>Municipio</th>\n",
       "      <th>UF</th>\n",
       "      <th>Area</th>\n",
       "      <th>Sexo</th>\n",
       "      <th>Cor</th>\n",
       "      <th>ValorAbsoluto</th>\n",
       "    </tr>\n",
       "  </thead>\n",
       "  <tbody>\n",
       "    <tr>\n",
       "      <th>0</th>\n",
       "      <td>2010</td>\n",
       "      <td>Todas as idades</td>\n",
       "      <td>Rondônia</td>\n",
       "      <td>RO</td>\n",
       "      <td>Rural e Urbana</td>\n",
       "      <td>Ambos os sexos</td>\n",
       "      <td>Todas as raças/cores</td>\n",
       "      <td>156118</td>\n",
       "    </tr>\n",
       "    <tr>\n",
       "      <th>1</th>\n",
       "      <td>2010</td>\n",
       "      <td>15 a 17 anos</td>\n",
       "      <td>Rondônia</td>\n",
       "      <td>RO</td>\n",
       "      <td>Rural e Urbana</td>\n",
       "      <td>Ambos os sexos</td>\n",
       "      <td>Todas as raças/cores</td>\n",
       "      <td>77048.8</td>\n",
       "    </tr>\n",
       "    <tr>\n",
       "      <th>2</th>\n",
       "      <td>2010</td>\n",
       "      <td>18 a 24 anos</td>\n",
       "      <td>Rondônia</td>\n",
       "      <td>RO</td>\n",
       "      <td>Rural e Urbana</td>\n",
       "      <td>Ambos os sexos</td>\n",
       "      <td>Todas as raças/cores</td>\n",
       "      <td>58987.5</td>\n",
       "    </tr>\n",
       "    <tr>\n",
       "      <th>3</th>\n",
       "      <td>2010</td>\n",
       "      <td>25 a 29 anos</td>\n",
       "      <td>Rondônia</td>\n",
       "      <td>RO</td>\n",
       "      <td>Rural e Urbana</td>\n",
       "      <td>Ambos os sexos</td>\n",
       "      <td>Todas as raças/cores</td>\n",
       "      <td>20081.9</td>\n",
       "    </tr>\n",
       "    <tr>\n",
       "      <th>108</th>\n",
       "      <td>2010</td>\n",
       "      <td>Todas as idades</td>\n",
       "      <td>Alta Floresta D Oeste</td>\n",
       "      <td>RO</td>\n",
       "      <td>Rural e Urbana</td>\n",
       "      <td>Ambos os sexos</td>\n",
       "      <td>Todas as raças/cores</td>\n",
       "      <td>2195.29</td>\n",
       "    </tr>\n",
       "  </tbody>\n",
       "</table>\n",
       "</div>"
      ],
      "text/plain": [
       "      Ano      FaixaEtaria              Municipio  UF            Area  \\\n",
       "0    2010  Todas as idades               Rondônia  RO  Rural e Urbana   \n",
       "1    2010     15 a 17 anos               Rondônia  RO  Rural e Urbana   \n",
       "2    2010     18 a 24 anos               Rondônia  RO  Rural e Urbana   \n",
       "3    2010     25 a 29 anos               Rondônia  RO  Rural e Urbana   \n",
       "108  2010  Todas as idades  Alta Floresta D Oeste  RO  Rural e Urbana   \n",
       "\n",
       "               Sexo                   Cor ValorAbsoluto  \n",
       "0    Ambos os sexos  Todas as raças/cores        156118  \n",
       "1    Ambos os sexos  Todas as raças/cores       77048.8  \n",
       "2    Ambos os sexos  Todas as raças/cores       58987.5  \n",
       "3    Ambos os sexos  Todas as raças/cores       20081.9  \n",
       "108  Ambos os sexos  Todas as raças/cores       2195.29  "
      ]
     },
     "execution_count": 37,
     "metadata": {},
     "output_type": "execute_result"
    }
   ],
   "source": [
    "datasetDict['RO'].head()"
   ]
  },
  {
   "cell_type": "markdown",
   "metadata": {},
   "source": [
    "Lembrar que além dos municípios, os estados também estão nesse dataset"
   ]
  },
  {
   "cell_type": "markdown",
   "metadata": {},
   "source": [
    "# Limpar strings"
   ]
  },
  {
   "cell_type": "markdown",
   "metadata": {},
   "source": [
    "Limpar as strings de acentos, cedilhas, apóstrofos e espaços para poder comparar"
   ]
  },
  {
   "cell_type": "code",
   "execution_count": 41,
   "metadata": {},
   "outputs": [
    {
     "name": "stdout",
     "output_type": "stream",
     "text": [
      "Requirement already satisfied: Unidecode in c:\\users\\rebeca\\anaconda2\\envs\\extractor\\lib\\site-packages (1.1.1)\n"
     ]
    },
    {
     "name": "stderr",
     "output_type": "stream",
     "text": [
      "WARNING: pip is being invoked by an old script wrapper. This will fail in a future version of pip.\n",
      "Please see https://github.com/pypa/pip/issues/5599 for advice on fixing the underlying issue.\n",
      "To avoid this problem you can invoke Python with '-m pip' instead of running pip directly.\n"
     ]
    }
   ],
   "source": [
    "#!pip install Unidecode\n",
    "import unidecode"
   ]
  },
  {
   "cell_type": "code",
   "execution_count": 42,
   "metadata": {},
   "outputs": [],
   "source": [
    "def clean_string(str):\n",
    "    str = str.replace(\" \",\"\") #remover espaços\n",
    "    str = str.replace(\"'\",\"\") #remover apóstrofos\n",
    "    str = str.lower() #colocar tudo em minúsculas\n",
    "    str = unidecode.unidecode(str) #remover acentuação\n",
    "    return str"
   ]
  },
  {
   "cell_type": "code",
   "execution_count": 43,
   "metadata": {},
   "outputs": [
    {
     "data": {
      "text/plain": [
       "'novabrasilandiadoesteoracao'"
      ]
     },
     "execution_count": 43,
     "metadata": {},
     "output_type": "execute_result"
    }
   ],
   "source": [
    "#exemplo\n",
    "txt = \"Nova Brasilândia D'Oeste oração\"\n",
    "clean_string(txt)"
   ]
  },
  {
   "cell_type": "markdown",
   "metadata": {},
   "source": [
    "# Banco do Visão"
   ]
  },
  {
   "cell_type": "markdown",
   "metadata": {},
   "source": [
    "Vamos agora ver o que tá no Banco do Visão:"
   ]
  },
  {
   "cell_type": "code",
   "execution_count": 39,
   "metadata": {},
   "outputs": [],
   "source": [
    "dataset_visao = pd.read_excel('municipios_BD_Visao.xlsx')"
   ]
  },
  {
   "cell_type": "code",
   "execution_count": 40,
   "metadata": {},
   "outputs": [
    {
     "data": {
      "text/html": [
       "<div>\n",
       "<style scoped>\n",
       "    .dataframe tbody tr th:only-of-type {\n",
       "        vertical-align: middle;\n",
       "    }\n",
       "\n",
       "    .dataframe tbody tr th {\n",
       "        vertical-align: top;\n",
       "    }\n",
       "\n",
       "    .dataframe thead th {\n",
       "        text-align: right;\n",
       "    }\n",
       "</style>\n",
       "<table border=\"1\" class=\"dataframe\">\n",
       "  <thead>\n",
       "    <tr style=\"text-align: right;\">\n",
       "      <th></th>\n",
       "      <th>ID</th>\n",
       "      <th>Município</th>\n",
       "      <th>UF</th>\n",
       "    </tr>\n",
       "  </thead>\n",
       "  <tbody>\n",
       "    <tr>\n",
       "      <th>0</th>\n",
       "      <td>1</td>\n",
       "      <td>Alta Floresta dOeste</td>\n",
       "      <td>RO</td>\n",
       "    </tr>\n",
       "    <tr>\n",
       "      <th>1</th>\n",
       "      <td>2</td>\n",
       "      <td>Ariquemes</td>\n",
       "      <td>RO</td>\n",
       "    </tr>\n",
       "    <tr>\n",
       "      <th>2</th>\n",
       "      <td>3</td>\n",
       "      <td>Cabixi</td>\n",
       "      <td>RO</td>\n",
       "    </tr>\n",
       "    <tr>\n",
       "      <th>3</th>\n",
       "      <td>4</td>\n",
       "      <td>Cacoal</td>\n",
       "      <td>RO</td>\n",
       "    </tr>\n",
       "    <tr>\n",
       "      <th>4</th>\n",
       "      <td>5</td>\n",
       "      <td>Cerejeiras</td>\n",
       "      <td>RO</td>\n",
       "    </tr>\n",
       "    <tr>\n",
       "      <th>5</th>\n",
       "      <td>6</td>\n",
       "      <td>Colorado do Oeste</td>\n",
       "      <td>RO</td>\n",
       "    </tr>\n",
       "    <tr>\n",
       "      <th>6</th>\n",
       "      <td>7</td>\n",
       "      <td>Corumbiara</td>\n",
       "      <td>RO</td>\n",
       "    </tr>\n",
       "    <tr>\n",
       "      <th>7</th>\n",
       "      <td>8</td>\n",
       "      <td>Costa Marques</td>\n",
       "      <td>RO</td>\n",
       "    </tr>\n",
       "    <tr>\n",
       "      <th>8</th>\n",
       "      <td>9</td>\n",
       "      <td>Espigão dOeste</td>\n",
       "      <td>RO</td>\n",
       "    </tr>\n",
       "    <tr>\n",
       "      <th>9</th>\n",
       "      <td>10</td>\n",
       "      <td>Guajará-Mirim</td>\n",
       "      <td>RO</td>\n",
       "    </tr>\n",
       "  </tbody>\n",
       "</table>\n",
       "</div>"
      ],
      "text/plain": [
       "   ID             Município  UF\n",
       "0   1  Alta Floresta dOeste  RO\n",
       "1   2             Ariquemes  RO\n",
       "2   3                Cabixi  RO\n",
       "3   4                Cacoal  RO\n",
       "4   5            Cerejeiras  RO\n",
       "5   6     Colorado do Oeste  RO\n",
       "6   7            Corumbiara  RO\n",
       "7   8         Costa Marques  RO\n",
       "8   9        Espigão dOeste  RO\n",
       "9  10         Guajará-Mirim  RO"
      ]
     },
     "execution_count": 40,
     "metadata": {},
     "output_type": "execute_result"
    }
   ],
   "source": [
    "dataset_visao.head(10)"
   ]
  },
  {
   "cell_type": "code",
   "execution_count": 50,
   "metadata": {},
   "outputs": [],
   "source": [
    "# Save the result in a new column\n",
    "dataset_visao['editMun'] = dataset_visao['Município'].apply(clean_string)"
   ]
  },
  {
   "cell_type": "code",
   "execution_count": 51,
   "metadata": {},
   "outputs": [
    {
     "data": {
      "text/html": [
       "<div>\n",
       "<style scoped>\n",
       "    .dataframe tbody tr th:only-of-type {\n",
       "        vertical-align: middle;\n",
       "    }\n",
       "\n",
       "    .dataframe tbody tr th {\n",
       "        vertical-align: top;\n",
       "    }\n",
       "\n",
       "    .dataframe thead th {\n",
       "        text-align: right;\n",
       "    }\n",
       "</style>\n",
       "<table border=\"1\" class=\"dataframe\">\n",
       "  <thead>\n",
       "    <tr style=\"text-align: right;\">\n",
       "      <th></th>\n",
       "      <th>ID</th>\n",
       "      <th>Município</th>\n",
       "      <th>UF</th>\n",
       "      <th>editMun</th>\n",
       "    </tr>\n",
       "  </thead>\n",
       "  <tbody>\n",
       "    <tr>\n",
       "      <th>0</th>\n",
       "      <td>1</td>\n",
       "      <td>Alta Floresta dOeste</td>\n",
       "      <td>RO</td>\n",
       "      <td>altaflorestadoeste</td>\n",
       "    </tr>\n",
       "    <tr>\n",
       "      <th>1</th>\n",
       "      <td>2</td>\n",
       "      <td>Ariquemes</td>\n",
       "      <td>RO</td>\n",
       "      <td>ariquemes</td>\n",
       "    </tr>\n",
       "    <tr>\n",
       "      <th>2</th>\n",
       "      <td>3</td>\n",
       "      <td>Cabixi</td>\n",
       "      <td>RO</td>\n",
       "      <td>cabixi</td>\n",
       "    </tr>\n",
       "    <tr>\n",
       "      <th>3</th>\n",
       "      <td>4</td>\n",
       "      <td>Cacoal</td>\n",
       "      <td>RO</td>\n",
       "      <td>cacoal</td>\n",
       "    </tr>\n",
       "    <tr>\n",
       "      <th>4</th>\n",
       "      <td>5</td>\n",
       "      <td>Cerejeiras</td>\n",
       "      <td>RO</td>\n",
       "      <td>cerejeiras</td>\n",
       "    </tr>\n",
       "    <tr>\n",
       "      <th>5</th>\n",
       "      <td>6</td>\n",
       "      <td>Colorado do Oeste</td>\n",
       "      <td>RO</td>\n",
       "      <td>coloradodooeste</td>\n",
       "    </tr>\n",
       "    <tr>\n",
       "      <th>6</th>\n",
       "      <td>7</td>\n",
       "      <td>Corumbiara</td>\n",
       "      <td>RO</td>\n",
       "      <td>corumbiara</td>\n",
       "    </tr>\n",
       "    <tr>\n",
       "      <th>7</th>\n",
       "      <td>8</td>\n",
       "      <td>Costa Marques</td>\n",
       "      <td>RO</td>\n",
       "      <td>costamarques</td>\n",
       "    </tr>\n",
       "    <tr>\n",
       "      <th>8</th>\n",
       "      <td>9</td>\n",
       "      <td>Espigão dOeste</td>\n",
       "      <td>RO</td>\n",
       "      <td>espigaodoeste</td>\n",
       "    </tr>\n",
       "    <tr>\n",
       "      <th>9</th>\n",
       "      <td>10</td>\n",
       "      <td>Guajará-Mirim</td>\n",
       "      <td>RO</td>\n",
       "      <td>guajara-mirim</td>\n",
       "    </tr>\n",
       "  </tbody>\n",
       "</table>\n",
       "</div>"
      ],
      "text/plain": [
       "   ID             Município  UF             editMun\n",
       "0   1  Alta Floresta dOeste  RO  altaflorestadoeste\n",
       "1   2             Ariquemes  RO           ariquemes\n",
       "2   3                Cabixi  RO              cabixi\n",
       "3   4                Cacoal  RO              cacoal\n",
       "4   5            Cerejeiras  RO          cerejeiras\n",
       "5   6     Colorado do Oeste  RO     coloradodooeste\n",
       "6   7            Corumbiara  RO          corumbiara\n",
       "7   8         Costa Marques  RO        costamarques\n",
       "8   9        Espigão dOeste  RO       espigaodoeste\n",
       "9  10         Guajará-Mirim  RO       guajara-mirim"
      ]
     },
     "execution_count": 51,
     "metadata": {},
     "output_type": "execute_result"
    }
   ],
   "source": [
    "dataset_visao.head(10)"
   ]
  },
  {
   "cell_type": "markdown",
   "metadata": {},
   "source": [
    "# Novo dataset com nomes limpos"
   ]
  },
  {
   "cell_type": "markdown",
   "metadata": {},
   "source": [
    "Pegar já os valores que eu quero em um novo dataframe\n"
   ]
  },
  {
   "cell_type": "code",
   "execution_count": 44,
   "metadata": {},
   "outputs": [],
   "source": [
    "estadosDict = {\n",
    "    'AC': 'Acre',\n",
    "    'AL': 'Alagoas',\n",
    "    'AP': 'Amapá',\n",
    "    'AM': 'Amazonas',\n",
    "    'BA': 'Bahia',\n",
    "    'CE': 'Ceará',\n",
    "    'DF': 'Distrito Federal',\n",
    "    'ES': 'Espírito Santo',\n",
    "    'GO': 'Goiás',\n",
    "    'MA': 'Maranhão',\n",
    "    'MT': 'Mato Grosso',\n",
    "    'MS': 'Mato Grosso do Sul',\n",
    "    'MG': 'Minas Gerais',\n",
    "    'PA': 'Pará',\n",
    "    'PB': 'Paraíba',\n",
    "    'PR': 'Paraná',\n",
    "    'PE': 'Pernambuco',\n",
    "    'PI': 'Piauí',\n",
    "    'RJ': 'Rio de Janeiro',\n",
    "    'RN': 'Rio Grande do Norte',\n",
    "    'RS': 'Rio Grande do Sul',\n",
    "    'RO': 'Rondônia',\n",
    "    'RR': 'Roraima',\n",
    "    'SC': 'Santa Catarina',\n",
    "    'SP': 'São Paulo',\n",
    "    'SE': 'Sergipe',\n",
    "    'TO': 'Tocantins'\n",
    "}"
   ]
  },
  {
   "cell_type": "code",
   "execution_count": 73,
   "metadata": {},
   "outputs": [
    {
     "name": "stdout",
     "output_type": "stream",
     "text": [
      "Arrumando o estado  RO\n",
      "Quantidade de municipios:  53\n",
      "Arrumando o estado  AC\n",
      "Quantidade de municipios:  23\n",
      "Arrumando o estado  AM\n",
      "Quantidade de municipios:  64\n",
      "Arrumando o estado  RR\n",
      "Quantidade de municipios:  16\n",
      "Arrumando o estado  PA\n",
      "Quantidade de municipios:  145\n",
      "Arrumando o estado  TO\n",
      "Quantidade de municipios:  140\n",
      "Arrumando o estado  MA\n",
      "Quantidade de municipios:  218\n",
      "Arrumando o estado  PI\n",
      "Quantidade de municipios:  225\n",
      "Arrumando o estado  CE\n",
      "Quantidade de municipios:  185\n",
      "Arrumando o estado  RN\n",
      "Quantidade de municipios:  168\n",
      "Arrumando o estado  PB\n",
      "Quantidade de municipios:  224\n",
      "Arrumando o estado  PE\n",
      "Quantidade de municipios:  186\n",
      "Arrumando o estado  AL\n",
      "Quantidade de municipios:  103\n",
      "Arrumando o estado  SE\n",
      "Quantidade de municipios:  76\n",
      "Arrumando o estado  BA\n",
      "Quantidade de municipios:  417\n",
      "Arrumando o estado  MG\n",
      "Quantidade de municipios:  854\n",
      "Arrumando o estado  ES\n",
      "Quantidade de municipios:  79\n",
      "Arrumando o estado  RJ\n",
      "Quantidade de municipios:  92\n",
      "Arrumando o estado  SP\n",
      "Quantidade de municipios:  645\n",
      "Arrumando o estado  PR\n",
      "Quantidade de municipios:  400\n",
      "Arrumando o estado  SC\n",
      "Quantidade de municipios:  294\n",
      "Arrumando o estado  RS\n",
      "Quantidade de municipios:  497\n",
      "Arrumando o estado  MS\n",
      "Quantidade de municipios:  79\n",
      "Arrumando o estado  MT\n",
      "Quantidade de municipios:  142\n",
      "Arrumando o estado  GO\n",
      "Quantidade de municipios:  246\n",
      "Arrumando o estado  DF\n",
      "Quantidade de municipios:  2\n",
      "Arrumando o estado  AP\n",
      "Quantidade de municipios:  15\n"
     ]
    }
   ],
   "source": [
    "for i in listaUF:\n",
    "    print(\"Arrumando o estado \", i)\n",
    "    # Save the result in a new column\n",
    "    datasetDict[i]['editMun'] = datasetDict[i]['Municipio'].apply(clean_string)    \n",
    "    \n",
    "    lista_municipios = datasetDict[i]['Municipio'].unique()\n",
    "    print(\"Quantidade de municipios: \", len(lista_municipios))\n",
    "    \n",
    "    #lista de municipios unicos\n",
    "    for municipio in lista_municipios:\n",
    "        if (municipio == estadosDict[i]):\n",
    "            remover = datasetDict[i].index[datasetDict[i]['Municipio'] == municipio]\n",
    "            datasetDict[i].drop(remover, inplace=True)"
   ]
  },
  {
   "cell_type": "code",
   "execution_count": 74,
   "metadata": {},
   "outputs": [
    {
     "data": {
      "text/html": [
       "<div>\n",
       "<style scoped>\n",
       "    .dataframe tbody tr th:only-of-type {\n",
       "        vertical-align: middle;\n",
       "    }\n",
       "\n",
       "    .dataframe tbody tr th {\n",
       "        vertical-align: top;\n",
       "    }\n",
       "\n",
       "    .dataframe thead th {\n",
       "        text-align: right;\n",
       "    }\n",
       "</style>\n",
       "<table border=\"1\" class=\"dataframe\">\n",
       "  <thead>\n",
       "    <tr style=\"text-align: right;\">\n",
       "      <th></th>\n",
       "      <th>Ano</th>\n",
       "      <th>FaixaEtaria</th>\n",
       "      <th>Municipio</th>\n",
       "      <th>UF</th>\n",
       "      <th>Area</th>\n",
       "      <th>Sexo</th>\n",
       "      <th>Cor</th>\n",
       "      <th>ValorAbsoluto</th>\n",
       "      <th>editMun</th>\n",
       "    </tr>\n",
       "  </thead>\n",
       "  <tbody>\n",
       "    <tr>\n",
       "      <th>22359</th>\n",
       "      <td>2010</td>\n",
       "      <td>Todas as idades</td>\n",
       "      <td>Brasília</td>\n",
       "      <td>DF</td>\n",
       "      <td>Rural e Urbana</td>\n",
       "      <td>Ambos os sexos</td>\n",
       "      <td>Todas as raças/cores</td>\n",
       "      <td>296834</td>\n",
       "      <td>brasilia</td>\n",
       "    </tr>\n",
       "    <tr>\n",
       "      <th>22360</th>\n",
       "      <td>2010</td>\n",
       "      <td>15 a 17 anos</td>\n",
       "      <td>Brasília</td>\n",
       "      <td>DF</td>\n",
       "      <td>Rural e Urbana</td>\n",
       "      <td>Ambos os sexos</td>\n",
       "      <td>Todas as raças/cores</td>\n",
       "      <td>115730</td>\n",
       "      <td>brasilia</td>\n",
       "    </tr>\n",
       "    <tr>\n",
       "      <th>22361</th>\n",
       "      <td>2010</td>\n",
       "      <td>18 a 24 anos</td>\n",
       "      <td>Brasília</td>\n",
       "      <td>DF</td>\n",
       "      <td>Rural e Urbana</td>\n",
       "      <td>Ambos os sexos</td>\n",
       "      <td>Todas as raças/cores</td>\n",
       "      <td>130605</td>\n",
       "      <td>brasilia</td>\n",
       "    </tr>\n",
       "    <tr>\n",
       "      <th>22362</th>\n",
       "      <td>2010</td>\n",
       "      <td>25 a 29 anos</td>\n",
       "      <td>Brasília</td>\n",
       "      <td>DF</td>\n",
       "      <td>Rural e Urbana</td>\n",
       "      <td>Ambos os sexos</td>\n",
       "      <td>Todas as raças/cores</td>\n",
       "      <td>50499.7</td>\n",
       "      <td>brasilia</td>\n",
       "    </tr>\n",
       "  </tbody>\n",
       "</table>\n",
       "</div>"
      ],
      "text/plain": [
       "        Ano      FaixaEtaria Municipio  UF            Area            Sexo  \\\n",
       "22359  2010  Todas as idades  Brasília  DF  Rural e Urbana  Ambos os sexos   \n",
       "22360  2010     15 a 17 anos  Brasília  DF  Rural e Urbana  Ambos os sexos   \n",
       "22361  2010     18 a 24 anos  Brasília  DF  Rural e Urbana  Ambos os sexos   \n",
       "22362  2010     25 a 29 anos  Brasília  DF  Rural e Urbana  Ambos os sexos   \n",
       "\n",
       "                        Cor ValorAbsoluto   editMun  \n",
       "22359  Todas as raças/cores        296834  brasilia  \n",
       "22360  Todas as raças/cores        115730  brasilia  \n",
       "22361  Todas as raças/cores        130605  brasilia  \n",
       "22362  Todas as raças/cores       50499.7  brasilia  "
      ]
     },
     "execution_count": 74,
     "metadata": {},
     "output_type": "execute_result"
    }
   ],
   "source": [
    "datasetDict['DF'].head()"
   ]
  },
  {
   "cell_type": "markdown",
   "metadata": {},
   "source": [
    "Agora faço o mesmo para o dataset do visao"
   ]
  },
  {
   "cell_type": "markdown",
   "metadata": {},
   "source": [
    "Comparar os municípios nos dois dataframes e salvar os ID"
   ]
  },
  {
   "cell_type": "markdown",
   "metadata": {},
   "source": [
    "# Vamos agora fazer o merge dos datasets\n",
    "\n",
    "Inserimos o ID do Visao na nossa Tabela do excel\n"
   ]
  },
  {
   "cell_type": "code",
   "execution_count": 75,
   "metadata": {},
   "outputs": [
    {
     "data": {
      "text/plain": [
       "Index(['Ano', 'FaixaEtaria', 'Municipio', 'UF', 'Area', 'Sexo', 'Cor',\n",
       "       'ValorAbsoluto', 'editMun'],\n",
       "      dtype='object')"
      ]
     },
     "execution_count": 75,
     "metadata": {},
     "output_type": "execute_result"
    }
   ],
   "source": [
    "datasetDict['RO'].columns"
   ]
  },
  {
   "cell_type": "code",
   "execution_count": 76,
   "metadata": {},
   "outputs": [
    {
     "data": {
      "text/plain": [
       "Index(['ID', 'Município', 'UF', 'editMun'], dtype='object')"
      ]
     },
     "execution_count": 76,
     "metadata": {},
     "output_type": "execute_result"
    }
   ],
   "source": [
    "dataset_visao.columns"
   ]
  },
  {
   "cell_type": "code",
   "execution_count": 77,
   "metadata": {},
   "outputs": [
    {
     "name": "stdout",
     "output_type": "stream",
     "text": [
      "Arrumando o estado  RO\n",
      "Arrumando o estado  AC\n",
      "Arrumando o estado  AM\n",
      "Arrumando o estado  RR\n",
      "Arrumando o estado  PA\n",
      "Arrumando o estado  TO\n",
      "Arrumando o estado  MA\n",
      "Arrumando o estado  PI\n",
      "Arrumando o estado  CE\n",
      "Arrumando o estado  RN\n",
      "Arrumando o estado  PB\n",
      "Arrumando o estado  PE\n",
      "Arrumando o estado  AL\n",
      "Arrumando o estado  SE\n",
      "Arrumando o estado  BA\n",
      "Arrumando o estado  MG\n",
      "Arrumando o estado  ES\n",
      "Arrumando o estado  RJ\n",
      "Arrumando o estado  SP\n",
      "Arrumando o estado  PR\n",
      "Arrumando o estado  SC\n",
      "Arrumando o estado  RS\n",
      "Arrumando o estado  MS\n",
      "Arrumando o estado  MT\n",
      "Arrumando o estado  GO\n",
      "Arrumando o estado  DF\n",
      "Arrumando o estado  AP\n"
     ]
    }
   ],
   "source": [
    "for i in listaUF:\n",
    "    print(\"Arrumando o estado \", i)\n",
    "    # Save the result in a new column\n",
    "    datasetDict[i] = pd.merge(datasetDict[i], dataset_visao, how='inner', left_on=['UF','editMun'],right_on=['UF','editMun'])"
   ]
  },
  {
   "cell_type": "code",
   "execution_count": 78,
   "metadata": {},
   "outputs": [
    {
     "data": {
      "text/html": [
       "<div>\n",
       "<style scoped>\n",
       "    .dataframe tbody tr th:only-of-type {\n",
       "        vertical-align: middle;\n",
       "    }\n",
       "\n",
       "    .dataframe tbody tr th {\n",
       "        vertical-align: top;\n",
       "    }\n",
       "\n",
       "    .dataframe thead th {\n",
       "        text-align: right;\n",
       "    }\n",
       "</style>\n",
       "<table border=\"1\" class=\"dataframe\">\n",
       "  <thead>\n",
       "    <tr style=\"text-align: right;\">\n",
       "      <th></th>\n",
       "      <th>Ano</th>\n",
       "      <th>FaixaEtaria</th>\n",
       "      <th>Municipio</th>\n",
       "      <th>UF</th>\n",
       "      <th>Area</th>\n",
       "      <th>Sexo</th>\n",
       "      <th>Cor</th>\n",
       "      <th>ValorAbsoluto</th>\n",
       "      <th>editMun</th>\n",
       "      <th>ID</th>\n",
       "      <th>Município</th>\n",
       "    </tr>\n",
       "  </thead>\n",
       "  <tbody>\n",
       "    <tr>\n",
       "      <th>0</th>\n",
       "      <td>2010</td>\n",
       "      <td>Todas as idades</td>\n",
       "      <td>Pedra Branca do Amapari</td>\n",
       "      <td>AP</td>\n",
       "      <td>Rural e Urbana</td>\n",
       "      <td>Ambos os sexos</td>\n",
       "      <td>Todas as raças/cores</td>\n",
       "      <td>1131.41</td>\n",
       "      <td>pedrabrancadoamapari</td>\n",
       "      <td>298</td>\n",
       "      <td>Pedra Branca do Amapari</td>\n",
       "    </tr>\n",
       "    <tr>\n",
       "      <th>1</th>\n",
       "      <td>2010</td>\n",
       "      <td>15 a 17 anos</td>\n",
       "      <td>Pedra Branca do Amapari</td>\n",
       "      <td>AP</td>\n",
       "      <td>Rural e Urbana</td>\n",
       "      <td>Ambos os sexos</td>\n",
       "      <td>Todas as raças/cores</td>\n",
       "      <td>483.765</td>\n",
       "      <td>pedrabrancadoamapari</td>\n",
       "      <td>298</td>\n",
       "      <td>Pedra Branca do Amapari</td>\n",
       "    </tr>\n",
       "    <tr>\n",
       "      <th>2</th>\n",
       "      <td>2010</td>\n",
       "      <td>18 a 24 anos</td>\n",
       "      <td>Pedra Branca do Amapari</td>\n",
       "      <td>AP</td>\n",
       "      <td>Rural e Urbana</td>\n",
       "      <td>Ambos os sexos</td>\n",
       "      <td>Todas as raças/cores</td>\n",
       "      <td>492.829</td>\n",
       "      <td>pedrabrancadoamapari</td>\n",
       "      <td>298</td>\n",
       "      <td>Pedra Branca do Amapari</td>\n",
       "    </tr>\n",
       "    <tr>\n",
       "      <th>3</th>\n",
       "      <td>2010</td>\n",
       "      <td>25 a 29 anos</td>\n",
       "      <td>Pedra Branca do Amapari</td>\n",
       "      <td>AP</td>\n",
       "      <td>Rural e Urbana</td>\n",
       "      <td>Ambos os sexos</td>\n",
       "      <td>Todas as raças/cores</td>\n",
       "      <td>154.818</td>\n",
       "      <td>pedrabrancadoamapari</td>\n",
       "      <td>298</td>\n",
       "      <td>Pedra Branca do Amapari</td>\n",
       "    </tr>\n",
       "    <tr>\n",
       "      <th>4</th>\n",
       "      <td>2010</td>\n",
       "      <td>Todas as idades</td>\n",
       "      <td>Calçoene</td>\n",
       "      <td>AP</td>\n",
       "      <td>Rural e Urbana</td>\n",
       "      <td>Ambos os sexos</td>\n",
       "      <td>Todas as raças/cores</td>\n",
       "      <td>715.785</td>\n",
       "      <td>calcoene</td>\n",
       "      <td>299</td>\n",
       "      <td>Calçoene</td>\n",
       "    </tr>\n",
       "  </tbody>\n",
       "</table>\n",
       "</div>"
      ],
      "text/plain": [
       "    Ano      FaixaEtaria                Municipio  UF            Area  \\\n",
       "0  2010  Todas as idades  Pedra Branca do Amapari  AP  Rural e Urbana   \n",
       "1  2010     15 a 17 anos  Pedra Branca do Amapari  AP  Rural e Urbana   \n",
       "2  2010     18 a 24 anos  Pedra Branca do Amapari  AP  Rural e Urbana   \n",
       "3  2010     25 a 29 anos  Pedra Branca do Amapari  AP  Rural e Urbana   \n",
       "4  2010  Todas as idades                 Calçoene  AP  Rural e Urbana   \n",
       "\n",
       "             Sexo                   Cor ValorAbsoluto               editMun  \\\n",
       "0  Ambos os sexos  Todas as raças/cores       1131.41  pedrabrancadoamapari   \n",
       "1  Ambos os sexos  Todas as raças/cores       483.765  pedrabrancadoamapari   \n",
       "2  Ambos os sexos  Todas as raças/cores       492.829  pedrabrancadoamapari   \n",
       "3  Ambos os sexos  Todas as raças/cores       154.818  pedrabrancadoamapari   \n",
       "4  Ambos os sexos  Todas as raças/cores       715.785              calcoene   \n",
       "\n",
       "    ID                Município  \n",
       "0  298  Pedra Branca do Amapari  \n",
       "1  298  Pedra Branca do Amapari  \n",
       "2  298  Pedra Branca do Amapari  \n",
       "3  298  Pedra Branca do Amapari  \n",
       "4  299                 Calçoene  "
      ]
     },
     "execution_count": 78,
     "metadata": {},
     "output_type": "execute_result"
    }
   ],
   "source": [
    "datasetDict[i].head()"
   ]
  },
  {
   "cell_type": "markdown",
   "metadata": {},
   "source": [
    "Salvar dataset total"
   ]
  },
  {
   "cell_type": "code",
   "execution_count": 79,
   "metadata": {},
   "outputs": [
    {
     "name": "stdout",
     "output_type": "stream",
     "text": [
      "Arrumando o estado  RO\n",
      "Arrumando o estado  AC\n",
      "Arrumando o estado  AM\n",
      "Arrumando o estado  RR\n",
      "Arrumando o estado  PA\n",
      "Arrumando o estado  TO\n",
      "Arrumando o estado  MA\n",
      "Arrumando o estado  PI\n",
      "Arrumando o estado  CE\n",
      "Arrumando o estado  RN\n",
      "Arrumando o estado  PB\n",
      "Arrumando o estado  PE\n",
      "Arrumando o estado  AL\n",
      "Arrumando o estado  SE\n",
      "Arrumando o estado  BA\n",
      "Arrumando o estado  MG\n",
      "Arrumando o estado  ES\n",
      "Arrumando o estado  RJ\n",
      "Arrumando o estado  SP\n",
      "Arrumando o estado  PR\n",
      "Arrumando o estado  SC\n",
      "Arrumando o estado  RS\n",
      "Arrumando o estado  MS\n",
      "Arrumando o estado  MT\n",
      "Arrumando o estado  GO\n",
      "Arrumando o estado  DF\n",
      "Arrumando o estado  AP\n"
     ]
    }
   ],
   "source": [
    "#datasetTotal = pd.DataFrame();\n",
    "datasetTotal = datasetDict['RO'].copy()\n",
    "\n",
    "for i in listaUF:\n",
    "    print(\"Arrumando o estado \", i)\n",
    "    \n",
    "    if (i != 'RO'):\n",
    "        datasetTotal = pd.concat([datasetTotal, datasetDict[i]], ignore_index=True)"
   ]
  },
  {
   "cell_type": "code",
   "execution_count": 80,
   "metadata": {},
   "outputs": [
    {
     "data": {
      "text/html": [
       "<div>\n",
       "<style scoped>\n",
       "    .dataframe tbody tr th:only-of-type {\n",
       "        vertical-align: middle;\n",
       "    }\n",
       "\n",
       "    .dataframe tbody tr th {\n",
       "        vertical-align: top;\n",
       "    }\n",
       "\n",
       "    .dataframe thead th {\n",
       "        text-align: right;\n",
       "    }\n",
       "</style>\n",
       "<table border=\"1\" class=\"dataframe\">\n",
       "  <thead>\n",
       "    <tr style=\"text-align: right;\">\n",
       "      <th></th>\n",
       "      <th>Ano</th>\n",
       "      <th>FaixaEtaria</th>\n",
       "      <th>Municipio</th>\n",
       "      <th>UF</th>\n",
       "      <th>Area</th>\n",
       "      <th>Sexo</th>\n",
       "      <th>Cor</th>\n",
       "      <th>ValorAbsoluto</th>\n",
       "      <th>editMun</th>\n",
       "      <th>ID</th>\n",
       "      <th>Município</th>\n",
       "    </tr>\n",
       "  </thead>\n",
       "  <tbody>\n",
       "    <tr>\n",
       "      <th>22202</th>\n",
       "      <td>2010</td>\n",
       "      <td>25 a 29 anos</td>\n",
       "      <td>Tartarugalzinho</td>\n",
       "      <td>AP</td>\n",
       "      <td>Rural e Urbana</td>\n",
       "      <td>Ambos os sexos</td>\n",
       "      <td>Todas as raças/cores</td>\n",
       "      <td>128.701</td>\n",
       "      <td>tartarugalzinho</td>\n",
       "      <td>310</td>\n",
       "      <td>Tartarugalzinho</td>\n",
       "    </tr>\n",
       "    <tr>\n",
       "      <th>22203</th>\n",
       "      <td>2010</td>\n",
       "      <td>Todas as idades</td>\n",
       "      <td>Vitória do Jari</td>\n",
       "      <td>AP</td>\n",
       "      <td>Rural e Urbana</td>\n",
       "      <td>Ambos os sexos</td>\n",
       "      <td>Todas as raças/cores</td>\n",
       "      <td>1725.94</td>\n",
       "      <td>vitoriadojari</td>\n",
       "      <td>311</td>\n",
       "      <td>Vitória do Jari</td>\n",
       "    </tr>\n",
       "    <tr>\n",
       "      <th>22204</th>\n",
       "      <td>2010</td>\n",
       "      <td>15 a 17 anos</td>\n",
       "      <td>Vitória do Jari</td>\n",
       "      <td>AP</td>\n",
       "      <td>Rural e Urbana</td>\n",
       "      <td>Ambos os sexos</td>\n",
       "      <td>Todas as raças/cores</td>\n",
       "      <td>859.56</td>\n",
       "      <td>vitoriadojari</td>\n",
       "      <td>311</td>\n",
       "      <td>Vitória do Jari</td>\n",
       "    </tr>\n",
       "    <tr>\n",
       "      <th>22205</th>\n",
       "      <td>2010</td>\n",
       "      <td>18 a 24 anos</td>\n",
       "      <td>Vitória do Jari</td>\n",
       "      <td>AP</td>\n",
       "      <td>Rural e Urbana</td>\n",
       "      <td>Ambos os sexos</td>\n",
       "      <td>Todas as raças/cores</td>\n",
       "      <td>661.153</td>\n",
       "      <td>vitoriadojari</td>\n",
       "      <td>311</td>\n",
       "      <td>Vitória do Jari</td>\n",
       "    </tr>\n",
       "    <tr>\n",
       "      <th>22206</th>\n",
       "      <td>2010</td>\n",
       "      <td>25 a 29 anos</td>\n",
       "      <td>Vitória do Jari</td>\n",
       "      <td>AP</td>\n",
       "      <td>Rural e Urbana</td>\n",
       "      <td>Ambos os sexos</td>\n",
       "      <td>Todas as raças/cores</td>\n",
       "      <td>205.231</td>\n",
       "      <td>vitoriadojari</td>\n",
       "      <td>311</td>\n",
       "      <td>Vitória do Jari</td>\n",
       "    </tr>\n",
       "  </tbody>\n",
       "</table>\n",
       "</div>"
      ],
      "text/plain": [
       "        Ano      FaixaEtaria        Municipio  UF            Area  \\\n",
       "22202  2010     25 a 29 anos  Tartarugalzinho  AP  Rural e Urbana   \n",
       "22203  2010  Todas as idades  Vitória do Jari  AP  Rural e Urbana   \n",
       "22204  2010     15 a 17 anos  Vitória do Jari  AP  Rural e Urbana   \n",
       "22205  2010     18 a 24 anos  Vitória do Jari  AP  Rural e Urbana   \n",
       "22206  2010     25 a 29 anos  Vitória do Jari  AP  Rural e Urbana   \n",
       "\n",
       "                 Sexo                   Cor ValorAbsoluto          editMun  \\\n",
       "22202  Ambos os sexos  Todas as raças/cores       128.701  tartarugalzinho   \n",
       "22203  Ambos os sexos  Todas as raças/cores       1725.94    vitoriadojari   \n",
       "22204  Ambos os sexos  Todas as raças/cores        859.56    vitoriadojari   \n",
       "22205  Ambos os sexos  Todas as raças/cores       661.153    vitoriadojari   \n",
       "22206  Ambos os sexos  Todas as raças/cores       205.231    vitoriadojari   \n",
       "\n",
       "        ID        Município  \n",
       "22202  310  Tartarugalzinho  \n",
       "22203  311  Vitória do Jari  \n",
       "22204  311  Vitória do Jari  \n",
       "22205  311  Vitória do Jari  \n",
       "22206  311  Vitória do Jari  "
      ]
     },
     "execution_count": 80,
     "metadata": {},
     "output_type": "execute_result"
    }
   ],
   "source": [
    "datasetTotal.tail()"
   ]
  },
  {
   "cell_type": "code",
   "execution_count": 83,
   "metadata": {},
   "outputs": [],
   "source": [
    "datasave = datasetTotal.loc[datasetTotal['FaixaEtaria'] == 'Todas as idades', [\"Ano\", \"Municipio\", \"editMun\", \"ID\", \"ValorAbsoluto\"]]"
   ]
  },
  {
   "cell_type": "markdown",
   "metadata": {},
   "source": [
    "Arrumar o nome"
   ]
  },
  {
   "cell_type": "code",
   "execution_count": 88,
   "metadata": {},
   "outputs": [],
   "source": [
    "filename = file[:file.find(\".\")] + \" - filtrado.csv\""
   ]
  },
  {
   "cell_type": "code",
   "execution_count": 91,
   "metadata": {},
   "outputs": [],
   "source": [
    "datasave.to_csv(\"data/\"+filename, index=False)"
   ]
  },
  {
   "cell_type": "code",
   "execution_count": null,
   "metadata": {},
   "outputs": [],
   "source": []
  }
 ],
 "metadata": {
  "kernelspec": {
   "display_name": "Python 3",
   "language": "python",
   "name": "python3"
  },
  "language_info": {
   "codemirror_mode": {
    "name": "ipython",
    "version": 3
   },
   "file_extension": ".py",
   "mimetype": "text/x-python",
   "name": "python",
   "nbconvert_exporter": "python",
   "pygments_lexer": "ipython3",
   "version": "3.7.7"
  }
 },
 "nbformat": 4,
 "nbformat_minor": 2
}
